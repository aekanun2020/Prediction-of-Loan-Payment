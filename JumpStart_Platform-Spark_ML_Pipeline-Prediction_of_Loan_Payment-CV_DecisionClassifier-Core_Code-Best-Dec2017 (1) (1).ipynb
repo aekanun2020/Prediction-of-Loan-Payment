{
 "cells": [
  {
   "cell_type": "code",
   "execution_count": 1,
   "metadata": {},
   "outputs": [
    {
     "data": {
      "text/plain": [
       "<pyspark.context.SparkContext at 0x7f2c4037f0b8>"
      ]
     },
     "execution_count": 1,
     "metadata": {},
     "output_type": "execute_result"
    }
   ],
   "source": [
    "sc"
   ]
  },
  {
   "cell_type": "code",
   "execution_count": 2,
   "metadata": {
    "collapsed": true
   },
   "outputs": [],
   "source": [
    "sc.setLogLevel(\"ERROR\")"
   ]
  },
  {
   "cell_type": "code",
   "execution_count": 3,
   "metadata": {
    "collapsed": true
   },
   "outputs": [],
   "source": [
    "#cp  -rf /usr/lib/hive/conf/hive-site.xml   /usr/lib/spark/conf/"
   ]
  },
  {
   "cell_type": "markdown",
   "metadata": {},
   "source": [
    "# 1. Data Understanding"
   ]
  },
  {
   "cell_type": "markdown",
   "metadata": {},
   "source": [
    "## Collecting the current data from the LendingClub's Website."
   ]
  },
  {
   "cell_type": "code",
   "execution_count": 4,
   "metadata": {},
   "outputs": [
    {
     "name": "stdout",
     "output_type": "stream",
     "text": [
      "put: `/user/root/LoanStats_web.csv': File exists\r\n"
     ]
    }
   ],
   "source": [
    "! hdfs dfs -put LoanStats_web.csv /user/root/"
   ]
  },
  {
   "cell_type": "code",
   "execution_count": 5,
   "metadata": {},
   "outputs": [
    {
     "name": "stdout",
     "output_type": "stream",
     "text": [
      "Found 11 items\r\n",
      "-rw-r--r--   1 aekanun  supergroup  416674235 2017-09-06 01:18 /user/root/LoanStats_web.csv\r\n",
      "-rw-r--r--   1 trainee1 supergroup     977501 2017-11-16 10:34 /user/root/TelcoChurn.csv\r\n",
      "-rw-r--r--   1 aekanun  supergroup      56329 2017-10-19 02:31 /user/root/churn-bigml-20.csv\r\n",
      "-rw-r--r--   1 aekanun  supergroup     223998 2017-10-19 02:31 /user/root/churn-bigml-80.csv\r\n",
      "-rw-r--r--   1 trainee7 supergroup   47251540 2017-10-29 06:04 /user/root/corrected\r\n",
      "drwxr-xr-x   - aekanun  supergroup          0 2017-09-06 01:20 /user/root/datacruncher\r\n",
      "drwxr-xr-x   - aekanun  supergroup          0 2017-11-14 04:14 /user/root/fight_result\r\n",
      "-rw-r--r--   1 trainee3 supergroup       1038 2017-10-14 14:52 /user/root/file-lines.txt\r\n",
      "-rw-r--r--   1 trainee1 supergroup  742579829 2017-11-07 17:20 /user/root/kddcup.data\r\n",
      "-rw-r--r--   1 trainee1 supergroup       1307 2017-11-07 17:20 /user/root/kddcup.names\r\n",
      "-rw-r--r--   1 aekanun  supergroup  441771600 2017-09-06 01:19 /user/root/loan.csv\r\n"
     ]
    }
   ],
   "source": [
    "! hdfs dfs -ls /user/root/"
   ]
  },
  {
   "cell_type": "code",
   "execution_count": 6,
   "metadata": {
    "collapsed": true
   },
   "outputs": [],
   "source": [
    "raw201617_df = sqlContext.read.format('com.databricks.spark.csv').\\\n",
    "options(header='true', inferschema='true').load('/user/root/LoanStats_web.csv')"
   ]
  },
  {
   "cell_type": "code",
   "execution_count": 7,
   "metadata": {
    "collapsed": true
   },
   "outputs": [],
   "source": [
    "#raw201617_df.printSchema()"
   ]
  },
  {
   "cell_type": "code",
   "execution_count": 8,
   "metadata": {
    "collapsed": true
   },
   "outputs": [],
   "source": [
    "rawweb_df = raw201617_df.select('id',\n",
    " 'member_id',\n",
    " 'loan_amnt',\n",
    " 'funded_amnt',\n",
    " 'funded_amnt_inv',\n",
    " 'term',\n",
    " 'int_rate',\n",
    " 'installment',\n",
    " 'grade',\n",
    " 'sub_grade',\n",
    " 'emp_title',\n",
    " 'emp_length',\n",
    " 'home_ownership',\n",
    " 'annual_inc',\n",
    " 'verification_status',\n",
    " 'issue_d',\n",
    " 'loan_status',\n",
    " 'pymnt_plan',\n",
    " 'url',\n",
    " 'desc',\n",
    " 'purpose',\n",
    " 'title',\n",
    " 'zip_code',\n",
    " 'addr_state',\n",
    " 'dti',\n",
    " 'delinq_2yrs',\n",
    " 'earliest_cr_line',\n",
    " 'inq_last_6mths',\n",
    " 'mths_since_last_delinq',\n",
    " 'mths_since_last_record',\n",
    " 'open_acc',\n",
    " 'pub_rec',\n",
    " 'revol_bal',\n",
    " 'revol_util',\n",
    " 'total_acc',\n",
    " 'initial_list_status',\n",
    " 'out_prncp',\n",
    " 'out_prncp_inv',\n",
    " 'total_pymnt',\n",
    " 'total_pymnt_inv',\n",
    " 'total_rec_prncp',\n",
    " 'total_rec_int',\n",
    " 'total_rec_late_fee',\n",
    " 'recoveries',\n",
    " 'collection_recovery_fee',\n",
    " 'last_pymnt_d',\n",
    " 'last_pymnt_amnt',\n",
    " 'next_pymnt_d',\n",
    " 'last_credit_pull_d',\n",
    " 'collections_12_mths_ex_med',\n",
    " 'mths_since_last_major_derog',\n",
    " 'policy_code',\n",
    " 'application_type',\n",
    " 'annual_inc_joint',\n",
    " 'dti_joint',\n",
    " 'verification_status_joint',\n",
    " 'acc_now_delinq',\n",
    " 'tot_coll_amt',\n",
    " 'tot_cur_bal',\n",
    " 'open_acc_6m',\n",
    " 'open_il_6m',\n",
    " 'open_il_12m',\n",
    " 'open_il_24m',\n",
    " 'mths_since_rcnt_il',\n",
    " 'total_bal_il',\n",
    " 'il_util',\n",
    " 'open_rv_12m',\n",
    " 'open_rv_24m',\n",
    " 'max_bal_bc',\n",
    " 'all_util',\n",
    " 'total_rev_hi_lim',\n",
    " 'inq_fi',\n",
    " 'total_cu_tl',\n",
    " 'inq_last_12m')"
   ]
  },
  {
   "cell_type": "code",
   "execution_count": 9,
   "metadata": {
    "collapsed": true
   },
   "outputs": [],
   "source": [
    "#rawweb_df.count()"
   ]
  },
  {
   "cell_type": "markdown",
   "metadata": {},
   "source": [
    "## Collecting the old data from the Kaggle. (IMC's bucket)"
   ]
  },
  {
   "cell_type": "code",
   "execution_count": 10,
   "metadata": {},
   "outputs": [
    {
     "name": "stdout",
     "output_type": "stream",
     "text": [
      "rm: `/user/root/datacruncher/loan/*': No such file or directory\r\n"
     ]
    }
   ],
   "source": [
    "! hdfs dfs -rm /user/root/datacruncher/loan/*"
   ]
  },
  {
   "cell_type": "code",
   "execution_count": 11,
   "metadata": {
    "collapsed": true
   },
   "outputs": [],
   "source": [
    "! hdfs dfs -ls /user/root/datacruncher/loan"
   ]
  },
  {
   "cell_type": "code",
   "execution_count": 12,
   "metadata": {
    "collapsed": true
   },
   "outputs": [],
   "source": [
    "import pyspark\n",
    "from pyspark.sql import SQLContext\n",
    "from pyspark.sql.types import *\n",
    "from pyspark.ml.feature import OneHotEncoder, StringIndexer\n",
    "from pyspark.ml.feature import VectorAssembler\n",
    "from pyspark.mllib.clustering import KMeans, KMeansModel\n",
    "from pyspark.ml.feature import StringIndexer, VectorAssembler, OneHotEncoder, VectorIndexer\n",
    "from pyspark.ml.tuning import ParamGridBuilder, CrossValidator\n",
    "from pyspark.ml.evaluation import MulticlassClassificationEvaluator, BinaryClassificationEvaluator\n",
    "from pyspark.ml.classification import LogisticRegression, GBTClassifier, NaiveBayes, RandomForestClassifier, DecisionTreeClassifier\n",
    "from pyspark.ml import Pipeline\n",
    "from pyspark.ml.clustering import *"
   ]
  },
  {
   "cell_type": "code",
   "execution_count": 13,
   "metadata": {
    "collapsed": true
   },
   "outputs": [],
   "source": [
    "rawkaggle_df = sqlContext.read.format('com.databricks.spark.csv').\\\n",
    "options(header='true', inferschema='true').load('/user/root/loan.csv')"
   ]
  },
  {
   "cell_type": "code",
   "execution_count": 14,
   "metadata": {
    "collapsed": true
   },
   "outputs": [],
   "source": [
    "raw_df = rawkaggle_df.unionAll(rawweb_df)"
   ]
  },
  {
   "cell_type": "code",
   "execution_count": 15,
   "metadata": {},
   "outputs": [
    {
     "data": {
      "text/plain": [
       "['id',\n",
       " 'member_id',\n",
       " 'loan_amnt',\n",
       " 'funded_amnt',\n",
       " 'funded_amnt_inv',\n",
       " 'term',\n",
       " 'int_rate',\n",
       " 'installment',\n",
       " 'grade',\n",
       " 'sub_grade',\n",
       " 'emp_title',\n",
       " 'emp_length',\n",
       " 'home_ownership',\n",
       " 'annual_inc',\n",
       " 'verification_status',\n",
       " 'issue_d',\n",
       " 'loan_status',\n",
       " 'pymnt_plan',\n",
       " 'url',\n",
       " 'desc',\n",
       " 'purpose',\n",
       " 'title',\n",
       " 'zip_code',\n",
       " 'addr_state',\n",
       " 'dti',\n",
       " 'delinq_2yrs',\n",
       " 'earliest_cr_line',\n",
       " 'inq_last_6mths',\n",
       " 'mths_since_last_delinq',\n",
       " 'mths_since_last_record',\n",
       " 'open_acc',\n",
       " 'pub_rec',\n",
       " 'revol_bal',\n",
       " 'revol_util',\n",
       " 'total_acc',\n",
       " 'initial_list_status',\n",
       " 'out_prncp',\n",
       " 'out_prncp_inv',\n",
       " 'total_pymnt',\n",
       " 'total_pymnt_inv',\n",
       " 'total_rec_prncp',\n",
       " 'total_rec_int',\n",
       " 'total_rec_late_fee',\n",
       " 'recoveries',\n",
       " 'collection_recovery_fee',\n",
       " 'last_pymnt_d',\n",
       " 'last_pymnt_amnt',\n",
       " 'next_pymnt_d',\n",
       " 'last_credit_pull_d',\n",
       " 'collections_12_mths_ex_med',\n",
       " 'mths_since_last_major_derog',\n",
       " 'policy_code',\n",
       " 'application_type',\n",
       " 'annual_inc_joint',\n",
       " 'dti_joint',\n",
       " 'verification_status_joint',\n",
       " 'acc_now_delinq',\n",
       " 'tot_coll_amt',\n",
       " 'tot_cur_bal',\n",
       " 'open_acc_6m',\n",
       " 'open_il_6m',\n",
       " 'open_il_12m',\n",
       " 'open_il_24m',\n",
       " 'mths_since_rcnt_il',\n",
       " 'total_bal_il',\n",
       " 'il_util',\n",
       " 'open_rv_12m',\n",
       " 'open_rv_24m',\n",
       " 'max_bal_bc',\n",
       " 'all_util',\n",
       " 'total_rev_hi_lim',\n",
       " 'inq_fi',\n",
       " 'total_cu_tl',\n",
       " 'inq_last_12m']"
      ]
     },
     "execution_count": 15,
     "metadata": {},
     "output_type": "execute_result"
    }
   ],
   "source": [
    "raw_df.columns"
   ]
  },
  {
   "cell_type": "code",
   "execution_count": 16,
   "metadata": {},
   "outputs": [
    {
     "data": {
      "text/plain": [
       "1418575"
      ]
     },
     "execution_count": 16,
     "metadata": {},
     "output_type": "execute_result"
    }
   ],
   "source": [
    "raw_df.count()"
   ]
  },
  {
   "cell_type": "code",
   "execution_count": 17,
   "metadata": {
    "collapsed": true
   },
   "outputs": [],
   "source": [
    "df_colfam5 = raw_df.select(\"loan_amnt\",\"term\",\"int_rate\",\"installment\",\"grade\",\"emp_length\",\\\n",
    "                           \"home_ownership\",\"annual_inc\",\"verification_status\",\"loan_status\",\\\n",
    "                           \"purpose\",\"addr_state\",\"dti\",\"delinq_2yrs\",\"earliest_cr_line\",\\\n",
    "                           \"inq_last_6mths\",\"open_acc\",\"pub_rec\",\"revol_bal\",\"revol_util\",\"total_acc\",\\\n",
    "                           \"last_credit_pull_d\")"
   ]
  },
  {
   "cell_type": "markdown",
   "metadata": {},
   "source": [
    "## Check for a schema"
   ]
  },
  {
   "cell_type": "code",
   "execution_count": 18,
   "metadata": {},
   "outputs": [
    {
     "name": "stdout",
     "output_type": "stream",
     "text": [
      "root\n",
      " |-- loan_amnt: double (nullable = true)\n",
      " |-- term: string (nullable = true)\n",
      " |-- int_rate: string (nullable = true)\n",
      " |-- installment: double (nullable = true)\n",
      " |-- grade: string (nullable = true)\n",
      " |-- emp_length: string (nullable = true)\n",
      " |-- home_ownership: string (nullable = true)\n",
      " |-- annual_inc: double (nullable = true)\n",
      " |-- verification_status: string (nullable = true)\n",
      " |-- loan_status: string (nullable = true)\n",
      " |-- purpose: string (nullable = true)\n",
      " |-- addr_state: string (nullable = true)\n",
      " |-- dti: double (nullable = true)\n",
      " |-- delinq_2yrs: double (nullable = true)\n",
      " |-- earliest_cr_line: string (nullable = true)\n",
      " |-- inq_last_6mths: double (nullable = true)\n",
      " |-- open_acc: double (nullable = true)\n",
      " |-- pub_rec: double (nullable = true)\n",
      " |-- revol_bal: double (nullable = true)\n",
      " |-- revol_util: string (nullable = true)\n",
      " |-- total_acc: double (nullable = true)\n",
      " |-- last_credit_pull_d: string (nullable = true)\n",
      "\n"
     ]
    }
   ],
   "source": [
    "df_colfam5.printSchema()"
   ]
  },
  {
   "cell_type": "markdown",
   "metadata": {},
   "source": [
    "## Data Analysis: Check for imbalance data and class's label"
   ]
  },
  {
   "cell_type": "code",
   "execution_count": 19,
   "metadata": {
    "collapsed": true
   },
   "outputs": [],
   "source": [
    "from pyspark.sql.functions import count"
   ]
  },
  {
   "cell_type": "code",
   "execution_count": 20,
   "metadata": {},
   "outputs": [
    {
     "name": "stdout",
     "output_type": "stream",
     "text": [
      "+--------------------+-------+\n",
      "|         loan_status|    cnt|\n",
      "+--------------------+-------+\n",
      "|Does not meet the...|    761|\n",
      "|         Charged Off|  67224|\n",
      "|          Fully Paid| 292045|\n",
      "|     In Grace Period|  12810|\n",
      "|Does not meet the...|   1988|\n",
      "|             Current|1006083|\n",
      "|   Late (16-30 days)|   5221|\n",
      "|              Issued|   8460|\n",
      "|                null|     10|\n",
      "|             Default|   1228|\n",
      "|  Late (31-120 days)|  22745|\n",
      "+--------------------+-------+\n",
      "\n"
     ]
    }
   ],
   "source": [
    "df_colfam5.groupby(['loan_status']).agg(count('*').alias(\"cnt\")).show()"
   ]
  },
  {
   "cell_type": "code",
   "execution_count": 21,
   "metadata": {},
   "outputs": [
    {
     "name": "stdout",
     "output_type": "stream",
     "text": [
      "+-------+------------------+\n",
      "|summary|       installment|\n",
      "+-------+------------------+\n",
      "|  count|           1418565|\n",
      "|   mean| 439.9462110936163|\n",
      "| stddev|255.42991573793574|\n",
      "|    min|             15.67|\n",
      "|    max|           1715.42|\n",
      "+-------+------------------+\n",
      "\n"
     ]
    }
   ],
   "source": [
    "df_colfam5.select(['installment']).describe().show()"
   ]
  },
  {
   "cell_type": "markdown",
   "metadata": {},
   "source": [
    "# 2. Data Preparation"
   ]
  },
  {
   "cell_type": "markdown",
   "metadata": {},
   "source": [
    "## Data Cleansing: Remove missing values"
   ]
  },
  {
   "cell_type": "code",
   "execution_count": 22,
   "metadata": {},
   "outputs": [
    {
     "data": {
      "text/plain": [
       "1418575"
      ]
     },
     "execution_count": 22,
     "metadata": {},
     "output_type": "execute_result"
    }
   ],
   "source": [
    "df_colfam5.count()"
   ]
  },
  {
   "cell_type": "code",
   "execution_count": 23,
   "metadata": {
    "collapsed": true
   },
   "outputs": [],
   "source": [
    "df_no_missing = df_colfam5.dropna(how='any')"
   ]
  },
  {
   "cell_type": "code",
   "execution_count": 24,
   "metadata": {},
   "outputs": [
    {
     "data": {
      "text/plain": [
       "1417966"
      ]
     },
     "execution_count": 24,
     "metadata": {},
     "output_type": "execute_result"
    }
   ],
   "source": [
    "df_no_missing.count()"
   ]
  },
  {
   "cell_type": "code",
   "execution_count": null,
   "metadata": {
    "collapsed": true
   },
   "outputs": [],
   "source": []
  },
  {
   "cell_type": "code",
   "execution_count": 25,
   "metadata": {
    "collapsed": true
   },
   "outputs": [],
   "source": [
    "df_no_missing_fitmem = df_no_missing.repartition(60)"
   ]
  },
  {
   "cell_type": "code",
   "execution_count": 26,
   "metadata": {
    "collapsed": true
   },
   "outputs": [],
   "source": [
    "df_no_missing_cached = df_no_missing_fitmem.cache()"
   ]
  },
  {
   "cell_type": "markdown",
   "metadata": {},
   "source": [
    "## Register to temporary table."
   ]
  },
  {
   "cell_type": "code",
   "execution_count": 27,
   "metadata": {
    "collapsed": true
   },
   "outputs": [],
   "source": [
    "df_no_missing_cached.registerTempTable(\"df\")"
   ]
  },
  {
   "cell_type": "markdown",
   "metadata": {},
   "source": [
    "## Data Transformation: Remove Sign of Percent and Extract Month."
   ]
  },
  {
   "cell_type": "code",
   "execution_count": 28,
   "metadata": {},
   "outputs": [
    {
     "data": {
      "text/plain": [
       "'Jan'"
      ]
     },
     "execution_count": 28,
     "metadata": {},
     "output_type": "execute_result"
    }
   ],
   "source": [
    "a = 'Jan-1985'\n",
    "a.split('-')[0]"
   ]
  },
  {
   "cell_type": "code",
   "execution_count": 29,
   "metadata": {
    "collapsed": true
   },
   "outputs": [],
   "source": [
    "sqlContext.udf.register(\"t_revol_util\", lambda x: x.rstrip('%'))"
   ]
  },
  {
   "cell_type": "code",
   "execution_count": 30,
   "metadata": {
    "collapsed": true
   },
   "outputs": [],
   "source": [
    "sqlContext.udf.register(\"t_int_rate\", lambda x: x.rstrip('%'))"
   ]
  },
  {
   "cell_type": "code",
   "execution_count": 31,
   "metadata": {
    "collapsed": true
   },
   "outputs": [],
   "source": [
    "sqlContext.udf.register(\"t_earliest_cr_line\", lambda x: x.split('-')[0])"
   ]
  },
  {
   "cell_type": "code",
   "execution_count": 32,
   "metadata": {
    "collapsed": true
   },
   "outputs": [],
   "source": [
    "sqlContext.udf.register(\"t_last_credit_pull_d\", lambda x: x.split('-')[0])"
   ]
  },
  {
   "cell_type": "markdown",
   "metadata": {},
   "source": [
    "## Filter only \"Fully Paid\" and \"Charged Off\" and relevant fields."
   ]
  },
  {
   "cell_type": "code",
   "execution_count": 33,
   "metadata": {
    "collapsed": true
   },
   "outputs": [],
   "source": [
    "dfWithCrunch = sqlContext.sql(\"\"\"SELECT loan_amnt, term, t_int_rate(int_rate) as int_rate, \\\n",
    "installment, grade, emp_length, home_ownership, annual_inc, verification_status, loan_status, \\\n",
    "purpose, addr_state, dti, delinq_2yrs, t_earliest_cr_line(earliest_cr_line) as earliest_cr_line, \\\n",
    "inq_last_6mths, open_acc, pub_rec, revol_bal,  t_revol_util (revol_util) as revol_util, total_acc, \\\n",
    "t_last_credit_pull_d(last_credit_pull_d) as last_credit_pull_d FROM df \\\n",
    "where loan_status = 'Fully Paid' or loan_status = 'Charged Off' \"\"\")"
   ]
  },
  {
   "cell_type": "markdown",
   "metadata": {},
   "source": [
    "## Number of data rows that are only \"Fully Paid\" and \"Charged Off\""
   ]
  },
  {
   "cell_type": "code",
   "execution_count": 34,
   "metadata": {},
   "outputs": [
    {
     "data": {
      "text/plain": [
       "359058"
      ]
     },
     "execution_count": 34,
     "metadata": {},
     "output_type": "execute_result"
    }
   ],
   "source": [
    "dfWithCrunch.count()"
   ]
  },
  {
   "cell_type": "markdown",
   "metadata": {},
   "source": [
    "## Writing into a Hive Table"
   ]
  },
  {
   "cell_type": "code",
   "execution_count": 35,
   "metadata": {
    "collapsed": true
   },
   "outputs": [],
   "source": [
    "dfWithCrunch.write.format(\"parquet\").mode('Append').parquet('/user/root/datacruncher/loan')"
   ]
  },
  {
   "cell_type": "code",
   "execution_count": 36,
   "metadata": {
    "collapsed": true
   },
   "outputs": [],
   "source": [
    "sqlStringADD = 'loan_amnt double,term string, int_rate string, installment double, grade string, emp_length string, home_ownership string, annual_inc double, verification_status string, loan_status string, purpose string, addr_state string, dti double, delinq_2yrs double, earliest_cr_line string, inq_last_6mths double, open_acc double, pub_rec double, revol_bal double, revol_util string, total_acc double, last_credit_pull_d string'"
   ]
  },
  {
   "cell_type": "code",
   "execution_count": 37,
   "metadata": {},
   "outputs": [
    {
     "name": "stdout",
     "output_type": "stream",
     "text": [
      "2017-12-06 01:05:07,431 WARN  [main] mapreduce.TableMapReduceUtil: The hbase-prefix-tree module jar containing PrefixTreeCodec is not present.  Continuing without it.\n",
      "\n",
      "Logging initialized using configuration in file:/etc/hive/conf.dist/hive-log4j.properties\n",
      "OK\n",
      "Time taken: 0.699 seconds\n",
      "WARN: The method class org.apache.commons.logging.impl.SLF4JLogFactory#release() was invoked.\n",
      "WARN: Please see http://www.slf4j.org/codes.html#release for an explanation.\n",
      "2017-12-06 01:05:14,860 WARN  [main] mapreduce.TableMapReduceUtil: The hbase-prefix-tree module jar containing PrefixTreeCodec is not present.  Continuing without it.\n",
      "\n",
      "Logging initialized using configuration in file:/etc/hive/conf.dist/hive-log4j.properties\n",
      "OK\n",
      "Time taken: 0.749 seconds\n",
      "WARN: The method class org.apache.commons.logging.impl.SLF4JLogFactory#release() was invoked.\n",
      "WARN: Please see http://www.slf4j.org/codes.html#release for an explanation.\n"
     ]
    }
   ],
   "source": [
    "! hive -e \"DROP TABLE IF EXISTS personal_loan\"\n",
    "! hive -e \"CREATE EXTERNAL TABLE personal_loan (loan_amnt double,term string, int_rate string, installment double, grade string, emp_length string, home_ownership string, annual_inc double, verification_status string, loan_status string, purpose string, addr_state string, dti double, delinq_2yrs double, earliest_cr_line string, inq_last_6mths double, open_acc double, pub_rec double, revol_bal double, revol_util string, total_acc double, last_credit_pull_d string) STORED AS PARQUET LOCATION '/user/root/datacruncher/loan'\""
   ]
  },
  {
   "cell_type": "markdown",
   "metadata": {
    "collapsed": true
   },
   "source": [
    "## Load the data from Hive and register to \"crunched_data\" table."
   ]
  },
  {
   "cell_type": "code",
   "execution_count": 38,
   "metadata": {
    "collapsed": true
   },
   "outputs": [],
   "source": [
    "df1 = sqlContext.read.load(\"/user/root/datacruncher/loan\").repartition(60).cache()\n",
    "df1.registerTempTable(\"crunched_data\")"
   ]
  },
  {
   "cell_type": "markdown",
   "metadata": {},
   "source": [
    "##### ********* Before this, they are just attributes/Fields for Descriptive Analytics *********"
   ]
  },
  {
   "cell_type": "markdown",
   "metadata": {},
   "source": [
    "# 3. Modeling"
   ]
  },
  {
   "cell_type": "markdown",
   "metadata": {},
   "source": [
    "##### ********* After this, they are Features for Predictive Analytics *********"
   ]
  },
  {
   "cell_type": "markdown",
   "metadata": {},
   "source": [
    "## Feature Extraction (Transformation): Normalization of \"annual_inc\" and \"loan_amnt\""
   ]
  },
  {
   "cell_type": "code",
   "execution_count": 39,
   "metadata": {
    "collapsed": true
   },
   "outputs": [],
   "source": [
    "from pyspark.sql.functions import *\n",
    "\n",
    "max_annual_inc = df1.select(max('annual_inc')).collect()[0][0]\n",
    "\n",
    "min_annual_inc = df1.select(min('annual_inc')).collect()[0][0]\n",
    "\n",
    "sqlContext.udf.register(\"t_annual_inc\", lambda x: ((x-min_annual_inc)/(max_annual_inc-min_annual_inc)))"
   ]
  },
  {
   "cell_type": "code",
   "execution_count": 40,
   "metadata": {
    "collapsed": true
   },
   "outputs": [],
   "source": [
    "max_loan_amnt = df1.select(max('loan_amnt')).collect()[0][0]\n",
    "\n",
    "min_loan_amnt = df1.select(min('loan_amnt')).collect()[0][0]\n",
    "\n",
    "sqlContext.udf.register(\"t_loan_amnt\", lambda x: ((x-min_loan_amnt)/(max_loan_amnt-min_loan_amnt)))"
   ]
  },
  {
   "cell_type": "code",
   "execution_count": 41,
   "metadata": {
    "collapsed": true
   },
   "outputs": [],
   "source": [
    "data = sqlContext.sql('SELECT double(t_loan_amnt(loan_amnt)) as loan_amnt, term, double(int_rate) as int_rate, installment, grade, emp_length, home_ownership, double(t_annual_inc(annual_inc)) as annual_inc, verification_status, loan_status, purpose, addr_state, dti, delinq_2yrs, earliest_cr_line, inq_last_6mths, open_acc, pub_rec, revol_bal,  double(revol_util) as revol_util, total_acc, last_credit_pull_d FROM crunched_data').repartition(60).cache()"
   ]
  },
  {
   "cell_type": "code",
   "execution_count": 42,
   "metadata": {
    "collapsed": true
   },
   "outputs": [],
   "source": [
    "data_no_missing_df = data.dropna(how='any')"
   ]
  },
  {
   "cell_type": "markdown",
   "metadata": {},
   "source": [
    "## Define Label Column."
   ]
  },
  {
   "cell_type": "code",
   "execution_count": 43,
   "metadata": {
    "collapsed": true
   },
   "outputs": [],
   "source": [
    "labelIndexer = StringIndexer(inputCol=\"loan_status\", outputCol=\"label\")"
   ]
  },
  {
   "cell_type": "markdown",
   "metadata": {},
   "source": [
    "## Split the data into training set and test set."
   ]
  },
  {
   "cell_type": "code",
   "execution_count": 44,
   "metadata": {
    "collapsed": true
   },
   "outputs": [],
   "source": [
    "training, test = data_no_missing_df.randomSplit([0.70, 0.30], seed = 12)"
   ]
  },
  {
   "cell_type": "code",
   "execution_count": 45,
   "metadata": {
    "collapsed": true
   },
   "outputs": [],
   "source": [
    "#training.toPandas().transpose()"
   ]
  },
  {
   "cell_type": "markdown",
   "metadata": {},
   "source": [
    "## Feature Selection and Feature Extraction (Transformation) - Vectors"
   ]
  },
  {
   "cell_type": "code",
   "execution_count": 46,
   "metadata": {
    "collapsed": true
   },
   "outputs": [],
   "source": [
    "termIndexer = StringIndexer(inputCol=\"term\", outputCol=\"termIndex\")\n",
    "termEncoder = OneHotEncoder(inputCol=\"termIndex\", outputCol=\"termVec\")\n",
    "gradeIndexer = StringIndexer(inputCol=\"grade\", outputCol=\"gradeIndex\")\n",
    "gradeEncoder = OneHotEncoder(inputCol=\"gradeIndex\", outputCol=\"gradeVec\")\n",
    "emp_lengthIndexer = StringIndexer(inputCol=\"emp_length\", outputCol=\"emp_lengthIndex\")\n",
    "emp_lengthEncoder = OneHotEncoder(inputCol=\"emp_lengthIndex\", outputCol=\"emp_lengthVec\")\n",
    "home_ownershipIndexer = StringIndexer(inputCol=\"home_ownership\", outputCol=\"home_ownershipIndex\")\n",
    "home_ownershipEncoder = OneHotEncoder(inputCol=\"home_ownershipIndex\", outputCol=\"home_ownershipVec\")\n",
    "verification_statusIndexer = StringIndexer(inputCol=\"verification_status\", outputCol=\"verification_statusIndex\")\n",
    "verification_statusEncoder = OneHotEncoder(inputCol=\"verification_statusIndex\", outputCol=\"verification_statusVec\")\n",
    "loan_statusIndexer = StringIndexer(inputCol=\"loan_status\", outputCol=\"loan_statusIndex\")\n",
    "loan_statusEncoder = OneHotEncoder(inputCol=\"loan_statusIndex\", outputCol=\"loan_statusVec\")\n",
    "purposeIndexer = StringIndexer(inputCol=\"purpose\", outputCol=\"purposeIndex\")\n",
    "purposeEncoder = OneHotEncoder(inputCol=\"purposeIndex\", outputCol=\"purposeVec\")\n",
    "\n",
    "\n",
    "addr_stateIndexer = StringIndexer(inputCol=\"addr_state\", outputCol=\"addr_stateIndex\")\n",
    "addr_stateEncoder = OneHotEncoder(inputCol=\"addr_stateIndex\", outputCol=\"addr_stateVec\")\n",
    "\n",
    "\n",
    "earliest_cr_lineIndexer = StringIndexer(inputCol=\"earliest_cr_line\", outputCol=\"earliest_cr_lineIndex\")\n",
    "earliest_cr_lineEncoder = OneHotEncoder(inputCol=\"earliest_cr_lineIndex\", outputCol=\"earliest_cr_lineVec\")\n",
    "revol_utilIndexer = StringIndexer(inputCol=\"revol_util\", outputCol=\"revol_utilIndex\")\n",
    "revol_utilEncoder = OneHotEncoder(inputCol=\"revol_utilIndex\", outputCol=\"revol_utilVec\")\n",
    "last_credit_pull_dIndexer = StringIndexer(inputCol=\"last_credit_pull_d\", outputCol=\"last_credit_pull_dIndex\")\n",
    "last_credit_pull_dEncoder = OneHotEncoder(inputCol=\"last_credit_pull_dIndex\", outputCol=\"last_credit_pull_dVec\")"
   ]
  },
  {
   "cell_type": "code",
   "execution_count": 47,
   "metadata": {
    "collapsed": true
   },
   "outputs": [],
   "source": [
    "assembler = VectorAssembler(inputCols=[\\\n",
    "                                       \"loan_amnt\",\\\n",
    "                                       \"int_rate\",\\\n",
    "                                       \"gradeVec\",\\\n",
    "                                       \"termVec\",\\\n",
    "                                       \"earliest_cr_lineVec\",\\\n",
    "                                       \"last_credit_pull_dVec\",\\\n",
    "                                       \"emp_lengthVec\",\\\n",
    "                                       \"home_ownershipVec\",\\\n",
    "                                       \"verification_statusVec\",\\\n",
    "                                       \"annual_inc\",\\\n",
    "                                       \"purposeVec\",\\\n",
    "                                       \"addr_stateVec\",\\\n",
    "                                       \"revol_util\",\\\n",
    "                                       \"installment\",\\\n",
    "                                       \"annual_inc\",\\\n",
    "                                       \"dti\",\"delinq_2yrs\",\\\n",
    "                                       \"pub_rec\"\\\n",
    "                                      ], outputCol=\"features\")"
   ]
  },
  {
   "cell_type": "code",
   "execution_count": 48,
   "metadata": {
    "collapsed": true
   },
   "outputs": [],
   "source": [
    "dt = RandomForestClassifier(labelCol=\"label\", featuresCol=\"features\")\n",
    " \n",
    "pipeline = Pipeline().setStages([labelIndexer,\\\n",
    "                                 gradeIndexer,gradeEncoder,\\\n",
    "                                 termIndexer,termEncoder,\\\n",
    "                                 emp_lengthIndexer, emp_lengthEncoder,\\\n",
    "                                 home_ownershipIndexer, home_ownershipEncoder, \\\n",
    "                                 verification_statusIndexer,verification_statusEncoder,\\\n",
    "                                 purposeIndexer,purposeEncoder,\\\n",
    "                                 addr_stateIndexer,addr_stateEncoder,\\\n",
    "                                 earliest_cr_lineIndexer,earliest_cr_lineEncoder,\\\n",
    "                                 last_credit_pull_dIndexer, last_credit_pull_dEncoder,\\\n",
    "                                 assembler, dt])"
   ]
  },
  {
   "cell_type": "code",
   "execution_count": 49,
   "metadata": {},
   "outputs": [
    {
     "data": {
      "text/plain": [
       "Param(parent='RandomForestClassifier_404486d227b5806f9268', name='maxDepth', doc='Maximum depth of the tree. (>= 0) E.g., depth 0 means 1 leaf node; depth 1 means 1 internal node + 2 leaf nodes.')"
      ]
     },
     "execution_count": 49,
     "metadata": {},
     "output_type": "execute_result"
    }
   ],
   "source": [
    "dt.maxDepth"
   ]
  },
  {
   "cell_type": "code",
   "execution_count": null,
   "metadata": {
    "collapsed": true
   },
   "outputs": [],
   "source": []
  },
  {
   "cell_type": "code",
   "execution_count": 50,
   "metadata": {
    "collapsed": true
   },
   "outputs": [],
   "source": [
    "#dt.numTrees"
   ]
  },
  {
   "cell_type": "markdown",
   "metadata": {},
   "source": [
    "## Make balance data"
   ]
  },
  {
   "cell_type": "code",
   "execution_count": 83,
   "metadata": {
    "collapsed": true
   },
   "outputs": [],
   "source": [
    "filtered_Ftraining = training.filter(training.loan_status == 'Fully Paid').sample(False, 0.23, 42)"
   ]
  },
  {
   "cell_type": "code",
   "execution_count": 84,
   "metadata": {
    "collapsed": true
   },
   "outputs": [],
   "source": [
    "filtered_Ctraining = training.filter(training.loan_status == 'Charged Off')"
   ]
  },
  {
   "cell_type": "code",
   "execution_count": 85,
   "metadata": {},
   "outputs": [
    {
     "data": {
      "text/plain": [
       "46729"
      ]
     },
     "execution_count": 85,
     "metadata": {},
     "output_type": "execute_result"
    }
   ],
   "source": [
    "filtered_Ftraining.count()"
   ]
  },
  {
   "cell_type": "code",
   "execution_count": 86,
   "metadata": {},
   "outputs": [
    {
     "data": {
      "text/plain": [
       "47173"
      ]
     },
     "execution_count": 86,
     "metadata": {},
     "output_type": "execute_result"
    }
   ],
   "source": [
    "filtered_Ctraining.count()"
   ]
  },
  {
   "cell_type": "code",
   "execution_count": 87,
   "metadata": {
    "collapsed": true
   },
   "outputs": [],
   "source": [
    "training2 = filtered_Ftraining.unionAll(filtered_Ctraining)"
   ]
  },
  {
   "cell_type": "markdown",
   "metadata": {},
   "source": [
    "## Make Cross-Validations and Hyperparameter tuning"
   ]
  },
  {
   "cell_type": "code",
   "execution_count": 88,
   "metadata": {
    "collapsed": true
   },
   "outputs": [],
   "source": [
    "from time import time\n",
    "t0 = time()"
   ]
  },
  {
   "cell_type": "code",
   "execution_count": 89,
   "metadata": {
    "collapsed": true
   },
   "outputs": [],
   "source": [
    "from pyspark.ml import Pipeline\n",
    "from pyspark.ml.evaluation import BinaryClassificationEvaluator\n",
    "from pyspark.ml.tuning import CrossValidator, ParamGridBuilder"
   ]
  },
  {
   "cell_type": "code",
   "execution_count": 90,
   "metadata": {
    "collapsed": true
   },
   "outputs": [],
   "source": [
    "paramGrid = ParamGridBuilder() \\\n",
    "    .addGrid(dt.maxDepth, [1,3,5]) \\\n",
    "    .build()\n",
    "\n",
    "crossval = CrossValidator(estimator=pipeline,\n",
    "                          estimatorParamMaps=paramGrid,\n",
    "                          evaluator=BinaryClassificationEvaluator(),\n",
    "                          numFolds=10)  # use 3+ folds in practice\n",
    "\n",
    "# Run cross-validation, and choose the best set of parameters.\n",
    "cvModel = crossval.fit(training2)"
   ]
  },
  {
   "cell_type": "markdown",
   "metadata": {},
   "source": [
    "## Training Completed in Seconds:"
   ]
  },
  {
   "cell_type": "code",
   "execution_count": 91,
   "metadata": {},
   "outputs": [
    {
     "data": {
      "text/plain": [
       "1314.8620448112488"
      ]
     },
     "execution_count": 91,
     "metadata": {},
     "output_type": "execute_result"
    }
   ],
   "source": [
    "tt = time() - t0\n",
    "#print \"Training completed in {} seconds\".format(round(tt,3))\n",
    "tt"
   ]
  },
  {
   "cell_type": "code",
   "execution_count": 92,
   "metadata": {
    "collapsed": true
   },
   "outputs": [],
   "source": [
    "result1 = cvModel.bestModel.transform(test)"
   ]
  },
  {
   "cell_type": "markdown",
   "metadata": {},
   "source": [
    "# 4. Evaluation of Models"
   ]
  },
  {
   "cell_type": "code",
   "execution_count": 93,
   "metadata": {},
   "outputs": [
    {
     "data": {
      "text/plain": [
       "107813"
      ]
     },
     "execution_count": 93,
     "metadata": {},
     "output_type": "execute_result"
    }
   ],
   "source": [
    "test.count()"
   ]
  },
  {
   "cell_type": "code",
   "execution_count": 94,
   "metadata": {},
   "outputs": [
    {
     "data": {
      "text/plain": [
       "107813"
      ]
     },
     "execution_count": 94,
     "metadata": {},
     "output_type": "execute_result"
    }
   ],
   "source": [
    "result1.count()"
   ]
  },
  {
   "cell_type": "code",
   "execution_count": 95,
   "metadata": {},
   "outputs": [
    {
     "data": {
      "text/plain": [
       "87826"
      ]
     },
     "execution_count": 95,
     "metadata": {},
     "output_type": "execute_result"
    }
   ],
   "source": [
    "test.filter(training.loan_status == 'Fully Paid').count()"
   ]
  },
  {
   "cell_type": "code",
   "execution_count": 96,
   "metadata": {},
   "outputs": [
    {
     "data": {
      "text/plain": [
       "19987"
      ]
     },
     "execution_count": 96,
     "metadata": {},
     "output_type": "execute_result"
    }
   ],
   "source": [
    "test.filter(training.loan_status == 'Charged Off').count()"
   ]
  },
  {
   "cell_type": "markdown",
   "metadata": {
    "collapsed": true
   },
   "source": [
    "## Calculation for Confusion Matrix."
   ]
  },
  {
   "cell_type": "code",
   "execution_count": 97,
   "metadata": {
    "collapsed": true
   },
   "outputs": [],
   "source": [
    "def eval_metrics(lap):\n",
    "\n",
    "    tp = float(len(lap[(lap['label']==0) & (lap['prediction']==0)]))\n",
    "\n",
    "    tn = float(len(lap[(lap['label']==1) & (lap['prediction']==1)]))\n",
    "\n",
    "    fp = float(len(lap[(lap['label']==1) & (lap['prediction']==0)]))\n",
    "\n",
    "    fn = float(len(lap[(lap['label']==0) & (lap['prediction']==1)]))\n",
    "\n",
    "    positivepredictivevalue = tp / (tp+fp)\n",
    "    negativepredictivevalue = tn / (tn+fn)\n",
    "\n",
    "    sensitivity = tp / (tp+fn)\n",
    "    specificity = tn / (tn+fp)\n",
    "\n",
    "    accuracy = (tp+tn) / (tp+tn+fp+fn)\n",
    "\n",
    "    return {'PPV': positivepredictivevalue, 'NPV':negativepredictivevalue,'Sensitivity': sensitivity, 'Specificity': specificity, 'Accuracy': accuracy}"
   ]
  },
  {
   "cell_type": "code",
   "execution_count": 98,
   "metadata": {
    "collapsed": true
   },
   "outputs": [],
   "source": [
    "lap = result1.select(\"label\", \"prediction\").toPandas()"
   ]
  },
  {
   "cell_type": "code",
   "execution_count": 99,
   "metadata": {
    "collapsed": true
   },
   "outputs": [],
   "source": [
    "m = eval_metrics(lap)"
   ]
  },
  {
   "cell_type": "code",
   "execution_count": 100,
   "metadata": {},
   "outputs": [
    {
     "data": {
      "text/plain": [
       "{'Accuracy': 0.6229489950191536,\n",
       " 'NPV': 0.8963952609024451,\n",
       " 'PPV': 0.2861223813861058,\n",
       " 'Sensitivity': 0.6915495071796668,\n",
       " 'Specificity': 0.6073372349873614}"
      ]
     },
     "execution_count": 100,
     "metadata": {},
     "output_type": "execute_result"
    }
   ],
   "source": [
    "m"
   ]
  },
  {
   "cell_type": "code",
   "execution_count": 101,
   "metadata": {
    "collapsed": true
   },
   "outputs": [],
   "source": [
    "tp = float(len(lap[(lap['label']==0) & (lap['prediction']==0)])) #tp - Full paid"
   ]
  },
  {
   "cell_type": "code",
   "execution_count": 102,
   "metadata": {},
   "outputs": [
    {
     "data": {
      "text/plain": [
       "13822.0"
      ]
     },
     "execution_count": 102,
     "metadata": {},
     "output_type": "execute_result"
    }
   ],
   "source": [
    "tp"
   ]
  },
  {
   "cell_type": "code",
   "execution_count": 103,
   "metadata": {
    "collapsed": true
   },
   "outputs": [],
   "source": [
    "tn = float(len(lap[(lap['label']==1) & (lap['prediction']==1)])) #tn - Charged off"
   ]
  },
  {
   "cell_type": "code",
   "execution_count": 104,
   "metadata": {},
   "outputs": [
    {
     "data": {
      "text/plain": [
       "53340.0"
      ]
     },
     "execution_count": 104,
     "metadata": {},
     "output_type": "execute_result"
    }
   ],
   "source": [
    "tn"
   ]
  },
  {
   "cell_type": "code",
   "execution_count": 105,
   "metadata": {
    "collapsed": true
   },
   "outputs": [],
   "source": [
    "fp = float(len(lap[(lap['label']==1) & (lap['prediction']==0)])) #fp"
   ]
  },
  {
   "cell_type": "code",
   "execution_count": 106,
   "metadata": {},
   "outputs": [
    {
     "data": {
      "text/plain": [
       "34486.0"
      ]
     },
     "execution_count": 106,
     "metadata": {},
     "output_type": "execute_result"
    }
   ],
   "source": [
    "fp"
   ]
  },
  {
   "cell_type": "code",
   "execution_count": 107,
   "metadata": {
    "collapsed": true
   },
   "outputs": [],
   "source": [
    "fn = float(len(lap[(lap['label']==0) & (lap['prediction']==1)])) #fn"
   ]
  },
  {
   "cell_type": "code",
   "execution_count": 108,
   "metadata": {},
   "outputs": [
    {
     "data": {
      "text/plain": [
       "6165.0"
      ]
     },
     "execution_count": 108,
     "metadata": {},
     "output_type": "execute_result"
    }
   ],
   "source": [
    "fn"
   ]
  },
  {
   "cell_type": "code",
   "execution_count": 109,
   "metadata": {},
   "outputs": [
    {
     "name": "stdout",
     "output_type": "stream",
     "text": [
      "Requirement already satisfied: plotly in /root/anaconda3/envs/py35/lib/python3.5/site-packages\n",
      "Requirement already satisfied: requests in /root/anaconda3/envs/py35/lib/python3.5/site-packages (from plotly)\n",
      "Requirement already satisfied: pytz in /root/anaconda3/envs/py35/lib/python3.5/site-packages (from plotly)\n",
      "Requirement already satisfied: nbformat>=4.2 in /root/anaconda3/envs/py35/lib/python3.5/site-packages (from plotly)\n",
      "Requirement already satisfied: decorator>=4.0.6 in /root/anaconda3/envs/py35/lib/python3.5/site-packages (from plotly)\n",
      "Requirement already satisfied: six in /root/anaconda3/envs/py35/lib/python3.5/site-packages (from plotly)\n"
     ]
    }
   ],
   "source": [
    "! pip install plotly"
   ]
  },
  {
   "cell_type": "code",
   "execution_count": 110,
   "metadata": {
    "collapsed": true
   },
   "outputs": [],
   "source": [
    "import plotly.plotly as py\n",
    "py.sign_in('grizzly', 'MHH5wgaO3T1lxbUFgeT5')\n",
    "from plotly.graph_objs import *\n",
    "import plotly.graph_objs as go\n",
    "import pandas as pd\n",
    "import requests\n",
    "requests.packages.urllib3.disable_warnings()"
   ]
  },
  {
   "cell_type": "markdown",
   "metadata": {
    "collapsed": true
   },
   "source": [
    "### Sensitivity - True Positive Rate"
   ]
  },
  {
   "cell_type": "markdown",
   "metadata": {
    "collapsed": true
   },
   "source": [
    "### 99.6% of all cases who make fully paid are detected:"
   ]
  },
  {
   "cell_type": "code",
   "execution_count": 111,
   "metadata": {},
   "outputs": [
    {
     "data": {
      "text/html": [
       "<iframe id=\"igraph\" scrolling=\"no\" style=\"border:none;\" seamless=\"seamless\" src=\"https://plot.ly/~grizzly/35.embed\" height=\"525px\" width=\"100%\"></iframe>"
      ],
      "text/plain": [
       "<plotly.tools.PlotlyDisplay object>"
      ]
     },
     "execution_count": 111,
     "metadata": {},
     "output_type": "execute_result"
    }
   ],
   "source": [
    "labels = ['TRUE-Fully Paid (TP)','FALSE-Charge Off (FN)']\n",
    "values = [tp,fn]\n",
    "\n",
    "trace = go.Pie(labels=labels, values=values)\n",
    "\n",
    "py.iplot([trace], filename='basic_pie_chart')\n"
   ]
  },
  {
   "cell_type": "markdown",
   "metadata": {
    "collapsed": true
   },
   "source": [
    "### Specificity - True Negative Rate"
   ]
  },
  {
   "cell_type": "markdown",
   "metadata": {
    "collapsed": true
   },
   "source": [
    "### 3.09% of all cases who has been charged off are detected:"
   ]
  },
  {
   "cell_type": "code",
   "execution_count": 112,
   "metadata": {},
   "outputs": [
    {
     "data": {
      "text/html": [
       "<iframe id=\"igraph\" scrolling=\"no\" style=\"border:none;\" seamless=\"seamless\" src=\"https://plot.ly/~grizzly/35.embed\" height=\"525px\" width=\"100%\"></iframe>"
      ],
      "text/plain": [
       "<plotly.tools.PlotlyDisplay object>"
      ]
     },
     "execution_count": 112,
     "metadata": {},
     "output_type": "execute_result"
    }
   ],
   "source": [
    "labels = ['TRUE-Charged Off (TN)','FALSE-Fully Paid (FP)']\n",
    "values = [tn,fp]\n",
    "\n",
    "trace = go.Pie(labels=labels, values=values)\n",
    "\n",
    "py.iplot([trace], filename='basic_pie_chart')"
   ]
  },
  {
   "cell_type": "markdown",
   "metadata": {},
   "source": [
    "### Positive Predictive Value - Fully Paid"
   ]
  },
  {
   "cell_type": "markdown",
   "metadata": {},
   "source": [
    "### the chance of 81.3% that a person with a positive test will be truly \"fully paid\"."
   ]
  },
  {
   "cell_type": "code",
   "execution_count": 113,
   "metadata": {},
   "outputs": [
    {
     "data": {
      "text/html": [
       "<iframe id=\"igraph\" scrolling=\"no\" style=\"border:none;\" seamless=\"seamless\" src=\"https://plot.ly/~grizzly/35.embed\" height=\"525px\" width=\"100%\"></iframe>"
      ],
      "text/plain": [
       "<plotly.tools.PlotlyDisplay object>"
      ]
     },
     "execution_count": 113,
     "metadata": {},
     "output_type": "execute_result"
    }
   ],
   "source": [
    "labels = ['TRUE-Fully Paid (TP)','FALSE-Fully Paid (FP)']\n",
    "values = [tp,fp]\n",
    "\n",
    "trace = go.Pie(labels=labels, values=values)\n",
    "\n",
    "py.iplot([trace], filename='basic_pie_chart')"
   ]
  },
  {
   "cell_type": "markdown",
   "metadata": {},
   "source": [
    "### Negative Predictive Value - Charged Off"
   ]
  },
  {
   "cell_type": "markdown",
   "metadata": {},
   "source": [
    "### The chance of 66.7% that a person with a negative test will be truly \"charged off\"."
   ]
  },
  {
   "cell_type": "code",
   "execution_count": 114,
   "metadata": {},
   "outputs": [
    {
     "data": {
      "text/html": [
       "<iframe id=\"igraph\" scrolling=\"no\" style=\"border:none;\" seamless=\"seamless\" src=\"https://plot.ly/~grizzly/35.embed\" height=\"525px\" width=\"100%\"></iframe>"
      ],
      "text/plain": [
       "<plotly.tools.PlotlyDisplay object>"
      ]
     },
     "execution_count": 114,
     "metadata": {},
     "output_type": "execute_result"
    }
   ],
   "source": [
    "labels = ['TRUE-Charged Off (TN)','FALSE-Charged Off (FN)']\n",
    "values = [tn,fn]\n",
    "\n",
    "trace = go.Pie(labels=labels, values=values)\n",
    "\n",
    "py.iplot([trace], filename='basic_pie_chart')"
   ]
  },
  {
   "cell_type": "code",
   "execution_count": null,
   "metadata": {
    "collapsed": true
   },
   "outputs": [],
   "source": []
  },
  {
   "cell_type": "code",
   "execution_count": null,
   "metadata": {
    "collapsed": true
   },
   "outputs": [],
   "source": []
  },
  {
   "cell_type": "code",
   "execution_count": null,
   "metadata": {
    "collapsed": true
   },
   "outputs": [],
   "source": []
  },
  {
   "cell_type": "code",
   "execution_count": null,
   "metadata": {
    "collapsed": true
   },
   "outputs": [],
   "source": []
  },
  {
   "cell_type": "code",
   "execution_count": null,
   "metadata": {
    "collapsed": true
   },
   "outputs": [],
   "source": []
  },
  {
   "cell_type": "code",
   "execution_count": null,
   "metadata": {
    "collapsed": true
   },
   "outputs": [],
   "source": []
  },
  {
   "cell_type": "code",
   "execution_count": null,
   "metadata": {
    "collapsed": true
   },
   "outputs": [],
   "source": []
  },
  {
   "cell_type": "code",
   "execution_count": null,
   "metadata": {
    "collapsed": true
   },
   "outputs": [],
   "source": []
  },
  {
   "cell_type": "code",
   "execution_count": null,
   "metadata": {
    "collapsed": true
   },
   "outputs": [],
   "source": []
  }
 ],
 "metadata": {
  "anaconda-cloud": {},
  "kernelspec": {
   "display_name": "Python 3",
   "language": "python",
   "name": "python3"
  },
  "language_info": {
   "codemirror_mode": {
    "name": "ipython",
    "version": 3
   },
   "file_extension": ".py",
   "mimetype": "text/x-python",
   "name": "python",
   "nbconvert_exporter": "python",
   "pygments_lexer": "ipython3",
   "version": "3.6.1"
  }
 },
 "nbformat": 4,
 "nbformat_minor": 1
}
