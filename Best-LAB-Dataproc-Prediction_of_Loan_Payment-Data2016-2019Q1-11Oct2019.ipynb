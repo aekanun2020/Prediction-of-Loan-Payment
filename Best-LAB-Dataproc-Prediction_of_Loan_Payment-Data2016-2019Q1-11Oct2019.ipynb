{
 "cells": [
  {
   "cell_type": "code",
   "execution_count": null,
   "metadata": {
    "collapsed": true
   },
   "outputs": [],
   "source": [
    "sc.setLogLevel(\"ERROR\")"
   ]
  },
  {
   "cell_type": "code",
   "execution_count": null,
   "metadata": {
    "collapsed": true
   },
   "outputs": [],
   "source": [
    "! cp  -rf /usr/lib/hive/conf/hive-site.xml   /usr/lib/spark/conf/"
   ]
  },
  {
   "cell_type": "markdown",
   "metadata": {},
   "source": [
    "# 1. Data Understanding"
   ]
  },
  {
   "cell_type": "markdown",
   "metadata": {},
   "source": [
    "## Collecting the current data from the LendingClub's Website."
   ]
  },
  {
   "cell_type": "code",
   "execution_count": null,
   "metadata": {
    "collapsed": true
   },
   "outputs": [],
   "source": [
    "! rm -rf LoanStats_web.csv"
   ]
  },
  {
   "cell_type": "code",
   "execution_count": null,
   "metadata": {
    "collapsed": true
   },
   "outputs": [],
   "source": [
    "! touch LoanStats_web.csv"
   ]
  },
  {
   "cell_type": "code",
   "execution_count": null,
   "metadata": {
    "collapsed": true
   },
   "outputs": [],
   "source": [
    "! ls -l LoanStats*"
   ]
  },
  {
   "cell_type": "code",
   "execution_count": null,
   "metadata": {
    "collapsed": true
   },
   "outputs": [],
   "source": [
    "! rm -rf LoanStats*"
   ]
  },
  {
   "cell_type": "code",
   "execution_count": null,
   "metadata": {
    "collapsed": true
   },
   "outputs": [],
   "source": [
    "! wget https://resources.lendingclub.com/LoanStats_2016Q1.csv.zip\n",
    "! wget https://resources.lendingclub.com/LoanStats_2016Q2.csv.zip\n",
    "! wget https://resources.lendingclub.com/LoanStats_2016Q3.csv.zip\n",
    "! wget https://resources.lendingclub.com/LoanStats_2016Q4.csv.zip\n",
    "! wget https://resources.lendingclub.com/LoanStats_2017Q1.csv.zip\n",
    "! wget https://resources.lendingclub.com/LoanStats_2017Q2.csv.zip\n",
    "! wget https://resources.lendingclub.com/LoanStats_2017Q3.csv.zip\n",
    "! wget https://resources.lendingclub.com/LoanStats_2017Q4.csv.zip\n",
    "! wget https://resources.lendingclub.com/LoanStats_2018Q1.csv.zip\n",
    "! wget https://resources.lendingclub.com/LoanStats_2018Q2.csv.zip\n",
    "! wget https://resources.lendingclub.com/LoanStats_2018Q3.csv.zip\n",
    "! wget https://resources.lendingclub.com/LoanStats_2018Q4.csv.zip\n",
    "! wget https://resources.lendingclub.com/LoanStats_2019Q1.csv.zip\n",
    "    \n",
    "    "
   ]
  },
  {
   "cell_type": "code",
   "execution_count": null,
   "metadata": {
    "collapsed": true
   },
   "outputs": [],
   "source": [
    "! unzip LoanStats_2016Q1.csv.zip\n",
    "! unzip LoanStats_2016Q2.csv.zip\n",
    "! unzip LoanStats_2016Q3.csv.zip\n",
    "! unzip LoanStats_2016Q4.csv.zip\n",
    "! unzip LoanStats_2017Q1.csv.zip\n",
    "! unzip LoanStats_2017Q2.csv.zip\n",
    "! unzip LoanStats_2017Q3.csv.zip\n",
    "! unzip LoanStats_2017Q4.csv.zip\n",
    "! unzip LoanStats_2018Q1.csv.zip\n",
    "! unzip LoanStats_2018Q2.csv.zip\n",
    "! unzip LoanStats_2018Q3.csv.zip\n",
    "! unzip LoanStats_2018Q4.csv.zip\n",
    "! unzip LoanStats_2019Q1.csv.zip"
   ]
  },
  {
   "cell_type": "code",
   "execution_count": null,
   "metadata": {
    "collapsed": true
   },
   "outputs": [],
   "source": [
    "! sed -n '2,$p' LoanStats_2016Q1.csv > LoanStats_2016Q1-1.csv\n",
    "! sed -n '3,$p' LoanStats_2016Q2.csv > LoanStats_2016Q2-1.csv\n",
    "! sed -n '3,$p' LoanStats_2016Q3.csv > LoanStats_2016Q3-1.csv\n",
    "! sed -n '3,$p' LoanStats_2016Q4.csv > LoanStats_2016Q4-1.csv\n",
    "! sed -n '3,$p' LoanStats_2017Q1.csv > LoanStats_2017Q1-1.csv\n",
    "! sed -n '3,$p' LoanStats_2017Q1.csv > LoanStats_2017Q2-1.csv\n",
    "! sed -n '3,$p' LoanStats_2017Q1.csv > LoanStats_2017Q3-1.csv\n",
    "! sed -n '3,$p' LoanStats_2017Q1.csv > LoanStats_2017Q4-1.csv\n",
    "! sed -n '3,$p' LoanStats_2018Q1.csv > LoanStats_2018Q1-1.csv\n",
    "! sed -n '3,$p' LoanStats_2018Q2.csv > LoanStats_2018Q2-1.csv\n",
    "! sed -n '3,$p' LoanStats_2018Q3.csv > LoanStats_2018Q3-1.csv\n",
    "! sed -n '3,$p' LoanStats_2018Q4.csv > LoanStats_2018Q4-1.csv\n",
    "! sed -n '3,$p' LoanStats_2019Q1.csv > LoanStats_2019Q1-1.csv"
   ]
  },
  {
   "cell_type": "code",
   "execution_count": null,
   "metadata": {
    "collapsed": true
   },
   "outputs": [],
   "source": [
    "cat LoanStats_2016Q1-1.csv LoanStats_2016Q2-1.csv LoanStats_2016Q3-1.csv LoanStats_2016Q4-1.csv LoanStats_2017Q1-1.csv LoanStats_2017Q2-1.csv LoanStats_2017Q3-1.csv LoanStats_2017Q4-1.csv LoanStats_2018Q1-1.csv LoanStats_2018Q2-1.csv LoanStats_2018Q3-1.csv LoanStats_2018Q4-1.csv LoanStats_2019Q1-1.csv > LoanStats_web.csv"
   ]
  },
  {
   "cell_type": "code",
   "execution_count": null,
   "metadata": {
    "collapsed": true
   },
   "outputs": [],
   "source": [
    "! ls -lh LoanStats_web.csv"
   ]
  },
  {
   "cell_type": "code",
   "execution_count": null,
   "metadata": {
    "collapsed": true
   },
   "outputs": [],
   "source": [
    "! head -35 LoanStats_web.csv"
   ]
  },
  {
   "cell_type": "code",
   "execution_count": null,
   "metadata": {
    "collapsed": true
   },
   "outputs": [],
   "source": [
    "! wc -l LoanStats_web.csv"
   ]
  },
  {
   "cell_type": "code",
   "execution_count": null,
   "metadata": {
    "collapsed": true
   },
   "outputs": [],
   "source": [
    "! hdfs dfs -rm /user/root/LoanStats_web.csv"
   ]
  },
  {
   "cell_type": "code",
   "execution_count": null,
   "metadata": {
    "collapsed": true
   },
   "outputs": [],
   "source": [
    "! hdfs dfs -put LoanStats_web.csv /user/root/"
   ]
  },
  {
   "cell_type": "code",
   "execution_count": 1,
   "metadata": {},
   "outputs": [
    {
     "name": "stdout",
     "output_type": "stream",
     "text": [
      "Found 3 items\r\n",
      "drwxr-xr-x   - root hadoop          0 2019-10-11 15:34 /user/root/.sparkStaging\r\n",
      "-rw-r--r--   2 root hadoop 1160195236 2019-10-11 13:23 /user/root/LoanStats_web.csv\r\n",
      "drwxr-xr-x   - root hadoop          0 2019-10-11 13:27 /user/root/datacruncher\r\n"
     ]
    }
   ],
   "source": [
    "! hdfs dfs -ls /user/root/"
   ]
  },
  {
   "cell_type": "code",
   "execution_count": 2,
   "metadata": {
    "collapsed": true
   },
   "outputs": [],
   "source": [
    "raw_df = spark.read.format('csv').option('header','true').option('mode','DROPMALFORMED')\\\n",
    ".load('/user/root/LoanStats_web.csv')"
   ]
  },
  {
   "cell_type": "code",
   "execution_count": 3,
   "metadata": {
    "collapsed": true
   },
   "outputs": [],
   "source": [
    "raw201617_df = raw_df"
   ]
  },
  {
   "cell_type": "code",
   "execution_count": 4,
   "metadata": {},
   "outputs": [
    {
     "name": "stdout",
     "output_type": "stream",
     "text": [
      "root\n",
      " |-- id: string (nullable = true)\n",
      " |-- member_id: string (nullable = true)\n",
      " |-- loan_amnt: string (nullable = true)\n",
      " |-- funded_amnt: string (nullable = true)\n",
      " |-- funded_amnt_inv: string (nullable = true)\n",
      " |-- term: string (nullable = true)\n",
      " |-- int_rate: string (nullable = true)\n",
      " |-- installment: string (nullable = true)\n",
      " |-- grade: string (nullable = true)\n",
      " |-- sub_grade: string (nullable = true)\n",
      " |-- emp_title: string (nullable = true)\n",
      " |-- emp_length: string (nullable = true)\n",
      " |-- home_ownership: string (nullable = true)\n",
      " |-- annual_inc: string (nullable = true)\n",
      " |-- verification_status: string (nullable = true)\n",
      " |-- issue_d: string (nullable = true)\n",
      " |-- loan_status: string (nullable = true)\n",
      " |-- pymnt_plan: string (nullable = true)\n",
      " |-- url: string (nullable = true)\n",
      " |-- desc: string (nullable = true)\n",
      " |-- purpose: string (nullable = true)\n",
      " |-- title: string (nullable = true)\n",
      " |-- zip_code: string (nullable = true)\n",
      " |-- addr_state: string (nullable = true)\n",
      " |-- dti: string (nullable = true)\n",
      " |-- delinq_2yrs: string (nullable = true)\n",
      " |-- earliest_cr_line: string (nullable = true)\n",
      " |-- inq_last_6mths: string (nullable = true)\n",
      " |-- mths_since_last_delinq: string (nullable = true)\n",
      " |-- mths_since_last_record: string (nullable = true)\n",
      " |-- open_acc: string (nullable = true)\n",
      " |-- pub_rec: string (nullable = true)\n",
      " |-- revol_bal: string (nullable = true)\n",
      " |-- revol_util: string (nullable = true)\n",
      " |-- total_acc: string (nullable = true)\n",
      " |-- initial_list_status: string (nullable = true)\n",
      " |-- out_prncp: string (nullable = true)\n",
      " |-- out_prncp_inv: string (nullable = true)\n",
      " |-- total_pymnt: string (nullable = true)\n",
      " |-- total_pymnt_inv: string (nullable = true)\n",
      " |-- total_rec_prncp: string (nullable = true)\n",
      " |-- total_rec_int: string (nullable = true)\n",
      " |-- total_rec_late_fee: string (nullable = true)\n",
      " |-- recoveries: string (nullable = true)\n",
      " |-- collection_recovery_fee: string (nullable = true)\n",
      " |-- last_pymnt_d: string (nullable = true)\n",
      " |-- last_pymnt_amnt: string (nullable = true)\n",
      " |-- next_pymnt_d: string (nullable = true)\n",
      " |-- last_credit_pull_d: string (nullable = true)\n",
      " |-- collections_12_mths_ex_med: string (nullable = true)\n",
      " |-- mths_since_last_major_derog: string (nullable = true)\n",
      " |-- policy_code: string (nullable = true)\n",
      " |-- application_type: string (nullable = true)\n",
      " |-- annual_inc_joint: string (nullable = true)\n",
      " |-- dti_joint: string (nullable = true)\n",
      " |-- verification_status_joint: string (nullable = true)\n",
      " |-- acc_now_delinq: string (nullable = true)\n",
      " |-- tot_coll_amt: string (nullable = true)\n",
      " |-- tot_cur_bal: string (nullable = true)\n",
      " |-- open_acc_6m: string (nullable = true)\n",
      " |-- open_act_il: string (nullable = true)\n",
      " |-- open_il_12m: string (nullable = true)\n",
      " |-- open_il_24m: string (nullable = true)\n",
      " |-- mths_since_rcnt_il: string (nullable = true)\n",
      " |-- total_bal_il: string (nullable = true)\n",
      " |-- il_util: string (nullable = true)\n",
      " |-- open_rv_12m: string (nullable = true)\n",
      " |-- open_rv_24m: string (nullable = true)\n",
      " |-- max_bal_bc: string (nullable = true)\n",
      " |-- all_util: string (nullable = true)\n",
      " |-- total_rev_hi_lim: string (nullable = true)\n",
      " |-- inq_fi: string (nullable = true)\n",
      " |-- total_cu_tl: string (nullable = true)\n",
      " |-- inq_last_12m: string (nullable = true)\n",
      " |-- acc_open_past_24mths: string (nullable = true)\n",
      " |-- avg_cur_bal: string (nullable = true)\n",
      " |-- bc_open_to_buy: string (nullable = true)\n",
      " |-- bc_util: string (nullable = true)\n",
      " |-- chargeoff_within_12_mths: string (nullable = true)\n",
      " |-- delinq_amnt: string (nullable = true)\n",
      " |-- mo_sin_old_il_acct: string (nullable = true)\n",
      " |-- mo_sin_old_rev_tl_op: string (nullable = true)\n",
      " |-- mo_sin_rcnt_rev_tl_op: string (nullable = true)\n",
      " |-- mo_sin_rcnt_tl: string (nullable = true)\n",
      " |-- mort_acc: string (nullable = true)\n",
      " |-- mths_since_recent_bc: string (nullable = true)\n",
      " |-- mths_since_recent_bc_dlq: string (nullable = true)\n",
      " |-- mths_since_recent_inq: string (nullable = true)\n",
      " |-- mths_since_recent_revol_delinq: string (nullable = true)\n",
      " |-- num_accts_ever_120_pd: string (nullable = true)\n",
      " |-- num_actv_bc_tl: string (nullable = true)\n",
      " |-- num_actv_rev_tl: string (nullable = true)\n",
      " |-- num_bc_sats: string (nullable = true)\n",
      " |-- num_bc_tl: string (nullable = true)\n",
      " |-- num_il_tl: string (nullable = true)\n",
      " |-- num_op_rev_tl: string (nullable = true)\n",
      " |-- num_rev_accts: string (nullable = true)\n",
      " |-- num_rev_tl_bal_gt_0: string (nullable = true)\n",
      " |-- num_sats: string (nullable = true)\n",
      " |-- num_tl_120dpd_2m: string (nullable = true)\n",
      " |-- num_tl_30dpd: string (nullable = true)\n",
      " |-- num_tl_90g_dpd_24m: string (nullable = true)\n",
      " |-- num_tl_op_past_12m: string (nullable = true)\n",
      " |-- pct_tl_nvr_dlq: string (nullable = true)\n",
      " |-- percent_bc_gt_75: string (nullable = true)\n",
      " |-- pub_rec_bankruptcies: string (nullable = true)\n",
      " |-- tax_liens: string (nullable = true)\n",
      " |-- tot_hi_cred_lim: string (nullable = true)\n",
      " |-- total_bal_ex_mort: string (nullable = true)\n",
      " |-- total_bc_limit: string (nullable = true)\n",
      " |-- total_il_high_credit_limit: string (nullable = true)\n",
      " |-- revol_bal_joint: string (nullable = true)\n",
      " |-- sec_app_earliest_cr_line: string (nullable = true)\n",
      " |-- sec_app_inq_last_6mths: string (nullable = true)\n",
      " |-- sec_app_mort_acc: string (nullable = true)\n",
      " |-- sec_app_open_acc: string (nullable = true)\n",
      " |-- sec_app_revol_util: string (nullable = true)\n",
      " |-- sec_app_open_act_il: string (nullable = true)\n",
      " |-- sec_app_num_rev_accts: string (nullable = true)\n",
      " |-- sec_app_chargeoff_within_12_mths: string (nullable = true)\n",
      " |-- sec_app_collections_12_mths_ex_med: string (nullable = true)\n",
      " |-- sec_app_mths_since_last_major_derog: string (nullable = true)\n",
      " |-- hardship_flag: string (nullable = true)\n",
      " |-- hardship_type: string (nullable = true)\n",
      " |-- hardship_reason: string (nullable = true)\n",
      " |-- hardship_status: string (nullable = true)\n",
      " |-- deferral_term: string (nullable = true)\n",
      " |-- hardship_amount: string (nullable = true)\n",
      " |-- hardship_start_date: string (nullable = true)\n",
      " |-- hardship_end_date: string (nullable = true)\n",
      " |-- payment_plan_start_date: string (nullable = true)\n",
      " |-- hardship_length: string (nullable = true)\n",
      " |-- hardship_dpd: string (nullable = true)\n",
      " |-- hardship_loan_status: string (nullable = true)\n",
      " |-- orig_projected_additional_accrued_interest: string (nullable = true)\n",
      " |-- hardship_payoff_balance_amount: string (nullable = true)\n",
      " |-- hardship_last_payment_amount: string (nullable = true)\n",
      " |-- debt_settlement_flag: string (nullable = true)\n",
      " |-- debt_settlement_flag_date: string (nullable = true)\n",
      " |-- settlement_status: string (nullable = true)\n",
      " |-- settlement_date: string (nullable = true)\n",
      " |-- settlement_amount: string (nullable = true)\n",
      " |-- settlement_percentage: string (nullable = true)\n",
      " |-- settlement_term: string (nullable = true)\n",
      "\n"
     ]
    }
   ],
   "source": [
    "raw201617_df.printSchema()"
   ]
  },
  {
   "cell_type": "markdown",
   "metadata": {},
   "source": [
    "### Numbers of Fields [1]"
   ]
  },
  {
   "cell_type": "code",
   "execution_count": 5,
   "metadata": {},
   "outputs": [
    {
     "data": {
      "text/plain": [
       "144"
      ]
     },
     "execution_count": 5,
     "metadata": {},
     "output_type": "execute_result"
    }
   ],
   "source": [
    "len(raw201617_df.columns)"
   ]
  },
  {
   "cell_type": "code",
   "execution_count": 6,
   "metadata": {
    "collapsed": true
   },
   "outputs": [],
   "source": [
    "rawweb_df = raw201617_df.select('id',\n",
    " 'member_id',\n",
    " 'loan_amnt',\n",
    " 'funded_amnt',\n",
    " 'funded_amnt_inv',\n",
    " 'term',\n",
    " 'int_rate',\n",
    " 'installment',\n",
    " 'grade',\n",
    " 'sub_grade',\n",
    " 'emp_title',\n",
    " 'emp_length',\n",
    " 'home_ownership',\n",
    " 'annual_inc',\n",
    " 'verification_status',\n",
    " 'issue_d',\n",
    " 'loan_status',\n",
    " 'pymnt_plan',\n",
    " 'url',\n",
    " 'desc',\n",
    " 'purpose',\n",
    " 'title',\n",
    " 'zip_code',\n",
    " 'addr_state',\n",
    " 'dti',\n",
    " 'delinq_2yrs',\n",
    " 'earliest_cr_line',\n",
    " 'inq_last_6mths',\n",
    " 'mths_since_last_delinq',\n",
    " 'mths_since_last_record',\n",
    " 'open_acc',\n",
    " 'pub_rec',\n",
    " 'revol_bal',\n",
    " 'revol_util',\n",
    " 'total_acc',\n",
    " 'initial_list_status',\n",
    " 'out_prncp',\n",
    " 'out_prncp_inv',\n",
    " 'total_pymnt',\n",
    " 'total_pymnt_inv',\n",
    " 'total_rec_prncp',\n",
    " 'total_rec_int',\n",
    " 'total_rec_late_fee',\n",
    " 'recoveries',\n",
    " 'collection_recovery_fee',\n",
    " 'last_pymnt_d',\n",
    " 'last_pymnt_amnt',\n",
    " 'next_pymnt_d',\n",
    " 'last_credit_pull_d',\n",
    " 'collections_12_mths_ex_med',\n",
    " 'mths_since_last_major_derog',\n",
    " 'policy_code',\n",
    " 'application_type',\n",
    " 'annual_inc_joint',\n",
    " 'dti_joint',\n",
    " 'verification_status_joint',\n",
    " 'acc_now_delinq',\n",
    " 'tot_coll_amt',\n",
    " 'tot_cur_bal',\n",
    " 'open_acc_6m',\n",
    " #'open_il_6m',\n",
    " 'open_il_12m',\n",
    " 'open_il_24m',\n",
    " 'mths_since_rcnt_il',\n",
    " 'total_bal_il',\n",
    " 'il_util',\n",
    " 'open_rv_12m',\n",
    " 'open_rv_24m',\n",
    " 'max_bal_bc',\n",
    " 'all_util',\n",
    " 'total_rev_hi_lim',\n",
    " 'inq_fi',\n",
    " 'total_cu_tl',\n",
    " 'inq_last_12m')"
   ]
  },
  {
   "cell_type": "markdown",
   "metadata": {},
   "source": [
    "### Numbers of Fields after attributes selections [1]"
   ]
  },
  {
   "cell_type": "code",
   "execution_count": 7,
   "metadata": {},
   "outputs": [
    {
     "data": {
      "text/plain": [
       "73"
      ]
     },
     "execution_count": 7,
     "metadata": {},
     "output_type": "execute_result"
    }
   ],
   "source": [
    "len(rawweb_df.columns)"
   ]
  },
  {
   "cell_type": "code",
   "execution_count": 8,
   "metadata": {},
   "outputs": [
    {
     "name": "stdout",
     "output_type": "stream",
     "text": [
      "+--------+\n",
      "| issue_d|\n",
      "+--------+\n",
      "|Oct-2016|\n",
      "|Feb-2019|\n",
      "|Mar-2018|\n",
      "|Sep-2018|\n",
      "|Jan-2016|\n",
      "|Jul-2016|\n",
      "|Aug-2016|\n",
      "|Feb-2017|\n",
      "|Nov-2018|\n",
      "|Jul-2018|\n",
      "|Apr-2018|\n",
      "|Dec-2018|\n",
      "|May-2016|\n",
      "|Jan-2018|\n",
      "|Aug-2018|\n",
      "|Jan-2019|\n",
      "|Apr-2016|\n",
      "|Sep-2016|\n",
      "|Oct-2018|\n",
      "|Feb-2018|\n",
      "+--------+\n",
      "only showing top 20 rows\n",
      "\n"
     ]
    }
   ],
   "source": [
    "rawweb_df.select(['issue_d']).distinct().show()"
   ]
  },
  {
   "cell_type": "code",
   "execution_count": 9,
   "metadata": {
    "collapsed": true
   },
   "outputs": [],
   "source": [
    "raw_df = rawweb_df"
   ]
  },
  {
   "cell_type": "code",
   "execution_count": 10,
   "metadata": {},
   "outputs": [
    {
     "data": {
      "text/plain": [
       "1432439"
      ]
     },
     "execution_count": 10,
     "metadata": {},
     "output_type": "execute_result"
    }
   ],
   "source": [
    "raw_df.count()"
   ]
  },
  {
   "cell_type": "code",
   "execution_count": 11,
   "metadata": {
    "collapsed": true
   },
   "outputs": [],
   "source": [
    "df_colfam5 = raw_df.select(\"loan_amnt\",\"term\",\"int_rate\",\"installment\",\"grade\",\"emp_length\",\\\n",
    "                           \"home_ownership\",\"annual_inc\",\"verification_status\",\"loan_status\",\\\n",
    "                           \"purpose\",\"addr_state\",\"dti\",\"delinq_2yrs\",\"earliest_cr_line\",\\\n",
    "                           \"inq_last_6mths\",\"open_acc\",\"pub_rec\",\"revol_bal\",\"revol_util\",\"total_acc\",\\\n",
    "                           \"last_credit_pull_d\")"
   ]
  },
  {
   "cell_type": "markdown",
   "metadata": {},
   "source": [
    "### Numbers of Fields after final attributes selections [1]"
   ]
  },
  {
   "cell_type": "code",
   "execution_count": 12,
   "metadata": {},
   "outputs": [
    {
     "data": {
      "text/plain": [
       "22"
      ]
     },
     "execution_count": 12,
     "metadata": {},
     "output_type": "execute_result"
    }
   ],
   "source": [
    "len(df_colfam5.columns)"
   ]
  },
  {
   "cell_type": "code",
   "execution_count": 13,
   "metadata": {},
   "outputs": [
    {
     "name": "stdout",
     "output_type": "stream",
     "text": [
      "Requirement already satisfied: pandas in /opt/conda/lib/python3.6/site-packages (0.25.1)\r\n",
      "Requirement already satisfied: pytz>=2017.2 in /opt/conda/lib/python3.6/site-packages (from pandas) (2019.3)\r\n",
      "Requirement already satisfied: numpy>=1.13.3 in /opt/conda/lib/python3.6/site-packages (from pandas) (1.17.2)\r\n",
      "Requirement already satisfied: python-dateutil>=2.6.1 in /opt/conda/lib/python3.6/site-packages (from pandas) (2.8.0)\r\n",
      "Requirement already satisfied: six>=1.5 in /opt/conda/lib/python3.6/site-packages (from python-dateutil>=2.6.1->pandas) (1.12.0)\r\n"
     ]
    }
   ],
   "source": [
    "! pip install pandas"
   ]
  },
  {
   "cell_type": "code",
   "execution_count": 14,
   "metadata": {},
   "outputs": [
    {
     "data": {
      "text/html": [
       "<div>\n",
       "<style scoped>\n",
       "    .dataframe tbody tr th:only-of-type {\n",
       "        vertical-align: middle;\n",
       "    }\n",
       "\n",
       "    .dataframe tbody tr th {\n",
       "        vertical-align: top;\n",
       "    }\n",
       "\n",
       "    .dataframe thead th {\n",
       "        text-align: right;\n",
       "    }\n",
       "</style>\n",
       "<table border=\"1\" class=\"dataframe\">\n",
       "  <thead>\n",
       "    <tr style=\"text-align: right;\">\n",
       "      <th></th>\n",
       "      <th>0</th>\n",
       "      <th>1</th>\n",
       "      <th>2</th>\n",
       "      <th>3</th>\n",
       "      <th>4</th>\n",
       "    </tr>\n",
       "  </thead>\n",
       "  <tbody>\n",
       "    <tr>\n",
       "      <td>summary</td>\n",
       "      <td>count</td>\n",
       "      <td>mean</td>\n",
       "      <td>stddev</td>\n",
       "      <td>min</td>\n",
       "      <td>max</td>\n",
       "    </tr>\n",
       "    <tr>\n",
       "      <td>loan_amnt</td>\n",
       "      <td>1432439</td>\n",
       "      <td>15370.392945179516</td>\n",
       "      <td>9646.028077240388</td>\n",
       "      <td>1000</td>\n",
       "      <td>9975</td>\n",
       "    </tr>\n",
       "    <tr>\n",
       "      <td>term</td>\n",
       "      <td>1432439</td>\n",
       "      <td>None</td>\n",
       "      <td>None</td>\n",
       "      <td>36 months</td>\n",
       "      <td>60 months</td>\n",
       "    </tr>\n",
       "    <tr>\n",
       "      <td>int_rate</td>\n",
       "      <td>1432439</td>\n",
       "      <td>None</td>\n",
       "      <td>None</td>\n",
       "      <td>5.31%</td>\n",
       "      <td>30.99%</td>\n",
       "    </tr>\n",
       "    <tr>\n",
       "      <td>installment</td>\n",
       "      <td>1432439</td>\n",
       "      <td>456.68848106617884</td>\n",
       "      <td>281.71353779219436</td>\n",
       "      <td>100.01</td>\n",
       "      <td>999.98</td>\n",
       "    </tr>\n",
       "    <tr>\n",
       "      <td>grade</td>\n",
       "      <td>1432439</td>\n",
       "      <td>None</td>\n",
       "      <td>None</td>\n",
       "      <td>A</td>\n",
       "      <td>G</td>\n",
       "    </tr>\n",
       "    <tr>\n",
       "      <td>emp_length</td>\n",
       "      <td>1432439</td>\n",
       "      <td>None</td>\n",
       "      <td>None</td>\n",
       "      <td>1 year</td>\n",
       "      <td>n/a</td>\n",
       "    </tr>\n",
       "    <tr>\n",
       "      <td>home_ownership</td>\n",
       "      <td>1432439</td>\n",
       "      <td>None</td>\n",
       "      <td>None</td>\n",
       "      <td>ANY</td>\n",
       "      <td>RENT</td>\n",
       "    </tr>\n",
       "    <tr>\n",
       "      <td>annual_inc</td>\n",
       "      <td>1432439</td>\n",
       "      <td>81034.59412687029</td>\n",
       "      <td>134183.4031357177</td>\n",
       "      <td>0</td>\n",
       "      <td>99999.84</td>\n",
       "    </tr>\n",
       "    <tr>\n",
       "      <td>verification_status</td>\n",
       "      <td>1432439</td>\n",
       "      <td>None</td>\n",
       "      <td>None</td>\n",
       "      <td>Not Verified</td>\n",
       "      <td>Verified</td>\n",
       "    </tr>\n",
       "    <tr>\n",
       "      <td>loan_status</td>\n",
       "      <td>1432439</td>\n",
       "      <td>None</td>\n",
       "      <td>None</td>\n",
       "      <td>Charged Off</td>\n",
       "      <td>Late (31-120 days)</td>\n",
       "    </tr>\n",
       "    <tr>\n",
       "      <td>purpose</td>\n",
       "      <td>1432439</td>\n",
       "      <td>None</td>\n",
       "      <td>None</td>\n",
       "      <td>car</td>\n",
       "      <td>wedding</td>\n",
       "    </tr>\n",
       "    <tr>\n",
       "      <td>addr_state</td>\n",
       "      <td>1432439</td>\n",
       "      <td>None</td>\n",
       "      <td>None</td>\n",
       "      <td>AK</td>\n",
       "      <td>WY</td>\n",
       "    </tr>\n",
       "    <tr>\n",
       "      <td>dti</td>\n",
       "      <td>1430855</td>\n",
       "      <td>19.21187297804438</td>\n",
       "      <td>15.972775323001537</td>\n",
       "      <td>-1</td>\n",
       "      <td>999</td>\n",
       "    </tr>\n",
       "    <tr>\n",
       "      <td>delinq_2yrs</td>\n",
       "      <td>1432439</td>\n",
       "      <td>0.30147182532729144</td>\n",
       "      <td>0.8643187650693938</td>\n",
       "      <td>0</td>\n",
       "      <td>9</td>\n",
       "    </tr>\n",
       "    <tr>\n",
       "      <td>earliest_cr_line</td>\n",
       "      <td>1432439</td>\n",
       "      <td>None</td>\n",
       "      <td>None</td>\n",
       "      <td>Apr-1955</td>\n",
       "      <td>Sep-2015</td>\n",
       "    </tr>\n",
       "    <tr>\n",
       "      <td>inq_last_6mths</td>\n",
       "      <td>1432438</td>\n",
       "      <td>0.4954546025726768</td>\n",
       "      <td>0.7921955450181829</td>\n",
       "      <td>0</td>\n",
       "      <td>5</td>\n",
       "    </tr>\n",
       "    <tr>\n",
       "      <td>open_acc</td>\n",
       "      <td>1432439</td>\n",
       "      <td>11.710326233787267</td>\n",
       "      <td>5.8410513335667105</td>\n",
       "      <td>0</td>\n",
       "      <td>97</td>\n",
       "    </tr>\n",
       "    <tr>\n",
       "      <td>pub_rec</td>\n",
       "      <td>1432439</td>\n",
       "      <td>0.20539234131435963</td>\n",
       "      <td>0.5861093697871821</td>\n",
       "      <td>0</td>\n",
       "      <td>9</td>\n",
       "    </tr>\n",
       "    <tr>\n",
       "      <td>revol_bal</td>\n",
       "      <td>1432439</td>\n",
       "      <td>16846.678102173984</td>\n",
       "      <td>23301.01458319936</td>\n",
       "      <td>0</td>\n",
       "      <td>99996</td>\n",
       "    </tr>\n",
       "    <tr>\n",
       "      <td>revol_util</td>\n",
       "      <td>1431250</td>\n",
       "      <td>None</td>\n",
       "      <td>None</td>\n",
       "      <td>0%</td>\n",
       "      <td>99.9%</td>\n",
       "    </tr>\n",
       "    <tr>\n",
       "      <td>total_acc</td>\n",
       "      <td>1432439</td>\n",
       "      <td>23.60291782058433</td>\n",
       "      <td>12.040971368344703</td>\n",
       "      <td>10</td>\n",
       "      <td>99</td>\n",
       "    </tr>\n",
       "    <tr>\n",
       "      <td>last_credit_pull_d</td>\n",
       "      <td>1432415</td>\n",
       "      <td>None</td>\n",
       "      <td>None</td>\n",
       "      <td>Apr-2016</td>\n",
       "      <td>Sep-2019</td>\n",
       "    </tr>\n",
       "  </tbody>\n",
       "</table>\n",
       "</div>"
      ],
      "text/plain": [
       "                           0                    1                   2  \\\n",
       "summary                count                 mean              stddev   \n",
       "loan_amnt            1432439   15370.392945179516   9646.028077240388   \n",
       "term                 1432439                 None                None   \n",
       "int_rate             1432439                 None                None   \n",
       "installment          1432439   456.68848106617884  281.71353779219436   \n",
       "grade                1432439                 None                None   \n",
       "emp_length           1432439                 None                None   \n",
       "home_ownership       1432439                 None                None   \n",
       "annual_inc           1432439    81034.59412687029   134183.4031357177   \n",
       "verification_status  1432439                 None                None   \n",
       "loan_status          1432439                 None                None   \n",
       "purpose              1432439                 None                None   \n",
       "addr_state           1432439                 None                None   \n",
       "dti                  1430855    19.21187297804438  15.972775323001537   \n",
       "delinq_2yrs          1432439  0.30147182532729144  0.8643187650693938   \n",
       "earliest_cr_line     1432439                 None                None   \n",
       "inq_last_6mths       1432438   0.4954546025726768  0.7921955450181829   \n",
       "open_acc             1432439   11.710326233787267  5.8410513335667105   \n",
       "pub_rec              1432439  0.20539234131435963  0.5861093697871821   \n",
       "revol_bal            1432439   16846.678102173984   23301.01458319936   \n",
       "revol_util           1431250                 None                None   \n",
       "total_acc            1432439    23.60291782058433  12.040971368344703   \n",
       "last_credit_pull_d   1432415                 None                None   \n",
       "\n",
       "                                3                   4  \n",
       "summary                       min                 max  \n",
       "loan_amnt                    1000                9975  \n",
       "term                    36 months           60 months  \n",
       "int_rate                    5.31%              30.99%  \n",
       "installment                100.01              999.98  \n",
       "grade                           A                   G  \n",
       "emp_length                 1 year                 n/a  \n",
       "home_ownership                ANY                RENT  \n",
       "annual_inc                      0            99999.84  \n",
       "verification_status  Not Verified            Verified  \n",
       "loan_status           Charged Off  Late (31-120 days)  \n",
       "purpose                       car             wedding  \n",
       "addr_state                     AK                  WY  \n",
       "dti                            -1                 999  \n",
       "delinq_2yrs                     0                   9  \n",
       "earliest_cr_line         Apr-1955            Sep-2015  \n",
       "inq_last_6mths                  0                   5  \n",
       "open_acc                        0                  97  \n",
       "pub_rec                         0                   9  \n",
       "revol_bal                       0               99996  \n",
       "revol_util                     0%               99.9%  \n",
       "total_acc                      10                  99  \n",
       "last_credit_pull_d       Apr-2016            Sep-2019  "
      ]
     },
     "execution_count": 14,
     "metadata": {},
     "output_type": "execute_result"
    }
   ],
   "source": [
    "import pandas as pd\n",
    "pd.DataFrame(df_colfam5.describe().take(6), columns=df_colfam5.describe().columns).transpose()"
   ]
  },
  {
   "cell_type": "code",
   "execution_count": 15,
   "metadata": {},
   "outputs": [
    {
     "name": "stdout",
     "output_type": "stream",
     "text": [
      "+------------------+\n",
      "|last_credit_pull_d|\n",
      "+------------------+\n",
      "|              null|\n",
      "|          Apr-2016|\n",
      "|          Apr-2017|\n",
      "|          Apr-2018|\n",
      "|          Apr-2019|\n",
      "|          Aug-2016|\n",
      "|          Aug-2017|\n",
      "|          Aug-2018|\n",
      "|          Aug-2019|\n",
      "|          Dec-2015|\n",
      "|          Dec-2016|\n",
      "|          Dec-2017|\n",
      "|          Dec-2018|\n",
      "|          Feb-2016|\n",
      "|          Feb-2017|\n",
      "|          Feb-2018|\n",
      "|          Feb-2019|\n",
      "|          Jan-2016|\n",
      "|          Jan-2017|\n",
      "|          Jan-2018|\n",
      "+------------------+\n",
      "only showing top 20 rows\n",
      "\n"
     ]
    }
   ],
   "source": [
    "df_colfam5.select(['last_credit_pull_d']).distinct().\\\n",
    "orderBy(['last_credit_pull_d'],ascending=1).show()"
   ]
  },
  {
   "cell_type": "code",
   "execution_count": 16,
   "metadata": {},
   "outputs": [
    {
     "data": {
      "text/plain": [
       "0"
      ]
     },
     "execution_count": 16,
     "metadata": {},
     "output_type": "execute_result"
    }
   ],
   "source": [
    "df_colfam5.select(['last_credit_pull_d']).\\\n",
    "filter(df_colfam5.last_credit_pull_d == '').count()"
   ]
  },
  {
   "cell_type": "code",
   "execution_count": 17,
   "metadata": {},
   "outputs": [
    {
     "data": {
      "text/plain": [
       "24"
      ]
     },
     "execution_count": 17,
     "metadata": {},
     "output_type": "execute_result"
    }
   ],
   "source": [
    "df_colfam5.select(['last_credit_pull_d']).\\\n",
    "filter(df_colfam5['last_credit_pull_d'].isNull()).count()"
   ]
  },
  {
   "cell_type": "markdown",
   "metadata": {},
   "source": [
    "# 2. Data Preparation"
   ]
  },
  {
   "cell_type": "markdown",
   "metadata": {},
   "source": [
    "Divide this process into 2 parts. The first is a business oriented preparation that turn many business rules to be programming's logics. Its result benefits many tasks related to the Business Intelligence and other descriptive analytics. The second one is a data science oriented preparation that turn many requirements of data science to be programming's logics. Its result benefits many tasks related to the Predictive analytics."
   ]
  },
  {
   "cell_type": "markdown",
   "metadata": {},
   "source": [
    "Asumption: Business oriented preparation: No missing values, ONLY month, Correct data types."
   ]
  },
  {
   "cell_type": "markdown",
   "metadata": {},
   "source": [
    "## Data Cleansing: Remove missing values"
   ]
  },
  {
   "cell_type": "code",
   "execution_count": 18,
   "metadata": {
    "collapsed": true
   },
   "outputs": [],
   "source": [
    "df_no_missing = df_colfam5.dropna(how='any')"
   ]
  },
  {
   "cell_type": "markdown",
   "metadata": {},
   "source": [
    "## Check for a schema"
   ]
  },
  {
   "cell_type": "code",
   "execution_count": 19,
   "metadata": {},
   "outputs": [
    {
     "name": "stdout",
     "output_type": "stream",
     "text": [
      "root\n",
      " |-- loan_amnt: string (nullable = true)\n",
      " |-- term: string (nullable = true)\n",
      " |-- int_rate: string (nullable = true)\n",
      " |-- installment: string (nullable = true)\n",
      " |-- grade: string (nullable = true)\n",
      " |-- emp_length: string (nullable = true)\n",
      " |-- home_ownership: string (nullable = true)\n",
      " |-- annual_inc: string (nullable = true)\n",
      " |-- verification_status: string (nullable = true)\n",
      " |-- loan_status: string (nullable = true)\n",
      " |-- purpose: string (nullable = true)\n",
      " |-- addr_state: string (nullable = true)\n",
      " |-- dti: string (nullable = true)\n",
      " |-- delinq_2yrs: string (nullable = true)\n",
      " |-- earliest_cr_line: string (nullable = true)\n",
      " |-- inq_last_6mths: string (nullable = true)\n",
      " |-- open_acc: string (nullable = true)\n",
      " |-- pub_rec: string (nullable = true)\n",
      " |-- revol_bal: string (nullable = true)\n",
      " |-- revol_util: string (nullable = true)\n",
      " |-- total_acc: string (nullable = true)\n",
      " |-- last_credit_pull_d: string (nullable = true)\n",
      "\n"
     ]
    }
   ],
   "source": [
    "df_no_missing.printSchema()"
   ]
  },
  {
   "cell_type": "code",
   "execution_count": 20,
   "metadata": {
    "collapsed": true
   },
   "outputs": [],
   "source": [
    "df_no_missing_fitmem = df_no_missing.repartition(60)"
   ]
  },
  {
   "cell_type": "code",
   "execution_count": 21,
   "metadata": {
    "collapsed": true
   },
   "outputs": [],
   "source": [
    "df_no_missing_cached = df_no_missing_fitmem.cache()"
   ]
  },
  {
   "cell_type": "code",
   "execution_count": 22,
   "metadata": {
    "collapsed": true
   },
   "outputs": [],
   "source": [
    "df_no_missing_cached.registerTempTable(\"df\")"
   ]
  },
  {
   "cell_type": "markdown",
   "metadata": {},
   "source": [
    "## Number of data rows"
   ]
  },
  {
   "cell_type": "code",
   "execution_count": 23,
   "metadata": {},
   "outputs": [
    {
     "data": {
      "text/plain": [
       "1429645"
      ]
     },
     "execution_count": 23,
     "metadata": {},
     "output_type": "execute_result"
    }
   ],
   "source": [
    "df_no_missing_cached.count()"
   ]
  },
  {
   "cell_type": "markdown",
   "metadata": {},
   "source": [
    "## Data Transformation: Remove Sign of Percent and Extract Month."
   ]
  },
  {
   "cell_type": "code",
   "execution_count": 24,
   "metadata": {
    "collapsed": true
   },
   "outputs": [],
   "source": [
    "from pyspark.sql.functions import udf\n",
    "from pyspark.sql.types import *"
   ]
  },
  {
   "cell_type": "markdown",
   "metadata": {},
   "source": [
    "### Remove Sign of Percent"
   ]
  },
  {
   "cell_type": "code",
   "execution_count": 25,
   "metadata": {
    "collapsed": true
   },
   "outputs": [],
   "source": [
    "def f_removepercentsign(origin):\n",
    "    return origin.rstrip('%')"
   ]
  },
  {
   "cell_type": "code",
   "execution_count": 26,
   "metadata": {
    "collapsed": true
   },
   "outputs": [],
   "source": [
    "removepercentsign = udf(lambda x: f_removepercentsign(x),StringType())"
   ]
  },
  {
   "cell_type": "markdown",
   "metadata": {},
   "source": [
    "### Extract Month"
   ]
  },
  {
   "cell_type": "code",
   "execution_count": 27,
   "metadata": {
    "collapsed": true
   },
   "outputs": [],
   "source": [
    "def f_extractmonth(origin):\n",
    "    return origin.split('-')[0]"
   ]
  },
  {
   "cell_type": "code",
   "execution_count": 28,
   "metadata": {
    "collapsed": true
   },
   "outputs": [],
   "source": [
    "extractmonth = udf(lambda x: f_extractmonth(x),StringType())"
   ]
  },
  {
   "cell_type": "code",
   "execution_count": 29,
   "metadata": {
    "collapsed": true
   },
   "outputs": [],
   "source": [
    "#df_no_missing_cached.withColumn('dti',df_no_missing_cached['dti'].cast(DoubleType())).show()"
   ]
  },
  {
   "cell_type": "code",
   "execution_count": 30,
   "metadata": {
    "collapsed": true
   },
   "outputs": [],
   "source": [
    "dfWithCrunch = df_no_missing_cached.\\\n",
    "withColumn('revol_util',removepercentsign(df_no_missing_cached['revol_util']).cast(DoubleType())).\\\n",
    "withColumn('int_rate',removepercentsign(df_no_missing_cached['int_rate']).cast(DoubleType())).\\\n",
    "withColumn('earliest_cr_line',extractmonth(df_no_missing_cached['earliest_cr_line']).cast(StringType())).\\\n",
    "withColumn('last_credit_pull_d',extractmonth(df_no_missing_cached['last_credit_pull_d']).cast(StringType())).\\\n",
    "withColumn('dti',df_no_missing_cached['dti'].cast(DoubleType())).\\\n",
    "withColumn('loan_amnt',df_no_missing_cached['loan_amnt'].cast(DoubleType())).\\\n",
    "withColumn('annual_inc',df_no_missing_cached['annual_inc'].cast(DoubleType()))"
   ]
  },
  {
   "cell_type": "code",
   "execution_count": 31,
   "metadata": {},
   "outputs": [
    {
     "name": "stdout",
     "output_type": "stream",
     "text": [
      "root\n",
      " |-- last_credit_pull_d: string (nullable = true)\n",
      "\n"
     ]
    }
   ],
   "source": [
    "dfWithCrunch.select(['last_credit_pull_d']).printSchema()"
   ]
  },
  {
   "cell_type": "code",
   "execution_count": 32,
   "metadata": {},
   "outputs": [
    {
     "name": "stdout",
     "output_type": "stream",
     "text": [
      "+------------------+\n",
      "|last_credit_pull_d|\n",
      "+------------------+\n",
      "|               Oct|\n",
      "|               Sep|\n",
      "|               Dec|\n",
      "|               Aug|\n",
      "|               May|\n",
      "|               Jun|\n",
      "|               Feb|\n",
      "|               Nov|\n",
      "|               Mar|\n",
      "|               Jan|\n",
      "|               Apr|\n",
      "|               Jul|\n",
      "+------------------+\n",
      "\n"
     ]
    }
   ],
   "source": [
    "dfWithCrunch.select(['last_credit_pull_d']).distinct().show()"
   ]
  },
  {
   "cell_type": "code",
   "execution_count": 33,
   "metadata": {},
   "outputs": [
    {
     "data": {
      "text/plain": [
       "1429645"
      ]
     },
     "execution_count": 33,
     "metadata": {},
     "output_type": "execute_result"
    }
   ],
   "source": [
    "dfWithCrunch.count()"
   ]
  },
  {
   "cell_type": "code",
   "execution_count": 34,
   "metadata": {},
   "outputs": [
    {
     "name": "stdout",
     "output_type": "stream",
     "text": [
      "+---------+--------+-----+--------------+-----+\n",
      "|loan_amnt|int_rate|  dti|home_ownership|grade|\n",
      "+---------+--------+-----+--------------+-----+\n",
      "|  25000.0|    9.16| 21.6|          RENT|    B|\n",
      "|   9600.0|   10.75|18.98|          RENT|    B|\n",
      "|   5000.0|    5.32| 1.59|           OWN|    A|\n",
      "|   9000.0|   14.49|19.59|      MORTGAGE|    C|\n",
      "|  21000.0|   11.99|10.33|      MORTGAGE|    C|\n",
      "|  18400.0|   11.99|18.52|          RENT|    C|\n",
      "|  26400.0|    9.16| 5.46|      MORTGAGE|    B|\n",
      "|  16000.0|   12.99|27.15|      MORTGAGE|    C|\n",
      "|  15075.0|    9.16|14.59|      MORTGAGE|    B|\n",
      "|  25000.0|    7.39|11.47|           OWN|    A|\n",
      "|  19600.0|   10.75|18.78|          RENT|    B|\n",
      "|  20000.0|   13.67|11.48|           OWN|    C|\n",
      "|  30000.0|   11.47|13.08|      MORTGAGE|    B|\n",
      "|  40000.0|   22.45| 32.2|      MORTGAGE|    E|\n",
      "|  30000.0|   11.99|14.38|      MORTGAGE|    C|\n",
      "|  35000.0|    9.75|23.88|      MORTGAGE|    B|\n",
      "|   3000.0|   19.48| 16.4|           OWN|    E|\n",
      "|  12925.0|   18.99| 22.0|      MORTGAGE|    D|\n",
      "|  25000.0|    6.97| 6.65|      MORTGAGE|    A|\n",
      "|   9600.0|    6.49|18.53|      MORTGAGE|    A|\n",
      "+---------+--------+-----+--------------+-----+\n",
      "only showing top 20 rows\n",
      "\n"
     ]
    }
   ],
   "source": [
    "dfWithCrunch.select(['loan_amnt','int_rate','dti','home_ownership','grade']).show()"
   ]
  },
  {
   "cell_type": "code",
   "execution_count": 35,
   "metadata": {},
   "outputs": [
    {
     "name": "stdout",
     "output_type": "stream",
     "text": [
      "root\n",
      " |-- loan_amnt: double (nullable = true)\n",
      " |-- int_rate: double (nullable = true)\n",
      " |-- dti: double (nullable = true)\n",
      " |-- home_ownership: string (nullable = true)\n",
      " |-- grade: string (nullable = true)\n",
      "\n"
     ]
    }
   ],
   "source": [
    "dfWithCrunch.select(['loan_amnt','int_rate','dti','home_ownership','grade']).printSchema()"
   ]
  },
  {
   "cell_type": "code",
   "execution_count": 36,
   "metadata": {},
   "outputs": [
    {
     "name": "stdout",
     "output_type": "stream",
     "text": [
      "+-------+------------------+------------------+\n",
      "|summary|         loan_amnt|        annual_inc|\n",
      "+-------+------------------+------------------+\n",
      "|  count|           1429645|           1429645|\n",
      "|   mean|15366.699302973815| 81111.66344812172|\n",
      "| stddev|  9641.85136599622|134222.54004920358|\n",
      "|    min|            1000.0|               0.0|\n",
      "|    max|           40000.0|             6.1E7|\n",
      "+-------+------------------+------------------+\n",
      "\n"
     ]
    }
   ],
   "source": [
    "dfWithCrunch.select(['loan_amnt','annual_inc']).describe().show()"
   ]
  },
  {
   "cell_type": "code",
   "execution_count": null,
   "metadata": {
    "collapsed": true
   },
   "outputs": [],
   "source": []
  },
  {
   "cell_type": "markdown",
   "metadata": {},
   "source": [
    "### Writing into a Hive Table for further Descriptive Analytics"
   ]
  },
  {
   "cell_type": "code",
   "execution_count": 37,
   "metadata": {},
   "outputs": [
    {
     "name": "stdout",
     "output_type": "stream",
     "text": [
      "root\n",
      " |-- loan_amnt: double (nullable = true)\n",
      " |-- term: string (nullable = true)\n",
      " |-- int_rate: double (nullable = true)\n",
      " |-- installment: string (nullable = true)\n",
      " |-- grade: string (nullable = true)\n",
      " |-- emp_length: string (nullable = true)\n",
      " |-- home_ownership: string (nullable = true)\n",
      " |-- annual_inc: double (nullable = true)\n",
      " |-- verification_status: string (nullable = true)\n",
      " |-- loan_status: string (nullable = true)\n",
      " |-- purpose: string (nullable = true)\n",
      " |-- addr_state: string (nullable = true)\n",
      " |-- dti: double (nullable = true)\n",
      " |-- delinq_2yrs: string (nullable = true)\n",
      " |-- earliest_cr_line: string (nullable = true)\n",
      " |-- inq_last_6mths: string (nullable = true)\n",
      " |-- open_acc: string (nullable = true)\n",
      " |-- pub_rec: string (nullable = true)\n",
      " |-- revol_bal: string (nullable = true)\n",
      " |-- revol_util: double (nullable = true)\n",
      " |-- total_acc: string (nullable = true)\n",
      " |-- last_credit_pull_d: string (nullable = true)\n",
      "\n"
     ]
    }
   ],
   "source": [
    "dfWithCrunch.printSchema()"
   ]
  },
  {
   "cell_type": "code",
   "execution_count": 38,
   "metadata": {
    "collapsed": true
   },
   "outputs": [],
   "source": [
    "dfWithCrunch.write.format(\"parquet\").mode('overwrite').parquet('/user/root/datacruncher/loan')"
   ]
  },
  {
   "cell_type": "code",
   "execution_count": 39,
   "metadata": {
    "collapsed": true
   },
   "outputs": [],
   "source": [
    "from pyspark import HiveContext"
   ]
  },
  {
   "cell_type": "code",
   "execution_count": 40,
   "metadata": {},
   "outputs": [
    {
     "data": {
      "text/plain": [
       "DataFrame[]"
      ]
     },
     "execution_count": 40,
     "metadata": {},
     "output_type": "execute_result"
    }
   ],
   "source": [
    "sqlStringADD = 'loan_amnt double,term string, int_rate string, installment double, grade string, emp_length string, home_ownership string, annual_inc double, verification_status string, loan_status string, purpose string, addr_state string, dti double, delinq_2yrs double, earliest_cr_line string, inq_last_6mths double, open_acc double, pub_rec double, revol_bal double, revol_util string, total_acc double, last_credit_pull_d string'\n",
    "\n",
    "hc = HiveContext(sc)\n",
    "hc.sql(\"DROP TABLE IF EXISTS personal_loan\")\n",
    "hc.sql(\"CREATE EXTERNAL TABLE personal_loan (\" + sqlStringADD + \"\"\")\n",
    "        STORED AS PARQUET\n",
    "        LOCATION '/user/root/datacruncher/loan'\"\"\")"
   ]
  },
  {
   "cell_type": "markdown",
   "metadata": {},
   "source": [
    "### Load from a Hive Table for Further efficient analytics."
   ]
  },
  {
   "cell_type": "code",
   "execution_count": 41,
   "metadata": {
    "collapsed": true
   },
   "outputs": [],
   "source": [
    "rawhive_df = sqlContext.read.load(\"/user/root/datacruncher/loan\").repartition(60).cache()\n",
    "#rawhive_df.registerTempTable(\"crunched_data\")"
   ]
  },
  {
   "cell_type": "code",
   "execution_count": 42,
   "metadata": {},
   "outputs": [
    {
     "data": {
      "text/plain": [
       "22"
      ]
     },
     "execution_count": 42,
     "metadata": {},
     "output_type": "execute_result"
    }
   ],
   "source": [
    "len(rawhive_df.columns)"
   ]
  },
  {
   "cell_type": "code",
   "execution_count": 43,
   "metadata": {},
   "outputs": [
    {
     "name": "stdout",
     "output_type": "stream",
     "text": [
      "root\n",
      " |-- loan_amnt: double (nullable = true)\n",
      " |-- term: string (nullable = true)\n",
      " |-- int_rate: double (nullable = true)\n",
      " |-- installment: string (nullable = true)\n",
      " |-- grade: string (nullable = true)\n",
      " |-- emp_length: string (nullable = true)\n",
      " |-- home_ownership: string (nullable = true)\n",
      " |-- annual_inc: double (nullable = true)\n",
      " |-- verification_status: string (nullable = true)\n",
      " |-- loan_status: string (nullable = true)\n",
      " |-- purpose: string (nullable = true)\n",
      " |-- addr_state: string (nullable = true)\n",
      " |-- dti: double (nullable = true)\n",
      " |-- delinq_2yrs: string (nullable = true)\n",
      " |-- earliest_cr_line: string (nullable = true)\n",
      " |-- inq_last_6mths: string (nullable = true)\n",
      " |-- open_acc: string (nullable = true)\n",
      " |-- pub_rec: string (nullable = true)\n",
      " |-- revol_bal: string (nullable = true)\n",
      " |-- revol_util: double (nullable = true)\n",
      " |-- total_acc: string (nullable = true)\n",
      " |-- last_credit_pull_d: string (nullable = true)\n",
      "\n"
     ]
    }
   ],
   "source": [
    "rawhive_df.printSchema()"
   ]
  },
  {
   "cell_type": "code",
   "execution_count": 44,
   "metadata": {},
   "outputs": [
    {
     "name": "stdout",
     "output_type": "stream",
     "text": [
      "root\n",
      " |-- loan_amnt: double (nullable = true)\n",
      " |-- int_rate: double (nullable = true)\n",
      " |-- dti: double (nullable = true)\n",
      " |-- home_ownership: string (nullable = true)\n",
      " |-- grade: string (nullable = true)\n",
      "\n"
     ]
    }
   ],
   "source": [
    "rawhive_df.select(['loan_amnt','int_rate','dti','home_ownership','grade']).printSchema()"
   ]
  },
  {
   "cell_type": "code",
   "execution_count": 45,
   "metadata": {},
   "outputs": [
    {
     "data": {
      "text/plain": [
       "1429645"
      ]
     },
     "execution_count": 45,
     "metadata": {},
     "output_type": "execute_result"
    }
   ],
   "source": [
    "rawhive_df.count()"
   ]
  },
  {
   "cell_type": "markdown",
   "metadata": {},
   "source": [
    "### Data Transformation: Normalization of \"annual_inc\" and \"loan_amnt\""
   ]
  },
  {
   "cell_type": "code",
   "execution_count": 46,
   "metadata": {
    "collapsed": true
   },
   "outputs": [],
   "source": [
    "from pyspark.sql.functions import *\n",
    "\n",
    "max_annual_inc = rawhive_df.select(max('annual_inc')).collect()[0][0]\n",
    "\n",
    "min_annual_inc = rawhive_df.select(min('annual_inc')).collect()[0][0]\n",
    "\n",
    "#sqlContext.udf.register(\"t_annual_inc\", lambda x: ((x-min_annual_inc)/(max_annual_inc-min_annual_inc)))"
   ]
  },
  {
   "cell_type": "code",
   "execution_count": 47,
   "metadata": {
    "collapsed": true
   },
   "outputs": [],
   "source": [
    "def t_annual_inc(origin):\n",
    "    return ((origin-min_annual_inc)/(max_annual_inc-min_annual_inc))"
   ]
  },
  {
   "cell_type": "code",
   "execution_count": 48,
   "metadata": {
    "collapsed": true
   },
   "outputs": [],
   "source": [
    "normalized_annual_inc = udf(lambda x: t_annual_inc(x),DoubleType())"
   ]
  },
  {
   "cell_type": "code",
   "execution_count": 49,
   "metadata": {
    "collapsed": true
   },
   "outputs": [],
   "source": [
    "max_loan_amnt = rawhive_df.select(max('loan_amnt')).collect()[0][0]\n",
    "\n",
    "min_loan_amnt = rawhive_df.select(min('loan_amnt')).collect()[0][0]\n",
    "\n",
    "#sqlContext.udf.register(\"t_loan_amnt\", lambda x: ((x-min_loan_amnt)/(max_loan_amnt-min_loan_amnt)))"
   ]
  },
  {
   "cell_type": "code",
   "execution_count": 50,
   "metadata": {
    "collapsed": true
   },
   "outputs": [],
   "source": [
    "def t_loan_amnt(origin):\n",
    "    return ((origin-min_loan_amnt)/(max_loan_amnt-min_loan_amnt))"
   ]
  },
  {
   "cell_type": "code",
   "execution_count": 51,
   "metadata": {
    "collapsed": true
   },
   "outputs": [],
   "source": [
    "normalized_loan_amnt = udf(lambda x: t_loan_amnt(x),DoubleType())"
   ]
  },
  {
   "cell_type": "code",
   "execution_count": 52,
   "metadata": {},
   "outputs": [
    {
     "name": "stdout",
     "output_type": "stream",
     "text": [
      "+-------+-------------------+\n",
      "|summary|          loan_amnt|\n",
      "+-------+-------------------+\n",
      "|  count|            1429645|\n",
      "|   mean| 0.3683769052044867|\n",
      "| stddev|0.24722695810246717|\n",
      "|    min|                0.0|\n",
      "|    max|                1.0|\n",
      "+-------+-------------------+\n",
      "\n"
     ]
    }
   ],
   "source": [
    "rawhive_df.withColumn('loan_amnt',normalized_loan_amnt(rawhive_df['loan_amnt'])).select('loan_amnt').\\\n",
    "describe().show()"
   ]
  },
  {
   "cell_type": "code",
   "execution_count": 53,
   "metadata": {},
   "outputs": [
    {
     "name": "stdout",
     "output_type": "stream",
     "text": [
      "+-------+--------------------+\n",
      "|summary|          annual_inc|\n",
      "+-------+--------------------+\n",
      "|  count|             1429645|\n",
      "|   mean|0.001329699400788...|\n",
      "| stddev| 0.00220036950900334|\n",
      "|    min|                 0.0|\n",
      "|    max|                 1.0|\n",
      "+-------+--------------------+\n",
      "\n"
     ]
    }
   ],
   "source": [
    "rawhive_df.withColumn('annual_inc',normalized_annual_inc(rawhive_df['annual_inc'])).select('annual_inc').\\\n",
    "describe().show()"
   ]
  },
  {
   "cell_type": "code",
   "execution_count": 54,
   "metadata": {
    "collapsed": true
   },
   "outputs": [],
   "source": [
    "normalized_df = rawhive_df.withColumn('loan_amnt',normalized_loan_amnt(rawhive_df['loan_amnt'])).\\\n",
    "withColumn('annual_inc',normalized_annual_inc(rawhive_df['annual_inc']))"
   ]
  },
  {
   "cell_type": "code",
   "execution_count": 55,
   "metadata": {},
   "outputs": [
    {
     "name": "stdout",
     "output_type": "stream",
     "text": [
      "root\n",
      " |-- loan_amnt: double (nullable = true)\n",
      " |-- term: string (nullable = true)\n",
      " |-- int_rate: double (nullable = true)\n",
      " |-- installment: string (nullable = true)\n",
      " |-- grade: string (nullable = true)\n",
      " |-- emp_length: string (nullable = true)\n",
      " |-- home_ownership: string (nullable = true)\n",
      " |-- annual_inc: double (nullable = true)\n",
      " |-- verification_status: string (nullable = true)\n",
      " |-- loan_status: string (nullable = true)\n",
      " |-- purpose: string (nullable = true)\n",
      " |-- addr_state: string (nullable = true)\n",
      " |-- dti: double (nullable = true)\n",
      " |-- delinq_2yrs: string (nullable = true)\n",
      " |-- earliest_cr_line: string (nullable = true)\n",
      " |-- inq_last_6mths: string (nullable = true)\n",
      " |-- open_acc: string (nullable = true)\n",
      " |-- pub_rec: string (nullable = true)\n",
      " |-- revol_bal: string (nullable = true)\n",
      " |-- revol_util: double (nullable = true)\n",
      " |-- total_acc: string (nullable = true)\n",
      " |-- last_credit_pull_d: string (nullable = true)\n",
      "\n"
     ]
    }
   ],
   "source": [
    "normalized_df.printSchema()"
   ]
  },
  {
   "cell_type": "markdown",
   "metadata": {},
   "source": [
    "### Number of data rows that are only \"Fully Paid\" and \"Charged Off\""
   ]
  },
  {
   "cell_type": "code",
   "execution_count": 56,
   "metadata": {
    "collapsed": true
   },
   "outputs": [],
   "source": [
    "from pyspark.sql.functions import col"
   ]
  },
  {
   "cell_type": "code",
   "execution_count": 57,
   "metadata": {},
   "outputs": [
    {
     "name": "stdout",
     "output_type": "stream",
     "text": [
      "+------------------+------+\n",
      "|       loan_status| count|\n",
      "+------------------+------+\n",
      "|        Fully Paid|572976|\n",
      "|           Default|    31|\n",
      "|   In Grace Period|  7534|\n",
      "|       Charged Off|152817|\n",
      "|Late (31-120 days)| 18814|\n",
      "|           Current|674110|\n",
      "| Late (16-30 days)|  3363|\n",
      "+------------------+------+\n",
      "\n"
     ]
    }
   ],
   "source": [
    "normalized_df.select(col('loan_status')).groupBy('loan_status').count().show()"
   ]
  },
  {
   "cell_type": "code",
   "execution_count": 58,
   "metadata": {},
   "outputs": [
    {
     "name": "stdout",
     "output_type": "stream",
     "text": [
      "+---------+----------+--------+-----------+-----+--------------------+---------+-----------+\n",
      "|loan_amnt|      term|int_rate|installment|grade|          annual_inc|revol_bal|loan_status|\n",
      "+---------+----------+--------+-----------+-----+--------------------+---------+-----------+\n",
      "|      0.0| 36 months|    5.31|      30.12|    A|4.098360655737705E-4|     3215|    Current|\n",
      "|      0.0| 36 months|    5.31|      30.12|    A|5.081967213114754E-4|    25993| Fully Paid|\n",
      "|      0.0| 36 months|    5.31|      30.12|    A|5.901639344262295E-4|     3311| Fully Paid|\n",
      "|      0.0| 36 months|    5.31|      30.12|    A|6.065573770491804E-4|     1605| Fully Paid|\n",
      "|      0.0| 36 months|    5.31|      30.12|    A|6.557377049180328E-4|     1016| Fully Paid|\n",
      "|      0.0| 36 months|    5.31|      30.12|    A|6.557377049180328E-4|     1329|    Current|\n",
      "|      0.0| 36 months|    5.31|      30.12|    A|7.180327868852459E-4|      804|    Current|\n",
      "|      0.0| 36 months|    5.31|      30.12|    A|9.344262295081968E-4|      858| Fully Paid|\n",
      "|      0.0| 36 months|    5.31|      30.12|    A|0.001557377049180328|     2608| Fully Paid|\n",
      "|      0.0| 36 months|    5.32|      30.12|    A|2.948852459016393E-4|     3092|Charged Off|\n",
      "|      0.0| 36 months|    5.32|      30.12|    A|3.278688524590164E-4|     1059| Fully Paid|\n",
      "|      0.0| 36 months|    5.32|      30.12|    A|3.399344262295082E-4|     4521|Charged Off|\n",
      "|      0.0| 36 months|    5.32|      30.12|    A|4.918032786885246E-4|     5394| Fully Paid|\n",
      "|      0.0| 36 months|    5.32|      30.12|    A|4.918032786885246E-4|     8631|    Current|\n",
      "|      0.0| 36 months|    5.32|      30.12|    A| 5.40983606557377E-4|      464| Fully Paid|\n",
      "|      0.0| 36 months|    5.32|      30.12|    A| 5.40983606557377E-4|     3869|    Current|\n",
      "|      0.0| 36 months|    5.32|      30.12|    A| 5.40983606557377E-4|     3869|    Current|\n",
      "|      0.0| 36 months|    5.32|      30.12|    A| 5.40983606557377E-4|     3869|    Current|\n",
      "|      0.0| 36 months|    5.32|      30.12|    A| 5.40983606557377E-4|     3869|    Current|\n",
      "|      0.0| 36 months|    5.32|      30.12|    A|5.734426229508197E-4|     1277|    Current|\n",
      "+---------+----------+--------+-----------+-----+--------------------+---------+-----------+\n",
      "only showing top 20 rows\n",
      "\n"
     ]
    }
   ],
   "source": [
    "normalized_df.select(['loan_amnt','term','int_rate','installment','grade','annual_inc','revol_bal','loan_status']).\\\n",
    "orderBy(['loan_amnt','term','int_rate','installment','grade','annual_inc']).show()"
   ]
  },
  {
   "cell_type": "code",
   "execution_count": 59,
   "metadata": {},
   "outputs": [
    {
     "name": "stdout",
     "output_type": "stream",
     "text": [
      "+-------+-------------------+--------------------+\n",
      "|summary|          loan_amnt|          annual_inc|\n",
      "+-------+-------------------+--------------------+\n",
      "|  count|            1429645|             1429645|\n",
      "|   mean|0.36837690520448685|0.001329699400788...|\n",
      "| stddev|0.24722695810246717| 0.00220036950900334|\n",
      "|    min|                0.0|                 0.0|\n",
      "|    max|                1.0|                 1.0|\n",
      "+-------+-------------------+--------------------+\n",
      "\n"
     ]
    }
   ],
   "source": [
    "normalized_df.select(['loan_amnt','annual_inc']).describe().show()"
   ]
  },
  {
   "cell_type": "code",
   "execution_count": 60,
   "metadata": {
    "collapsed": true
   },
   "outputs": [],
   "source": [
    "normalized_filtered_df = normalized_df.filter(col('loan_status') == 'Fully Paid').\\\n",
    "union(normalized_df.filter(col('loan_status') == 'Charged Off'))"
   ]
  },
  {
   "cell_type": "code",
   "execution_count": null,
   "metadata": {
    "collapsed": true
   },
   "outputs": [],
   "source": []
  },
  {
   "cell_type": "code",
   "execution_count": 61,
   "metadata": {},
   "outputs": [
    {
     "name": "stdout",
     "output_type": "stream",
     "text": [
      "+-------+-------------------+\n",
      "|summary|          loan_amnt|\n",
      "+-------+-------------------+\n",
      "|  count|             725793|\n",
      "|   mean| 0.3463430432785299|\n",
      "| stddev|0.23682390199294334|\n",
      "|    min|                0.0|\n",
      "|    max|                1.0|\n",
      "+-------+-------------------+\n",
      "\n"
     ]
    }
   ],
   "source": [
    "normalized_filtered_df.select(['loan_amnt']).describe().show()"
   ]
  },
  {
   "cell_type": "code",
   "execution_count": 62,
   "metadata": {
    "collapsed": true
   },
   "outputs": [],
   "source": [
    "data = normalized_filtered_df.repartition(60).cache()"
   ]
  },
  {
   "cell_type": "code",
   "execution_count": 63,
   "metadata": {},
   "outputs": [
    {
     "name": "stdout",
     "output_type": "stream",
     "text": [
      "+-------+-------------------+\n",
      "|summary|          loan_amnt|\n",
      "+-------+-------------------+\n",
      "|  count|             725793|\n",
      "|   mean| 0.3463430432785285|\n",
      "| stddev|0.23682390199294323|\n",
      "|    min|                0.0|\n",
      "|    max|                1.0|\n",
      "+-------+-------------------+\n",
      "\n"
     ]
    }
   ],
   "source": [
    "data.select(['loan_amnt']).describe().show()"
   ]
  },
  {
   "cell_type": "markdown",
   "metadata": {},
   "source": [
    "### Drop Null"
   ]
  },
  {
   "cell_type": "code",
   "execution_count": 64,
   "metadata": {
    "collapsed": true
   },
   "outputs": [],
   "source": [
    "data_no_missing_df = data.dropna(how='any')"
   ]
  },
  {
   "cell_type": "code",
   "execution_count": 65,
   "metadata": {},
   "outputs": [
    {
     "data": {
      "text/plain": [
       "725793"
      ]
     },
     "execution_count": 65,
     "metadata": {},
     "output_type": "execute_result"
    }
   ],
   "source": [
    "data_no_missing_df.count()"
   ]
  },
  {
   "cell_type": "code",
   "execution_count": 66,
   "metadata": {},
   "outputs": [
    {
     "name": "stdout",
     "output_type": "stream",
     "text": [
      "+------------------+\n",
      "|       loan_status|\n",
      "+------------------+\n",
      "|        Fully Paid|\n",
      "|           Default|\n",
      "|   In Grace Period|\n",
      "|       Charged Off|\n",
      "|Late (31-120 days)|\n",
      "|           Current|\n",
      "| Late (16-30 days)|\n",
      "+------------------+\n",
      "\n"
     ]
    }
   ],
   "source": [
    "df_no_missing_cached.select(['loan_status']).distinct().show(100)"
   ]
  },
  {
   "cell_type": "code",
   "execution_count": 67,
   "metadata": {},
   "outputs": [
    {
     "name": "stdout",
     "output_type": "stream",
     "text": [
      "root\n",
      " |-- loan_amnt: double (nullable = true)\n",
      " |-- term: string (nullable = true)\n",
      " |-- int_rate: double (nullable = true)\n",
      " |-- installment: string (nullable = true)\n",
      " |-- grade: string (nullable = true)\n",
      " |-- emp_length: string (nullable = true)\n",
      " |-- home_ownership: string (nullable = true)\n",
      " |-- annual_inc: double (nullable = true)\n",
      " |-- verification_status: string (nullable = true)\n",
      " |-- loan_status: string (nullable = true)\n",
      " |-- purpose: string (nullable = true)\n",
      " |-- addr_state: string (nullable = true)\n",
      " |-- dti: double (nullable = true)\n",
      " |-- delinq_2yrs: string (nullable = true)\n",
      " |-- earliest_cr_line: string (nullable = true)\n",
      " |-- inq_last_6mths: string (nullable = true)\n",
      " |-- open_acc: string (nullable = true)\n",
      " |-- pub_rec: string (nullable = true)\n",
      " |-- revol_bal: string (nullable = true)\n",
      " |-- revol_util: double (nullable = true)\n",
      " |-- total_acc: string (nullable = true)\n",
      " |-- last_credit_pull_d: string (nullable = true)\n",
      "\n"
     ]
    }
   ],
   "source": [
    "data_no_missing_df.printSchema()"
   ]
  },
  {
   "cell_type": "markdown",
   "metadata": {},
   "source": [
    "# 3. Data Modeling"
   ]
  },
  {
   "cell_type": "code",
   "execution_count": 68,
   "metadata": {
    "collapsed": true
   },
   "outputs": [],
   "source": [
    "import pyspark\n",
    "from pyspark.sql import SQLContext\n",
    "from pyspark.sql.types import *\n",
    "from pyspark.ml.feature import OneHotEncoder, StringIndexer\n",
    "from pyspark.ml.feature import VectorAssembler\n",
    "from pyspark.mllib.clustering import KMeans, KMeansModel\n",
    "from pyspark.ml.feature import StringIndexer, VectorAssembler, OneHotEncoder, VectorIndexer\n",
    "from pyspark.ml.tuning import ParamGridBuilder, CrossValidator\n",
    "from pyspark.ml.evaluation import MulticlassClassificationEvaluator, BinaryClassificationEvaluator\n",
    "from pyspark.ml.classification import LogisticRegression, GBTClassifier, NaiveBayes, RandomForestClassifier, DecisionTreeClassifier\n",
    "from pyspark.ml import Pipeline\n",
    "from pyspark.ml.clustering import *"
   ]
  },
  {
   "cell_type": "code",
   "execution_count": 69,
   "metadata": {
    "collapsed": true
   },
   "outputs": [],
   "source": [
    "labelIndexer = StringIndexer(inputCol='loan_status',outputCol='indexedLabel')"
   ]
  },
  {
   "cell_type": "code",
   "execution_count": 70,
   "metadata": {
    "collapsed": true
   },
   "outputs": [],
   "source": [
    "homeIndexer = StringIndexer(inputCol='home_ownership',outputCol='homeIndexed')\n",
    "homeOneHotEncoder = OneHotEncoder(dropLast=False,inputCol='homeIndexed',outputCol='homeVec')"
   ]
  },
  {
   "cell_type": "code",
   "execution_count": 71,
   "metadata": {
    "collapsed": true
   },
   "outputs": [],
   "source": [
    "gradeIndexer = StringIndexer(inputCol='grade',outputCol='gradeIndexed')\n",
    "gradeOneHotEncoder = OneHotEncoder(dropLast=False,inputCol='gradeIndexed',outputCol='gradeVec')"
   ]
  },
  {
   "cell_type": "code",
   "execution_count": 72,
   "metadata": {
    "collapsed": true
   },
   "outputs": [],
   "source": [
    "featureAssembler = VectorAssembler(inputCols=['loan_amnt','int_rate','dti','homeVec','gradeVec'],\\\n",
    "                                   outputCol='***features')"
   ]
  },
  {
   "cell_type": "code",
   "execution_count": 73,
   "metadata": {
    "collapsed": true
   },
   "outputs": [],
   "source": [
    "dt = DecisionTreeClassifier(featuresCol='***features',labelCol='indexedLabel')"
   ]
  },
  {
   "cell_type": "code",
   "execution_count": 74,
   "metadata": {
    "collapsed": true
   },
   "outputs": [],
   "source": [
    "pipeline_dt = Pipeline().setStages([gradeIndexer,gradeOneHotEncoder,\\\n",
    "                                    homeIndexer,homeOneHotEncoder,labelIndexer,featureAssembler,dt])"
   ]
  },
  {
   "cell_type": "code",
   "execution_count": 75,
   "metadata": {},
   "outputs": [
    {
     "name": "stdout",
     "output_type": "stream",
     "text": [
      "+-------+-------------------+\n",
      "|summary|          loan_amnt|\n",
      "+-------+-------------------+\n",
      "|  count|             725793|\n",
      "|   mean|0.34634304327852844|\n",
      "| stddev|0.23682390199294323|\n",
      "|    min|                0.0|\n",
      "|    max|                1.0|\n",
      "+-------+-------------------+\n",
      "\n"
     ]
    }
   ],
   "source": [
    "data_no_missing_df.select(['loan_amnt']).describe().show()"
   ]
  },
  {
   "cell_type": "code",
   "execution_count": 76,
   "metadata": {
    "collapsed": true
   },
   "outputs": [],
   "source": [
    "training , test = data_no_missing_df.randomSplit([0.6,0.4])"
   ]
  },
  {
   "cell_type": "code",
   "execution_count": 77,
   "metadata": {
    "collapsed": true
   },
   "outputs": [],
   "source": [
    "model1 = pipeline_dt.fit(training)"
   ]
  },
  {
   "cell_type": "code",
   "execution_count": 78,
   "metadata": {},
   "outputs": [
    {
     "name": "stdout",
     "output_type": "stream",
     "text": [
      "+-------+-------------------+------------------+------------------+--------------+------+\n",
      "|summary|          loan_amnt|          int_rate|               dti|home_ownership| grade|\n",
      "+-------+-------------------+------------------+------------------+--------------+------+\n",
      "|  count|             434960|            434960|            434960|        434960|434960|\n",
      "|   mean| 0.3461923421782374|13.215111067685006|18.710918406290233|          null|  null|\n",
      "| stddev|0.23685318932060942| 5.158257266556698|13.392276063257604|          null|  null|\n",
      "|    min|                0.0|              5.31|              -1.0|           ANY|     A|\n",
      "|    max|                1.0|             30.99|             999.0|          RENT|     G|\n",
      "+-------+-------------------+------------------+------------------+--------------+------+\n",
      "\n"
     ]
    }
   ],
   "source": [
    "training.select(['loan_amnt','int_rate','dti','home_ownership','grade']).describe().show()"
   ]
  },
  {
   "cell_type": "code",
   "execution_count": 79,
   "metadata": {},
   "outputs": [
    {
     "name": "stdout",
     "output_type": "stream",
     "text": [
      "+---------+--------+-----+--------------+-----+\n",
      "|loan_amnt|int_rate|  dti|home_ownership|grade|\n",
      "+---------+--------+-----+--------------+-----+\n",
      "|      0.0|    6.97|12.47|      MORTGAGE|    A|\n",
      "|      0.0|    6.99| 5.52|          RENT|    A|\n",
      "|      0.0|    7.02|10.64|          RENT|    A|\n",
      "|      0.0|    7.21|19.47|          RENT|    A|\n",
      "|      0.0|    7.39|  4.8|          RENT|    A|\n",
      "|      0.0|    7.97| 8.42|      MORTGAGE|    A|\n",
      "|      0.0|    7.99|16.84|      MORTGAGE|    A|\n",
      "|      0.0|    8.24|10.85|      MORTGAGE|    B|\n",
      "|      0.0|    8.24| 2.46|          RENT|    B|\n",
      "|      0.0|    9.43| 11.5|          RENT|    B|\n",
      "|      0.0|    9.49|27.53|      MORTGAGE|    B|\n",
      "|      0.0|   10.08|14.88|          RENT|    B|\n",
      "|      0.0|   10.49|13.24|      MORTGAGE|    B|\n",
      "|      0.0|   11.39|20.65|          RENT|    B|\n",
      "|      0.0|   11.49|26.24|          RENT|    B|\n",
      "|      0.0|   11.49| 8.58|          RENT|    B|\n",
      "|      0.0|   11.49|12.66|           OWN|    B|\n",
      "|      0.0|   11.98|14.72|          RENT|    B|\n",
      "|      0.0|   11.99|14.86|          RENT|    C|\n",
      "|      0.0|   12.61|14.61|          RENT|    C|\n",
      "+---------+--------+-----+--------------+-----+\n",
      "only showing top 20 rows\n",
      "\n"
     ]
    }
   ],
   "source": [
    "training.select(['loan_amnt','int_rate','dti','home_ownership','grade']).show()"
   ]
  },
  {
   "cell_type": "code",
   "execution_count": null,
   "metadata": {
    "collapsed": true
   },
   "outputs": [],
   "source": []
  },
  {
   "cell_type": "code",
   "execution_count": null,
   "metadata": {
    "collapsed": true
   },
   "outputs": [],
   "source": []
  },
  {
   "cell_type": "code",
   "execution_count": null,
   "metadata": {
    "collapsed": true
   },
   "outputs": [],
   "source": []
  },
  {
   "cell_type": "markdown",
   "metadata": {},
   "source": [
    "# 4. Evaluation of Models"
   ]
  },
  {
   "cell_type": "code",
   "execution_count": 80,
   "metadata": {
    "collapsed": true
   },
   "outputs": [],
   "source": [
    "result = model1.transform(test)"
   ]
  },
  {
   "cell_type": "code",
   "execution_count": null,
   "metadata": {
    "collapsed": true,
    "scrolled": true
   },
   "outputs": [],
   "source": []
  },
  {
   "cell_type": "code",
   "execution_count": 81,
   "metadata": {},
   "outputs": [
    {
     "data": {
      "text/plain": [
       "290833"
      ]
     },
     "execution_count": 81,
     "metadata": {},
     "output_type": "execute_result"
    }
   ],
   "source": [
    "test.count()"
   ]
  },
  {
   "cell_type": "code",
   "execution_count": 82,
   "metadata": {},
   "outputs": [
    {
     "data": {
      "text/plain": [
       "434960"
      ]
     },
     "execution_count": 82,
     "metadata": {},
     "output_type": "execute_result"
    }
   ],
   "source": [
    "training.count()"
   ]
  },
  {
   "cell_type": "code",
   "execution_count": 83,
   "metadata": {},
   "outputs": [
    {
     "name": "stdout",
     "output_type": "stream",
     "text": [
      "+-----------+------+\n",
      "|loan_status| count|\n",
      "+-----------+------+\n",
      "| Fully Paid|343652|\n",
      "|Charged Off| 91308|\n",
      "+-----------+------+\n",
      "\n"
     ]
    }
   ],
   "source": [
    "training.groupBy('loan_status').count().show()"
   ]
  },
  {
   "cell_type": "code",
   "execution_count": 84,
   "metadata": {},
   "outputs": [
    {
     "data": {
      "text/plain": [
       "343652"
      ]
     },
     "execution_count": 84,
     "metadata": {},
     "output_type": "execute_result"
    }
   ],
   "source": [
    "training.filter(training.loan_status == 'Fully Paid').count()"
   ]
  },
  {
   "cell_type": "code",
   "execution_count": 85,
   "metadata": {},
   "outputs": [
    {
     "data": {
      "text/plain": [
       "91308"
      ]
     },
     "execution_count": 85,
     "metadata": {},
     "output_type": "execute_result"
    }
   ],
   "source": [
    "training.filter(training.loan_status == 'Charged Off').count()"
   ]
  },
  {
   "cell_type": "code",
   "execution_count": 86,
   "metadata": {},
   "outputs": [
    {
     "name": "stdout",
     "output_type": "stream",
     "text": [
      "+-----------+------------+----------+\n",
      "|loan_status|indexedLabel|prediction|\n",
      "+-----------+------------+----------+\n",
      "|Charged Off|         1.0|       0.0|\n",
      "|Charged Off|         1.0|       0.0|\n",
      "|Charged Off|         1.0|       0.0|\n",
      "|Charged Off|         1.0|       0.0|\n",
      "|Charged Off|         1.0|       0.0|\n",
      "|Charged Off|         1.0|       0.0|\n",
      "|Charged Off|         1.0|       0.0|\n",
      "|Charged Off|         1.0|       0.0|\n",
      "|Charged Off|         1.0|       0.0|\n",
      "|Charged Off|         1.0|       0.0|\n",
      "+-----------+------------+----------+\n",
      "only showing top 10 rows\n",
      "\n"
     ]
    }
   ],
   "source": [
    "result.select('loan_status','indexedLabel','prediction').filter(result.loan_status != 'Fully Paid').show(10)"
   ]
  },
  {
   "cell_type": "code",
   "execution_count": 87,
   "metadata": {},
   "outputs": [
    {
     "data": {
      "text/plain": [
       "61509"
      ]
     },
     "execution_count": 87,
     "metadata": {},
     "output_type": "execute_result"
    }
   ],
   "source": [
    "result.select('loan_status','indexedLabel','prediction').filter(result.loan_status != 'Fully Paid').count()"
   ]
  },
  {
   "cell_type": "code",
   "execution_count": 88,
   "metadata": {},
   "outputs": [
    {
     "data": {
      "text/plain": [
       "4273"
      ]
     },
     "execution_count": 88,
     "metadata": {},
     "output_type": "execute_result"
    }
   ],
   "source": [
    "result.select('loan_status','indexedLabel','prediction').filter(result.loan_status != 'Fully Paid').\\\n",
    "filter(result.indexedLabel == result.prediction).count()"
   ]
  },
  {
   "cell_type": "code",
   "execution_count": 89,
   "metadata": {},
   "outputs": [
    {
     "data": {
      "text/plain": [
       "57236"
      ]
     },
     "execution_count": 89,
     "metadata": {},
     "output_type": "execute_result"
    }
   ],
   "source": [
    "result.select('loan_status','indexedLabel','prediction').filter(result.loan_status != 'Fully Paid').\\\n",
    "filter(result.indexedLabel != result.prediction).count()"
   ]
  },
  {
   "cell_type": "code",
   "execution_count": 90,
   "metadata": {},
   "outputs": [
    {
     "name": "stdout",
     "output_type": "stream",
     "text": [
      "+-----------+------------+----------+\n",
      "|loan_status|indexedLabel|prediction|\n",
      "+-----------+------------+----------+\n",
      "| Fully Paid|         0.0|       0.0|\n",
      "| Fully Paid|         0.0|       0.0|\n",
      "| Fully Paid|         0.0|       0.0|\n",
      "| Fully Paid|         0.0|       0.0|\n",
      "| Fully Paid|         0.0|       0.0|\n",
      "| Fully Paid|         0.0|       0.0|\n",
      "| Fully Paid|         0.0|       0.0|\n",
      "| Fully Paid|         0.0|       0.0|\n",
      "| Fully Paid|         0.0|       0.0|\n",
      "| Fully Paid|         0.0|       0.0|\n",
      "| Fully Paid|         0.0|       0.0|\n",
      "| Fully Paid|         0.0|       0.0|\n",
      "| Fully Paid|         0.0|       0.0|\n",
      "| Fully Paid|         0.0|       0.0|\n",
      "| Fully Paid|         0.0|       0.0|\n",
      "| Fully Paid|         0.0|       0.0|\n",
      "| Fully Paid|         0.0|       0.0|\n",
      "| Fully Paid|         0.0|       0.0|\n",
      "| Fully Paid|         0.0|       0.0|\n",
      "| Fully Paid|         0.0|       0.0|\n",
      "+-----------+------------+----------+\n",
      "only showing top 20 rows\n",
      "\n"
     ]
    }
   ],
   "source": [
    "result.select('loan_status','indexedLabel','prediction').filter(result.loan_status == 'Fully Paid').show(20)"
   ]
  },
  {
   "cell_type": "code",
   "execution_count": 91,
   "metadata": {},
   "outputs": [
    {
     "data": {
      "text/plain": [
       "3994"
      ]
     },
     "execution_count": 91,
     "metadata": {},
     "output_type": "execute_result"
    }
   ],
   "source": [
    "result.select('loan_status','indexedLabel','prediction').filter(result.indexedLabel != result.prediction).\\\n",
    "filter(result.loan_status == 'Fully Paid').count()"
   ]
  },
  {
   "cell_type": "code",
   "execution_count": 92,
   "metadata": {},
   "outputs": [
    {
     "data": {
      "text/plain": [
       "57236"
      ]
     },
     "execution_count": 92,
     "metadata": {},
     "output_type": "execute_result"
    }
   ],
   "source": [
    "result.select('loan_status','indexedLabel','prediction').filter(result.indexedLabel != result.prediction).filter(result.loan_status == 'Charged Off').count()"
   ]
  },
  {
   "cell_type": "markdown",
   "metadata": {
    "collapsed": true
   },
   "source": [
    "## Calculation for Confusion Matrix."
   ]
  },
  {
   "cell_type": "code",
   "execution_count": 93,
   "metadata": {
    "collapsed": true
   },
   "outputs": [],
   "source": [
    "def eval_metrics(lap):\n",
    "\n",
    "    tp = float(len(lap[(lap['indexedLabel']==0) & (lap['prediction']==0)]))\n",
    "\n",
    "    tn = float(len(lap[(lap['indexedLabel']==1) & (lap['prediction']==1)]))\n",
    "\n",
    "    fp = float(len(lap[(lap['indexedLabel']==1) & (lap['prediction']==0)]))\n",
    "\n",
    "    fn = float(len(lap[(lap['indexedLabel']==0) & (lap['prediction']==1)]))\n",
    "\n",
    "    positivepredictivevalue = tp / (tp+fp)\n",
    "    negativepredictivevalue = tn / (tn+fn)\n",
    "\n",
    "    sensitivity = tp / (tp+fn)\n",
    "    specificity = tn / (tn+fp)\n",
    "\n",
    "    accuracy = (tp+tn) / (tp+tn+fp+fn)\n",
    "\n",
    "    return {'PPV': positivepredictivevalue, 'NPV':negativepredictivevalue,'Sensitivity': sensitivity, 'Specificity': specificity, 'Accuracy': accuracy}"
   ]
  },
  {
   "cell_type": "code",
   "execution_count": 94,
   "metadata": {},
   "outputs": [
    {
     "name": "stdout",
     "output_type": "stream",
     "text": [
      "Requirement already satisfied: pandas in /opt/conda/lib/python3.6/site-packages (0.25.1)\r\n",
      "Requirement already satisfied: pytz>=2017.2 in /opt/conda/lib/python3.6/site-packages (from pandas) (2019.3)\r\n",
      "Requirement already satisfied: numpy>=1.13.3 in /opt/conda/lib/python3.6/site-packages (from pandas) (1.17.2)\r\n",
      "Requirement already satisfied: python-dateutil>=2.6.1 in /opt/conda/lib/python3.6/site-packages (from pandas) (2.8.0)\r\n",
      "Requirement already satisfied: six>=1.5 in /opt/conda/lib/python3.6/site-packages (from python-dateutil>=2.6.1->pandas) (1.12.0)\r\n"
     ]
    }
   ],
   "source": [
    "! pip install pandas"
   ]
  },
  {
   "cell_type": "code",
   "execution_count": 95,
   "metadata": {
    "collapsed": true
   },
   "outputs": [],
   "source": [
    "lap = result.select(\"indexedLabel\", \"prediction\").toPandas()"
   ]
  },
  {
   "cell_type": "code",
   "execution_count": 96,
   "metadata": {
    "collapsed": true
   },
   "outputs": [],
   "source": [
    "m = eval_metrics(lap)"
   ]
  },
  {
   "cell_type": "code",
   "execution_count": 97,
   "metadata": {},
   "outputs": [
    {
     "data": {
      "text/plain": [
       "{'PPV': 0.7974420135472774,\n",
       " 'NPV': 0.5168743195838877,\n",
       " 'Sensitivity': 0.9825835935183409,\n",
       " 'Specificity': 0.0694695085272074,\n",
       " 'Accuracy': 0.7894668074118136}"
      ]
     },
     "execution_count": 97,
     "metadata": {},
     "output_type": "execute_result"
    }
   ],
   "source": [
    "m"
   ]
  },
  {
   "cell_type": "code",
   "execution_count": 98,
   "metadata": {
    "collapsed": true
   },
   "outputs": [],
   "source": [
    "tp = float(len(lap[(lap['indexedLabel']==0) & (lap['prediction']==0)])) #tp - Full paid"
   ]
  },
  {
   "cell_type": "code",
   "execution_count": 99,
   "metadata": {
    "collapsed": true
   },
   "outputs": [],
   "source": [
    "tn = float(len(lap[(lap['indexedLabel']==1) & (lap['prediction']==1)])) #tn - Charged off"
   ]
  },
  {
   "cell_type": "code",
   "execution_count": 100,
   "metadata": {
    "collapsed": true
   },
   "outputs": [],
   "source": [
    "fp = float(len(lap[(lap['indexedLabel']==1) & (lap['prediction']==0)])) #fp"
   ]
  },
  {
   "cell_type": "code",
   "execution_count": 101,
   "metadata": {
    "collapsed": true
   },
   "outputs": [],
   "source": [
    "fn = float(len(lap[(lap['indexedLabel']==0) & (lap['prediction']==1)])) #fn"
   ]
  },
  {
   "cell_type": "code",
   "execution_count": 102,
   "metadata": {},
   "outputs": [
    {
     "name": "stdout",
     "output_type": "stream",
     "text": [
      "Requirement already satisfied: plotly in /opt/conda/lib/python3.6/site-packages (4.1.1)\n",
      "Requirement already satisfied: retrying>=1.3.3 in /opt/conda/lib/python3.6/site-packages (from plotly) (1.3.3)\n",
      "Requirement already satisfied: six in /opt/conda/lib/python3.6/site-packages (from plotly) (1.12.0)\n"
     ]
    }
   ],
   "source": [
    "! pip install plotly"
   ]
  },
  {
   "cell_type": "code",
   "execution_count": 103,
   "metadata": {},
   "outputs": [
    {
     "name": "stdout",
     "output_type": "stream",
     "text": [
      "Requirement already satisfied: chart-studio in /opt/conda/lib/python3.6/site-packages (1.0.0)\n",
      "Requirement already satisfied: plotly in /opt/conda/lib/python3.6/site-packages (from chart-studio) (4.1.1)\n",
      "Requirement already satisfied: six in /opt/conda/lib/python3.6/site-packages (from chart-studio) (1.12.0)\n",
      "Requirement already satisfied: requests in /opt/conda/lib/python3.6/site-packages (from chart-studio) (2.18.4)\n",
      "Requirement already satisfied: retrying>=1.3.3 in /opt/conda/lib/python3.6/site-packages (from chart-studio) (1.3.3)\n",
      "Requirement already satisfied: chardet<3.1.0,>=3.0.2 in /opt/conda/lib/python3.6/site-packages (from requests->chart-studio) (3.0.4)\n",
      "Requirement already satisfied: idna<2.7,>=2.5 in /opt/conda/lib/python3.6/site-packages (from requests->chart-studio) (2.6)\n",
      "Requirement already satisfied: urllib3<1.23,>=1.21.1 in /opt/conda/lib/python3.6/site-packages (from requests->chart-studio) (1.22)\n",
      "Requirement already satisfied: certifi>=2017.4.17 in /opt/conda/lib/python3.6/site-packages (from requests->chart-studio) (2019.9.11)\n"
     ]
    }
   ],
   "source": [
    "! pip install chart-studio"
   ]
  },
  {
   "cell_type": "code",
   "execution_count": 104,
   "metadata": {
    "collapsed": true
   },
   "outputs": [],
   "source": [
    "import chart_studio.plotly as py\n",
    "py.sign_in('grizzly', 'MHH5wgaO3T1lxbUFgeT5')\n",
    "from plotly.graph_objs import *\n",
    "import plotly.graph_objs as go\n",
    "import pandas as pd\n",
    "import requests\n",
    "requests.packages.urllib3.disable_warnings()"
   ]
  },
  {
   "cell_type": "code",
   "execution_count": 105,
   "metadata": {},
   "outputs": [
    {
     "name": "stdout",
     "output_type": "stream",
     "text": [
      "ls: cannot access 'images/confusion_matrix.png': No such file or directory\r\n"
     ]
    }
   ],
   "source": [
    "! ls images/confusion_matrix.png"
   ]
  },
  {
   "cell_type": "code",
   "execution_count": 106,
   "metadata": {},
   "outputs": [
    {
     "name": "stdout",
     "output_type": "stream",
     "text": [
      "/bin/sh: 1: Syntax error: word unexpected (expecting \")\")\r\n"
     ]
    }
   ],
   "source": [
    "![title](images/confusion_matrix.png)"
   ]
  },
  {
   "cell_type": "code",
   "execution_count": 107,
   "metadata": {},
   "outputs": [
    {
     "name": "stdout",
     "output_type": "stream",
     "text": [
      "+-----------+------------+------+\n",
      "|loan_status|indexedLabel| count|\n",
      "+-----------+------------+------+\n",
      "| Fully Paid|         0.0|343652|\n",
      "|Charged Off|         1.0| 91308|\n",
      "+-----------+------------+------+\n",
      "\n"
     ]
    }
   ],
   "source": [
    "labelIndexer.fit(training).transform(training).\\\n",
    "select(['loan_status','indexedLabel']).groupBy(['loan_status','indexedLabel']).count().show()"
   ]
  },
  {
   "cell_type": "code",
   "execution_count": 108,
   "metadata": {},
   "outputs": [
    {
     "name": "stdout",
     "output_type": "stream",
     "text": [
      "+-----------+------------+------+\n",
      "|loan_status|indexedLabel| count|\n",
      "+-----------+------------+------+\n",
      "| Fully Paid|         0.0|229324|\n",
      "|Charged Off|         1.0| 61509|\n",
      "+-----------+------------+------+\n",
      "\n"
     ]
    }
   ],
   "source": [
    "labelIndexer.fit(test).transform(test).\\\n",
    "select(['loan_status','indexedLabel']).groupBy(['loan_status','indexedLabel']).count().show()"
   ]
  },
  {
   "cell_type": "markdown",
   "metadata": {},
   "source": [
    "## 0: Positive: Fully Paid, 1: Negative: Charged Off"
   ]
  },
  {
   "cell_type": "code",
   "execution_count": 109,
   "metadata": {},
   "outputs": [
    {
     "name": "stdout",
     "output_type": "stream",
     "text": [
      "Found 1 items\r\n",
      "drwxr-xr-x   - root hadoop          0 2019-10-11 15:39 /user/root/datacruncher/loan\r\n"
     ]
    }
   ],
   "source": [
    "! hdfs dfs -ls /user/root/datacruncher"
   ]
  },
  {
   "cell_type": "code",
   "execution_count": null,
   "metadata": {
    "collapsed": true
   },
   "outputs": [],
   "source": []
  },
  {
   "cell_type": "code",
   "execution_count": 110,
   "metadata": {},
   "outputs": [
    {
     "data": {
      "text/plain": [
       "434960"
      ]
     },
     "execution_count": 110,
     "metadata": {},
     "output_type": "execute_result"
    }
   ],
   "source": [
    "training.count()"
   ]
  },
  {
   "cell_type": "code",
   "execution_count": 111,
   "metadata": {},
   "outputs": [
    {
     "data": {
      "text/plain": [
       "290833"
      ]
     },
     "execution_count": 111,
     "metadata": {},
     "output_type": "execute_result"
    }
   ],
   "source": [
    "test.count()"
   ]
  },
  {
   "cell_type": "code",
   "execution_count": 112,
   "metadata": {},
   "outputs": [
    {
     "name": "stdout",
     "output_type": "stream",
     "text": [
      "+------------+----------+\n",
      "|indexedLabel|prediction|\n",
      "+------------+----------+\n",
      "|         0.0|       0.0|\n",
      "|         0.0|       0.0|\n",
      "|         0.0|       0.0|\n",
      "|         1.0|       0.0|\n",
      "|         0.0|       0.0|\n",
      "|         0.0|       0.0|\n",
      "|         0.0|       0.0|\n",
      "|         0.0|       0.0|\n",
      "|         0.0|       0.0|\n",
      "|         0.0|       0.0|\n",
      "|         0.0|       0.0|\n",
      "|         0.0|       0.0|\n",
      "|         0.0|       0.0|\n",
      "|         0.0|       0.0|\n",
      "|         0.0|       0.0|\n",
      "|         0.0|       0.0|\n",
      "|         0.0|       0.0|\n",
      "|         0.0|       0.0|\n",
      "|         0.0|       0.0|\n",
      "|         0.0|       0.0|\n",
      "+------------+----------+\n",
      "only showing top 20 rows\n",
      "\n"
     ]
    }
   ],
   "source": [
    "result.select([\"indexedLabel\", \"prediction\"]).show()"
   ]
  },
  {
   "cell_type": "code",
   "execution_count": 113,
   "metadata": {},
   "outputs": [
    {
     "data": {
      "text/plain": [
       "(225330.0, 57236.0)"
      ]
     },
     "execution_count": 113,
     "metadata": {},
     "output_type": "execute_result"
    }
   ],
   "source": [
    "tp, fp"
   ]
  },
  {
   "cell_type": "code",
   "execution_count": 114,
   "metadata": {},
   "outputs": [
    {
     "data": {
      "text/plain": [
       "(4273.0, 3994.0)"
      ]
     },
     "execution_count": 114,
     "metadata": {},
     "output_type": "execute_result"
    }
   ],
   "source": [
    "tn, fn"
   ]
  },
  {
   "cell_type": "code",
   "execution_count": null,
   "metadata": {
    "collapsed": true
   },
   "outputs": [],
   "source": []
  },
  {
   "cell_type": "code",
   "execution_count": 115,
   "metadata": {},
   "outputs": [
    {
     "name": "stdout",
     "output_type": "stream",
     "text": [
      "Requirement already satisfied: sklearn in /opt/conda/lib/python3.6/site-packages (0.0)\r\n",
      "Requirement already satisfied: scikit-learn in /opt/conda/lib/python3.6/site-packages (from sklearn) (0.21.3)\r\n",
      "Requirement already satisfied: numpy>=1.11.0 in /opt/conda/lib/python3.6/site-packages (from scikit-learn->sklearn) (1.17.2)\r\n",
      "Requirement already satisfied: joblib>=0.11 in /opt/conda/lib/python3.6/site-packages (from scikit-learn->sklearn) (0.14.0)\r\n",
      "Requirement already satisfied: scipy>=0.17.0 in /opt/conda/lib/python3.6/site-packages (from scikit-learn->sklearn) (1.3.1)\r\n"
     ]
    }
   ],
   "source": [
    "! pip install sklearn"
   ]
  },
  {
   "cell_type": "code",
   "execution_count": 116,
   "metadata": {},
   "outputs": [
    {
     "name": "stdout",
     "output_type": "stream",
     "text": [
      "Requirement already satisfied: scipy in /opt/conda/lib/python3.6/site-packages (1.3.1)\r\n",
      "Requirement already satisfied: numpy>=1.13.3 in /opt/conda/lib/python3.6/site-packages (from scipy) (1.17.2)\r\n"
     ]
    }
   ],
   "source": [
    "! pip install scipy"
   ]
  },
  {
   "cell_type": "code",
   "execution_count": 117,
   "metadata": {
    "collapsed": true
   },
   "outputs": [],
   "source": [
    "f_status = udf(lambda x: status_name(x), StringType())"
   ]
  },
  {
   "cell_type": "code",
   "execution_count": 120,
   "metadata": {
    "collapsed": true
   },
   "outputs": [],
   "source": [
    "#model1.write().overwrite().save('gs://grizzly-gkbm/loanpayment/')"
   ]
  },
  {
   "cell_type": "code",
   "execution_count": null,
   "metadata": {
    "collapsed": true
   },
   "outputs": [],
   "source": []
  },
  {
   "cell_type": "code",
   "execution_count": null,
   "metadata": {
    "collapsed": true
   },
   "outputs": [],
   "source": []
  },
  {
   "cell_type": "code",
   "execution_count": null,
   "metadata": {
    "collapsed": true
   },
   "outputs": [],
   "source": []
  },
  {
   "cell_type": "code",
   "execution_count": null,
   "metadata": {
    "collapsed": true
   },
   "outputs": [],
   "source": []
  },
  {
   "cell_type": "code",
   "execution_count": null,
   "metadata": {
    "collapsed": true
   },
   "outputs": [],
   "source": []
  }
 ],
 "metadata": {
  "anaconda-cloud": {},
  "kernelspec": {
   "display_name": "Python 3",
   "language": "python",
   "name": "python3"
  },
  "language_info": {
   "codemirror_mode": {
    "name": "ipython",
    "version": 3
   },
   "file_extension": ".py",
   "mimetype": "text/x-python",
   "name": "python",
   "nbconvert_exporter": "python",
   "pygments_lexer": "ipython3",
   "version": "3.6.1"
  }
 },
 "nbformat": 4,
 "nbformat_minor": 1
}
