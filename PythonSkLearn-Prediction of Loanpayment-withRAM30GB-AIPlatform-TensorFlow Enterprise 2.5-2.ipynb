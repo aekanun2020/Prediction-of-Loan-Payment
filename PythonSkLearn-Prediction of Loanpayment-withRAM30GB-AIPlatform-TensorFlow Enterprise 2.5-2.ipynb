{
 "cells": [
  {
   "cell_type": "code",
   "execution_count": 1,
   "id": "8dae7058",
   "metadata": {},
   "outputs": [
    {
     "name": "stdout",
     "output_type": "stream",
     "text": [
      "'PythonSkLearn-Prediction of Loanpayment-withRAM30GB-AIPlatform-TensorFlow Enterprise 2.5.ipynb'\n",
      " accepted_2007_to_2018Q4.csv\n",
      " rejected_2007_to_2018Q4.csv\n",
      " src\n",
      " tutorials\n"
     ]
    }
   ],
   "source": [
    "! ls"
   ]
  },
  {
   "cell_type": "code",
   "execution_count": 2,
   "id": "3e159fed",
   "metadata": {},
   "outputs": [
    {
     "name": "stdout",
     "output_type": "stream",
     "text": [
      "Copying gs://aekanunlab/lendingclubkaggle/accepted_2007_to_2018Q4.csv...\n",
      "Copying gs://aekanunlab/lendingclubkaggle/rejected_2007_to_2018Q4.csv...        \n",
      "| [2 files][  3.2 GiB/  3.2 GiB]  164.2 MiB/s                                   \n",
      "Operation completed over 2 objects/3.2 GiB.                                      \n"
     ]
    }
   ],
   "source": [
    "! gsutil cp gs://aekanunlab/lendingclubkaggle/* ./"
   ]
  },
  {
   "cell_type": "code",
   "execution_count": 3,
   "id": "68d8fd1a",
   "metadata": {},
   "outputs": [],
   "source": [
    "import numpy as np\n",
    "import scipy as sp\n",
    "import pandas as pd\n",
    "import matplotlib as mpl\n",
    "import matplotlib.pyplot as plt\n",
    "import seaborn as sns\n",
    "\n",
    "# Pandas options\n",
    "pd.set_option('display.max_colwidth', 1000, 'display.max_rows', None, 'display.max_columns', None)\n",
    "\n",
    "# Plotting options\n",
    "%matplotlib inline\n",
    "mpl.style.use('ggplot')\n",
    "sns.set(style='whitegrid')"
   ]
  },
  {
   "cell_type": "code",
   "execution_count": 4,
   "id": "6ae9e78f",
   "metadata": {},
   "outputs": [
    {
     "name": "stdout",
     "output_type": "stream",
     "text": [
      "/home/jupyter\n"
     ]
    }
   ],
   "source": [
    "! pwd"
   ]
  },
  {
   "cell_type": "code",
   "execution_count": 5,
   "id": "e4b0665c",
   "metadata": {},
   "outputs": [
    {
     "name": "stderr",
     "output_type": "stream",
     "text": [
      "/opt/conda/lib/python3.7/site-packages/IPython/core/interactiveshell.py:3441: DtypeWarning: Columns (0,19,49,59,118,129,130,131,134,135,136,139,145,146,147) have mixed types.Specify dtype option on import or set low_memory=False.\n",
      "  exec(code_obj, self.user_global_ns, self.user_ns)\n"
     ]
    }
   ],
   "source": [
    "loans = pd.read_csv('accepted_2007_to_2018Q4.csv')"
   ]
  },
  {
   "cell_type": "code",
   "execution_count": 6,
   "id": "09d93282",
   "metadata": {},
   "outputs": [
    {
     "name": "stdout",
     "output_type": "stream",
     "text": [
      "<class 'pandas.core.frame.DataFrame'>\n",
      "RangeIndex: 2260701 entries, 0 to 2260700\n",
      "Columns: 151 entries, id to settlement_term\n",
      "dtypes: float64(113), object(38)\n",
      "memory usage: 2.5+ GB\n"
     ]
    }
   ],
   "source": [
    "loans.info()"
   ]
  },
  {
   "cell_type": "code",
   "execution_count": 7,
   "id": "58c98775",
   "metadata": {},
   "outputs": [
    {
     "data": {
      "text/html": [
       "<div>\n",
       "<style scoped>\n",
       "    .dataframe tbody tr th:only-of-type {\n",
       "        vertical-align: middle;\n",
       "    }\n",
       "\n",
       "    .dataframe tbody tr th {\n",
       "        vertical-align: top;\n",
       "    }\n",
       "\n",
       "    .dataframe thead th {\n",
       "        text-align: right;\n",
       "    }\n",
       "</style>\n",
       "<table border=\"1\" class=\"dataframe\">\n",
       "  <thead>\n",
       "    <tr style=\"text-align: right;\">\n",
       "      <th></th>\n",
       "      <th>1833105</th>\n",
       "      <th>699552</th>\n",
       "      <th>497060</th>\n",
       "      <th>1291601</th>\n",
       "      <th>1433817</th>\n",
       "    </tr>\n",
       "  </thead>\n",
       "  <tbody>\n",
       "    <tr>\n",
       "      <th>id</th>\n",
       "      <td>5773132</td>\n",
       "      <td>78819950</td>\n",
       "      <td>126625302</td>\n",
       "      <td>14678544</td>\n",
       "      <td>142903250</td>\n",
       "    </tr>\n",
       "    <tr>\n",
       "      <th>member_id</th>\n",
       "      <td>NaN</td>\n",
       "      <td>NaN</td>\n",
       "      <td>NaN</td>\n",
       "      <td>NaN</td>\n",
       "      <td>NaN</td>\n",
       "    </tr>\n",
       "    <tr>\n",
       "      <th>loan_amnt</th>\n",
       "      <td>16000.0</td>\n",
       "      <td>11000.0</td>\n",
       "      <td>9200.0</td>\n",
       "      <td>13200.0</td>\n",
       "      <td>4000.0</td>\n",
       "    </tr>\n",
       "    <tr>\n",
       "      <th>funded_amnt</th>\n",
       "      <td>16000.0</td>\n",
       "      <td>11000.0</td>\n",
       "      <td>9200.0</td>\n",
       "      <td>13200.0</td>\n",
       "      <td>4000.0</td>\n",
       "    </tr>\n",
       "    <tr>\n",
       "      <th>funded_amnt_inv</th>\n",
       "      <td>16000.0</td>\n",
       "      <td>11000.0</td>\n",
       "      <td>9200.0</td>\n",
       "      <td>13200.0</td>\n",
       "      <td>4000.0</td>\n",
       "    </tr>\n",
       "    <tr>\n",
       "      <th>term</th>\n",
       "      <td>36 months</td>\n",
       "      <td>36 months</td>\n",
       "      <td>36 months</td>\n",
       "      <td>60 months</td>\n",
       "      <td>36 months</td>\n",
       "    </tr>\n",
       "    <tr>\n",
       "      <th>int_rate</th>\n",
       "      <td>10.16</td>\n",
       "      <td>6.49</td>\n",
       "      <td>7.97</td>\n",
       "      <td>13.65</td>\n",
       "      <td>7.21</td>\n",
       "    </tr>\n",
       "    <tr>\n",
       "      <th>installment</th>\n",
       "      <td>517.48</td>\n",
       "      <td>337.09</td>\n",
       "      <td>288.17</td>\n",
       "      <td>304.76</td>\n",
       "      <td>123.9</td>\n",
       "    </tr>\n",
       "    <tr>\n",
       "      <th>grade</th>\n",
       "      <td>B</td>\n",
       "      <td>A</td>\n",
       "      <td>A</td>\n",
       "      <td>C</td>\n",
       "      <td>A</td>\n",
       "    </tr>\n",
       "    <tr>\n",
       "      <th>sub_grade</th>\n",
       "      <td>B1</td>\n",
       "      <td>A2</td>\n",
       "      <td>A5</td>\n",
       "      <td>C1</td>\n",
       "      <td>A3</td>\n",
       "    </tr>\n",
       "    <tr>\n",
       "      <th>emp_title</th>\n",
       "      <td>Intricity, LLC.</td>\n",
       "      <td>pressman</td>\n",
       "      <td>registered dietitian</td>\n",
       "      <td>Security Officer</td>\n",
       "      <td>Clinical Manufacturing Manager</td>\n",
       "    </tr>\n",
       "    <tr>\n",
       "      <th>emp_length</th>\n",
       "      <td>6 years</td>\n",
       "      <td>7 years</td>\n",
       "      <td>2 years</td>\n",
       "      <td>10+ years</td>\n",
       "      <td>2 years</td>\n",
       "    </tr>\n",
       "    <tr>\n",
       "      <th>home_ownership</th>\n",
       "      <td>MORTGAGE</td>\n",
       "      <td>MORTGAGE</td>\n",
       "      <td>OWN</td>\n",
       "      <td>MORTGAGE</td>\n",
       "      <td>RENT</td>\n",
       "    </tr>\n",
       "    <tr>\n",
       "      <th>annual_inc</th>\n",
       "      <td>130000.0</td>\n",
       "      <td>75000.0</td>\n",
       "      <td>56000.0</td>\n",
       "      <td>60000.0</td>\n",
       "      <td>97000.0</td>\n",
       "    </tr>\n",
       "    <tr>\n",
       "      <th>verification_status</th>\n",
       "      <td>Verified</td>\n",
       "      <td>Source Verified</td>\n",
       "      <td>Source Verified</td>\n",
       "      <td>Source Verified</td>\n",
       "      <td>Not Verified</td>\n",
       "    </tr>\n",
       "    <tr>\n",
       "      <th>issue_d</th>\n",
       "      <td>Jun-2013</td>\n",
       "      <td>May-2016</td>\n",
       "      <td>Jan-2018</td>\n",
       "      <td>Apr-2014</td>\n",
       "      <td>Nov-2018</td>\n",
       "    </tr>\n",
       "    <tr>\n",
       "      <th>loan_status</th>\n",
       "      <td>Fully Paid</td>\n",
       "      <td>Fully Paid</td>\n",
       "      <td>Current</td>\n",
       "      <td>Fully Paid</td>\n",
       "      <td>Current</td>\n",
       "    </tr>\n",
       "    <tr>\n",
       "      <th>pymnt_plan</th>\n",
       "      <td>n</td>\n",
       "      <td>n</td>\n",
       "      <td>n</td>\n",
       "      <td>n</td>\n",
       "      <td>n</td>\n",
       "    </tr>\n",
       "    <tr>\n",
       "      <th>url</th>\n",
       "      <td>https://lendingclub.com/browse/loanDetail.action?loan_id=5773132</td>\n",
       "      <td>https://lendingclub.com/browse/loanDetail.action?loan_id=78819950</td>\n",
       "      <td>https://lendingclub.com/browse/loanDetail.action?loan_id=126625302</td>\n",
       "      <td>https://lendingclub.com/browse/loanDetail.action?loan_id=14678544</td>\n",
       "      <td>https://lendingclub.com/browse/loanDetail.action?loan_id=142903250</td>\n",
       "    </tr>\n",
       "    <tr>\n",
       "      <th>desc</th>\n",
       "      <td>NaN</td>\n",
       "      <td>NaN</td>\n",
       "      <td>NaN</td>\n",
       "      <td>NaN</td>\n",
       "      <td>NaN</td>\n",
       "    </tr>\n",
       "    <tr>\n",
       "      <th>purpose</th>\n",
       "      <td>credit_card</td>\n",
       "      <td>credit_card</td>\n",
       "      <td>credit_card</td>\n",
       "      <td>debt_consolidation</td>\n",
       "      <td>debt_consolidation</td>\n",
       "    </tr>\n",
       "    <tr>\n",
       "      <th>title</th>\n",
       "      <td>My Credit Card Refi</td>\n",
       "      <td>Credit card refinancing</td>\n",
       "      <td>Credit card refinancing</td>\n",
       "      <td>Debt consolidation</td>\n",
       "      <td>Debt consolidation</td>\n",
       "    </tr>\n",
       "    <tr>\n",
       "      <th>zip_code</th>\n",
       "      <td>850xx</td>\n",
       "      <td>760xx</td>\n",
       "      <td>447xx</td>\n",
       "      <td>853xx</td>\n",
       "      <td>189xx</td>\n",
       "    </tr>\n",
       "    <tr>\n",
       "      <th>addr_state</th>\n",
       "      <td>AZ</td>\n",
       "      <td>TX</td>\n",
       "      <td>OH</td>\n",
       "      <td>AZ</td>\n",
       "      <td>PA</td>\n",
       "    </tr>\n",
       "    <tr>\n",
       "      <th>dti</th>\n",
       "      <td>4.5</td>\n",
       "      <td>16.02</td>\n",
       "      <td>16.07</td>\n",
       "      <td>14.5</td>\n",
       "      <td>16.23</td>\n",
       "    </tr>\n",
       "    <tr>\n",
       "      <th>delinq_2yrs</th>\n",
       "      <td>0.0</td>\n",
       "      <td>0.0</td>\n",
       "      <td>0.0</td>\n",
       "      <td>1.0</td>\n",
       "      <td>0.0</td>\n",
       "    </tr>\n",
       "    <tr>\n",
       "      <th>earliest_cr_line</th>\n",
       "      <td>Nov-2005</td>\n",
       "      <td>Nov-1984</td>\n",
       "      <td>Mar-2003</td>\n",
       "      <td>Apr-1998</td>\n",
       "      <td>Jul-2001</td>\n",
       "    </tr>\n",
       "    <tr>\n",
       "      <th>fico_range_low</th>\n",
       "      <td>680.0</td>\n",
       "      <td>680.0</td>\n",
       "      <td>750.0</td>\n",
       "      <td>690.0</td>\n",
       "      <td>790.0</td>\n",
       "    </tr>\n",
       "    <tr>\n",
       "      <th>fico_range_high</th>\n",
       "      <td>684.0</td>\n",
       "      <td>684.0</td>\n",
       "      <td>754.0</td>\n",
       "      <td>694.0</td>\n",
       "      <td>794.0</td>\n",
       "    </tr>\n",
       "    <tr>\n",
       "      <th>inq_last_6mths</th>\n",
       "      <td>0.0</td>\n",
       "      <td>0.0</td>\n",
       "      <td>0.0</td>\n",
       "      <td>0.0</td>\n",
       "      <td>1.0</td>\n",
       "    </tr>\n",
       "    <tr>\n",
       "      <th>mths_since_last_delinq</th>\n",
       "      <td>NaN</td>\n",
       "      <td>78.0</td>\n",
       "      <td>NaN</td>\n",
       "      <td>21.0</td>\n",
       "      <td>NaN</td>\n",
       "    </tr>\n",
       "    <tr>\n",
       "      <th>mths_since_last_record</th>\n",
       "      <td>99.0</td>\n",
       "      <td>75.0</td>\n",
       "      <td>NaN</td>\n",
       "      <td>NaN</td>\n",
       "      <td>NaN</td>\n",
       "    </tr>\n",
       "    <tr>\n",
       "      <th>open_acc</th>\n",
       "      <td>6.0</td>\n",
       "      <td>9.0</td>\n",
       "      <td>14.0</td>\n",
       "      <td>14.0</td>\n",
       "      <td>24.0</td>\n",
       "    </tr>\n",
       "    <tr>\n",
       "      <th>pub_rec</th>\n",
       "      <td>1.0</td>\n",
       "      <td>1.0</td>\n",
       "      <td>0.0</td>\n",
       "      <td>0.0</td>\n",
       "      <td>0.0</td>\n",
       "    </tr>\n",
       "    <tr>\n",
       "      <th>revol_bal</th>\n",
       "      <td>15421.0</td>\n",
       "      <td>7301.0</td>\n",
       "      <td>30013.0</td>\n",
       "      <td>18993.0</td>\n",
       "      <td>1324.0</td>\n",
       "    </tr>\n",
       "    <tr>\n",
       "      <th>revol_util</th>\n",
       "      <td>59.8</td>\n",
       "      <td>43.5</td>\n",
       "      <td>22.2</td>\n",
       "      <td>40.7</td>\n",
       "      <td>1.3</td>\n",
       "    </tr>\n",
       "    <tr>\n",
       "      <th>total_acc</th>\n",
       "      <td>11.0</td>\n",
       "      <td>22.0</td>\n",
       "      <td>31.0</td>\n",
       "      <td>36.0</td>\n",
       "      <td>50.0</td>\n",
       "    </tr>\n",
       "    <tr>\n",
       "      <th>initial_list_status</th>\n",
       "      <td>w</td>\n",
       "      <td>w</td>\n",
       "      <td>w</td>\n",
       "      <td>w</td>\n",
       "      <td>f</td>\n",
       "    </tr>\n",
       "    <tr>\n",
       "      <th>out_prncp</th>\n",
       "      <td>0.0</td>\n",
       "      <td>0.0</td>\n",
       "      <td>5880.12</td>\n",
       "      <td>0.0</td>\n",
       "      <td>3596.92</td>\n",
       "    </tr>\n",
       "    <tr>\n",
       "      <th>out_prncp_inv</th>\n",
       "      <td>0.0</td>\n",
       "      <td>0.0</td>\n",
       "      <td>5880.12</td>\n",
       "      <td>0.0</td>\n",
       "      <td>3596.92</td>\n",
       "    </tr>\n",
       "    <tr>\n",
       "      <th>total_pymnt</th>\n",
       "      <td>18127.74</td>\n",
       "      <td>11864.918055</td>\n",
       "      <td>4026.23</td>\n",
       "      <td>13932.961921</td>\n",
       "      <td>492.4</td>\n",
       "    </tr>\n",
       "    <tr>\n",
       "      <th>total_pymnt_inv</th>\n",
       "      <td>18127.74</td>\n",
       "      <td>11864.92</td>\n",
       "      <td>4026.23</td>\n",
       "      <td>13932.96</td>\n",
       "      <td>492.4</td>\n",
       "    </tr>\n",
       "    <tr>\n",
       "      <th>total_rec_prncp</th>\n",
       "      <td>16000.0</td>\n",
       "      <td>11000.0</td>\n",
       "      <td>3319.88</td>\n",
       "      <td>13200.0</td>\n",
       "      <td>403.08</td>\n",
       "    </tr>\n",
       "    <tr>\n",
       "      <th>total_rec_int</th>\n",
       "      <td>2127.74</td>\n",
       "      <td>864.92</td>\n",
       "      <td>706.35</td>\n",
       "      <td>732.96</td>\n",
       "      <td>89.32</td>\n",
       "    </tr>\n",
       "    <tr>\n",
       "      <th>total_rec_late_fee</th>\n",
       "      <td>0.0</td>\n",
       "      <td>0.0</td>\n",
       "      <td>0.0</td>\n",
       "      <td>0.0</td>\n",
       "      <td>0.0</td>\n",
       "    </tr>\n",
       "    <tr>\n",
       "      <th>recoveries</th>\n",
       "      <td>0.0</td>\n",
       "      <td>0.0</td>\n",
       "      <td>0.0</td>\n",
       "      <td>0.0</td>\n",
       "      <td>0.0</td>\n",
       "    </tr>\n",
       "    <tr>\n",
       "      <th>collection_recovery_fee</th>\n",
       "      <td>0.0</td>\n",
       "      <td>0.0</td>\n",
       "      <td>0.0</td>\n",
       "      <td>0.0</td>\n",
       "      <td>0.0</td>\n",
       "    </tr>\n",
       "    <tr>\n",
       "      <th>last_pymnt_d</th>\n",
       "      <td>Mar-2015</td>\n",
       "      <td>Dec-2017</td>\n",
       "      <td>Mar-2019</td>\n",
       "      <td>Sep-2014</td>\n",
       "      <td>Mar-2019</td>\n",
       "    </tr>\n",
       "    <tr>\n",
       "      <th>last_pymnt_amnt</th>\n",
       "      <td>7778.14</td>\n",
       "      <td>5805.23</td>\n",
       "      <td>288.17</td>\n",
       "      <td>12713.92</td>\n",
       "      <td>123.9</td>\n",
       "    </tr>\n",
       "    <tr>\n",
       "      <th>next_pymnt_d</th>\n",
       "      <td>NaN</td>\n",
       "      <td>NaN</td>\n",
       "      <td>Apr-2019</td>\n",
       "      <td>NaN</td>\n",
       "      <td>Apr-2019</td>\n",
       "    </tr>\n",
       "    <tr>\n",
       "      <th>last_credit_pull_d</th>\n",
       "      <td>Jul-2018</td>\n",
       "      <td>Dec-2017</td>\n",
       "      <td>Mar-2019</td>\n",
       "      <td>Jun-2018</td>\n",
       "      <td>Mar-2019</td>\n",
       "    </tr>\n",
       "    <tr>\n",
       "      <th>last_fico_range_high</th>\n",
       "      <td>714.0</td>\n",
       "      <td>739.0</td>\n",
       "      <td>774.0</td>\n",
       "      <td>614.0</td>\n",
       "      <td>754.0</td>\n",
       "    </tr>\n",
       "    <tr>\n",
       "      <th>last_fico_range_low</th>\n",
       "      <td>710.0</td>\n",
       "      <td>735.0</td>\n",
       "      <td>770.0</td>\n",
       "      <td>610.0</td>\n",
       "      <td>750.0</td>\n",
       "    </tr>\n",
       "    <tr>\n",
       "      <th>collections_12_mths_ex_med</th>\n",
       "      <td>0.0</td>\n",
       "      <td>0.0</td>\n",
       "      <td>0.0</td>\n",
       "      <td>0.0</td>\n",
       "      <td>0.0</td>\n",
       "    </tr>\n",
       "    <tr>\n",
       "      <th>mths_since_last_major_derog</th>\n",
       "      <td>NaN</td>\n",
       "      <td>NaN</td>\n",
       "      <td>NaN</td>\n",
       "      <td>NaN</td>\n",
       "      <td>NaN</td>\n",
       "    </tr>\n",
       "    <tr>\n",
       "      <th>policy_code</th>\n",
       "      <td>1.0</td>\n",
       "      <td>1.0</td>\n",
       "      <td>1.0</td>\n",
       "      <td>1.0</td>\n",
       "      <td>1.0</td>\n",
       "    </tr>\n",
       "    <tr>\n",
       "      <th>application_type</th>\n",
       "      <td>Individual</td>\n",
       "      <td>Individual</td>\n",
       "      <td>Individual</td>\n",
       "      <td>Individual</td>\n",
       "      <td>Individual</td>\n",
       "    </tr>\n",
       "    <tr>\n",
       "      <th>annual_inc_joint</th>\n",
       "      <td>NaN</td>\n",
       "      <td>NaN</td>\n",
       "      <td>NaN</td>\n",
       "      <td>NaN</td>\n",
       "      <td>NaN</td>\n",
       "    </tr>\n",
       "    <tr>\n",
       "      <th>dti_joint</th>\n",
       "      <td>NaN</td>\n",
       "      <td>NaN</td>\n",
       "      <td>NaN</td>\n",
       "      <td>NaN</td>\n",
       "      <td>NaN</td>\n",
       "    </tr>\n",
       "    <tr>\n",
       "      <th>verification_status_joint</th>\n",
       "      <td>NaN</td>\n",
       "      <td>NaN</td>\n",
       "      <td>NaN</td>\n",
       "      <td>NaN</td>\n",
       "      <td>NaN</td>\n",
       "    </tr>\n",
       "    <tr>\n",
       "      <th>acc_now_delinq</th>\n",
       "      <td>0.0</td>\n",
       "      <td>0.0</td>\n",
       "      <td>0.0</td>\n",
       "      <td>0.0</td>\n",
       "      <td>0.0</td>\n",
       "    </tr>\n",
       "    <tr>\n",
       "      <th>tot_coll_amt</th>\n",
       "      <td>0.0</td>\n",
       "      <td>0.0</td>\n",
       "      <td>0.0</td>\n",
       "      <td>0.0</td>\n",
       "      <td>0.0</td>\n",
       "    </tr>\n",
       "    <tr>\n",
       "      <th>tot_cur_bal</th>\n",
       "      <td>348079.0</td>\n",
       "      <td>197145.0</td>\n",
       "      <td>163662.0</td>\n",
       "      <td>199126.0</td>\n",
       "      <td>194507.0</td>\n",
       "    </tr>\n",
       "    <tr>\n",
       "      <th>open_acc_6m</th>\n",
       "      <td>NaN</td>\n",
       "      <td>0.0</td>\n",
       "      <td>3.0</td>\n",
       "      <td>NaN</td>\n",
       "      <td>2.0</td>\n",
       "    </tr>\n",
       "    <tr>\n",
       "      <th>open_act_il</th>\n",
       "      <td>NaN</td>\n",
       "      <td>3.0</td>\n",
       "      <td>0.0</td>\n",
       "      <td>NaN</td>\n",
       "      <td>6.0</td>\n",
       "    </tr>\n",
       "    <tr>\n",
       "      <th>open_il_12m</th>\n",
       "      <td>NaN</td>\n",
       "      <td>1.0</td>\n",
       "      <td>0.0</td>\n",
       "      <td>NaN</td>\n",
       "      <td>2.0</td>\n",
       "    </tr>\n",
       "    <tr>\n",
       "      <th>open_il_24m</th>\n",
       "      <td>NaN</td>\n",
       "      <td>2.0</td>\n",
       "      <td>0.0</td>\n",
       "      <td>NaN</td>\n",
       "      <td>4.0</td>\n",
       "    </tr>\n",
       "    <tr>\n",
       "      <th>mths_since_rcnt_il</th>\n",
       "      <td>NaN</td>\n",
       "      <td>10.0</td>\n",
       "      <td>NaN</td>\n",
       "      <td>NaN</td>\n",
       "      <td>6.0</td>\n",
       "    </tr>\n",
       "    <tr>\n",
       "      <th>total_bal_il</th>\n",
       "      <td>NaN</td>\n",
       "      <td>30764.0</td>\n",
       "      <td>0.0</td>\n",
       "      <td>NaN</td>\n",
       "      <td>56770.0</td>\n",
       "    </tr>\n",
       "    <tr>\n",
       "      <th>il_util</th>\n",
       "      <td>NaN</td>\n",
       "      <td>69.0</td>\n",
       "      <td>NaN</td>\n",
       "      <td>NaN</td>\n",
       "      <td>75.0</td>\n",
       "    </tr>\n",
       "    <tr>\n",
       "      <th>open_rv_12m</th>\n",
       "      <td>NaN</td>\n",
       "      <td>0.0</td>\n",
       "      <td>7.0</td>\n",
       "      <td>NaN</td>\n",
       "      <td>2.0</td>\n",
       "    </tr>\n",
       "    <tr>\n",
       "      <th>open_rv_24m</th>\n",
       "      <td>NaN</td>\n",
       "      <td>3.0</td>\n",
       "      <td>9.0</td>\n",
       "      <td>NaN</td>\n",
       "      <td>3.0</td>\n",
       "    </tr>\n",
       "    <tr>\n",
       "      <th>max_bal_bc</th>\n",
       "      <td>NaN</td>\n",
       "      <td>497.0</td>\n",
       "      <td>7469.0</td>\n",
       "      <td>NaN</td>\n",
       "      <td>463.0</td>\n",
       "    </tr>\n",
       "    <tr>\n",
       "      <th>all_util</th>\n",
       "      <td>NaN</td>\n",
       "      <td>62.0</td>\n",
       "      <td>22.0</td>\n",
       "      <td>NaN</td>\n",
       "      <td>33.0</td>\n",
       "    </tr>\n",
       "    <tr>\n",
       "      <th>total_rev_hi_lim</th>\n",
       "      <td>25800.0</td>\n",
       "      <td>16800.0</td>\n",
       "      <td>120500.0</td>\n",
       "      <td>46700.0</td>\n",
       "      <td>103000.0</td>\n",
       "    </tr>\n",
       "    <tr>\n",
       "      <th>inq_fi</th>\n",
       "      <td>NaN</td>\n",
       "      <td>4.0</td>\n",
       "      <td>0.0</td>\n",
       "      <td>NaN</td>\n",
       "      <td>1.0</td>\n",
       "    </tr>\n",
       "    <tr>\n",
       "      <th>total_cu_tl</th>\n",
       "      <td>NaN</td>\n",
       "      <td>1.0</td>\n",
       "      <td>0.0</td>\n",
       "      <td>NaN</td>\n",
       "      <td>1.0</td>\n",
       "    </tr>\n",
       "    <tr>\n",
       "      <th>inq_last_12m</th>\n",
       "      <td>NaN</td>\n",
       "      <td>2.0</td>\n",
       "      <td>2.0</td>\n",
       "      <td>NaN</td>\n",
       "      <td>7.0</td>\n",
       "    </tr>\n",
       "    <tr>\n",
       "      <th>acc_open_past_24mths</th>\n",
       "      <td>2.0</td>\n",
       "      <td>6.0</td>\n",
       "      <td>9.0</td>\n",
       "      <td>4.0</td>\n",
       "      <td>8.0</td>\n",
       "    </tr>\n",
       "    <tr>\n",
       "      <th>avg_cur_bal</th>\n",
       "      <td>58013.0</td>\n",
       "      <td>24643.0</td>\n",
       "      <td>11690.0</td>\n",
       "      <td>16594.0</td>\n",
       "      <td>8104.0</td>\n",
       "    </tr>\n",
       "    <tr>\n",
       "      <th>bc_open_to_buy</th>\n",
       "      <td>7542.0</td>\n",
       "      <td>5894.0</td>\n",
       "      <td>51714.0</td>\n",
       "      <td>17453.0</td>\n",
       "      <td>89852.0</td>\n",
       "    </tr>\n",
       "    <tr>\n",
       "      <th>bc_util</th>\n",
       "      <td>52.3</td>\n",
       "      <td>13.3</td>\n",
       "      <td>23.6</td>\n",
       "      <td>47.4</td>\n",
       "      <td>1.2</td>\n",
       "    </tr>\n",
       "    <tr>\n",
       "      <th>chargeoff_within_12_mths</th>\n",
       "      <td>0.0</td>\n",
       "      <td>0.0</td>\n",
       "      <td>0.0</td>\n",
       "      <td>0.0</td>\n",
       "      <td>0.0</td>\n",
       "    </tr>\n",
       "    <tr>\n",
       "      <th>delinq_amnt</th>\n",
       "      <td>0.0</td>\n",
       "      <td>0.0</td>\n",
       "      <td>0.0</td>\n",
       "      <td>0.0</td>\n",
       "      <td>0.0</td>\n",
       "    </tr>\n",
       "    <tr>\n",
       "      <th>mo_sin_old_il_acct</th>\n",
       "      <td>80.0</td>\n",
       "      <td>155.0</td>\n",
       "      <td>NaN</td>\n",
       "      <td>192.0</td>\n",
       "      <td>145.0</td>\n",
       "    </tr>\n",
       "    <tr>\n",
       "      <th>mo_sin_old_rev_tl_op</th>\n",
       "      <td>89.0</td>\n",
       "      <td>377.0</td>\n",
       "      <td>178.0</td>\n",
       "      <td>167.0</td>\n",
       "      <td>207.0</td>\n",
       "    </tr>\n",
       "    <tr>\n",
       "      <th>mo_sin_rcnt_rev_tl_op</th>\n",
       "      <td>11.0</td>\n",
       "      <td>15.0</td>\n",
       "      <td>1.0</td>\n",
       "      <td>9.0</td>\n",
       "      <td>4.0</td>\n",
       "    </tr>\n",
       "    <tr>\n",
       "      <th>mo_sin_rcnt_tl</th>\n",
       "      <td>11.0</td>\n",
       "      <td>10.0</td>\n",
       "      <td>1.0</td>\n",
       "      <td>9.0</td>\n",
       "      <td>4.0</td>\n",
       "    </tr>\n",
       "    <tr>\n",
       "      <th>mort_acc</th>\n",
       "      <td>4.0</td>\n",
       "      <td>3.0</td>\n",
       "      <td>2.0</td>\n",
       "      <td>3.0</td>\n",
       "      <td>3.0</td>\n",
       "    </tr>\n",
       "    <tr>\n",
       "      <th>mths_since_recent_bc</th>\n",
       "      <td>11.0</td>\n",
       "      <td>15.0</td>\n",
       "      <td>6.0</td>\n",
       "      <td>31.0</td>\n",
       "      <td>4.0</td>\n",
       "    </tr>\n",
       "    <tr>\n",
       "      <th>mths_since_recent_bc_dlq</th>\n",
       "      <td>NaN</td>\n",
       "      <td>NaN</td>\n",
       "      <td>NaN</td>\n",
       "      <td>21.0</td>\n",
       "      <td>NaN</td>\n",
       "    </tr>\n",
       "    <tr>\n",
       "      <th>mths_since_recent_inq</th>\n",
       "      <td>11.0</td>\n",
       "      <td>6.0</td>\n",
       "      <td>10.0</td>\n",
       "      <td>13.0</td>\n",
       "      <td>2.0</td>\n",
       "    </tr>\n",
       "    <tr>\n",
       "      <th>mths_since_recent_revol_delinq</th>\n",
       "      <td>NaN</td>\n",
       "      <td>NaN</td>\n",
       "      <td>NaN</td>\n",
       "      <td>21.0</td>\n",
       "      <td>NaN</td>\n",
       "    </tr>\n",
       "    <tr>\n",
       "      <th>num_accts_ever_120_pd</th>\n",
       "      <td>0.0</td>\n",
       "      <td>0.0</td>\n",
       "      <td>0.0</td>\n",
       "      <td>0.0</td>\n",
       "      <td>0.0</td>\n",
       "    </tr>\n",
       "    <tr>\n",
       "      <th>num_actv_bc_tl</th>\n",
       "      <td>4.0</td>\n",
       "      <td>2.0</td>\n",
       "      <td>5.0</td>\n",
       "      <td>5.0</td>\n",
       "      <td>4.0</td>\n",
       "    </tr>\n",
       "    <tr>\n",
       "      <th>num_actv_rev_tl</th>\n",
       "      <td>5.0</td>\n",
       "      <td>3.0</td>\n",
       "      <td>11.0</td>\n",
       "      <td>10.0</td>\n",
       "      <td>6.0</td>\n",
       "    </tr>\n",
       "    <tr>\n",
       "      <th>num_bc_sats</th>\n",
       "      <td>4.0</td>\n",
       "      <td>3.0</td>\n",
       "      <td>6.0</td>\n",
       "      <td>6.0</td>\n",
       "      <td>11.0</td>\n",
       "    </tr>\n",
       "    <tr>\n",
       "      <th>num_bc_tl</th>\n",
       "      <td>5.0</td>\n",
       "      <td>8.0</td>\n",
       "      <td>14.0</td>\n",
       "      <td>13.0</td>\n",
       "      <td>16.0</td>\n",
       "    </tr>\n",
       "    <tr>\n",
       "      <th>num_il_tl</th>\n",
       "      <td>1.0</td>\n",
       "      <td>7.0</td>\n",
       "      <td>0.0</td>\n",
       "      <td>5.0</td>\n",
       "      <td>22.0</td>\n",
       "    </tr>\n",
       "    <tr>\n",
       "      <th>num_op_rev_tl</th>\n",
       "      <td>5.0</td>\n",
       "      <td>5.0</td>\n",
       "      <td>13.0</td>\n",
       "      <td>12.0</td>\n",
       "      <td>15.0</td>\n",
       "    </tr>\n",
       "    <tr>\n",
       "      <th>num_rev_accts</th>\n",
       "      <td>6.0</td>\n",
       "      <td>12.0</td>\n",
       "      <td>29.0</td>\n",
       "      <td>28.0</td>\n",
       "      <td>25.0</td>\n",
       "    </tr>\n",
       "    <tr>\n",
       "      <th>num_rev_tl_bal_gt_0</th>\n",
       "      <td>5.0</td>\n",
       "      <td>3.0</td>\n",
       "      <td>11.0</td>\n",
       "      <td>10.0</td>\n",
       "      <td>6.0</td>\n",
       "    </tr>\n",
       "    <tr>\n",
       "      <th>num_sats</th>\n",
       "      <td>6.0</td>\n",
       "      <td>8.0</td>\n",
       "      <td>14.0</td>\n",
       "      <td>14.0</td>\n",
       "      <td>24.0</td>\n",
       "    </tr>\n",
       "    <tr>\n",
       "      <th>num_tl_120dpd_2m</th>\n",
       "      <td>0.0</td>\n",
       "      <td>0.0</td>\n",
       "      <td>0.0</td>\n",
       "      <td>0.0</td>\n",
       "      <td>0.0</td>\n",
       "    </tr>\n",
       "    <tr>\n",
       "      <th>num_tl_30dpd</th>\n",
       "      <td>0.0</td>\n",
       "      <td>0.0</td>\n",
       "      <td>0.0</td>\n",
       "      <td>0.0</td>\n",
       "      <td>0.0</td>\n",
       "    </tr>\n",
       "    <tr>\n",
       "      <th>num_tl_90g_dpd_24m</th>\n",
       "      <td>0.0</td>\n",
       "      <td>0.0</td>\n",
       "      <td>0.0</td>\n",
       "      <td>0.0</td>\n",
       "      <td>0.0</td>\n",
       "    </tr>\n",
       "    <tr>\n",
       "      <th>num_tl_op_past_12m</th>\n",
       "      <td>1.0</td>\n",
       "      <td>1.0</td>\n",
       "      <td>7.0</td>\n",
       "      <td>1.0</td>\n",
       "      <td>5.0</td>\n",
       "    </tr>\n",
       "    <tr>\n",
       "      <th>pct_tl_nvr_dlq</th>\n",
       "      <td>100.0</td>\n",
       "      <td>90.0</td>\n",
       "      <td>100.0</td>\n",
       "      <td>91.7</td>\n",
       "      <td>100.0</td>\n",
       "    </tr>\n",
       "    <tr>\n",
       "      <th>percent_bc_gt_75</th>\n",
       "      <td>25.0</td>\n",
       "      <td>0.0</td>\n",
       "      <td>0.0</td>\n",
       "      <td>40.0</td>\n",
       "      <td>0.0</td>\n",
       "    </tr>\n",
       "    <tr>\n",
       "      <th>pub_rec_bankruptcies</th>\n",
       "      <td>1.0</td>\n",
       "      <td>1.0</td>\n",
       "      <td>0.0</td>\n",
       "      <td>0.0</td>\n",
       "      <td>0.0</td>\n",
       "    </tr>\n",
       "    <tr>\n",
       "      <th>tax_liens</th>\n",
       "      <td>0.0</td>\n",
       "      <td>0.0</td>\n",
       "      <td>0.0</td>\n",
       "      <td>0.0</td>\n",
       "      <td>0.0</td>\n",
       "    </tr>\n",
       "    <tr>\n",
       "      <th>tot_hi_cred_lim</th>\n",
       "      <td>366800.0</td>\n",
       "      <td>223988.0</td>\n",
       "      <td>267882.0</td>\n",
       "      <td>240509.0</td>\n",
       "      <td>332687.0</td>\n",
       "    </tr>\n",
       "    <tr>\n",
       "      <th>total_bal_ex_mort</th>\n",
       "      <td>15421.0</td>\n",
       "      <td>38065.0</td>\n",
       "      <td>30013.0</td>\n",
       "      <td>21110.0</td>\n",
       "      <td>58094.0</td>\n",
       "    </tr>\n",
       "    <tr>\n",
       "      <th>total_bc_limit</th>\n",
       "      <td>15800.0</td>\n",
       "      <td>6800.0</td>\n",
       "      <td>67700.0</td>\n",
       "      <td>33200.0</td>\n",
       "      <td>90900.0</td>\n",
       "    </tr>\n",
       "    <tr>\n",
       "      <th>total_il_high_credit_limit</th>\n",
       "      <td>0.0</td>\n",
       "      <td>44738.0</td>\n",
       "      <td>0.0</td>\n",
       "      <td>3323.0</td>\n",
       "      <td>75943.0</td>\n",
       "    </tr>\n",
       "    <tr>\n",
       "      <th>revol_bal_joint</th>\n",
       "      <td>NaN</td>\n",
       "      <td>NaN</td>\n",
       "      <td>NaN</td>\n",
       "      <td>NaN</td>\n",
       "      <td>NaN</td>\n",
       "    </tr>\n",
       "    <tr>\n",
       "      <th>sec_app_fico_range_low</th>\n",
       "      <td>NaN</td>\n",
       "      <td>NaN</td>\n",
       "      <td>NaN</td>\n",
       "      <td>NaN</td>\n",
       "      <td>NaN</td>\n",
       "    </tr>\n",
       "    <tr>\n",
       "      <th>sec_app_fico_range_high</th>\n",
       "      <td>NaN</td>\n",
       "      <td>NaN</td>\n",
       "      <td>NaN</td>\n",
       "      <td>NaN</td>\n",
       "      <td>NaN</td>\n",
       "    </tr>\n",
       "    <tr>\n",
       "      <th>sec_app_earliest_cr_line</th>\n",
       "      <td>NaN</td>\n",
       "      <td>NaN</td>\n",
       "      <td>NaN</td>\n",
       "      <td>NaN</td>\n",
       "      <td>NaN</td>\n",
       "    </tr>\n",
       "    <tr>\n",
       "      <th>sec_app_inq_last_6mths</th>\n",
       "      <td>NaN</td>\n",
       "      <td>NaN</td>\n",
       "      <td>NaN</td>\n",
       "      <td>NaN</td>\n",
       "      <td>NaN</td>\n",
       "    </tr>\n",
       "    <tr>\n",
       "      <th>sec_app_mort_acc</th>\n",
       "      <td>NaN</td>\n",
       "      <td>NaN</td>\n",
       "      <td>NaN</td>\n",
       "      <td>NaN</td>\n",
       "      <td>NaN</td>\n",
       "    </tr>\n",
       "    <tr>\n",
       "      <th>sec_app_open_acc</th>\n",
       "      <td>NaN</td>\n",
       "      <td>NaN</td>\n",
       "      <td>NaN</td>\n",
       "      <td>NaN</td>\n",
       "      <td>NaN</td>\n",
       "    </tr>\n",
       "    <tr>\n",
       "      <th>sec_app_revol_util</th>\n",
       "      <td>NaN</td>\n",
       "      <td>NaN</td>\n",
       "      <td>NaN</td>\n",
       "      <td>NaN</td>\n",
       "      <td>NaN</td>\n",
       "    </tr>\n",
       "    <tr>\n",
       "      <th>sec_app_open_act_il</th>\n",
       "      <td>NaN</td>\n",
       "      <td>NaN</td>\n",
       "      <td>NaN</td>\n",
       "      <td>NaN</td>\n",
       "      <td>NaN</td>\n",
       "    </tr>\n",
       "    <tr>\n",
       "      <th>sec_app_num_rev_accts</th>\n",
       "      <td>NaN</td>\n",
       "      <td>NaN</td>\n",
       "      <td>NaN</td>\n",
       "      <td>NaN</td>\n",
       "      <td>NaN</td>\n",
       "    </tr>\n",
       "    <tr>\n",
       "      <th>sec_app_chargeoff_within_12_mths</th>\n",
       "      <td>NaN</td>\n",
       "      <td>NaN</td>\n",
       "      <td>NaN</td>\n",
       "      <td>NaN</td>\n",
       "      <td>NaN</td>\n",
       "    </tr>\n",
       "    <tr>\n",
       "      <th>sec_app_collections_12_mths_ex_med</th>\n",
       "      <td>NaN</td>\n",
       "      <td>NaN</td>\n",
       "      <td>NaN</td>\n",
       "      <td>NaN</td>\n",
       "      <td>NaN</td>\n",
       "    </tr>\n",
       "    <tr>\n",
       "      <th>sec_app_mths_since_last_major_derog</th>\n",
       "      <td>NaN</td>\n",
       "      <td>NaN</td>\n",
       "      <td>NaN</td>\n",
       "      <td>NaN</td>\n",
       "      <td>NaN</td>\n",
       "    </tr>\n",
       "    <tr>\n",
       "      <th>hardship_flag</th>\n",
       "      <td>N</td>\n",
       "      <td>N</td>\n",
       "      <td>N</td>\n",
       "      <td>N</td>\n",
       "      <td>N</td>\n",
       "    </tr>\n",
       "    <tr>\n",
       "      <th>hardship_type</th>\n",
       "      <td>NaN</td>\n",
       "      <td>NaN</td>\n",
       "      <td>NaN</td>\n",
       "      <td>NaN</td>\n",
       "      <td>NaN</td>\n",
       "    </tr>\n",
       "    <tr>\n",
       "      <th>hardship_reason</th>\n",
       "      <td>NaN</td>\n",
       "      <td>NaN</td>\n",
       "      <td>NaN</td>\n",
       "      <td>NaN</td>\n",
       "      <td>NaN</td>\n",
       "    </tr>\n",
       "    <tr>\n",
       "      <th>hardship_status</th>\n",
       "      <td>NaN</td>\n",
       "      <td>NaN</td>\n",
       "      <td>NaN</td>\n",
       "      <td>NaN</td>\n",
       "      <td>NaN</td>\n",
       "    </tr>\n",
       "    <tr>\n",
       "      <th>deferral_term</th>\n",
       "      <td>NaN</td>\n",
       "      <td>NaN</td>\n",
       "      <td>NaN</td>\n",
       "      <td>NaN</td>\n",
       "      <td>NaN</td>\n",
       "    </tr>\n",
       "    <tr>\n",
       "      <th>hardship_amount</th>\n",
       "      <td>NaN</td>\n",
       "      <td>NaN</td>\n",
       "      <td>NaN</td>\n",
       "      <td>NaN</td>\n",
       "      <td>NaN</td>\n",
       "    </tr>\n",
       "    <tr>\n",
       "      <th>hardship_start_date</th>\n",
       "      <td>NaN</td>\n",
       "      <td>NaN</td>\n",
       "      <td>NaN</td>\n",
       "      <td>NaN</td>\n",
       "      <td>NaN</td>\n",
       "    </tr>\n",
       "    <tr>\n",
       "      <th>hardship_end_date</th>\n",
       "      <td>NaN</td>\n",
       "      <td>NaN</td>\n",
       "      <td>NaN</td>\n",
       "      <td>NaN</td>\n",
       "      <td>NaN</td>\n",
       "    </tr>\n",
       "    <tr>\n",
       "      <th>payment_plan_start_date</th>\n",
       "      <td>NaN</td>\n",
       "      <td>NaN</td>\n",
       "      <td>NaN</td>\n",
       "      <td>NaN</td>\n",
       "      <td>NaN</td>\n",
       "    </tr>\n",
       "    <tr>\n",
       "      <th>hardship_length</th>\n",
       "      <td>NaN</td>\n",
       "      <td>NaN</td>\n",
       "      <td>NaN</td>\n",
       "      <td>NaN</td>\n",
       "      <td>NaN</td>\n",
       "    </tr>\n",
       "    <tr>\n",
       "      <th>hardship_dpd</th>\n",
       "      <td>NaN</td>\n",
       "      <td>NaN</td>\n",
       "      <td>NaN</td>\n",
       "      <td>NaN</td>\n",
       "      <td>NaN</td>\n",
       "    </tr>\n",
       "    <tr>\n",
       "      <th>hardship_loan_status</th>\n",
       "      <td>NaN</td>\n",
       "      <td>NaN</td>\n",
       "      <td>NaN</td>\n",
       "      <td>NaN</td>\n",
       "      <td>NaN</td>\n",
       "    </tr>\n",
       "    <tr>\n",
       "      <th>orig_projected_additional_accrued_interest</th>\n",
       "      <td>NaN</td>\n",
       "      <td>NaN</td>\n",
       "      <td>NaN</td>\n",
       "      <td>NaN</td>\n",
       "      <td>NaN</td>\n",
       "    </tr>\n",
       "    <tr>\n",
       "      <th>hardship_payoff_balance_amount</th>\n",
       "      <td>NaN</td>\n",
       "      <td>NaN</td>\n",
       "      <td>NaN</td>\n",
       "      <td>NaN</td>\n",
       "      <td>NaN</td>\n",
       "    </tr>\n",
       "    <tr>\n",
       "      <th>hardship_last_payment_amount</th>\n",
       "      <td>NaN</td>\n",
       "      <td>NaN</td>\n",
       "      <td>NaN</td>\n",
       "      <td>NaN</td>\n",
       "      <td>NaN</td>\n",
       "    </tr>\n",
       "    <tr>\n",
       "      <th>disbursement_method</th>\n",
       "      <td>Cash</td>\n",
       "      <td>Cash</td>\n",
       "      <td>Cash</td>\n",
       "      <td>Cash</td>\n",
       "      <td>Cash</td>\n",
       "    </tr>\n",
       "    <tr>\n",
       "      <th>debt_settlement_flag</th>\n",
       "      <td>N</td>\n",
       "      <td>N</td>\n",
       "      <td>N</td>\n",
       "      <td>N</td>\n",
       "      <td>N</td>\n",
       "    </tr>\n",
       "    <tr>\n",
       "      <th>debt_settlement_flag_date</th>\n",
       "      <td>NaN</td>\n",
       "      <td>NaN</td>\n",
       "      <td>NaN</td>\n",
       "      <td>NaN</td>\n",
       "      <td>NaN</td>\n",
       "    </tr>\n",
       "    <tr>\n",
       "      <th>settlement_status</th>\n",
       "      <td>NaN</td>\n",
       "      <td>NaN</td>\n",
       "      <td>NaN</td>\n",
       "      <td>NaN</td>\n",
       "      <td>NaN</td>\n",
       "    </tr>\n",
       "    <tr>\n",
       "      <th>settlement_date</th>\n",
       "      <td>NaN</td>\n",
       "      <td>NaN</td>\n",
       "      <td>NaN</td>\n",
       "      <td>NaN</td>\n",
       "      <td>NaN</td>\n",
       "    </tr>\n",
       "    <tr>\n",
       "      <th>settlement_amount</th>\n",
       "      <td>NaN</td>\n",
       "      <td>NaN</td>\n",
       "      <td>NaN</td>\n",
       "      <td>NaN</td>\n",
       "      <td>NaN</td>\n",
       "    </tr>\n",
       "    <tr>\n",
       "      <th>settlement_percentage</th>\n",
       "      <td>NaN</td>\n",
       "      <td>NaN</td>\n",
       "      <td>NaN</td>\n",
       "      <td>NaN</td>\n",
       "      <td>NaN</td>\n",
       "    </tr>\n",
       "    <tr>\n",
       "      <th>settlement_term</th>\n",
       "      <td>NaN</td>\n",
       "      <td>NaN</td>\n",
       "      <td>NaN</td>\n",
       "      <td>NaN</td>\n",
       "      <td>NaN</td>\n",
       "    </tr>\n",
       "  </tbody>\n",
       "</table>\n",
       "</div>"
      ],
      "text/plain": [
       "                                                                                                     1833105  \\\n",
       "id                                                                                                   5773132   \n",
       "member_id                                                                                                NaN   \n",
       "loan_amnt                                                                                            16000.0   \n",
       "funded_amnt                                                                                          16000.0   \n",
       "funded_amnt_inv                                                                                      16000.0   \n",
       "term                                                                                               36 months   \n",
       "int_rate                                                                                               10.16   \n",
       "installment                                                                                           517.48   \n",
       "grade                                                                                                      B   \n",
       "sub_grade                                                                                                 B1   \n",
       "emp_title                                                                                    Intricity, LLC.   \n",
       "emp_length                                                                                           6 years   \n",
       "home_ownership                                                                                      MORTGAGE   \n",
       "annual_inc                                                                                          130000.0   \n",
       "verification_status                                                                                 Verified   \n",
       "issue_d                                                                                             Jun-2013   \n",
       "loan_status                                                                                       Fully Paid   \n",
       "pymnt_plan                                                                                                 n   \n",
       "url                                         https://lendingclub.com/browse/loanDetail.action?loan_id=5773132   \n",
       "desc                                                                                                     NaN   \n",
       "purpose                                                                                          credit_card   \n",
       "title                                                                                    My Credit Card Refi   \n",
       "zip_code                                                                                               850xx   \n",
       "addr_state                                                                                                AZ   \n",
       "dti                                                                                                      4.5   \n",
       "delinq_2yrs                                                                                              0.0   \n",
       "earliest_cr_line                                                                                    Nov-2005   \n",
       "fico_range_low                                                                                         680.0   \n",
       "fico_range_high                                                                                        684.0   \n",
       "inq_last_6mths                                                                                           0.0   \n",
       "mths_since_last_delinq                                                                                   NaN   \n",
       "mths_since_last_record                                                                                  99.0   \n",
       "open_acc                                                                                                 6.0   \n",
       "pub_rec                                                                                                  1.0   \n",
       "revol_bal                                                                                            15421.0   \n",
       "revol_util                                                                                              59.8   \n",
       "total_acc                                                                                               11.0   \n",
       "initial_list_status                                                                                        w   \n",
       "out_prncp                                                                                                0.0   \n",
       "out_prncp_inv                                                                                            0.0   \n",
       "total_pymnt                                                                                         18127.74   \n",
       "total_pymnt_inv                                                                                     18127.74   \n",
       "total_rec_prncp                                                                                      16000.0   \n",
       "total_rec_int                                                                                        2127.74   \n",
       "total_rec_late_fee                                                                                       0.0   \n",
       "recoveries                                                                                               0.0   \n",
       "collection_recovery_fee                                                                                  0.0   \n",
       "last_pymnt_d                                                                                        Mar-2015   \n",
       "last_pymnt_amnt                                                                                      7778.14   \n",
       "next_pymnt_d                                                                                             NaN   \n",
       "last_credit_pull_d                                                                                  Jul-2018   \n",
       "last_fico_range_high                                                                                   714.0   \n",
       "last_fico_range_low                                                                                    710.0   \n",
       "collections_12_mths_ex_med                                                                               0.0   \n",
       "mths_since_last_major_derog                                                                              NaN   \n",
       "policy_code                                                                                              1.0   \n",
       "application_type                                                                                  Individual   \n",
       "annual_inc_joint                                                                                         NaN   \n",
       "dti_joint                                                                                                NaN   \n",
       "verification_status_joint                                                                                NaN   \n",
       "acc_now_delinq                                                                                           0.0   \n",
       "tot_coll_amt                                                                                             0.0   \n",
       "tot_cur_bal                                                                                         348079.0   \n",
       "open_acc_6m                                                                                              NaN   \n",
       "open_act_il                                                                                              NaN   \n",
       "open_il_12m                                                                                              NaN   \n",
       "open_il_24m                                                                                              NaN   \n",
       "mths_since_rcnt_il                                                                                       NaN   \n",
       "total_bal_il                                                                                             NaN   \n",
       "il_util                                                                                                  NaN   \n",
       "open_rv_12m                                                                                              NaN   \n",
       "open_rv_24m                                                                                              NaN   \n",
       "max_bal_bc                                                                                               NaN   \n",
       "all_util                                                                                                 NaN   \n",
       "total_rev_hi_lim                                                                                     25800.0   \n",
       "inq_fi                                                                                                   NaN   \n",
       "total_cu_tl                                                                                              NaN   \n",
       "inq_last_12m                                                                                             NaN   \n",
       "acc_open_past_24mths                                                                                     2.0   \n",
       "avg_cur_bal                                                                                          58013.0   \n",
       "bc_open_to_buy                                                                                        7542.0   \n",
       "bc_util                                                                                                 52.3   \n",
       "chargeoff_within_12_mths                                                                                 0.0   \n",
       "delinq_amnt                                                                                              0.0   \n",
       "mo_sin_old_il_acct                                                                                      80.0   \n",
       "mo_sin_old_rev_tl_op                                                                                    89.0   \n",
       "mo_sin_rcnt_rev_tl_op                                                                                   11.0   \n",
       "mo_sin_rcnt_tl                                                                                          11.0   \n",
       "mort_acc                                                                                                 4.0   \n",
       "mths_since_recent_bc                                                                                    11.0   \n",
       "mths_since_recent_bc_dlq                                                                                 NaN   \n",
       "mths_since_recent_inq                                                                                   11.0   \n",
       "mths_since_recent_revol_delinq                                                                           NaN   \n",
       "num_accts_ever_120_pd                                                                                    0.0   \n",
       "num_actv_bc_tl                                                                                           4.0   \n",
       "num_actv_rev_tl                                                                                          5.0   \n",
       "num_bc_sats                                                                                              4.0   \n",
       "num_bc_tl                                                                                                5.0   \n",
       "num_il_tl                                                                                                1.0   \n",
       "num_op_rev_tl                                                                                            5.0   \n",
       "num_rev_accts                                                                                            6.0   \n",
       "num_rev_tl_bal_gt_0                                                                                      5.0   \n",
       "num_sats                                                                                                 6.0   \n",
       "num_tl_120dpd_2m                                                                                         0.0   \n",
       "num_tl_30dpd                                                                                             0.0   \n",
       "num_tl_90g_dpd_24m                                                                                       0.0   \n",
       "num_tl_op_past_12m                                                                                       1.0   \n",
       "pct_tl_nvr_dlq                                                                                         100.0   \n",
       "percent_bc_gt_75                                                                                        25.0   \n",
       "pub_rec_bankruptcies                                                                                     1.0   \n",
       "tax_liens                                                                                                0.0   \n",
       "tot_hi_cred_lim                                                                                     366800.0   \n",
       "total_bal_ex_mort                                                                                    15421.0   \n",
       "total_bc_limit                                                                                       15800.0   \n",
       "total_il_high_credit_limit                                                                               0.0   \n",
       "revol_bal_joint                                                                                          NaN   \n",
       "sec_app_fico_range_low                                                                                   NaN   \n",
       "sec_app_fico_range_high                                                                                  NaN   \n",
       "sec_app_earliest_cr_line                                                                                 NaN   \n",
       "sec_app_inq_last_6mths                                                                                   NaN   \n",
       "sec_app_mort_acc                                                                                         NaN   \n",
       "sec_app_open_acc                                                                                         NaN   \n",
       "sec_app_revol_util                                                                                       NaN   \n",
       "sec_app_open_act_il                                                                                      NaN   \n",
       "sec_app_num_rev_accts                                                                                    NaN   \n",
       "sec_app_chargeoff_within_12_mths                                                                         NaN   \n",
       "sec_app_collections_12_mths_ex_med                                                                       NaN   \n",
       "sec_app_mths_since_last_major_derog                                                                      NaN   \n",
       "hardship_flag                                                                                              N   \n",
       "hardship_type                                                                                            NaN   \n",
       "hardship_reason                                                                                          NaN   \n",
       "hardship_status                                                                                          NaN   \n",
       "deferral_term                                                                                            NaN   \n",
       "hardship_amount                                                                                          NaN   \n",
       "hardship_start_date                                                                                      NaN   \n",
       "hardship_end_date                                                                                        NaN   \n",
       "payment_plan_start_date                                                                                  NaN   \n",
       "hardship_length                                                                                          NaN   \n",
       "hardship_dpd                                                                                             NaN   \n",
       "hardship_loan_status                                                                                     NaN   \n",
       "orig_projected_additional_accrued_interest                                                               NaN   \n",
       "hardship_payoff_balance_amount                                                                           NaN   \n",
       "hardship_last_payment_amount                                                                             NaN   \n",
       "disbursement_method                                                                                     Cash   \n",
       "debt_settlement_flag                                                                                       N   \n",
       "debt_settlement_flag_date                                                                                NaN   \n",
       "settlement_status                                                                                        NaN   \n",
       "settlement_date                                                                                          NaN   \n",
       "settlement_amount                                                                                        NaN   \n",
       "settlement_percentage                                                                                    NaN   \n",
       "settlement_term                                                                                          NaN   \n",
       "\n",
       "                                                                                                      699552   \\\n",
       "id                                                                                                   78819950   \n",
       "member_id                                                                                                 NaN   \n",
       "loan_amnt                                                                                             11000.0   \n",
       "funded_amnt                                                                                           11000.0   \n",
       "funded_amnt_inv                                                                                       11000.0   \n",
       "term                                                                                                36 months   \n",
       "int_rate                                                                                                 6.49   \n",
       "installment                                                                                            337.09   \n",
       "grade                                                                                                       A   \n",
       "sub_grade                                                                                                  A2   \n",
       "emp_title                                                                                            pressman   \n",
       "emp_length                                                                                            7 years   \n",
       "home_ownership                                                                                       MORTGAGE   \n",
       "annual_inc                                                                                            75000.0   \n",
       "verification_status                                                                           Source Verified   \n",
       "issue_d                                                                                              May-2016   \n",
       "loan_status                                                                                        Fully Paid   \n",
       "pymnt_plan                                                                                                  n   \n",
       "url                                         https://lendingclub.com/browse/loanDetail.action?loan_id=78819950   \n",
       "desc                                                                                                      NaN   \n",
       "purpose                                                                                           credit_card   \n",
       "title                                                                                 Credit card refinancing   \n",
       "zip_code                                                                                                760xx   \n",
       "addr_state                                                                                                 TX   \n",
       "dti                                                                                                     16.02   \n",
       "delinq_2yrs                                                                                               0.0   \n",
       "earliest_cr_line                                                                                     Nov-1984   \n",
       "fico_range_low                                                                                          680.0   \n",
       "fico_range_high                                                                                         684.0   \n",
       "inq_last_6mths                                                                                            0.0   \n",
       "mths_since_last_delinq                                                                                   78.0   \n",
       "mths_since_last_record                                                                                   75.0   \n",
       "open_acc                                                                                                  9.0   \n",
       "pub_rec                                                                                                   1.0   \n",
       "revol_bal                                                                                              7301.0   \n",
       "revol_util                                                                                               43.5   \n",
       "total_acc                                                                                                22.0   \n",
       "initial_list_status                                                                                         w   \n",
       "out_prncp                                                                                                 0.0   \n",
       "out_prncp_inv                                                                                             0.0   \n",
       "total_pymnt                                                                                      11864.918055   \n",
       "total_pymnt_inv                                                                                      11864.92   \n",
       "total_rec_prncp                                                                                       11000.0   \n",
       "total_rec_int                                                                                          864.92   \n",
       "total_rec_late_fee                                                                                        0.0   \n",
       "recoveries                                                                                                0.0   \n",
       "collection_recovery_fee                                                                                   0.0   \n",
       "last_pymnt_d                                                                                         Dec-2017   \n",
       "last_pymnt_amnt                                                                                       5805.23   \n",
       "next_pymnt_d                                                                                              NaN   \n",
       "last_credit_pull_d                                                                                   Dec-2017   \n",
       "last_fico_range_high                                                                                    739.0   \n",
       "last_fico_range_low                                                                                     735.0   \n",
       "collections_12_mths_ex_med                                                                                0.0   \n",
       "mths_since_last_major_derog                                                                               NaN   \n",
       "policy_code                                                                                               1.0   \n",
       "application_type                                                                                   Individual   \n",
       "annual_inc_joint                                                                                          NaN   \n",
       "dti_joint                                                                                                 NaN   \n",
       "verification_status_joint                                                                                 NaN   \n",
       "acc_now_delinq                                                                                            0.0   \n",
       "tot_coll_amt                                                                                              0.0   \n",
       "tot_cur_bal                                                                                          197145.0   \n",
       "open_acc_6m                                                                                               0.0   \n",
       "open_act_il                                                                                               3.0   \n",
       "open_il_12m                                                                                               1.0   \n",
       "open_il_24m                                                                                               2.0   \n",
       "mths_since_rcnt_il                                                                                       10.0   \n",
       "total_bal_il                                                                                          30764.0   \n",
       "il_util                                                                                                  69.0   \n",
       "open_rv_12m                                                                                               0.0   \n",
       "open_rv_24m                                                                                               3.0   \n",
       "max_bal_bc                                                                                              497.0   \n",
       "all_util                                                                                                 62.0   \n",
       "total_rev_hi_lim                                                                                      16800.0   \n",
       "inq_fi                                                                                                    4.0   \n",
       "total_cu_tl                                                                                               1.0   \n",
       "inq_last_12m                                                                                              2.0   \n",
       "acc_open_past_24mths                                                                                      6.0   \n",
       "avg_cur_bal                                                                                           24643.0   \n",
       "bc_open_to_buy                                                                                         5894.0   \n",
       "bc_util                                                                                                  13.3   \n",
       "chargeoff_within_12_mths                                                                                  0.0   \n",
       "delinq_amnt                                                                                               0.0   \n",
       "mo_sin_old_il_acct                                                                                      155.0   \n",
       "mo_sin_old_rev_tl_op                                                                                    377.0   \n",
       "mo_sin_rcnt_rev_tl_op                                                                                    15.0   \n",
       "mo_sin_rcnt_tl                                                                                           10.0   \n",
       "mort_acc                                                                                                  3.0   \n",
       "mths_since_recent_bc                                                                                     15.0   \n",
       "mths_since_recent_bc_dlq                                                                                  NaN   \n",
       "mths_since_recent_inq                                                                                     6.0   \n",
       "mths_since_recent_revol_delinq                                                                            NaN   \n",
       "num_accts_ever_120_pd                                                                                     0.0   \n",
       "num_actv_bc_tl                                                                                            2.0   \n",
       "num_actv_rev_tl                                                                                           3.0   \n",
       "num_bc_sats                                                                                               3.0   \n",
       "num_bc_tl                                                                                                 8.0   \n",
       "num_il_tl                                                                                                 7.0   \n",
       "num_op_rev_tl                                                                                             5.0   \n",
       "num_rev_accts                                                                                            12.0   \n",
       "num_rev_tl_bal_gt_0                                                                                       3.0   \n",
       "num_sats                                                                                                  8.0   \n",
       "num_tl_120dpd_2m                                                                                          0.0   \n",
       "num_tl_30dpd                                                                                              0.0   \n",
       "num_tl_90g_dpd_24m                                                                                        0.0   \n",
       "num_tl_op_past_12m                                                                                        1.0   \n",
       "pct_tl_nvr_dlq                                                                                           90.0   \n",
       "percent_bc_gt_75                                                                                          0.0   \n",
       "pub_rec_bankruptcies                                                                                      1.0   \n",
       "tax_liens                                                                                                 0.0   \n",
       "tot_hi_cred_lim                                                                                      223988.0   \n",
       "total_bal_ex_mort                                                                                     38065.0   \n",
       "total_bc_limit                                                                                         6800.0   \n",
       "total_il_high_credit_limit                                                                            44738.0   \n",
       "revol_bal_joint                                                                                           NaN   \n",
       "sec_app_fico_range_low                                                                                    NaN   \n",
       "sec_app_fico_range_high                                                                                   NaN   \n",
       "sec_app_earliest_cr_line                                                                                  NaN   \n",
       "sec_app_inq_last_6mths                                                                                    NaN   \n",
       "sec_app_mort_acc                                                                                          NaN   \n",
       "sec_app_open_acc                                                                                          NaN   \n",
       "sec_app_revol_util                                                                                        NaN   \n",
       "sec_app_open_act_il                                                                                       NaN   \n",
       "sec_app_num_rev_accts                                                                                     NaN   \n",
       "sec_app_chargeoff_within_12_mths                                                                          NaN   \n",
       "sec_app_collections_12_mths_ex_med                                                                        NaN   \n",
       "sec_app_mths_since_last_major_derog                                                                       NaN   \n",
       "hardship_flag                                                                                               N   \n",
       "hardship_type                                                                                             NaN   \n",
       "hardship_reason                                                                                           NaN   \n",
       "hardship_status                                                                                           NaN   \n",
       "deferral_term                                                                                             NaN   \n",
       "hardship_amount                                                                                           NaN   \n",
       "hardship_start_date                                                                                       NaN   \n",
       "hardship_end_date                                                                                         NaN   \n",
       "payment_plan_start_date                                                                                   NaN   \n",
       "hardship_length                                                                                           NaN   \n",
       "hardship_dpd                                                                                              NaN   \n",
       "hardship_loan_status                                                                                      NaN   \n",
       "orig_projected_additional_accrued_interest                                                                NaN   \n",
       "hardship_payoff_balance_amount                                                                            NaN   \n",
       "hardship_last_payment_amount                                                                              NaN   \n",
       "disbursement_method                                                                                      Cash   \n",
       "debt_settlement_flag                                                                                        N   \n",
       "debt_settlement_flag_date                                                                                 NaN   \n",
       "settlement_status                                                                                         NaN   \n",
       "settlement_date                                                                                           NaN   \n",
       "settlement_amount                                                                                         NaN   \n",
       "settlement_percentage                                                                                     NaN   \n",
       "settlement_term                                                                                           NaN   \n",
       "\n",
       "                                                                                                       497060   \\\n",
       "id                                                                                                   126625302   \n",
       "member_id                                                                                                  NaN   \n",
       "loan_amnt                                                                                               9200.0   \n",
       "funded_amnt                                                                                             9200.0   \n",
       "funded_amnt_inv                                                                                         9200.0   \n",
       "term                                                                                                 36 months   \n",
       "int_rate                                                                                                  7.97   \n",
       "installment                                                                                             288.17   \n",
       "grade                                                                                                        A   \n",
       "sub_grade                                                                                                   A5   \n",
       "emp_title                                                                                 registered dietitian   \n",
       "emp_length                                                                                             2 years   \n",
       "home_ownership                                                                                             OWN   \n",
       "annual_inc                                                                                             56000.0   \n",
       "verification_status                                                                            Source Verified   \n",
       "issue_d                                                                                               Jan-2018   \n",
       "loan_status                                                                                            Current   \n",
       "pymnt_plan                                                                                                   n   \n",
       "url                                         https://lendingclub.com/browse/loanDetail.action?loan_id=126625302   \n",
       "desc                                                                                                       NaN   \n",
       "purpose                                                                                            credit_card   \n",
       "title                                                                                  Credit card refinancing   \n",
       "zip_code                                                                                                 447xx   \n",
       "addr_state                                                                                                  OH   \n",
       "dti                                                                                                      16.07   \n",
       "delinq_2yrs                                                                                                0.0   \n",
       "earliest_cr_line                                                                                      Mar-2003   \n",
       "fico_range_low                                                                                           750.0   \n",
       "fico_range_high                                                                                          754.0   \n",
       "inq_last_6mths                                                                                             0.0   \n",
       "mths_since_last_delinq                                                                                     NaN   \n",
       "mths_since_last_record                                                                                     NaN   \n",
       "open_acc                                                                                                  14.0   \n",
       "pub_rec                                                                                                    0.0   \n",
       "revol_bal                                                                                              30013.0   \n",
       "revol_util                                                                                                22.2   \n",
       "total_acc                                                                                                 31.0   \n",
       "initial_list_status                                                                                          w   \n",
       "out_prncp                                                                                              5880.12   \n",
       "out_prncp_inv                                                                                          5880.12   \n",
       "total_pymnt                                                                                            4026.23   \n",
       "total_pymnt_inv                                                                                        4026.23   \n",
       "total_rec_prncp                                                                                        3319.88   \n",
       "total_rec_int                                                                                           706.35   \n",
       "total_rec_late_fee                                                                                         0.0   \n",
       "recoveries                                                                                                 0.0   \n",
       "collection_recovery_fee                                                                                    0.0   \n",
       "last_pymnt_d                                                                                          Mar-2019   \n",
       "last_pymnt_amnt                                                                                         288.17   \n",
       "next_pymnt_d                                                                                          Apr-2019   \n",
       "last_credit_pull_d                                                                                    Mar-2019   \n",
       "last_fico_range_high                                                                                     774.0   \n",
       "last_fico_range_low                                                                                      770.0   \n",
       "collections_12_mths_ex_med                                                                                 0.0   \n",
       "mths_since_last_major_derog                                                                                NaN   \n",
       "policy_code                                                                                                1.0   \n",
       "application_type                                                                                    Individual   \n",
       "annual_inc_joint                                                                                           NaN   \n",
       "dti_joint                                                                                                  NaN   \n",
       "verification_status_joint                                                                                  NaN   \n",
       "acc_now_delinq                                                                                             0.0   \n",
       "tot_coll_amt                                                                                               0.0   \n",
       "tot_cur_bal                                                                                           163662.0   \n",
       "open_acc_6m                                                                                                3.0   \n",
       "open_act_il                                                                                                0.0   \n",
       "open_il_12m                                                                                                0.0   \n",
       "open_il_24m                                                                                                0.0   \n",
       "mths_since_rcnt_il                                                                                         NaN   \n",
       "total_bal_il                                                                                               0.0   \n",
       "il_util                                                                                                    NaN   \n",
       "open_rv_12m                                                                                                7.0   \n",
       "open_rv_24m                                                                                                9.0   \n",
       "max_bal_bc                                                                                              7469.0   \n",
       "all_util                                                                                                  22.0   \n",
       "total_rev_hi_lim                                                                                      120500.0   \n",
       "inq_fi                                                                                                     0.0   \n",
       "total_cu_tl                                                                                                0.0   \n",
       "inq_last_12m                                                                                               2.0   \n",
       "acc_open_past_24mths                                                                                       9.0   \n",
       "avg_cur_bal                                                                                            11690.0   \n",
       "bc_open_to_buy                                                                                         51714.0   \n",
       "bc_util                                                                                                   23.6   \n",
       "chargeoff_within_12_mths                                                                                   0.0   \n",
       "delinq_amnt                                                                                                0.0   \n",
       "mo_sin_old_il_acct                                                                                         NaN   \n",
       "mo_sin_old_rev_tl_op                                                                                     178.0   \n",
       "mo_sin_rcnt_rev_tl_op                                                                                      1.0   \n",
       "mo_sin_rcnt_tl                                                                                             1.0   \n",
       "mort_acc                                                                                                   2.0   \n",
       "mths_since_recent_bc                                                                                       6.0   \n",
       "mths_since_recent_bc_dlq                                                                                   NaN   \n",
       "mths_since_recent_inq                                                                                     10.0   \n",
       "mths_since_recent_revol_delinq                                                                             NaN   \n",
       "num_accts_ever_120_pd                                                                                      0.0   \n",
       "num_actv_bc_tl                                                                                             5.0   \n",
       "num_actv_rev_tl                                                                                           11.0   \n",
       "num_bc_sats                                                                                                6.0   \n",
       "num_bc_tl                                                                                                 14.0   \n",
       "num_il_tl                                                                                                  0.0   \n",
       "num_op_rev_tl                                                                                             13.0   \n",
       "num_rev_accts                                                                                             29.0   \n",
       "num_rev_tl_bal_gt_0                                                                                       11.0   \n",
       "num_sats                                                                                                  14.0   \n",
       "num_tl_120dpd_2m                                                                                           0.0   \n",
       "num_tl_30dpd                                                                                               0.0   \n",
       "num_tl_90g_dpd_24m                                                                                         0.0   \n",
       "num_tl_op_past_12m                                                                                         7.0   \n",
       "pct_tl_nvr_dlq                                                                                           100.0   \n",
       "percent_bc_gt_75                                                                                           0.0   \n",
       "pub_rec_bankruptcies                                                                                       0.0   \n",
       "tax_liens                                                                                                  0.0   \n",
       "tot_hi_cred_lim                                                                                       267882.0   \n",
       "total_bal_ex_mort                                                                                      30013.0   \n",
       "total_bc_limit                                                                                         67700.0   \n",
       "total_il_high_credit_limit                                                                                 0.0   \n",
       "revol_bal_joint                                                                                            NaN   \n",
       "sec_app_fico_range_low                                                                                     NaN   \n",
       "sec_app_fico_range_high                                                                                    NaN   \n",
       "sec_app_earliest_cr_line                                                                                   NaN   \n",
       "sec_app_inq_last_6mths                                                                                     NaN   \n",
       "sec_app_mort_acc                                                                                           NaN   \n",
       "sec_app_open_acc                                                                                           NaN   \n",
       "sec_app_revol_util                                                                                         NaN   \n",
       "sec_app_open_act_il                                                                                        NaN   \n",
       "sec_app_num_rev_accts                                                                                      NaN   \n",
       "sec_app_chargeoff_within_12_mths                                                                           NaN   \n",
       "sec_app_collections_12_mths_ex_med                                                                         NaN   \n",
       "sec_app_mths_since_last_major_derog                                                                        NaN   \n",
       "hardship_flag                                                                                                N   \n",
       "hardship_type                                                                                              NaN   \n",
       "hardship_reason                                                                                            NaN   \n",
       "hardship_status                                                                                            NaN   \n",
       "deferral_term                                                                                              NaN   \n",
       "hardship_amount                                                                                            NaN   \n",
       "hardship_start_date                                                                                        NaN   \n",
       "hardship_end_date                                                                                          NaN   \n",
       "payment_plan_start_date                                                                                    NaN   \n",
       "hardship_length                                                                                            NaN   \n",
       "hardship_dpd                                                                                               NaN   \n",
       "hardship_loan_status                                                                                       NaN   \n",
       "orig_projected_additional_accrued_interest                                                                 NaN   \n",
       "hardship_payoff_balance_amount                                                                             NaN   \n",
       "hardship_last_payment_amount                                                                               NaN   \n",
       "disbursement_method                                                                                       Cash   \n",
       "debt_settlement_flag                                                                                         N   \n",
       "debt_settlement_flag_date                                                                                  NaN   \n",
       "settlement_status                                                                                          NaN   \n",
       "settlement_date                                                                                            NaN   \n",
       "settlement_amount                                                                                          NaN   \n",
       "settlement_percentage                                                                                      NaN   \n",
       "settlement_term                                                                                            NaN   \n",
       "\n",
       "                                                                                                      1291601  \\\n",
       "id                                                                                                   14678544   \n",
       "member_id                                                                                                 NaN   \n",
       "loan_amnt                                                                                             13200.0   \n",
       "funded_amnt                                                                                           13200.0   \n",
       "funded_amnt_inv                                                                                       13200.0   \n",
       "term                                                                                                60 months   \n",
       "int_rate                                                                                                13.65   \n",
       "installment                                                                                            304.76   \n",
       "grade                                                                                                       C   \n",
       "sub_grade                                                                                                  C1   \n",
       "emp_title                                                                                    Security Officer   \n",
       "emp_length                                                                                          10+ years   \n",
       "home_ownership                                                                                       MORTGAGE   \n",
       "annual_inc                                                                                            60000.0   \n",
       "verification_status                                                                           Source Verified   \n",
       "issue_d                                                                                              Apr-2014   \n",
       "loan_status                                                                                        Fully Paid   \n",
       "pymnt_plan                                                                                                  n   \n",
       "url                                         https://lendingclub.com/browse/loanDetail.action?loan_id=14678544   \n",
       "desc                                                                                                      NaN   \n",
       "purpose                                                                                    debt_consolidation   \n",
       "title                                                                                      Debt consolidation   \n",
       "zip_code                                                                                                853xx   \n",
       "addr_state                                                                                                 AZ   \n",
       "dti                                                                                                      14.5   \n",
       "delinq_2yrs                                                                                               1.0   \n",
       "earliest_cr_line                                                                                     Apr-1998   \n",
       "fico_range_low                                                                                          690.0   \n",
       "fico_range_high                                                                                         694.0   \n",
       "inq_last_6mths                                                                                            0.0   \n",
       "mths_since_last_delinq                                                                                   21.0   \n",
       "mths_since_last_record                                                                                    NaN   \n",
       "open_acc                                                                                                 14.0   \n",
       "pub_rec                                                                                                   0.0   \n",
       "revol_bal                                                                                             18993.0   \n",
       "revol_util                                                                                               40.7   \n",
       "total_acc                                                                                                36.0   \n",
       "initial_list_status                                                                                         w   \n",
       "out_prncp                                                                                                 0.0   \n",
       "out_prncp_inv                                                                                             0.0   \n",
       "total_pymnt                                                                                      13932.961921   \n",
       "total_pymnt_inv                                                                                      13932.96   \n",
       "total_rec_prncp                                                                                       13200.0   \n",
       "total_rec_int                                                                                          732.96   \n",
       "total_rec_late_fee                                                                                        0.0   \n",
       "recoveries                                                                                                0.0   \n",
       "collection_recovery_fee                                                                                   0.0   \n",
       "last_pymnt_d                                                                                         Sep-2014   \n",
       "last_pymnt_amnt                                                                                      12713.92   \n",
       "next_pymnt_d                                                                                              NaN   \n",
       "last_credit_pull_d                                                                                   Jun-2018   \n",
       "last_fico_range_high                                                                                    614.0   \n",
       "last_fico_range_low                                                                                     610.0   \n",
       "collections_12_mths_ex_med                                                                                0.0   \n",
       "mths_since_last_major_derog                                                                               NaN   \n",
       "policy_code                                                                                               1.0   \n",
       "application_type                                                                                   Individual   \n",
       "annual_inc_joint                                                                                          NaN   \n",
       "dti_joint                                                                                                 NaN   \n",
       "verification_status_joint                                                                                 NaN   \n",
       "acc_now_delinq                                                                                            0.0   \n",
       "tot_coll_amt                                                                                              0.0   \n",
       "tot_cur_bal                                                                                          199126.0   \n",
       "open_acc_6m                                                                                               NaN   \n",
       "open_act_il                                                                                               NaN   \n",
       "open_il_12m                                                                                               NaN   \n",
       "open_il_24m                                                                                               NaN   \n",
       "mths_since_rcnt_il                                                                                        NaN   \n",
       "total_bal_il                                                                                              NaN   \n",
       "il_util                                                                                                   NaN   \n",
       "open_rv_12m                                                                                               NaN   \n",
       "open_rv_24m                                                                                               NaN   \n",
       "max_bal_bc                                                                                                NaN   \n",
       "all_util                                                                                                  NaN   \n",
       "total_rev_hi_lim                                                                                      46700.0   \n",
       "inq_fi                                                                                                    NaN   \n",
       "total_cu_tl                                                                                               NaN   \n",
       "inq_last_12m                                                                                              NaN   \n",
       "acc_open_past_24mths                                                                                      4.0   \n",
       "avg_cur_bal                                                                                           16594.0   \n",
       "bc_open_to_buy                                                                                        17453.0   \n",
       "bc_util                                                                                                  47.4   \n",
       "chargeoff_within_12_mths                                                                                  0.0   \n",
       "delinq_amnt                                                                                               0.0   \n",
       "mo_sin_old_il_acct                                                                                      192.0   \n",
       "mo_sin_old_rev_tl_op                                                                                    167.0   \n",
       "mo_sin_rcnt_rev_tl_op                                                                                     9.0   \n",
       "mo_sin_rcnt_tl                                                                                            9.0   \n",
       "mort_acc                                                                                                  3.0   \n",
       "mths_since_recent_bc                                                                                     31.0   \n",
       "mths_since_recent_bc_dlq                                                                                 21.0   \n",
       "mths_since_recent_inq                                                                                    13.0   \n",
       "mths_since_recent_revol_delinq                                                                           21.0   \n",
       "num_accts_ever_120_pd                                                                                     0.0   \n",
       "num_actv_bc_tl                                                                                            5.0   \n",
       "num_actv_rev_tl                                                                                          10.0   \n",
       "num_bc_sats                                                                                               6.0   \n",
       "num_bc_tl                                                                                                13.0   \n",
       "num_il_tl                                                                                                 5.0   \n",
       "num_op_rev_tl                                                                                            12.0   \n",
       "num_rev_accts                                                                                            28.0   \n",
       "num_rev_tl_bal_gt_0                                                                                      10.0   \n",
       "num_sats                                                                                                 14.0   \n",
       "num_tl_120dpd_2m                                                                                          0.0   \n",
       "num_tl_30dpd                                                                                              0.0   \n",
       "num_tl_90g_dpd_24m                                                                                        0.0   \n",
       "num_tl_op_past_12m                                                                                        1.0   \n",
       "pct_tl_nvr_dlq                                                                                           91.7   \n",
       "percent_bc_gt_75                                                                                         40.0   \n",
       "pub_rec_bankruptcies                                                                                      0.0   \n",
       "tax_liens                                                                                                 0.0   \n",
       "tot_hi_cred_lim                                                                                      240509.0   \n",
       "total_bal_ex_mort                                                                                     21110.0   \n",
       "total_bc_limit                                                                                        33200.0   \n",
       "total_il_high_credit_limit                                                                             3323.0   \n",
       "revol_bal_joint                                                                                           NaN   \n",
       "sec_app_fico_range_low                                                                                    NaN   \n",
       "sec_app_fico_range_high                                                                                   NaN   \n",
       "sec_app_earliest_cr_line                                                                                  NaN   \n",
       "sec_app_inq_last_6mths                                                                                    NaN   \n",
       "sec_app_mort_acc                                                                                          NaN   \n",
       "sec_app_open_acc                                                                                          NaN   \n",
       "sec_app_revol_util                                                                                        NaN   \n",
       "sec_app_open_act_il                                                                                       NaN   \n",
       "sec_app_num_rev_accts                                                                                     NaN   \n",
       "sec_app_chargeoff_within_12_mths                                                                          NaN   \n",
       "sec_app_collections_12_mths_ex_med                                                                        NaN   \n",
       "sec_app_mths_since_last_major_derog                                                                       NaN   \n",
       "hardship_flag                                                                                               N   \n",
       "hardship_type                                                                                             NaN   \n",
       "hardship_reason                                                                                           NaN   \n",
       "hardship_status                                                                                           NaN   \n",
       "deferral_term                                                                                             NaN   \n",
       "hardship_amount                                                                                           NaN   \n",
       "hardship_start_date                                                                                       NaN   \n",
       "hardship_end_date                                                                                         NaN   \n",
       "payment_plan_start_date                                                                                   NaN   \n",
       "hardship_length                                                                                           NaN   \n",
       "hardship_dpd                                                                                              NaN   \n",
       "hardship_loan_status                                                                                      NaN   \n",
       "orig_projected_additional_accrued_interest                                                                NaN   \n",
       "hardship_payoff_balance_amount                                                                            NaN   \n",
       "hardship_last_payment_amount                                                                              NaN   \n",
       "disbursement_method                                                                                      Cash   \n",
       "debt_settlement_flag                                                                                        N   \n",
       "debt_settlement_flag_date                                                                                 NaN   \n",
       "settlement_status                                                                                         NaN   \n",
       "settlement_date                                                                                           NaN   \n",
       "settlement_amount                                                                                         NaN   \n",
       "settlement_percentage                                                                                     NaN   \n",
       "settlement_term                                                                                           NaN   \n",
       "\n",
       "                                                                                                       1433817  \n",
       "id                                                                                                   142903250  \n",
       "member_id                                                                                                  NaN  \n",
       "loan_amnt                                                                                               4000.0  \n",
       "funded_amnt                                                                                             4000.0  \n",
       "funded_amnt_inv                                                                                         4000.0  \n",
       "term                                                                                                 36 months  \n",
       "int_rate                                                                                                  7.21  \n",
       "installment                                                                                              123.9  \n",
       "grade                                                                                                        A  \n",
       "sub_grade                                                                                                   A3  \n",
       "emp_title                                                                       Clinical Manufacturing Manager  \n",
       "emp_length                                                                                             2 years  \n",
       "home_ownership                                                                                            RENT  \n",
       "annual_inc                                                                                             97000.0  \n",
       "verification_status                                                                               Not Verified  \n",
       "issue_d                                                                                               Nov-2018  \n",
       "loan_status                                                                                            Current  \n",
       "pymnt_plan                                                                                                   n  \n",
       "url                                         https://lendingclub.com/browse/loanDetail.action?loan_id=142903250  \n",
       "desc                                                                                                       NaN  \n",
       "purpose                                                                                     debt_consolidation  \n",
       "title                                                                                       Debt consolidation  \n",
       "zip_code                                                                                                 189xx  \n",
       "addr_state                                                                                                  PA  \n",
       "dti                                                                                                      16.23  \n",
       "delinq_2yrs                                                                                                0.0  \n",
       "earliest_cr_line                                                                                      Jul-2001  \n",
       "fico_range_low                                                                                           790.0  \n",
       "fico_range_high                                                                                          794.0  \n",
       "inq_last_6mths                                                                                             1.0  \n",
       "mths_since_last_delinq                                                                                     NaN  \n",
       "mths_since_last_record                                                                                     NaN  \n",
       "open_acc                                                                                                  24.0  \n",
       "pub_rec                                                                                                    0.0  \n",
       "revol_bal                                                                                               1324.0  \n",
       "revol_util                                                                                                 1.3  \n",
       "total_acc                                                                                                 50.0  \n",
       "initial_list_status                                                                                          f  \n",
       "out_prncp                                                                                              3596.92  \n",
       "out_prncp_inv                                                                                          3596.92  \n",
       "total_pymnt                                                                                              492.4  \n",
       "total_pymnt_inv                                                                                          492.4  \n",
       "total_rec_prncp                                                                                         403.08  \n",
       "total_rec_int                                                                                            89.32  \n",
       "total_rec_late_fee                                                                                         0.0  \n",
       "recoveries                                                                                                 0.0  \n",
       "collection_recovery_fee                                                                                    0.0  \n",
       "last_pymnt_d                                                                                          Mar-2019  \n",
       "last_pymnt_amnt                                                                                          123.9  \n",
       "next_pymnt_d                                                                                          Apr-2019  \n",
       "last_credit_pull_d                                                                                    Mar-2019  \n",
       "last_fico_range_high                                                                                     754.0  \n",
       "last_fico_range_low                                                                                      750.0  \n",
       "collections_12_mths_ex_med                                                                                 0.0  \n",
       "mths_since_last_major_derog                                                                                NaN  \n",
       "policy_code                                                                                                1.0  \n",
       "application_type                                                                                    Individual  \n",
       "annual_inc_joint                                                                                           NaN  \n",
       "dti_joint                                                                                                  NaN  \n",
       "verification_status_joint                                                                                  NaN  \n",
       "acc_now_delinq                                                                                             0.0  \n",
       "tot_coll_amt                                                                                               0.0  \n",
       "tot_cur_bal                                                                                           194507.0  \n",
       "open_acc_6m                                                                                                2.0  \n",
       "open_act_il                                                                                                6.0  \n",
       "open_il_12m                                                                                                2.0  \n",
       "open_il_24m                                                                                                4.0  \n",
       "mths_since_rcnt_il                                                                                         6.0  \n",
       "total_bal_il                                                                                           56770.0  \n",
       "il_util                                                                                                   75.0  \n",
       "open_rv_12m                                                                                                2.0  \n",
       "open_rv_24m                                                                                                3.0  \n",
       "max_bal_bc                                                                                               463.0  \n",
       "all_util                                                                                                  33.0  \n",
       "total_rev_hi_lim                                                                                      103000.0  \n",
       "inq_fi                                                                                                     1.0  \n",
       "total_cu_tl                                                                                                1.0  \n",
       "inq_last_12m                                                                                               7.0  \n",
       "acc_open_past_24mths                                                                                       8.0  \n",
       "avg_cur_bal                                                                                             8104.0  \n",
       "bc_open_to_buy                                                                                         89852.0  \n",
       "bc_util                                                                                                    1.2  \n",
       "chargeoff_within_12_mths                                                                                   0.0  \n",
       "delinq_amnt                                                                                                0.0  \n",
       "mo_sin_old_il_acct                                                                                       145.0  \n",
       "mo_sin_old_rev_tl_op                                                                                     207.0  \n",
       "mo_sin_rcnt_rev_tl_op                                                                                      4.0  \n",
       "mo_sin_rcnt_tl                                                                                             4.0  \n",
       "mort_acc                                                                                                   3.0  \n",
       "mths_since_recent_bc                                                                                       4.0  \n",
       "mths_since_recent_bc_dlq                                                                                   NaN  \n",
       "mths_since_recent_inq                                                                                      2.0  \n",
       "mths_since_recent_revol_delinq                                                                             NaN  \n",
       "num_accts_ever_120_pd                                                                                      0.0  \n",
       "num_actv_bc_tl                                                                                             4.0  \n",
       "num_actv_rev_tl                                                                                            6.0  \n",
       "num_bc_sats                                                                                               11.0  \n",
       "num_bc_tl                                                                                                 16.0  \n",
       "num_il_tl                                                                                                 22.0  \n",
       "num_op_rev_tl                                                                                             15.0  \n",
       "num_rev_accts                                                                                             25.0  \n",
       "num_rev_tl_bal_gt_0                                                                                        6.0  \n",
       "num_sats                                                                                                  24.0  \n",
       "num_tl_120dpd_2m                                                                                           0.0  \n",
       "num_tl_30dpd                                                                                               0.0  \n",
       "num_tl_90g_dpd_24m                                                                                         0.0  \n",
       "num_tl_op_past_12m                                                                                         5.0  \n",
       "pct_tl_nvr_dlq                                                                                           100.0  \n",
       "percent_bc_gt_75                                                                                           0.0  \n",
       "pub_rec_bankruptcies                                                                                       0.0  \n",
       "tax_liens                                                                                                  0.0  \n",
       "tot_hi_cred_lim                                                                                       332687.0  \n",
       "total_bal_ex_mort                                                                                      58094.0  \n",
       "total_bc_limit                                                                                         90900.0  \n",
       "total_il_high_credit_limit                                                                             75943.0  \n",
       "revol_bal_joint                                                                                            NaN  \n",
       "sec_app_fico_range_low                                                                                     NaN  \n",
       "sec_app_fico_range_high                                                                                    NaN  \n",
       "sec_app_earliest_cr_line                                                                                   NaN  \n",
       "sec_app_inq_last_6mths                                                                                     NaN  \n",
       "sec_app_mort_acc                                                                                           NaN  \n",
       "sec_app_open_acc                                                                                           NaN  \n",
       "sec_app_revol_util                                                                                         NaN  \n",
       "sec_app_open_act_il                                                                                        NaN  \n",
       "sec_app_num_rev_accts                                                                                      NaN  \n",
       "sec_app_chargeoff_within_12_mths                                                                           NaN  \n",
       "sec_app_collections_12_mths_ex_med                                                                         NaN  \n",
       "sec_app_mths_since_last_major_derog                                                                        NaN  \n",
       "hardship_flag                                                                                                N  \n",
       "hardship_type                                                                                              NaN  \n",
       "hardship_reason                                                                                            NaN  \n",
       "hardship_status                                                                                            NaN  \n",
       "deferral_term                                                                                              NaN  \n",
       "hardship_amount                                                                                            NaN  \n",
       "hardship_start_date                                                                                        NaN  \n",
       "hardship_end_date                                                                                          NaN  \n",
       "payment_plan_start_date                                                                                    NaN  \n",
       "hardship_length                                                                                            NaN  \n",
       "hardship_dpd                                                                                               NaN  \n",
       "hardship_loan_status                                                                                       NaN  \n",
       "orig_projected_additional_accrued_interest                                                                 NaN  \n",
       "hardship_payoff_balance_amount                                                                             NaN  \n",
       "hardship_last_payment_amount                                                                               NaN  \n",
       "disbursement_method                                                                                       Cash  \n",
       "debt_settlement_flag                                                                                         N  \n",
       "debt_settlement_flag_date                                                                                  NaN  \n",
       "settlement_status                                                                                          NaN  \n",
       "settlement_date                                                                                            NaN  \n",
       "settlement_amount                                                                                          NaN  \n",
       "settlement_percentage                                                                                      NaN  \n",
       "settlement_term                                                                                            NaN  "
      ]
     },
     "execution_count": 7,
     "metadata": {},
     "output_type": "execute_result"
    }
   ],
   "source": [
    "loans.sample(5).transpose()"
   ]
  },
  {
   "cell_type": "markdown",
   "id": "ac9b44be",
   "metadata": {},
   "source": [
    "#### ดึง target variable ออกมา"
   ]
  },
  {
   "cell_type": "code",
   "execution_count": 8,
   "id": "c5689341",
   "metadata": {},
   "outputs": [
    {
     "data": {
      "text/plain": [
       "Fully Paid                                             1076751\n",
       "Current                                                 878317\n",
       "Charged Off                                             268559\n",
       "Late (31-120 days)                                       21467\n",
       "In Grace Period                                           8436\n",
       "Late (16-30 days)                                         4349\n",
       "Does not meet the credit policy. Status:Fully Paid        1988\n",
       "Does not meet the credit policy. Status:Charged Off        761\n",
       "Default                                                     40\n",
       "NaN                                                         33\n",
       "Name: loan_status, dtype: int64"
      ]
     },
     "execution_count": 8,
     "metadata": {},
     "output_type": "execute_result"
    }
   ],
   "source": [
    "loans['loan_status'].value_counts(dropna=False)"
   ]
  },
  {
   "cell_type": "markdown",
   "id": "f49a18a5",
   "metadata": {},
   "source": [
    "#### ตัดเอาเฉพาะบางค่าของ target var."
   ]
  },
  {
   "cell_type": "markdown",
   "id": "15659875",
   "metadata": {},
   "source": [
    "##### Python: .loc[] ใช้ดึงข้อมูลมาดู แต่เนื่องจาก .loc[] ไม่ใช่ฟังก์ชั่นจึงใช้ [] โดยภายใน [] คือ index ของข้อมูล  .loc[] ต้องการ input 2 อย่าง (1) row index (required) และ (2) column index (optional)"
   ]
  },
  {
   "cell_type": "code",
   "execution_count": 9,
   "id": "ba34de78",
   "metadata": {},
   "outputs": [],
   "source": [
    "loans = loans.loc[loans['loan_status'].isin(['Fully Paid', 'Charged Off'])]"
   ]
  },
  {
   "cell_type": "code",
   "execution_count": 10,
   "id": "46b3b4ff",
   "metadata": {},
   "outputs": [
    {
     "data": {
      "text/plain": [
       "(1345310, 151)"
      ]
     },
     "execution_count": 10,
     "metadata": {},
     "output_type": "execute_result"
    }
   ],
   "source": [
    "loans.shape"
   ]
  },
  {
   "cell_type": "code",
   "execution_count": 11,
   "id": "20f5b91d",
   "metadata": {},
   "outputs": [
    {
     "data": {
      "text/plain": [
       "Fully Paid     1076751\n",
       "Charged Off     268559\n",
       "Name: loan_status, dtype: int64"
      ]
     },
     "execution_count": 11,
     "metadata": {},
     "output_type": "execute_result"
    }
   ],
   "source": [
    "loans['loan_status'].value_counts(dropna=False)"
   ]
  },
  {
   "cell_type": "code",
   "execution_count": 12,
   "id": "409f1afd",
   "metadata": {},
   "outputs": [
    {
     "data": {
      "text/plain": [
       "Fully Paid     1076751\n",
       "Charged Off     268559\n",
       "Name: loan_status, dtype: int64"
      ]
     },
     "execution_count": 12,
     "metadata": {},
     "output_type": "execute_result"
    }
   ],
   "source": [
    "loans['loan_status'].value_counts()"
   ]
  },
  {
   "cell_type": "markdown",
   "id": "ee78ec5b",
   "metadata": {},
   "source": [
    "#### คำนวณ Percentage of Null ในแต่ละ Attributes"
   ]
  },
  {
   "cell_type": "code",
   "execution_count": 13,
   "id": "f0234151",
   "metadata": {},
   "outputs": [],
   "source": [
    "missing_fractions = loans.isnull().mean().sort_values(ascending=False)"
   ]
  },
  {
   "cell_type": "code",
   "execution_count": 14,
   "id": "c3936ca8",
   "metadata": {},
   "outputs": [
    {
     "data": {
      "text/plain": [
       "next_pymnt_d                                  1.000000\n",
       "member_id                                     1.000000\n",
       "orig_projected_additional_accrued_interest    0.997206\n",
       "hardship_start_date                           0.995723\n",
       "hardship_length                               0.995723\n",
       "hardship_type                                 0.995723\n",
       "hardship_reason                               0.995723\n",
       "hardship_status                               0.995723\n",
       "deferral_term                                 0.995723\n",
       "hardship_amount                               0.995723\n",
       "dtype: float64"
      ]
     },
     "execution_count": 14,
     "metadata": {},
     "output_type": "execute_result"
    }
   ],
   "source": [
    "missing_fractions.head(10)"
   ]
  },
  {
   "cell_type": "code",
   "execution_count": 15,
   "id": "19654ab9",
   "metadata": {},
   "outputs": [
    {
     "data": {
      "text/plain": [
       "Text(0, 0.5, 'Feature count')"
      ]
     },
     "execution_count": 15,
     "metadata": {},
     "output_type": "execute_result"
    },
    {
     "data": {
      "image/png": "[encoded data removed]",
      "text/plain": [
       "<Figure size 540x270 with 1 Axes>"
      ]
     },
     "metadata": {},
     "output_type": "display_data"
    }
   ],
   "source": [
    "plt.figure(figsize=(6,3), dpi=90)\n",
    "missing_fractions.plot.hist(bins=20)\n",
    "plt.title('Histogram of Feature Incompleteness')\n",
    "plt.xlabel('Fraction of data missing')\n",
    "plt.ylabel('Feature count')"
   ]
  },
  {
   "cell_type": "markdown",
   "id": "8d9a94cd",
   "metadata": {},
   "source": [
    "##### จากภาพแสดงว่า มี Attribute ที่ NULL เกินกว่า 40% เกินกว่า 40 ตัว"
   ]
  },
  {
   "cell_type": "code",
   "execution_count": 16,
   "id": "a339363e",
   "metadata": {},
   "outputs": [
    {
     "name": "stdout",
     "output_type": "stream",
     "text": [
      "['all_util', 'annual_inc_joint', 'debt_settlement_flag_date', 'deferral_term', 'desc', 'dti_joint', 'hardship_amount', 'hardship_dpd', 'hardship_end_date', 'hardship_last_payment_amount', 'hardship_length', 'hardship_loan_status', 'hardship_payoff_balance_amount', 'hardship_reason', 'hardship_start_date', 'hardship_status', 'hardship_type', 'il_util', 'inq_fi', 'inq_last_12m', 'max_bal_bc', 'member_id', 'mths_since_last_delinq', 'mths_since_last_major_derog', 'mths_since_last_record', 'mths_since_rcnt_il', 'mths_since_recent_bc_dlq', 'mths_since_recent_revol_delinq', 'next_pymnt_d', 'open_acc_6m', 'open_act_il', 'open_il_12m', 'open_il_24m', 'open_rv_12m', 'open_rv_24m', 'orig_projected_additional_accrued_interest', 'payment_plan_start_date', 'revol_bal_joint', 'sec_app_chargeoff_within_12_mths', 'sec_app_collections_12_mths_ex_med', 'sec_app_earliest_cr_line', 'sec_app_fico_range_high', 'sec_app_fico_range_low', 'sec_app_inq_last_6mths', 'sec_app_mort_acc', 'sec_app_mths_since_last_major_derog', 'sec_app_num_rev_accts', 'sec_app_open_acc', 'sec_app_open_act_il', 'sec_app_revol_util', 'settlement_amount', 'settlement_date', 'settlement_percentage', 'settlement_status', 'settlement_term', 'total_bal_il', 'total_cu_tl', 'verification_status_joint']\n"
     ]
    }
   ],
   "source": [
    "drop_list = sorted(list(missing_fractions[missing_fractions > 0.3].index))\n",
    "print(drop_list)"
   ]
  },
  {
   "cell_type": "code",
   "execution_count": 17,
   "id": "085e5eb0",
   "metadata": {},
   "outputs": [
    {
     "data": {
      "text/plain": [
       "58"
      ]
     },
     "execution_count": 17,
     "metadata": {},
     "output_type": "execute_result"
    }
   ],
   "source": [
    "len(drop_list)"
   ]
  },
  {
   "cell_type": "code",
   "execution_count": 18,
   "id": "d437bf43",
   "metadata": {},
   "outputs": [],
   "source": [
    "loans.drop(labels=drop_list, axis=1, inplace=True)"
   ]
  },
  {
   "cell_type": "code",
   "execution_count": 19,
   "id": "b83c4bf0",
   "metadata": {},
   "outputs": [
    {
     "data": {
      "text/plain": [
       "(1345310, 93)"
      ]
     },
     "execution_count": 19,
     "metadata": {},
     "output_type": "execute_result"
    }
   ],
   "source": [
    "loans.shape"
   ]
  },
  {
   "cell_type": "markdown",
   "id": "af056a24",
   "metadata": {},
   "source": [
    "#### Feature Selection with Business Perspective"
   ]
  },
  {
   "cell_type": "code",
   "execution_count": 20,
   "id": "09379816",
   "metadata": {},
   "outputs": [
    {
     "name": "stdout",
     "output_type": "stream",
     "text": [
      "['acc_now_delinq', 'acc_open_past_24mths', 'addr_state', 'annual_inc', 'application_type', 'avg_cur_bal', 'bc_open_to_buy', 'bc_util', 'chargeoff_within_12_mths', 'collection_recovery_fee', 'collections_12_mths_ex_med', 'debt_settlement_flag', 'delinq_2yrs', 'delinq_amnt', 'disbursement_method', 'dti', 'earliest_cr_line', 'emp_length', 'emp_title', 'fico_range_high', 'fico_range_low', 'funded_amnt', 'funded_amnt_inv', 'grade', 'hardship_flag', 'home_ownership', 'id', 'initial_list_status', 'inq_last_6mths', 'installment', 'int_rate', 'issue_d', 'last_credit_pull_d', 'last_fico_range_high', 'last_fico_range_low', 'last_pymnt_amnt', 'last_pymnt_d', 'loan_amnt', 'loan_status', 'mo_sin_old_il_acct', 'mo_sin_old_rev_tl_op', 'mo_sin_rcnt_rev_tl_op', 'mo_sin_rcnt_tl', 'mort_acc', 'mths_since_recent_bc', 'mths_since_recent_inq', 'num_accts_ever_120_pd', 'num_actv_bc_tl', 'num_actv_rev_tl', 'num_bc_sats', 'num_bc_tl', 'num_il_tl', 'num_op_rev_tl', 'num_rev_accts', 'num_rev_tl_bal_gt_0', 'num_sats', 'num_tl_120dpd_2m', 'num_tl_30dpd', 'num_tl_90g_dpd_24m', 'num_tl_op_past_12m', 'open_acc', 'out_prncp', 'out_prncp_inv', 'pct_tl_nvr_dlq', 'percent_bc_gt_75', 'policy_code', 'pub_rec', 'pub_rec_bankruptcies', 'purpose', 'pymnt_plan', 'recoveries', 'revol_bal', 'revol_util', 'sub_grade', 'tax_liens', 'term', 'title', 'tot_coll_amt', 'tot_cur_bal', 'tot_hi_cred_lim', 'total_acc', 'total_bal_ex_mort', 'total_bc_limit', 'total_il_high_credit_limit', 'total_pymnt', 'total_pymnt_inv', 'total_rec_int', 'total_rec_late_fee', 'total_rec_prncp', 'total_rev_hi_lim', 'url', 'verification_status', 'zip_code']\n"
     ]
    }
   ],
   "source": [
    "print(sorted(loans.columns))"
   ]
  },
  {
   "cell_type": "markdown",
   "id": "f4a78e3e",
   "metadata": {},
   "source": [
    "##### ชื่อ attributes ที่เป็นที่รู้จักของ Investor ซึ่งต้องการให้ Lending Club ทำการประเมิน Charge off / Fully Paid"
   ]
  },
  {
   "cell_type": "code",
   "execution_count": 21,
   "id": "88c0fb55",
   "metadata": {},
   "outputs": [],
   "source": [
    "keep_list = ['addr_state', 'annual_inc', 'application_type', 'dti', 'earliest_cr_line', 'emp_length', 'emp_title', 'fico_range_high', 'fico_range_low', 'grade', 'home_ownership', 'id', 'initial_list_status', 'installment', 'int_rate', 'issue_d', 'loan_amnt', 'loan_status', 'mort_acc', 'open_acc', 'pub_rec', 'pub_rec_bankruptcies', 'purpose', 'revol_bal', 'revol_util', 'sub_grade', 'term', 'title', 'total_acc', 'verification_status', 'zip_code']"
   ]
  },
  {
   "cell_type": "code",
   "execution_count": 22,
   "id": "9dd620d4",
   "metadata": {},
   "outputs": [
    {
     "data": {
      "text/plain": [
       "31"
      ]
     },
     "execution_count": 22,
     "metadata": {},
     "output_type": "execute_result"
    }
   ],
   "source": [
    "len(keep_list)"
   ]
  },
  {
   "cell_type": "markdown",
   "id": "62687e9f",
   "metadata": {},
   "source": [
    "##### drop attribute ที่ไม่ได้อยู่ใน keep list ออกจาก loans dataframe"
   ]
  },
  {
   "cell_type": "code",
   "execution_count": 23,
   "id": "9f5701df",
   "metadata": {},
   "outputs": [
    {
     "name": "stdout",
     "output_type": "stream",
     "text": [
      "['funded_amnt', 'funded_amnt_inv', 'pymnt_plan', 'url', 'delinq_2yrs', 'inq_last_6mths', 'out_prncp', 'out_prncp_inv', 'total_pymnt', 'total_pymnt_inv', 'total_rec_prncp', 'total_rec_int', 'total_rec_late_fee', 'recoveries', 'collection_recovery_fee', 'last_pymnt_d', 'last_pymnt_amnt', 'last_credit_pull_d', 'last_fico_range_high', 'last_fico_range_low', 'collections_12_mths_ex_med', 'policy_code', 'acc_now_delinq', 'tot_coll_amt', 'tot_cur_bal', 'total_rev_hi_lim', 'acc_open_past_24mths', 'avg_cur_bal', 'bc_open_to_buy', 'bc_util', 'chargeoff_within_12_mths', 'delinq_amnt', 'mo_sin_old_il_acct', 'mo_sin_old_rev_tl_op', 'mo_sin_rcnt_rev_tl_op', 'mo_sin_rcnt_tl', 'mths_since_recent_bc', 'mths_since_recent_inq', 'num_accts_ever_120_pd', 'num_actv_bc_tl', 'num_actv_rev_tl', 'num_bc_sats', 'num_bc_tl', 'num_il_tl', 'num_op_rev_tl', 'num_rev_accts', 'num_rev_tl_bal_gt_0', 'num_sats', 'num_tl_120dpd_2m', 'num_tl_30dpd', 'num_tl_90g_dpd_24m', 'num_tl_op_past_12m', 'pct_tl_nvr_dlq', 'percent_bc_gt_75', 'tax_liens', 'tot_hi_cred_lim', 'total_bal_ex_mort', 'total_bc_limit', 'total_il_high_credit_limit', 'hardship_flag', 'disbursement_method', 'debt_settlement_flag']\n"
     ]
    }
   ],
   "source": [
    "drop_list = [col for col in loans.columns if col not in keep_list]\n",
    "print(drop_list)"
   ]
  },
  {
   "cell_type": "code",
   "execution_count": 24,
   "id": "a67d7ed8",
   "metadata": {},
   "outputs": [
    {
     "data": {
      "text/plain": [
       "62"
      ]
     },
     "execution_count": 24,
     "metadata": {},
     "output_type": "execute_result"
    }
   ],
   "source": [
    "len(drop_list)"
   ]
  },
  {
   "cell_type": "code",
   "execution_count": 25,
   "id": "a6edcc98",
   "metadata": {},
   "outputs": [],
   "source": [
    "loans.drop(labels=drop_list, axis=1, inplace=True)"
   ]
  },
  {
   "cell_type": "code",
   "execution_count": 26,
   "id": "57f07678",
   "metadata": {},
   "outputs": [
    {
     "data": {
      "text/plain": [
       "(1345310, 31)"
      ]
     },
     "execution_count": 26,
     "metadata": {},
     "output_type": "execute_result"
    }
   ],
   "source": [
    "loans.shape"
   ]
  },
  {
   "cell_type": "markdown",
   "id": "8857157a",
   "metadata": {},
   "source": [
    "## EDA"
   ]
  },
  {
   "cell_type": "code",
   "execution_count": 27,
   "id": "5b3573e4",
   "metadata": {},
   "outputs": [],
   "source": [
    "def plot_var(col_name, full_name, continuous):\n",
    "    \"\"\"\n",
    "    Visualize a variable with and without faceting on the loan status.\n",
    "    - col_name is the variable name in the dataframe\n",
    "    - full_name is the full variable name\n",
    "    - continuous is True if the variable is continuous, False otherwise\n",
    "    \"\"\"\n",
    "    f, (ax1, ax2) = plt.subplots(nrows=1, ncols=2, figsize=(12,3), dpi=90)\n",
    "    \n",
    "    # Plot without loan status\n",
    "    if continuous:\n",
    "        sns.distplot(loans.loc[loans[col_name].notnull(), col_name], kde=False, ax=ax1)\n",
    "    else:\n",
    "        sns.countplot(loans[col_name], order=sorted(loans[col_name].unique()), color='#5975A4', saturation=1, ax=ax1)\n",
    "    ax1.set_xlabel(full_name)\n",
    "    ax1.set_ylabel('Count')\n",
    "    ax1.set_title(full_name)\n",
    "\n",
    "    # Plot with loan status\n",
    "    if continuous:\n",
    "        sns.boxplot(x=col_name, y='loan_status', data=loans, ax=ax2)\n",
    "        ax2.set_ylabel('')\n",
    "        ax2.set_title(full_name + ' by Loan Status')\n",
    "    else:\n",
    "        charge_off_rates = loans.groupby(col_name)['loan_status'].value_counts(normalize=True).loc[:,'Charged Off']\n",
    "        sns.barplot(x=charge_off_rates.index, y=charge_off_rates.values, color='#5975A4', saturation=1, ax=ax2)\n",
    "        ax2.set_ylabel('Fraction of Loans Charged-off')\n",
    "        ax2.set_title('Charge-off Rate by ' + full_name)\n",
    "    ax2.set_xlabel(full_name)\n",
    "    \n",
    "    plt.tight_layout()"
   ]
  },
  {
   "cell_type": "code",
   "execution_count": 28,
   "id": "31a7f53b",
   "metadata": {},
   "outputs": [
    {
     "name": "stdout",
     "output_type": "stream",
     "text": [
      "['id', 'loan_amnt', 'term', 'int_rate', 'installment', 'grade', 'sub_grade', 'emp_title', 'emp_length', 'home_ownership', 'annual_inc', 'verification_status', 'issue_d', 'loan_status', 'purpose', 'title', 'zip_code', 'addr_state', 'dti', 'earliest_cr_line', 'fico_range_low', 'fico_range_high', 'open_acc', 'pub_rec', 'revol_bal', 'revol_util', 'total_acc', 'initial_list_status', 'application_type', 'mort_acc', 'pub_rec_bankruptcies']\n"
     ]
    }
   ],
   "source": [
    "print(list(loans.columns))"
   ]
  },
  {
   "cell_type": "markdown",
   "id": "65002c74",
   "metadata": {},
   "source": [
    "#### id"
   ]
  },
  {
   "cell_type": "code",
   "execution_count": 29,
   "id": "c1b5f780",
   "metadata": {},
   "outputs": [
    {
     "data": {
      "text/plain": [
       "343466      41398278\n",
       "334657      43956738\n",
       "2171339     95196767\n",
       "510150     126775221\n",
       "479858     128413622\n",
       "Name: id, dtype: object"
      ]
     },
     "execution_count": 29,
     "metadata": {},
     "output_type": "execute_result"
    }
   ],
   "source": [
    "loans['id'].sample(5)"
   ]
  },
  {
   "cell_type": "markdown",
   "id": "28ec4b3f",
   "metadata": {},
   "source": [
    "##### id มีค่าที่แตกต่างกันมากเกินไปจึง drop id ทิ้งไป (ไม่มี Pattern ใน id)"
   ]
  },
  {
   "cell_type": "code",
   "execution_count": 30,
   "id": "48c5b112",
   "metadata": {},
   "outputs": [
    {
     "data": {
      "text/plain": [
       "count      1345310\n",
       "unique     1345310\n",
       "top       68407277\n",
       "freq             1\n",
       "Name: id, dtype: int64"
      ]
     },
     "execution_count": 30,
     "metadata": {},
     "output_type": "execute_result"
    }
   ],
   "source": [
    "loans['id'].describe()"
   ]
  },
  {
   "cell_type": "code",
   "execution_count": 31,
   "id": "7340e2cf",
   "metadata": {},
   "outputs": [],
   "source": [
    "loans.drop('id', axis=1, inplace=True)"
   ]
  },
  {
   "cell_type": "markdown",
   "id": "b1bd892f",
   "metadata": {},
   "source": [
    "#### loan_amnt"
   ]
  },
  {
   "cell_type": "code",
   "execution_count": 32,
   "id": "4dc634e5",
   "metadata": {},
   "outputs": [
    {
     "data": {
      "text/plain": [
       "count    1.345310e+06\n",
       "mean     1.441997e+04\n",
       "std      8.717051e+03\n",
       "min      5.000000e+02\n",
       "25%      8.000000e+03\n",
       "50%      1.200000e+04\n",
       "75%      2.000000e+04\n",
       "max      4.000000e+04\n",
       "Name: loan_amnt, dtype: float64"
      ]
     },
     "execution_count": 32,
     "metadata": {},
     "output_type": "execute_result"
    }
   ],
   "source": [
    "loans['loan_amnt'].describe()"
   ]
  },
  {
   "cell_type": "code",
   "execution_count": 33,
   "id": "4bb26bd5",
   "metadata": {},
   "outputs": [
    {
     "name": "stderr",
     "output_type": "stream",
     "text": [
      "/opt/conda/lib/python3.7/site-packages/seaborn/distributions.py:2557: FutureWarning: `distplot` is a deprecated function and will be removed in a future version. Please adapt your code to use either `displot` (a figure-level function with similar flexibility) or `histplot` (an axes-level function for histograms).\n",
      "  warnings.warn(msg, FutureWarning)\n"
     ]
    },
    {
     "data": {
      "image/png": "[encoded data removed]",
      "text/plain": [
       "<Figure size 1080x270 with 2 Axes>"
      ]
     },
     "metadata": {},
     "output_type": "display_data"
    }
   ],
   "source": [
    "plot_var('loan_amnt', 'Loan Amount', continuous=True)"
   ]
  },
  {
   "cell_type": "markdown",
   "id": "1aefb14d",
   "metadata": {},
   "source": [
    "##### จาก BoxPlot เห็นว่า Charged Off มีแนวโน้มการปล่อยกู้แต่ละบัญชีในวงเงินที่สูงกว่า Fully Paid"
   ]
  },
  {
   "cell_type": "markdown",
   "id": "3f920641",
   "metadata": {},
   "source": [
    "##### และพบว่ากรณี mean ก็เช่นเดียวกัน"
   ]
  },
  {
   "cell_type": "code",
   "execution_count": 34,
   "id": "91e9ea6d",
   "metadata": {},
   "outputs": [
    {
     "data": {
      "text/html": [
       "<div>\n",
       "<style scoped>\n",
       "    .dataframe tbody tr th:only-of-type {\n",
       "        vertical-align: middle;\n",
       "    }\n",
       "\n",
       "    .dataframe tbody tr th {\n",
       "        vertical-align: top;\n",
       "    }\n",
       "\n",
       "    .dataframe thead th {\n",
       "        text-align: right;\n",
       "    }\n",
       "</style>\n",
       "<table border=\"1\" class=\"dataframe\">\n",
       "  <thead>\n",
       "    <tr style=\"text-align: right;\">\n",
       "      <th></th>\n",
       "      <th>count</th>\n",
       "      <th>mean</th>\n",
       "      <th>std</th>\n",
       "      <th>min</th>\n",
       "      <th>25%</th>\n",
       "      <th>50%</th>\n",
       "      <th>75%</th>\n",
       "      <th>max</th>\n",
       "    </tr>\n",
       "    <tr>\n",
       "      <th>loan_status</th>\n",
       "      <th></th>\n",
       "      <th></th>\n",
       "      <th></th>\n",
       "      <th></th>\n",
       "      <th></th>\n",
       "      <th></th>\n",
       "      <th></th>\n",
       "      <th></th>\n",
       "    </tr>\n",
       "  </thead>\n",
       "  <tbody>\n",
       "    <tr>\n",
       "      <th>Charged Off</th>\n",
       "      <td>268559.0</td>\n",
       "      <td>15565.055444</td>\n",
       "      <td>8814.560077</td>\n",
       "      <td>900.0</td>\n",
       "      <td>9000.0</td>\n",
       "      <td>14350.0</td>\n",
       "      <td>20400.0</td>\n",
       "      <td>40000.0</td>\n",
       "    </tr>\n",
       "    <tr>\n",
       "      <th>Fully Paid</th>\n",
       "      <td>1076751.0</td>\n",
       "      <td>14134.369808</td>\n",
       "      <td>8669.028973</td>\n",
       "      <td>500.0</td>\n",
       "      <td>7500.0</td>\n",
       "      <td>12000.0</td>\n",
       "      <td>20000.0</td>\n",
       "      <td>40000.0</td>\n",
       "    </tr>\n",
       "  </tbody>\n",
       "</table>\n",
       "</div>"
      ],
      "text/plain": [
       "                 count          mean          std    min     25%      50%  \\\n",
       "loan_status                                                                 \n",
       "Charged Off   268559.0  15565.055444  8814.560077  900.0  9000.0  14350.0   \n",
       "Fully Paid   1076751.0  14134.369808  8669.028973  500.0  7500.0  12000.0   \n",
       "\n",
       "                 75%      max  \n",
       "loan_status                    \n",
       "Charged Off  20400.0  40000.0  \n",
       "Fully Paid   20000.0  40000.0  "
      ]
     },
     "execution_count": 34,
     "metadata": {},
     "output_type": "execute_result"
    }
   ],
   "source": [
    "loans.groupby('loan_status')['loan_amnt'].describe()"
   ]
  },
  {
   "cell_type": "markdown",
   "id": "58d79619",
   "metadata": {},
   "source": [
    "#### term"
   ]
  },
  {
   "cell_type": "code",
   "execution_count": 35,
   "id": "ac6e44b2",
   "metadata": {},
   "outputs": [
    {
     "data": {
      "text/plain": [
       " 36 months    1020743\n",
       " 60 months     324567\n",
       "Name: term, dtype: int64"
      ]
     },
     "execution_count": 35,
     "metadata": {},
     "output_type": "execute_result"
    }
   ],
   "source": [
    "loans['term'].value_counts(dropna=False)"
   ]
  },
  {
   "cell_type": "markdown",
   "id": "0a660c48",
   "metadata": {},
   "source": [
    "##### แปลงเป็น numeric"
   ]
  },
  {
   "cell_type": "code",
   "execution_count": 36,
   "id": "4c21c42a",
   "metadata": {},
   "outputs": [],
   "source": [
    "loans['term'] = loans['term'].apply(lambda s: np.int8(s.split()[0]))"
   ]
  },
  {
   "cell_type": "code",
   "execution_count": 37,
   "id": "e19ae4ca",
   "metadata": {},
   "outputs": [
    {
     "data": {
      "text/plain": [
       "36    0.758742\n",
       "60    0.241258\n",
       "Name: term, dtype: float64"
      ]
     },
     "execution_count": 37,
     "metadata": {},
     "output_type": "execute_result"
    }
   ],
   "source": [
    "loans['term'].value_counts(normalize=True)"
   ]
  },
  {
   "cell_type": "code",
   "execution_count": 38,
   "id": "7554b28d",
   "metadata": {},
   "outputs": [
    {
     "data": {
      "text/plain": [
       "term  loan_status\n",
       "36    Fully Paid     0.840066\n",
       "      Charged Off    0.159934\n",
       "60    Fully Paid     0.675546\n",
       "      Charged Off    0.324454\n",
       "Name: loan_status, dtype: float64"
      ]
     },
     "execution_count": 38,
     "metadata": {},
     "output_type": "execute_result"
    }
   ],
   "source": [
    "loans.groupby('term')['loan_status'].value_counts(normalize=True)"
   ]
  },
  {
   "cell_type": "markdown",
   "id": "cc94dd2a",
   "metadata": {},
   "source": [
    "##### ทั้งระยะเวลาของสัญญา 36, 60 เดือน มีคนที่เบี้ยวหนี้ทั้งคู่ แต่จะเห็นว่า 60 เดือน นั้นสูงกว่า"
   ]
  },
  {
   "cell_type": "code",
   "execution_count": 39,
   "id": "05e37544",
   "metadata": {},
   "outputs": [
    {
     "data": {
      "text/plain": [
       "term\n",
       "36    0.159934\n",
       "60    0.324454\n",
       "Name: loan_status, dtype: float64"
      ]
     },
     "execution_count": 39,
     "metadata": {},
     "output_type": "execute_result"
    }
   ],
   "source": [
    "loans.groupby('term')['loan_status'].value_counts(normalize=True).loc[:,'Charged Off']"
   ]
  },
  {
   "cell_type": "markdown",
   "id": "52395355",
   "metadata": {},
   "source": [
    "#### int_rate"
   ]
  },
  {
   "cell_type": "code",
   "execution_count": 40,
   "id": "bf894831",
   "metadata": {},
   "outputs": [
    {
     "data": {
      "text/plain": [
       "count    1.345310e+06\n",
       "mean     1.323962e+01\n",
       "std      4.768716e+00\n",
       "min      5.310000e+00\n",
       "25%      9.750000e+00\n",
       "50%      1.274000e+01\n",
       "75%      1.599000e+01\n",
       "max      3.099000e+01\n",
       "Name: int_rate, dtype: float64"
      ]
     },
     "execution_count": 40,
     "metadata": {},
     "output_type": "execute_result"
    }
   ],
   "source": [
    "loans['int_rate'].describe()"
   ]
  },
  {
   "cell_type": "code",
   "execution_count": 41,
   "id": "86f82bfd",
   "metadata": {},
   "outputs": [
    {
     "name": "stderr",
     "output_type": "stream",
     "text": [
      "/opt/conda/lib/python3.7/site-packages/seaborn/distributions.py:2557: FutureWarning: `distplot` is a deprecated function and will be removed in a future version. Please adapt your code to use either `displot` (a figure-level function with similar flexibility) or `histplot` (an axes-level function for histograms).\n",
      "  warnings.warn(msg, FutureWarning)\n"
     ]
    },
    {
     "data": {
      "image/png": "[encoded data removed]",
      "text/plain": [
       "<Figure size 1080x270 with 2 Axes>"
      ]
     },
     "metadata": {},
     "output_type": "display_data"
    }
   ],
   "source": [
    "plot_var('int_rate', 'Interest Rate', continuous=True)"
   ]
  },
  {
   "cell_type": "code",
   "execution_count": 42,
   "id": "1e10ac36",
   "metadata": {},
   "outputs": [
    {
     "data": {
      "text/html": [
       "<div>\n",
       "<style scoped>\n",
       "    .dataframe tbody tr th:only-of-type {\n",
       "        vertical-align: middle;\n",
       "    }\n",
       "\n",
       "    .dataframe tbody tr th {\n",
       "        vertical-align: top;\n",
       "    }\n",
       "\n",
       "    .dataframe thead th {\n",
       "        text-align: right;\n",
       "    }\n",
       "</style>\n",
       "<table border=\"1\" class=\"dataframe\">\n",
       "  <thead>\n",
       "    <tr style=\"text-align: right;\">\n",
       "      <th></th>\n",
       "      <th>count</th>\n",
       "      <th>mean</th>\n",
       "      <th>std</th>\n",
       "      <th>min</th>\n",
       "      <th>25%</th>\n",
       "      <th>50%</th>\n",
       "      <th>75%</th>\n",
       "      <th>max</th>\n",
       "    </tr>\n",
       "    <tr>\n",
       "      <th>loan_status</th>\n",
       "      <th></th>\n",
       "      <th></th>\n",
       "      <th></th>\n",
       "      <th></th>\n",
       "      <th></th>\n",
       "      <th></th>\n",
       "      <th></th>\n",
       "      <th></th>\n",
       "    </tr>\n",
       "  </thead>\n",
       "  <tbody>\n",
       "    <tr>\n",
       "      <th>Charged Off</th>\n",
       "      <td>268559.0</td>\n",
       "      <td>15.710714</td>\n",
       "      <td>4.910387</td>\n",
       "      <td>5.31</td>\n",
       "      <td>12.29</td>\n",
       "      <td>15.05</td>\n",
       "      <td>18.55</td>\n",
       "      <td>30.99</td>\n",
       "    </tr>\n",
       "    <tr>\n",
       "      <th>Fully Paid</th>\n",
       "      <td>1076751.0</td>\n",
       "      <td>12.623288</td>\n",
       "      <td>4.527227</td>\n",
       "      <td>5.31</td>\n",
       "      <td>9.17</td>\n",
       "      <td>12.23</td>\n",
       "      <td>15.31</td>\n",
       "      <td>30.99</td>\n",
       "    </tr>\n",
       "  </tbody>\n",
       "</table>\n",
       "</div>"
      ],
      "text/plain": [
       "                 count       mean       std   min    25%    50%    75%    max\n",
       "loan_status                                                                  \n",
       "Charged Off   268559.0  15.710714  4.910387  5.31  12.29  15.05  18.55  30.99\n",
       "Fully Paid   1076751.0  12.623288  4.527227  5.31   9.17  12.23  15.31  30.99"
      ]
     },
     "execution_count": 42,
     "metadata": {},
     "output_type": "execute_result"
    }
   ],
   "source": [
    "loans.groupby('loan_status')['int_rate'].describe()"
   ]
  },
  {
   "cell_type": "markdown",
   "id": "56a6452a",
   "metadata": {},
   "source": [
    "#### installation"
   ]
  },
  {
   "cell_type": "code",
   "execution_count": 43,
   "id": "706ea05f",
   "metadata": {},
   "outputs": [
    {
     "data": {
      "text/plain": [
       "count    1.345310e+06\n",
       "mean     4.380755e+02\n",
       "std      2.615126e+02\n",
       "min      4.930000e+00\n",
       "25%      2.484800e+02\n",
       "50%      3.754300e+02\n",
       "75%      5.807300e+02\n",
       "max      1.719830e+03\n",
       "Name: installment, dtype: float64"
      ]
     },
     "execution_count": 43,
     "metadata": {},
     "output_type": "execute_result"
    }
   ],
   "source": [
    "loans['installment'].describe()"
   ]
  },
  {
   "cell_type": "code",
   "execution_count": 44,
   "id": "6dea3847",
   "metadata": {},
   "outputs": [
    {
     "name": "stderr",
     "output_type": "stream",
     "text": [
      "/opt/conda/lib/python3.7/site-packages/seaborn/distributions.py:2557: FutureWarning: `distplot` is a deprecated function and will be removed in a future version. Please adapt your code to use either `displot` (a figure-level function with similar flexibility) or `histplot` (an axes-level function for histograms).\n",
      "  warnings.warn(msg, FutureWarning)\n"
     ]
    },
    {
     "data": {
      "image/png": "[encoded data removed]",
      "text/plain": [
       "<Figure size 1080x270 with 2 Axes>"
      ]
     },
     "metadata": {},
     "output_type": "display_data"
    }
   ],
   "source": [
    "plot_var('installment', 'Installment', continuous=True)"
   ]
  },
  {
   "cell_type": "code",
   "execution_count": 45,
   "id": "dd06ace7",
   "metadata": {},
   "outputs": [
    {
     "data": {
      "text/html": [
       "<div>\n",
       "<style scoped>\n",
       "    .dataframe tbody tr th:only-of-type {\n",
       "        vertical-align: middle;\n",
       "    }\n",
       "\n",
       "    .dataframe tbody tr th {\n",
       "        vertical-align: top;\n",
       "    }\n",
       "\n",
       "    .dataframe thead th {\n",
       "        text-align: right;\n",
       "    }\n",
       "</style>\n",
       "<table border=\"1\" class=\"dataframe\">\n",
       "  <thead>\n",
       "    <tr style=\"text-align: right;\">\n",
       "      <th></th>\n",
       "      <th>count</th>\n",
       "      <th>mean</th>\n",
       "      <th>std</th>\n",
       "      <th>min</th>\n",
       "      <th>25%</th>\n",
       "      <th>50%</th>\n",
       "      <th>75%</th>\n",
       "      <th>max</th>\n",
       "    </tr>\n",
       "    <tr>\n",
       "      <th>loan_status</th>\n",
       "      <th></th>\n",
       "      <th></th>\n",
       "      <th></th>\n",
       "      <th></th>\n",
       "      <th></th>\n",
       "      <th></th>\n",
       "      <th></th>\n",
       "      <th></th>\n",
       "    </tr>\n",
       "  </thead>\n",
       "  <tbody>\n",
       "    <tr>\n",
       "      <th>Charged Off</th>\n",
       "      <td>268559.0</td>\n",
       "      <td>465.147994</td>\n",
       "      <td>262.774106</td>\n",
       "      <td>21.62</td>\n",
       "      <td>275.29</td>\n",
       "      <td>402.83</td>\n",
       "      <td>605.31</td>\n",
       "      <td>1717.63</td>\n",
       "    </tr>\n",
       "    <tr>\n",
       "      <th>Fully Paid</th>\n",
       "      <td>1076751.0</td>\n",
       "      <td>431.323226</td>\n",
       "      <td>260.759563</td>\n",
       "      <td>4.93</td>\n",
       "      <td>240.92</td>\n",
       "      <td>368.26</td>\n",
       "      <td>573.06</td>\n",
       "      <td>1719.83</td>\n",
       "    </tr>\n",
       "  </tbody>\n",
       "</table>\n",
       "</div>"
      ],
      "text/plain": [
       "                 count        mean         std    min     25%     50%     75%  \\\n",
       "loan_status                                                                     \n",
       "Charged Off   268559.0  465.147994  262.774106  21.62  275.29  402.83  605.31   \n",
       "Fully Paid   1076751.0  431.323226  260.759563   4.93  240.92  368.26  573.06   \n",
       "\n",
       "                 max  \n",
       "loan_status           \n",
       "Charged Off  1717.63  \n",
       "Fully Paid   1719.83  "
      ]
     },
     "execution_count": 45,
     "metadata": {},
     "output_type": "execute_result"
    }
   ],
   "source": [
    "loans.groupby('loan_status')['installment'].describe()"
   ]
  },
  {
   "cell_type": "markdown",
   "id": "783809ed",
   "metadata": {},
   "source": [
    "#### grade, sub_grade"
   ]
  },
  {
   "cell_type": "code",
   "execution_count": 46,
   "id": "0c4bb2f1",
   "metadata": {},
   "outputs": [
    {
     "name": "stdout",
     "output_type": "stream",
     "text": [
      "['A', 'B', 'C', 'D', 'E', 'F', 'G']\n"
     ]
    }
   ],
   "source": [
    "print(sorted(loans['grade'].unique()))"
   ]
  },
  {
   "cell_type": "code",
   "execution_count": 47,
   "id": "92ae8982",
   "metadata": {},
   "outputs": [
    {
     "name": "stdout",
     "output_type": "stream",
     "text": [
      "['A1', 'A2', 'A3', 'A4', 'A5', 'B1', 'B2', 'B3', 'B4', 'B5', 'C1', 'C2', 'C3', 'C4', 'C5', 'D1', 'D2', 'D3', 'D4', 'D5', 'E1', 'E2', 'E3', 'E4', 'E5', 'F1', 'F2', 'F3', 'F4', 'F5', 'G1', 'G2', 'G3', 'G4', 'G5']\n"
     ]
    }
   ],
   "source": [
    "print(sorted(loans['sub_grade'].unique()))"
   ]
  },
  {
   "cell_type": "code",
   "execution_count": 48,
   "id": "2d55fd0f",
   "metadata": {},
   "outputs": [],
   "source": [
    "loans.drop('grade', axis=1, inplace=True)"
   ]
  },
  {
   "cell_type": "code",
   "execution_count": 49,
   "id": "866b4e02",
   "metadata": {},
   "outputs": [
    {
     "data": {
      "text/plain": [
       "sub_grade\n",
       "G5    0.536036\n",
       "G3    0.513631\n",
       "G4    0.511719\n",
       "F5    0.491758\n",
       "G2    0.491319\n",
       "F4    0.478905\n",
       "G1    0.478478\n",
       "F2    0.453459\n",
       "F3    0.450723\n",
       "F1    0.422969\n",
       "E5    0.417701\n",
       "E4    0.401018\n",
       "E3    0.387121\n",
       "E2    0.375450\n",
       "E1    0.360647\n",
       "D5    0.334270\n",
       "D4    0.323680\n",
       "D3    0.305415\n",
       "D2    0.295866\n",
       "D1    0.278054\n",
       "C5    0.260050\n",
       "C4    0.249204\n",
       "C3    0.225233\n",
       "C2    0.207188\n",
       "C1    0.189838\n",
       "B5    0.167014\n",
       "B4    0.148271\n",
       "B3    0.129835\n",
       "B2    0.113598\n",
       "B1    0.104212\n",
       "A5    0.084043\n",
       "A4    0.068670\n",
       "A3    0.055085\n",
       "A2    0.046640\n",
       "A1    0.032236\n",
       "Name: loan_status, dtype: float64"
      ]
     },
     "execution_count": 49,
     "metadata": {},
     "output_type": "execute_result"
    }
   ],
   "source": [
    "loans.groupby('sub_grade')['loan_status'].value_counts(normalize=True).sort_values(ascending=False)\\\n",
    ".loc[:,'Charged Off']"
   ]
  },
  {
   "cell_type": "code",
   "execution_count": 50,
   "id": "59ae865d",
   "metadata": {},
   "outputs": [
    {
     "data": {
      "text/plain": [
       "sub_grade\n",
       "A1    0.967764\n",
       "A2    0.953360\n",
       "A3    0.944915\n",
       "A4    0.931330\n",
       "A5    0.915957\n",
       "B1    0.895788\n",
       "B2    0.886402\n",
       "B3    0.870165\n",
       "B4    0.851729\n",
       "B5    0.832986\n",
       "C1    0.810162\n",
       "C2    0.792812\n",
       "C3    0.774767\n",
       "C4    0.750796\n",
       "C5    0.739950\n",
       "D1    0.721946\n",
       "D2    0.704134\n",
       "D3    0.694585\n",
       "D4    0.676320\n",
       "D5    0.665730\n",
       "E1    0.639353\n",
       "E2    0.624550\n",
       "E3    0.612879\n",
       "E4    0.598982\n",
       "E5    0.582299\n",
       "F1    0.577031\n",
       "F3    0.549277\n",
       "F2    0.546541\n",
       "G1    0.521522\n",
       "F4    0.521095\n",
       "G2    0.508681\n",
       "F5    0.508242\n",
       "G4    0.488281\n",
       "G3    0.486369\n",
       "G5    0.463964\n",
       "Name: loan_status, dtype: float64"
      ]
     },
     "execution_count": 50,
     "metadata": {},
     "output_type": "execute_result"
    }
   ],
   "source": [
    "loans.groupby('sub_grade')['loan_status'].value_counts(normalize=True).sort_values(ascending=False)\\\n",
    ".loc[:,'Fully Paid']"
   ]
  },
  {
   "cell_type": "code",
   "execution_count": 51,
   "id": "c80bf7d1",
   "metadata": {},
   "outputs": [
    {
     "data": {
      "text/plain": [
       "C1    0.063550\n",
       "B4    0.061844\n",
       "B5    0.061352\n",
       "B3    0.060824\n",
       "C2    0.058881\n",
       "C3    0.055748\n",
       "C4    0.055319\n",
       "B2    0.055024\n",
       "B1    0.052890\n",
       "C5    0.050219\n",
       "A5    0.047575\n",
       "A4    0.038827\n",
       "D1    0.038148\n",
       "D2    0.033337\n",
       "A1    0.032467\n",
       "D3    0.029225\n",
       "A3    0.028243\n",
       "A2    0.027635\n",
       "D4    0.026437\n",
       "D5    0.022226\n",
       "E1    0.017653\n",
       "E2    0.015890\n",
       "E3    0.013667\n",
       "E4    0.011685\n",
       "E5    0.010716\n",
       "F1    0.007411\n",
       "F2    0.005350\n",
       "F3    0.004525\n",
       "F4    0.003612\n",
       "F5    0.002931\n",
       "G1    0.002228\n",
       "G2    0.001584\n",
       "G3    0.001200\n",
       "G4    0.000951\n",
       "G5    0.000825\n",
       "Name: sub_grade, dtype: float64"
      ]
     },
     "execution_count": 51,
     "metadata": {},
     "output_type": "execute_result"
    }
   ],
   "source": [
    "loans['sub_grade'].value_counts(normalize=True).sort_values(ascending=False)"
   ]
  },
  {
   "cell_type": "code",
   "execution_count": 52,
   "id": "8fff6a3d",
   "metadata": {},
   "outputs": [
    {
     "name": "stderr",
     "output_type": "stream",
     "text": [
      "/opt/conda/lib/python3.7/site-packages/seaborn/_decorators.py:43: FutureWarning: Pass the following variable as a keyword arg: x. From version 0.12, the only valid positional argument will be `data`, and passing other arguments without an explicit keyword will result in an error or misinterpretation.\n",
      "  FutureWarning\n"
     ]
    },
    {
     "data": {
      "image/png": "[encoded data removed]",
      "text/plain": [
       "<Figure size 1080x270 with 2 Axes>"
      ]
     },
     "metadata": {},
     "output_type": "display_data"
    }
   ],
   "source": [
    "plot_var('sub_grade', 'Subgrade', continuous=False)"
   ]
  },
  {
   "cell_type": "markdown",
   "id": "818d59a0",
   "metadata": {},
   "source": [
    "##### จากภาพแนวโน้มคนเบี้ยวหนี้เป็นไปตาม sub_grade ที่แย่ตามไปด้วย"
   ]
  },
  {
   "cell_type": "code",
   "execution_count": 53,
   "id": "e9d0684d",
   "metadata": {},
   "outputs": [
    {
     "data": {
      "text/plain": [
       "1 year        88494\n",
       "10+ years    442199\n",
       "2 years      121743\n",
       "3 years      107597\n",
       "4 years       80556\n",
       "5 years       84154\n",
       "6 years       62733\n",
       "7 years       59624\n",
       "8 years       60701\n",
       "9 years       50937\n",
       "< 1 year     108061\n",
       "NaN           78511\n",
       "Name: emp_length, dtype: int64"
      ]
     },
     "execution_count": 53,
     "metadata": {},
     "output_type": "execute_result"
    }
   ],
   "source": [
    "loans['emp_length'].value_counts(dropna=False).sort_index()"
   ]
  },
  {
   "cell_type": "markdown",
   "id": "bcb3f971",
   "metadata": {},
   "source": [
    "##### แปลงเป็น numeric"
   ]
  },
  {
   "cell_type": "code",
   "execution_count": 54,
   "id": "75d8188a",
   "metadata": {},
   "outputs": [],
   "source": [
    "loans['emp_length'].replace(to_replace='10+ years', value='10 years', inplace=True)"
   ]
  },
  {
   "cell_type": "code",
   "execution_count": 55,
   "id": "6ab20849",
   "metadata": {},
   "outputs": [],
   "source": [
    "loans['emp_length'].replace('< 1 year', '0 years', inplace=True)"
   ]
  },
  {
   "cell_type": "code",
   "execution_count": 56,
   "id": "e5779b14",
   "metadata": {},
   "outputs": [],
   "source": [
    "def emp_length_to_int(s):\n",
    "    if pd.isnull(s):\n",
    "        return s\n",
    "    else:\n",
    "        return np.int8(s.split()[0])"
   ]
  },
  {
   "cell_type": "code",
   "execution_count": 57,
   "id": "f234cab7",
   "metadata": {},
   "outputs": [],
   "source": [
    "loans['emp_length'] = loans['emp_length'].apply(emp_length_to_int)"
   ]
  },
  {
   "cell_type": "code",
   "execution_count": 58,
   "id": "3b56b95d",
   "metadata": {},
   "outputs": [
    {
     "data": {
      "text/plain": [
       "0.0     108061\n",
       "1.0      88494\n",
       "2.0     121743\n",
       "3.0     107597\n",
       "4.0      80556\n",
       "5.0      84154\n",
       "6.0      62733\n",
       "7.0      59624\n",
       "8.0      60701\n",
       "9.0      50937\n",
       "10.0    442199\n",
       "NaN      78511\n",
       "Name: emp_length, dtype: int64"
      ]
     },
     "execution_count": 58,
     "metadata": {},
     "output_type": "execute_result"
    }
   ],
   "source": [
    "loans['emp_length'].value_counts(dropna=False).sort_index()"
   ]
  },
  {
   "cell_type": "code",
   "execution_count": 59,
   "id": "6d791687",
   "metadata": {},
   "outputs": [
    {
     "name": "stderr",
     "output_type": "stream",
     "text": [
      "/opt/conda/lib/python3.7/site-packages/seaborn/_decorators.py:43: FutureWarning: Pass the following variable as a keyword arg: x. From version 0.12, the only valid positional argument will be `data`, and passing other arguments without an explicit keyword will result in an error or misinterpretation.\n",
      "  FutureWarning\n"
     ]
    },
    {
     "data": {
      "image/png": "[encoded data removed]",
      "text/plain": [
       "<Figure size 1080x270 with 2 Axes>"
      ]
     },
     "metadata": {},
     "output_type": "display_data"
    }
   ],
   "source": [
    "plot_var('emp_length', 'Employment Length', continuous=False)"
   ]
  },
  {
   "cell_type": "markdown",
   "id": "3d2d33e7",
   "metadata": {},
   "source": [
    "##### ระยะเวลาการจ้างงานดูจะไม่ค่อยมีผลกับ Charged Off (แต่อาจต้องลอง drop การจ้างงาน 10 ปี ออก อาจจะเห็นผลเปลี่ยนไป)"
   ]
  },
  {
   "cell_type": "markdown",
   "id": "d347953e",
   "metadata": {},
   "source": [
    "#### home_ownership"
   ]
  },
  {
   "cell_type": "code",
   "execution_count": 60,
   "id": "fb7878b6",
   "metadata": {},
   "outputs": [
    {
     "data": {
      "text/plain": [
       "MORTGAGE    665579\n",
       "RENT        534421\n",
       "OWN         144832\n",
       "ANY            286\n",
       "OTHER          144\n",
       "NONE            48\n",
       "Name: home_ownership, dtype: int64"
      ]
     },
     "execution_count": 60,
     "metadata": {},
     "output_type": "execute_result"
    }
   ],
   "source": [
    "loans['home_ownership'].value_counts(dropna=False)"
   ]
  },
  {
   "cell_type": "markdown",
   "id": "d4919c73",
   "metadata": {},
   "source": [
    "##### เปลี่ยนให้ any, none เป็น other"
   ]
  },
  {
   "cell_type": "code",
   "execution_count": 61,
   "id": "30e0abe0",
   "metadata": {},
   "outputs": [],
   "source": [
    "loans['home_ownership'].replace(['NONE', 'ANY'], 'OTHER', inplace=True)"
   ]
  },
  {
   "cell_type": "code",
   "execution_count": 62,
   "id": "ebf68438",
   "metadata": {},
   "outputs": [
    {
     "data": {
      "text/plain": [
       "MORTGAGE    665579\n",
       "RENT        534421\n",
       "OWN         144832\n",
       "OTHER          478\n",
       "Name: home_ownership, dtype: int64"
      ]
     },
     "execution_count": 62,
     "metadata": {},
     "output_type": "execute_result"
    }
   ],
   "source": [
    "loans['home_ownership'].value_counts(dropna=False)"
   ]
  },
  {
   "cell_type": "code",
   "execution_count": 63,
   "id": "608e4b98",
   "metadata": {},
   "outputs": [
    {
     "name": "stderr",
     "output_type": "stream",
     "text": [
      "/opt/conda/lib/python3.7/site-packages/seaborn/_decorators.py:43: FutureWarning: Pass the following variable as a keyword arg: x. From version 0.12, the only valid positional argument will be `data`, and passing other arguments without an explicit keyword will result in an error or misinterpretation.\n",
      "  FutureWarning\n"
     ]
    },
    {
     "data": {
      "image/png": "[encoded data removed]",
      "text/plain": [
       "<Figure size 1080x270 with 2 Axes>"
      ]
     },
     "metadata": {},
     "output_type": "display_data"
    }
   ],
   "source": [
    "plot_var('home_ownership', 'Home Ownership', continuous=False)"
   ]
  },
  {
   "cell_type": "code",
   "execution_count": 64,
   "id": "4b00c7a0",
   "metadata": {},
   "outputs": [
    {
     "data": {
      "text/plain": [
       "home_ownership\n",
       "MORTGAGE    0.172077\n",
       "OTHER       0.188285\n",
       "OWN         0.206198\n",
       "RENT        0.232165\n",
       "Name: loan_status, dtype: float64"
      ]
     },
     "execution_count": 64,
     "metadata": {},
     "output_type": "execute_result"
    }
   ],
   "source": [
    "loans.groupby('home_ownership')['loan_status'].value_counts(normalize=True).loc[:,'Charged Off']"
   ]
  },
  {
   "cell_type": "markdown",
   "id": "d256207c",
   "metadata": {},
   "source": [
    "##### จากภาพจะเห็นว่า คนเช่าบ้าน และมีบ้านเป็นของตนเอง มีโอกาสเบี้ยวหนี้สูงกว่า"
   ]
  },
  {
   "cell_type": "markdown",
   "id": "9080ef88",
   "metadata": {},
   "source": [
    "#### annual_inc"
   ]
  },
  {
   "cell_type": "code",
   "execution_count": 65,
   "id": "567206c7",
   "metadata": {},
   "outputs": [
    {
     "data": {
      "text/plain": [
       "count    1.345310e+06\n",
       "mean     7.624764e+04\n",
       "std      6.992510e+04\n",
       "min      0.000000e+00\n",
       "25%      4.578000e+04\n",
       "50%      6.500000e+04\n",
       "75%      9.000000e+04\n",
       "max      1.099920e+07\n",
       "Name: annual_inc, dtype: float64"
      ]
     },
     "execution_count": 65,
     "metadata": {},
     "output_type": "execute_result"
    }
   ],
   "source": [
    "loans['annual_inc'].describe()"
   ]
  },
  {
   "cell_type": "markdown",
   "id": "43b8b220",
   "metadata": {},
   "source": [
    "##### รายได้ต่อปีของผู้ยื่นกู้ มี Range (max-min) ต่างกันมาก จึงควรลดความต่างของค่าลงด้วยการ take log **"
   ]
  },
  {
   "cell_type": "code",
   "execution_count": 66,
   "id": "4fc56f8b",
   "metadata": {},
   "outputs": [],
   "source": [
    "loans['log_annual_inc'] = loans['annual_inc'].apply(lambda x: np.log10(x+1))"
   ]
  },
  {
   "cell_type": "code",
   "execution_count": 67,
   "id": "033d8380",
   "metadata": {},
   "outputs": [
    {
     "data": {
      "text/plain": [
       "count    1.345310e+06\n",
       "mean     4.812814e+00\n",
       "std      2.477200e-01\n",
       "min      0.000000e+00\n",
       "25%      4.660685e+00\n",
       "50%      4.812920e+00\n",
       "75%      4.954247e+00\n",
       "max      7.041361e+00\n",
       "Name: log_annual_inc, dtype: float64"
      ]
     },
     "execution_count": 67,
     "metadata": {},
     "output_type": "execute_result"
    }
   ],
   "source": [
    "loans['log_annual_inc'].describe()"
   ]
  },
  {
   "cell_type": "code",
   "execution_count": 68,
   "id": "1375489a",
   "metadata": {},
   "outputs": [],
   "source": [
    "loans.drop('annual_inc', axis=1, inplace=True)"
   ]
  },
  {
   "cell_type": "code",
   "execution_count": 69,
   "id": "83265c0b",
   "metadata": {},
   "outputs": [
    {
     "data": {
      "text/plain": [
       "count    1.345310e+06\n",
       "mean     4.812814e+00\n",
       "std      2.477200e-01\n",
       "min      0.000000e+00\n",
       "25%      4.660685e+00\n",
       "50%      4.812920e+00\n",
       "75%      4.954247e+00\n",
       "max      7.041361e+00\n",
       "Name: log_annual_inc, dtype: float64"
      ]
     },
     "execution_count": 69,
     "metadata": {},
     "output_type": "execute_result"
    }
   ],
   "source": [
    "loans['log_annual_inc'].describe()"
   ]
  },
  {
   "cell_type": "code",
   "execution_count": 70,
   "id": "50504946",
   "metadata": {},
   "outputs": [
    {
     "name": "stderr",
     "output_type": "stream",
     "text": [
      "/opt/conda/lib/python3.7/site-packages/seaborn/distributions.py:2557: FutureWarning: `distplot` is a deprecated function and will be removed in a future version. Please adapt your code to use either `displot` (a figure-level function with similar flexibility) or `histplot` (an axes-level function for histograms).\n",
      "  warnings.warn(msg, FutureWarning)\n"
     ]
    },
    {
     "data": {
      "image/png": "[encoded data removed]",
      "text/plain": [
       "<Figure size 1080x270 with 2 Axes>"
      ]
     },
     "metadata": {},
     "output_type": "display_data"
    }
   ],
   "source": [
    "plot_var('log_annual_inc', 'Log Annual Income', continuous=True)"
   ]
  },
  {
   "cell_type": "markdown",
   "id": "410c0cbb",
   "metadata": {},
   "source": [
    "##### จากภาพจะเห็นว่า fully paid กับ charged off ไม่ต่างกันในเชิงรายได้ของผู้กู้"
   ]
  },
  {
   "cell_type": "markdown",
   "id": "ff87a7ce",
   "metadata": {},
   "source": [
    "#### verification_status"
   ]
  },
  {
   "cell_type": "code",
   "execution_count": 71,
   "id": "9fcab572",
   "metadata": {},
   "outputs": [
    {
     "name": "stderr",
     "output_type": "stream",
     "text": [
      "/opt/conda/lib/python3.7/site-packages/seaborn/_decorators.py:43: FutureWarning: Pass the following variable as a keyword arg: x. From version 0.12, the only valid positional argument will be `data`, and passing other arguments without an explicit keyword will result in an error or misinterpretation.\n",
      "  FutureWarning\n"
     ]
    },
    {
     "data": {
      "image/png": "[encoded data removed]",
      "text/plain": [
       "<Figure size 1080x270 with 2 Axes>"
      ]
     },
     "metadata": {},
     "output_type": "display_data"
    }
   ],
   "source": [
    "plot_var('verification_status', 'Verification Status', continuous=False)"
   ]
  },
  {
   "cell_type": "markdown",
   "id": "39d6c127",
   "metadata": {},
   "source": [
    "##### จากภาพเห็นว่า จำนวนผู้กู้ที่เบี้ยวหนี้และ verified แล้ว มีจำนวนมากกว่า จำนวนผู้กู้ที่เบี้ยวหนี้แต่ยังไม่ verified"
   ]
  },
  {
   "cell_type": "markdown",
   "id": "a4d03851",
   "metadata": {},
   "source": [
    "#### issue_d"
   ]
  },
  {
   "cell_type": "markdown",
   "id": "7d461762",
   "metadata": {},
   "source": [
    "##### เนื่องจาก ML Model จะถูกนำไปใช้ predict ว่า fully paid หรือ charged off ซึ่งเป็นการใช้ในช่วงก่อน loan issued แต่ issue_d เป็นข้อมูลหลังจาก loan issued แล้ว จึงควรไม่นำ issue_d มาเป็น feature"
   ]
  },
  {
   "cell_type": "markdown",
   "id": "116f47fa",
   "metadata": {},
   "source": [
    "## Preprocessing - เปลี่ยนให้เป็น numeric"
   ]
  },
  {
   "cell_type": "code",
   "execution_count": 72,
   "id": "94508e7a",
   "metadata": {},
   "outputs": [],
   "source": [
    "loans['charged_off'] = (loans['loan_status'] == 'Charged Off').apply(np.uint8)\n",
    "loans.drop('loan_status', axis=1, inplace=True)"
   ]
  },
  {
   "cell_type": "code",
   "execution_count": 73,
   "id": "e329201e",
   "metadata": {},
   "outputs": [
    {
     "data": {
      "text/plain": [
       "(1345310, 29)"
      ]
     },
     "execution_count": 73,
     "metadata": {},
     "output_type": "execute_result"
    }
   ],
   "source": [
    "loans.shape"
   ]
  },
  {
   "cell_type": "markdown",
   "id": "83da3011",
   "metadata": {},
   "source": [
    "#### ดูว่ามี Missing value มากน้อยแค่ไหน หากไม่มี Missing value ใน Categorical Var. ก็ไม่จำเป็นต้องใช้ NaN dummy variables"
   ]
  },
  {
   "cell_type": "code",
   "execution_count": 74,
   "id": "2b39b0f3",
   "metadata": {},
   "outputs": [],
   "source": [
    "missing_fractions = loans.isnull().mean().sort_values(ascending=False) "
   ]
  },
  {
   "cell_type": "code",
   "execution_count": 75,
   "id": "09c96377",
   "metadata": {},
   "outputs": [
    {
     "name": "stdout",
     "output_type": "stream",
     "text": [
      "Index(['loan_amnt', 'term', 'int_rate', 'installment', 'sub_grade',\n",
      "       'emp_title', 'emp_length', 'home_ownership', 'verification_status',\n",
      "       'issue_d', 'purpose', 'title', 'zip_code', 'addr_state', 'dti',\n",
      "       'earliest_cr_line', 'fico_range_low', 'fico_range_high', 'open_acc',\n",
      "       'pub_rec', 'revol_bal', 'revol_util', 'total_acc',\n",
      "       'initial_list_status', 'application_type', 'mort_acc',\n",
      "       'pub_rec_bankruptcies', 'log_annual_inc', 'charged_off'],\n",
      "      dtype='object')\n"
     ]
    }
   ],
   "source": [
    "print(loans.columns)"
   ]
  },
  {
   "cell_type": "code",
   "execution_count": 76,
   "id": "542d481b",
   "metadata": {},
   "outputs": [
    {
     "data": {
      "text/plain": [
       "(1345310, 29)"
      ]
     },
     "execution_count": 76,
     "metadata": {},
     "output_type": "execute_result"
    }
   ],
   "source": [
    "loans.shape"
   ]
  },
  {
   "cell_type": "code",
   "execution_count": 77,
   "id": "632ea9e6",
   "metadata": {},
   "outputs": [
    {
     "data": {
      "text/html": [
       "<div>\n",
       "<style scoped>\n",
       "    .dataframe tbody tr th:only-of-type {\n",
       "        vertical-align: middle;\n",
       "    }\n",
       "\n",
       "    .dataframe tbody tr th {\n",
       "        vertical-align: top;\n",
       "    }\n",
       "\n",
       "    .dataframe thead th {\n",
       "        text-align: right;\n",
       "    }\n",
       "</style>\n",
       "<table border=\"1\" class=\"dataframe\">\n",
       "  <thead>\n",
       "    <tr style=\"text-align: right;\">\n",
       "      <th></th>\n",
       "      <th>1669926</th>\n",
       "      <th>1923923</th>\n",
       "      <th>1106212</th>\n",
       "      <th>2181198</th>\n",
       "      <th>1073375</th>\n",
       "    </tr>\n",
       "  </thead>\n",
       "  <tbody>\n",
       "    <tr>\n",
       "      <th>loan_amnt</th>\n",
       "      <td>40000.0</td>\n",
       "      <td>8000.0</td>\n",
       "      <td>18000.0</td>\n",
       "      <td>30200.0</td>\n",
       "      <td>4225.0</td>\n",
       "    </tr>\n",
       "    <tr>\n",
       "      <th>term</th>\n",
       "      <td>36</td>\n",
       "      <td>36</td>\n",
       "      <td>36</td>\n",
       "      <td>60</td>\n",
       "      <td>36</td>\n",
       "    </tr>\n",
       "    <tr>\n",
       "      <th>int_rate</th>\n",
       "      <td>7.24</td>\n",
       "      <td>13.67</td>\n",
       "      <td>10.78</td>\n",
       "      <td>24.74</td>\n",
       "      <td>16.29</td>\n",
       "    </tr>\n",
       "    <tr>\n",
       "      <th>installment</th>\n",
       "      <td>1239.48</td>\n",
       "      <td>272.15</td>\n",
       "      <td>587.43</td>\n",
       "      <td>881.82</td>\n",
       "      <td>149.15</td>\n",
       "    </tr>\n",
       "    <tr>\n",
       "      <th>sub_grade</th>\n",
       "      <td>A3</td>\n",
       "      <td>B5</td>\n",
       "      <td>B4</td>\n",
       "      <td>E3</td>\n",
       "      <td>D1</td>\n",
       "    </tr>\n",
       "    <tr>\n",
       "      <th>emp_title</th>\n",
       "      <td>Director</td>\n",
       "      <td>Applebee's</td>\n",
       "      <td>Executive Director Employee Relations</td>\n",
       "      <td>UniServ Director</td>\n",
       "      <td>Finance Manager</td>\n",
       "    </tr>\n",
       "    <tr>\n",
       "      <th>emp_length</th>\n",
       "      <td>10.0</td>\n",
       "      <td>1.0</td>\n",
       "      <td>10.0</td>\n",
       "      <td>10.0</td>\n",
       "      <td>10.0</td>\n",
       "    </tr>\n",
       "    <tr>\n",
       "      <th>home_ownership</th>\n",
       "      <td>RENT</td>\n",
       "      <td>RENT</td>\n",
       "      <td>MORTGAGE</td>\n",
       "      <td>MORTGAGE</td>\n",
       "      <td>OWN</td>\n",
       "    </tr>\n",
       "    <tr>\n",
       "      <th>verification_status</th>\n",
       "      <td>Source Verified</td>\n",
       "      <td>Source Verified</td>\n",
       "      <td>Source Verified</td>\n",
       "      <td>Verified</td>\n",
       "      <td>Source Verified</td>\n",
       "    </tr>\n",
       "    <tr>\n",
       "      <th>issue_d</th>\n",
       "      <td>Mar-2017</td>\n",
       "      <td>Jun-2012</td>\n",
       "      <td>Jan-2016</td>\n",
       "      <td>Dec-2016</td>\n",
       "      <td>Feb-2016</td>\n",
       "    </tr>\n",
       "    <tr>\n",
       "      <th>purpose</th>\n",
       "      <td>credit_card</td>\n",
       "      <td>debt_consolidation</td>\n",
       "      <td>credit_card</td>\n",
       "      <td>debt_consolidation</td>\n",
       "      <td>credit_card</td>\n",
       "    </tr>\n",
       "    <tr>\n",
       "      <th>title</th>\n",
       "      <td>Credit card refinancing</td>\n",
       "      <td>Debt Consolidation</td>\n",
       "      <td>Credit card refinancing</td>\n",
       "      <td>Debt consolidation</td>\n",
       "      <td>Credit card refinancing</td>\n",
       "    </tr>\n",
       "    <tr>\n",
       "      <th>zip_code</th>\n",
       "      <td>222xx</td>\n",
       "      <td>670xx</td>\n",
       "      <td>280xx</td>\n",
       "      <td>300xx</td>\n",
       "      <td>967xx</td>\n",
       "    </tr>\n",
       "    <tr>\n",
       "      <th>addr_state</th>\n",
       "      <td>VA</td>\n",
       "      <td>KS</td>\n",
       "      <td>NC</td>\n",
       "      <td>GA</td>\n",
       "      <td>HI</td>\n",
       "    </tr>\n",
       "    <tr>\n",
       "      <th>dti</th>\n",
       "      <td>10.74</td>\n",
       "      <td>10.96</td>\n",
       "      <td>15.79</td>\n",
       "      <td>24.79</td>\n",
       "      <td>32.57</td>\n",
       "    </tr>\n",
       "    <tr>\n",
       "      <th>earliest_cr_line</th>\n",
       "      <td>Jul-2005</td>\n",
       "      <td>Mar-2007</td>\n",
       "      <td>Nov-2000</td>\n",
       "      <td>Feb-1994</td>\n",
       "      <td>Nov-1998</td>\n",
       "    </tr>\n",
       "    <tr>\n",
       "      <th>fico_range_low</th>\n",
       "      <td>700.0</td>\n",
       "      <td>675.0</td>\n",
       "      <td>785.0</td>\n",
       "      <td>725.0</td>\n",
       "      <td>705.0</td>\n",
       "    </tr>\n",
       "    <tr>\n",
       "      <th>fico_range_high</th>\n",
       "      <td>704.0</td>\n",
       "      <td>679.0</td>\n",
       "      <td>789.0</td>\n",
       "      <td>729.0</td>\n",
       "      <td>709.0</td>\n",
       "    </tr>\n",
       "    <tr>\n",
       "      <th>open_acc</th>\n",
       "      <td>20.0</td>\n",
       "      <td>7.0</td>\n",
       "      <td>14.0</td>\n",
       "      <td>10.0</td>\n",
       "      <td>15.0</td>\n",
       "    </tr>\n",
       "    <tr>\n",
       "      <th>pub_rec</th>\n",
       "      <td>0.0</td>\n",
       "      <td>0.0</td>\n",
       "      <td>0.0</td>\n",
       "      <td>0.0</td>\n",
       "      <td>0.0</td>\n",
       "    </tr>\n",
       "    <tr>\n",
       "      <th>revol_bal</th>\n",
       "      <td>81412.0</td>\n",
       "      <td>5541.0</td>\n",
       "      <td>7253.0</td>\n",
       "      <td>15767.0</td>\n",
       "      <td>34387.0</td>\n",
       "    </tr>\n",
       "    <tr>\n",
       "      <th>revol_util</th>\n",
       "      <td>41.2</td>\n",
       "      <td>63.0</td>\n",
       "      <td>12.4</td>\n",
       "      <td>57.3</td>\n",
       "      <td>76.1</td>\n",
       "    </tr>\n",
       "    <tr>\n",
       "      <th>total_acc</th>\n",
       "      <td>52.0</td>\n",
       "      <td>12.0</td>\n",
       "      <td>40.0</td>\n",
       "      <td>14.0</td>\n",
       "      <td>25.0</td>\n",
       "    </tr>\n",
       "    <tr>\n",
       "      <th>initial_list_status</th>\n",
       "      <td>w</td>\n",
       "      <td>f</td>\n",
       "      <td>w</td>\n",
       "      <td>w</td>\n",
       "      <td>w</td>\n",
       "    </tr>\n",
       "    <tr>\n",
       "      <th>application_type</th>\n",
       "      <td>Individual</td>\n",
       "      <td>Individual</td>\n",
       "      <td>Individual</td>\n",
       "      <td>Individual</td>\n",
       "      <td>Individual</td>\n",
       "    </tr>\n",
       "    <tr>\n",
       "      <th>mort_acc</th>\n",
       "      <td>5.0</td>\n",
       "      <td>0.0</td>\n",
       "      <td>7.0</td>\n",
       "      <td>2.0</td>\n",
       "      <td>2.0</td>\n",
       "    </tr>\n",
       "    <tr>\n",
       "      <th>pub_rec_bankruptcies</th>\n",
       "      <td>0.0</td>\n",
       "      <td>0.0</td>\n",
       "      <td>0.0</td>\n",
       "      <td>0.0</td>\n",
       "      <td>0.0</td>\n",
       "    </tr>\n",
       "    <tr>\n",
       "      <th>log_annual_inc</th>\n",
       "      <td>5.379851</td>\n",
       "      <td>4.342442</td>\n",
       "      <td>4.982276</td>\n",
       "      <td>4.882246</td>\n",
       "      <td>4.826081</td>\n",
       "    </tr>\n",
       "    <tr>\n",
       "      <th>charged_off</th>\n",
       "      <td>0</td>\n",
       "      <td>0</td>\n",
       "      <td>0</td>\n",
       "      <td>0</td>\n",
       "      <td>0</td>\n",
       "    </tr>\n",
       "  </tbody>\n",
       "</table>\n",
       "</div>"
      ],
      "text/plain": [
       "                                      1669926             1923923  \\\n",
       "loan_amnt                             40000.0              8000.0   \n",
       "term                                       36                  36   \n",
       "int_rate                                 7.24               13.67   \n",
       "installment                           1239.48              272.15   \n",
       "sub_grade                                  A3                  B5   \n",
       "emp_title                            Director          Applebee's   \n",
       "emp_length                               10.0                 1.0   \n",
       "home_ownership                           RENT                RENT   \n",
       "verification_status           Source Verified     Source Verified   \n",
       "issue_d                              Mar-2017            Jun-2012   \n",
       "purpose                           credit_card  debt_consolidation   \n",
       "title                 Credit card refinancing  Debt Consolidation   \n",
       "zip_code                                222xx               670xx   \n",
       "addr_state                                 VA                  KS   \n",
       "dti                                     10.74               10.96   \n",
       "earliest_cr_line                     Jul-2005            Mar-2007   \n",
       "fico_range_low                          700.0               675.0   \n",
       "fico_range_high                         704.0               679.0   \n",
       "open_acc                                 20.0                 7.0   \n",
       "pub_rec                                   0.0                 0.0   \n",
       "revol_bal                             81412.0              5541.0   \n",
       "revol_util                               41.2                63.0   \n",
       "total_acc                                52.0                12.0   \n",
       "initial_list_status                         w                   f   \n",
       "application_type                   Individual          Individual   \n",
       "mort_acc                                  5.0                 0.0   \n",
       "pub_rec_bankruptcies                      0.0                 0.0   \n",
       "log_annual_inc                       5.379851            4.342442   \n",
       "charged_off                                 0                   0   \n",
       "\n",
       "                                                    1106212  \\\n",
       "loan_amnt                                           18000.0   \n",
       "term                                                     36   \n",
       "int_rate                                              10.78   \n",
       "installment                                          587.43   \n",
       "sub_grade                                                B4   \n",
       "emp_title             Executive Director Employee Relations   \n",
       "emp_length                                             10.0   \n",
       "home_ownership                                     MORTGAGE   \n",
       "verification_status                         Source Verified   \n",
       "issue_d                                            Jan-2016   \n",
       "purpose                                         credit_card   \n",
       "title                               Credit card refinancing   \n",
       "zip_code                                              280xx   \n",
       "addr_state                                               NC   \n",
       "dti                                                   15.79   \n",
       "earliest_cr_line                                   Nov-2000   \n",
       "fico_range_low                                        785.0   \n",
       "fico_range_high                                       789.0   \n",
       "open_acc                                               14.0   \n",
       "pub_rec                                                 0.0   \n",
       "revol_bal                                            7253.0   \n",
       "revol_util                                             12.4   \n",
       "total_acc                                              40.0   \n",
       "initial_list_status                                       w   \n",
       "application_type                                 Individual   \n",
       "mort_acc                                                7.0   \n",
       "pub_rec_bankruptcies                                    0.0   \n",
       "log_annual_inc                                     4.982276   \n",
       "charged_off                                               0   \n",
       "\n",
       "                                 2181198                  1073375  \n",
       "loan_amnt                        30200.0                   4225.0  \n",
       "term                                  60                       36  \n",
       "int_rate                           24.74                    16.29  \n",
       "installment                       881.82                   149.15  \n",
       "sub_grade                             E3                       D1  \n",
       "emp_title               UniServ Director          Finance Manager  \n",
       "emp_length                          10.0                     10.0  \n",
       "home_ownership                  MORTGAGE                      OWN  \n",
       "verification_status             Verified          Source Verified  \n",
       "issue_d                         Dec-2016                 Feb-2016  \n",
       "purpose               debt_consolidation              credit_card  \n",
       "title                 Debt consolidation  Credit card refinancing  \n",
       "zip_code                           300xx                    967xx  \n",
       "addr_state                            GA                       HI  \n",
       "dti                                24.79                    32.57  \n",
       "earliest_cr_line                Feb-1994                 Nov-1998  \n",
       "fico_range_low                     725.0                    705.0  \n",
       "fico_range_high                    729.0                    709.0  \n",
       "open_acc                            10.0                     15.0  \n",
       "pub_rec                              0.0                      0.0  \n",
       "revol_bal                        15767.0                  34387.0  \n",
       "revol_util                          57.3                     76.1  \n",
       "total_acc                           14.0                     25.0  \n",
       "initial_list_status                    w                        w  \n",
       "application_type              Individual               Individual  \n",
       "mort_acc                             2.0                      2.0  \n",
       "pub_rec_bankruptcies                 0.0                      0.0  \n",
       "log_annual_inc                  4.882246                 4.826081  \n",
       "charged_off                            0                        0  "
      ]
     },
     "execution_count": 77,
     "metadata": {},
     "output_type": "execute_result"
    }
   ],
   "source": [
    "loans.sample(5).transpose()"
   ]
  },
  {
   "cell_type": "markdown",
   "id": "6bb35c72",
   "metadata": {},
   "source": [
    "## Train/Test Split"
   ]
  },
  {
   "cell_type": "markdown",
   "id": "05d26302",
   "metadata": {},
   "source": [
    "##### ใช้ข้อมูลเดือนปีเก่ามา train และใช้เดือนปีใหม่ๆ มา test"
   ]
  },
  {
   "cell_type": "code",
   "execution_count": 78,
   "id": "2ddf74e3",
   "metadata": {},
   "outputs": [
    {
     "data": {
      "text/plain": [
       "1064944    Feb-2016\n",
       "1067422    Feb-2016\n",
       "1220256    Aug-2014\n",
       "901158     Jun-2017\n",
       "1828742    Jul-2013\n",
       "Name: issue_d, dtype: object"
      ]
     },
     "execution_count": 78,
     "metadata": {},
     "output_type": "execute_result"
    }
   ],
   "source": [
    "loans['issue_d'].sample(5)"
   ]
  },
  {
   "cell_type": "code",
   "execution_count": 79,
   "id": "921eae9c",
   "metadata": {},
   "outputs": [
    {
     "data": {
      "text/plain": [
       "False"
      ]
     },
     "execution_count": 79,
     "metadata": {},
     "output_type": "execute_result"
    }
   ],
   "source": [
    "loans['issue_d'].isnull().any()"
   ]
  },
  {
   "cell_type": "markdown",
   "id": "9cee5817",
   "metadata": {},
   "source": [
    "##### convert ให้เป็น datetime format"
   ]
  },
  {
   "cell_type": "code",
   "execution_count": 80,
   "id": "06db8a92",
   "metadata": {},
   "outputs": [],
   "source": [
    "loans['issue_d'] = pd.to_datetime(loans['issue_d'])"
   ]
  },
  {
   "cell_type": "code",
   "execution_count": 81,
   "id": "f482b7ab",
   "metadata": {},
   "outputs": [
    {
     "data": {
      "text/plain": [
       "312221    2015-04-01\n",
       "1265180   2014-05-01\n",
       "1072109   2016-02-01\n",
       "1789360   2013-10-01\n",
       "2084433   2017-11-01\n",
       "Name: issue_d, dtype: datetime64[ns]"
      ]
     },
     "execution_count": 81,
     "metadata": {},
     "output_type": "execute_result"
    }
   ],
   "source": [
    "loans['issue_d'].sample(5)"
   ]
  },
  {
   "cell_type": "code",
   "execution_count": 82,
   "id": "b15d196e",
   "metadata": {},
   "outputs": [
    {
     "name": "stderr",
     "output_type": "stream",
     "text": [
      "/opt/conda/lib/python3.7/site-packages/ipykernel_launcher.py:1: FutureWarning: Treating datetime data as categorical rather than numeric in `.describe` is deprecated and will be removed in a future version of pandas. Specify `datetime_is_numeric=True` to silence this warning and adopt the future behavior now.\n",
      "  \"\"\"Entry point for launching an IPython kernel.\n"
     ]
    },
    {
     "data": {
      "text/plain": [
       "count                 1345310\n",
       "unique                    139\n",
       "top       2016-03-01 00:00:00\n",
       "freq                    48937\n",
       "first     2007-06-01 00:00:00\n",
       "last      2018-12-01 00:00:00\n",
       "Name: issue_d, dtype: object"
      ]
     },
     "execution_count": 82,
     "metadata": {},
     "output_type": "execute_result"
    }
   ],
   "source": [
    "loans['issue_d'].describe()"
   ]
  },
  {
   "cell_type": "markdown",
   "id": "61dfd42e",
   "metadata": {},
   "source": [
    "##### ผลข้างบน แสดงให้เห็นว่า ในระยะเวลา 11 ปี มีแค่ 139 วัน ที่เป็นวันปล่อยกู้"
   ]
  },
  {
   "cell_type": "code",
   "execution_count": 83,
   "id": "291c423f",
   "metadata": {},
   "outputs": [
    {
     "data": {
      "text/plain": [
       "Text(0.5, 1.0, 'Loans Funded per Year')"
      ]
     },
     "execution_count": 83,
     "metadata": {},
     "output_type": "execute_result"
    },
    {
     "data": {
      "image/png": "[encoded data removed]",
      "text/plain": [
       "<Figure size 540x270 with 1 Axes>"
      ]
     },
     "metadata": {},
     "output_type": "display_data"
    }
   ],
   "source": [
    "plt.figure(figsize=(6,3), dpi=90)\n",
    "loans['issue_d'].dt.year.value_counts().sort_index().plot.bar(color='darkblue')\n",
    "plt.xlabel('Year')\n",
    "plt.ylabel('Number of Loans Funded')\n",
    "plt.title('Loans Funded per Year')"
   ]
  },
  {
   "cell_type": "markdown",
   "id": "ddfcd46e",
   "metadata": {},
   "source": [
    "##### ตัดแบ่งมาเป็น testing set เพียงแค่ 10%"
   ]
  },
  {
   "cell_type": "code",
   "execution_count": 84,
   "id": "e2416a97",
   "metadata": {},
   "outputs": [],
   "source": [
    "loans_train = loans.loc[loans['issue_d'] <  loans['issue_d'].quantile(0.9)].sample(10000).dropna()\n",
    "loans_test =  loans.loc[loans['issue_d'] >= loans['issue_d'].quantile(0.9)].sample(10000).dropna()"
   ]
  },
  {
   "cell_type": "code",
   "execution_count": 85,
   "id": "1957be63",
   "metadata": {},
   "outputs": [
    {
     "name": "stdout",
     "output_type": "stream",
     "text": [
      "Number of loans in the partition:    17985\n",
      "Number of loans in the full dataset: 1345310\n"
     ]
    }
   ],
   "source": [
    "print('Number of loans in the partition:   ', loans_train.shape[0] + loans_test.shape[0])\n",
    "print('Number of loans in the full dataset:', loans.shape[0])"
   ]
  },
  {
   "cell_type": "code",
   "execution_count": 86,
   "id": "e270151b",
   "metadata": {},
   "outputs": [
    {
     "data": {
      "text/plain": [
       "9112"
      ]
     },
     "execution_count": 86,
     "metadata": {},
     "output_type": "execute_result"
    }
   ],
   "source": [
    "loans_test.shape[0]"
   ]
  },
  {
   "cell_type": "code",
   "execution_count": 87,
   "id": "9c4f30d5",
   "metadata": {},
   "outputs": [
    {
     "data": {
      "text/plain": [
       "0.006773160089496101"
      ]
     },
     "execution_count": 87,
     "metadata": {},
     "output_type": "execute_result"
    }
   ],
   "source": [
    "loans_test.shape[0] / loans.shape[0]"
   ]
  },
  {
   "cell_type": "code",
   "execution_count": 88,
   "id": "1766d7d3",
   "metadata": {},
   "outputs": [
    {
     "name": "stderr",
     "output_type": "stream",
     "text": [
      "/opt/conda/lib/python3.7/site-packages/ipykernel_launcher.py:1: FutureWarning: Treating datetime data as categorical rather than numeric in `.describe` is deprecated and will be removed in a future version of pandas. Specify `datetime_is_numeric=True` to silence this warning and adopt the future behavior now.\n",
      "  \"\"\"Entry point for launching an IPython kernel.\n"
     ]
    },
    {
     "data": {
      "text/plain": [
       "count                    8873\n",
       "unique                     63\n",
       "top       2016-03-01 00:00:00\n",
       "freq                      340\n",
       "first     2012-03-01 00:00:00\n",
       "last      2017-05-01 00:00:00\n",
       "Name: issue_d, dtype: object"
      ]
     },
     "execution_count": 88,
     "metadata": {},
     "output_type": "execute_result"
    }
   ],
   "source": [
    "loans_train['issue_d'].describe()"
   ]
  },
  {
   "cell_type": "code",
   "execution_count": 89,
   "id": "00508090",
   "metadata": {},
   "outputs": [
    {
     "name": "stderr",
     "output_type": "stream",
     "text": [
      "/opt/conda/lib/python3.7/site-packages/ipykernel_launcher.py:1: FutureWarning: Treating datetime data as categorical rather than numeric in `.describe` is deprecated and will be removed in a future version of pandas. Specify `datetime_is_numeric=True` to silence this warning and adopt the future behavior now.\n",
      "  \"\"\"Entry point for launching an IPython kernel.\n"
     ]
    },
    {
     "data": {
      "text/plain": [
       "count                    9112\n",
       "unique                     19\n",
       "top       2017-08-01 00:00:00\n",
       "freq                     1013\n",
       "first     2017-06-01 00:00:00\n",
       "last      2018-12-01 00:00:00\n",
       "Name: issue_d, dtype: object"
      ]
     },
     "execution_count": 89,
     "metadata": {},
     "output_type": "execute_result"
    }
   ],
   "source": [
    "loans_test['issue_d'].describe()"
   ]
  },
  {
   "cell_type": "markdown",
   "id": "50900753",
   "metadata": {},
   "source": [
    "##### ไม่ใช้ issue_d ในการ train จึงลบทิ้งไป"
   ]
  },
  {
   "cell_type": "code",
   "execution_count": 90,
   "id": "2898edbd",
   "metadata": {},
   "outputs": [],
   "source": [
    "loans_train.drop('issue_d', axis=1, inplace=True)\n",
    "loans_test.drop('issue_d', axis=1, inplace=True)"
   ]
  },
  {
   "cell_type": "code",
   "execution_count": 91,
   "id": "8bf56dc8",
   "metadata": {},
   "outputs": [],
   "source": [
    "y_train = loans_train['charged_off']\n",
    "y_test = loans_test['charged_off']"
   ]
  },
  {
   "cell_type": "code",
   "execution_count": 92,
   "id": "3b506fb4",
   "metadata": {},
   "outputs": [],
   "source": [
    "X_train = loans_train.drop('charged_off', axis=1)\n",
    "X_test = loans_test.drop('charged_off', axis=1)"
   ]
  },
  {
   "cell_type": "code",
   "execution_count": 93,
   "id": "018bbde8",
   "metadata": {},
   "outputs": [],
   "source": [
    "del loans_train, loans_test"
   ]
  },
  {
   "cell_type": "code",
   "execution_count": 94,
   "id": "1b81ae8d",
   "metadata": {},
   "outputs": [],
   "source": [
    "del loans"
   ]
  },
  {
   "cell_type": "markdown",
   "id": "4453814a",
   "metadata": {},
   "source": [
    "# 4. Modeling"
   ]
  },
  {
   "cell_type": "markdown",
   "id": "6d39efdc",
   "metadata": {},
   "source": [
    "## Random Forest Classifier"
   ]
  },
  {
   "cell_type": "code",
   "execution_count": 95,
   "id": "3f3dc5a6",
   "metadata": {},
   "outputs": [],
   "source": [
    "import pandas as pd\n",
    "from seaborn import load_dataset\n",
    "import numpy as np\n",
    "\n",
    "from sklearn.model_selection import train_test_split\n",
    "from sklearn.base import BaseEstimator, TransformerMixin\n",
    "from sklearn.preprocessing import OneHotEncoder, MinMaxScaler\n",
    "from sklearn.impute import SimpleImputer\n",
    "from sklearn.pipeline import Pipeline, FeatureUnion\n",
    "from sklearn.compose import ColumnTransformer\n",
    "from sklearn.linear_model import LinearRegression"
   ]
  },
  {
   "cell_type": "code",
   "execution_count": 96,
   "id": "27b1e5b8",
   "metadata": {},
   "outputs": [
    {
     "name": "stdout",
     "output_type": "stream",
     "text": [
      "Categorical columns are: ['sub_grade', 'emp_title', 'home_ownership', 'verification_status', 'purpose', 'title', 'zip_code', 'addr_state', 'earliest_cr_line', 'initial_list_status', 'application_type']\n",
      "Numerical columns are: ['loan_amnt', 'term', 'int_rate', 'installment', 'emp_length', 'dti', 'fico_range_low', 'fico_range_high', 'open_acc', 'pub_rec', 'revol_bal', 'revol_util', 'total_acc', 'mort_acc', 'pub_rec_bankruptcies', 'log_annual_inc']\n"
     ]
    }
   ],
   "source": [
    "categorical = list(X_train.select_dtypes('object').columns)\n",
    "print(f\"Categorical columns are: {categorical}\")\n",
    "\n",
    "numerical = list(X_train.select_dtypes('number').columns)\n",
    "print(f\"Numerical columns are: {numerical}\")"
   ]
  },
  {
   "cell_type": "code",
   "execution_count": 97,
   "id": "2ac6b678",
   "metadata": {},
   "outputs": [],
   "source": [
    "from sklearn.tree import DecisionTreeClassifier, export_graphviz\n",
    "from sklearn import tree\n",
    "from sklearn.datasets import load_wine\n",
    "from sklearn.model_selection import train_test_split\n",
    "from sklearn import metrics"
   ]
  },
  {
   "cell_type": "code",
   "execution_count": 98,
   "id": "f41335e0",
   "metadata": {},
   "outputs": [],
   "source": [
    "# Define custom transformer\n",
    "class ColumnSelector(BaseEstimator, TransformerMixin):\n",
    "    \"\"\"Select only specified columns.\"\"\"\n",
    "    def __init__(self, columns):\n",
    "        self.columns = columns\n",
    "        \n",
    "    def fit(self, X, y=None):\n",
    "        return self\n",
    "    \n",
    "    def transform(self, X):\n",
    "        return X[self.columns]\n",
    "\n",
    "# Define categorical pipeline\n",
    "cat_pipe = Pipeline([('selector', ColumnSelector(categorical)),\n",
    "                     ('imputer', SimpleImputer(strategy='constant', fill_value='missing')),\n",
    "                     ('encoder', OneHotEncoder(handle_unknown='ignore', sparse=False))])\n",
    "\n",
    "# Define numerical pipeline\n",
    "num_pipe = Pipeline([('selector', ColumnSelector(numerical))\n",
    "                     #('imputer', SimpleImputer(strategy='median')),\n",
    "                     #('scaler', MinMaxScaler())\n",
    "                    ])\n",
    "\n",
    "# Combine categorical and numerical pipeline\n",
    "preprocessor = FeatureUnion(transformer_list=[('cat', cat_pipe),\n",
    "                                              ('num', num_pipe)])\n",
    "\n",
    "# Model Training\n",
    "pipe = Pipeline(steps=[('preprocessor', preprocessor),\n",
    "                       ('model', DecisionTreeClassifier(criterion=\"entropy\", max_depth=None))])\n",
    "pipeline_model = pipe.fit(X_train, y_train)"
   ]
  },
  {
   "cell_type": "code",
   "execution_count": null,
   "id": "3c0b59cd",
   "metadata": {},
   "outputs": [],
   "source": []
  },
  {
   "cell_type": "code",
   "execution_count": 99,
   "id": "bc7c51b6",
   "metadata": {},
   "outputs": [
    {
     "name": "stdout",
     "output_type": "stream",
     "text": [
      "Confusion Matrix (predict/actual):\n",
      "       0     1\n",
      "0  5991  1340\n",
      "1  1307   474\n",
      "\n",
      "Recall:\n",
      " 0    0.817215\n",
      "1    0.266143\n",
      "dtype: float64\n",
      "\n",
      "Precision:\n",
      " 0    0.820910\n",
      "1    0.261301\n",
      "dtype: float64\n",
      "\n",
      "F1 score:\n",
      " 0.7105095933350319\n"
     ]
    }
   ],
   "source": [
    "y_pred = pipeline_model.predict(X_test).flatten()\n",
    "\n",
    "\n",
    "from sklearn.metrics import confusion_matrix\n",
    "cm = confusion_matrix(y_test, y_pred)\n",
    "print(\"Confusion Matrix (predict/actual):\\n\", pd.DataFrame(cm))\n",
    "\n",
    "\n",
    "pipeline_model.score(X_test, y_test)\n",
    "\n",
    "recall = np.diag(cm) / np.sum(cm, axis=1)\n",
    "print(\"\\nRecall:\\n\", pd.Series(recall))\n",
    "\n",
    "precision = np.diag(cm) / np.sum(cm, axis=0)\n",
    "print(\"\\nPrecision:\\n\", pd.Series(precision))\n",
    "\n",
    "\n",
    "from sklearn.metrics import f1_score\n",
    "weighted_f1 = f1_score(y_test, y_pred, average=\"weighted\")\n",
    "print(\"\\nF1 score:\\n\", weighted_f1)"
   ]
  },
  {
   "cell_type": "code",
   "execution_count": null,
   "id": "d9f274fe",
   "metadata": {},
   "outputs": [],
   "source": []
  },
  {
   "cell_type": "code",
   "execution_count": null,
   "id": "aa6c6956",
   "metadata": {},
   "outputs": [],
   "source": []
  },
  {
   "cell_type": "code",
   "execution_count": null,
   "id": "65d36a06",
   "metadata": {},
   "outputs": [],
   "source": []
  },
  {
   "cell_type": "code",
   "execution_count": null,
   "id": "ad9073e9",
   "metadata": {},
   "outputs": [],
   "source": []
  }
 ],
 "metadata": {
  "environment": {
   "name": "tf2-gpu.2-5.m75",
   "type": "gcloud",
   "uri": "gcr.io/deeplearning-platform-release/tf2-gpu.2-5:m75"
  },
  "kernelspec": {
   "display_name": "Python 3",
   "language": "python",
   "name": "python3"
  },
  "language_info": {
   "codemirror_mode": {
    "name": "ipython",
    "version": 3
   },
   "file_extension": ".py",
   "mimetype": "text/x-python",
   "name": "python",
   "nbconvert_exporter": "python",
   "pygments_lexer": "ipython3",
   "version": "3.7.10"
  }
 },
 "nbformat": 4,
 "nbformat_minor": 5
}
