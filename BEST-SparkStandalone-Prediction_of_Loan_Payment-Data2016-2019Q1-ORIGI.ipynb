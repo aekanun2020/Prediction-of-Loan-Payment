{
 "cells": [
  {
   "cell_type": "code",
   "execution_count": 2,
   "metadata": {
    "collapsed": true
   },
   "outputs": [],
   "source": [
    "#spark"
   ]
  },
  {
   "cell_type": "code",
   "execution_count": 3,
   "metadata": {
    "collapsed": true
   },
   "outputs": [],
   "source": [
    "! rm -rf metastore_db/"
   ]
  },
  {
   "cell_type": "code",
   "execution_count": 4,
   "metadata": {
    "collapsed": true
   },
   "outputs": [],
   "source": [
    "#spark.stop()"
   ]
  },
  {
   "cell_type": "code",
   "execution_count": 5,
   "metadata": {
    "collapsed": true
   },
   "outputs": [],
   "source": [
    "spark = SparkSession \\\n",
    "    .builder \\\n",
    "    .appName(\"Prediction of Loan Payment 20 Feb 2020\") \\\n",
    "    .master(\"local[*]\") \\\n",
    "    .config(\"spark.executor.cores\",\"3\")\\\n",
    "    .getOrCreate();"
   ]
  },
  {
   "cell_type": "markdown",
   "metadata": {},
   "source": [
    "# 1. Data Understanding"
   ]
  },
  {
   "cell_type": "markdown",
   "metadata": {},
   "source": [
    "## Collecting the current data from the LendingClub's Website."
   ]
  },
  {
   "cell_type": "code",
   "execution_count": 6,
   "metadata": {
    "collapsed": true
   },
   "outputs": [],
   "source": [
    "#! rm -rf LoanStats_web.csv"
   ]
  },
  {
   "cell_type": "code",
   "execution_count": 7,
   "metadata": {
    "collapsed": true
   },
   "outputs": [],
   "source": [
    "#! touch LoanStats_web.csv"
   ]
  },
  {
   "cell_type": "code",
   "execution_count": 8,
   "metadata": {},
   "outputs": [
    {
     "name": "stdout",
     "output_type": "stream",
     "text": [
      "-rw-r--r-- 1 root root 1160243241 Nov 22 18:37 /root/notebook/data/LoanStats_web.csv\r\n"
     ]
    }
   ],
   "source": [
    "! ls -l /root/notebook/data/LoanStats_web.csv"
   ]
  },
  {
   "cell_type": "code",
   "execution_count": 9,
   "metadata": {},
   "outputs": [
    {
     "name": "stdout",
     "output_type": "stream",
     "text": [
      "\"id\",\"member_id\",\"loan_amnt\",\"funded_amnt\",\"funded_amnt_inv\",\"term\",\"int_rate\",\"installment\",\"grade\",\"sub_grade\",\"emp_title\",\"emp_length\",\"home_ownership\",\"annual_inc\",\"verification_status\",\"issue_d\",\"loan_status\",\"pymnt_plan\",\"url\",\"desc\",\"purpose\",\"title\",\"zip_code\",\"addr_state\",\"dti\",\"delinq_2yrs\",\"earliest_cr_line\",\"inq_last_6mths\",\"mths_since_last_delinq\",\"mths_since_last_record\",\"open_acc\",\"pub_rec\",\"revol_bal\",\"revol_util\",\"total_acc\",\"initial_list_status\",\"out_prncp\",\"out_prncp_inv\",\"total_pymnt\",\"total_pymnt_inv\",\"total_rec_prncp\",\"total_rec_int\",\"total_rec_late_fee\",\"recoveries\",\"collection_recovery_fee\",\"last_pymnt_d\",\"last_pymnt_amnt\",\"next_pymnt_d\",\"last_credit_pull_d\",\"collections_12_mths_ex_med\",\"mths_since_last_major_derog\",\"policy_code\",\"application_type\",\"annual_inc_joint\",\"dti_joint\",\"verification_status_joint\",\"acc_now_delinq\",\"tot_coll_amt\",\"tot_cur_bal\",\"open_acc_6m\",\"open_act_il\",\"open_il_12m\",\"open_il_24m\",\"mths_since_rcnt_il\",\"total_bal_il\",\"il_util\",\"open_rv_12m\",\"open_rv_24m\",\"max_bal_bc\",\"all_util\",\"total_rev_hi_lim\",\"inq_fi\",\"total_cu_tl\",\"inq_last_12m\",\"acc_open_past_24mths\",\"avg_cur_bal\",\"bc_open_to_buy\",\"bc_util\",\"chargeoff_within_12_mths\",\"delinq_amnt\",\"mo_sin_old_il_acct\",\"mo_sin_old_rev_tl_op\",\"mo_sin_rcnt_rev_tl_op\",\"mo_sin_rcnt_tl\",\"mort_acc\",\"mths_since_recent_bc\",\"mths_since_recent_bc_dlq\",\"mths_since_recent_inq\",\"mths_since_recent_revol_delinq\",\"num_accts_ever_120_pd\",\"num_actv_bc_tl\",\"num_actv_rev_tl\",\"num_bc_sats\",\"num_bc_tl\",\"num_il_tl\",\"num_op_rev_tl\",\"num_rev_accts\",\"num_rev_tl_bal_gt_0\",\"num_sats\",\"num_tl_120dpd_2m\",\"num_tl_30dpd\",\"num_tl_90g_dpd_24m\",\"num_tl_op_past_12m\",\"pct_tl_nvr_dlq\",\"percent_bc_gt_75\",\"pub_rec_bankruptcies\",\"tax_liens\",\"tot_hi_cred_lim\",\"total_bal_ex_mort\",\"total_bc_limit\",\"total_il_high_credit_limit\",\"revol_bal_joint\",\"sec_app_earliest_cr_line\",\"sec_app_inq_last_6mths\",\"sec_app_mort_acc\",\"sec_app_open_acc\",\"sec_app_revol_util\",\"sec_app_open_act_il\",\"sec_app_num_rev_accts\",\"sec_app_chargeoff_within_12_mths\",\"sec_app_collections_12_mths_ex_med\",\"sec_app_mths_since_last_major_derog\",\"hardship_flag\",\"hardship_type\",\"hardship_reason\",\"hardship_status\",\"deferral_term\",\"hardship_amount\",\"hardship_start_date\",\"hardship_end_date\",\"payment_plan_start_date\",\"hardship_length\",\"hardship_dpd\",\"hardship_loan_status\",\"orig_projected_additional_accrued_interest\",\"hardship_payoff_balance_amount\",\"hardship_last_payment_amount\",\"debt_settlement_flag\",\"debt_settlement_flag_date\",\"settlement_status\",\"settlement_date\",\"settlement_amount\",\"settlement_percentage\",\"settlement_term\"\r\n",
      "\"\",\"\",\"30000\",\"30000\",\"30000\",\" 36 months\",\"  9.75%\",\"964.5\",\"B\",\"B3\",\"\",\"n/a\",\"MORTGAGE\",\"89600\",\"Verified\",\"Mar-2016\",\"Fully Paid\",\"n\",\"\",\"\",\"debt_consolidation\",\"Debt consolidation\",\"233xx\",\"VA\",\"21.15\",\"0\",\"Oct-1996\",\"1\",\"51\",\"\",\"22\",\"0\",\"45643\",\"64%\",\"43\",\"w\",\"0.00\",\"0.00\",\"34683.4671902942\",\"34683.47\",\"30000.00\",\"4683.47\",\"0.0\",\"0.0\",\"0.0\",\"Feb-2019\",\"1922.97\",\"\",\"Oct-2019\",\"0\",\"\",\"1\",\"Individual\",\"\",\"\",\"\",\"0\",\"0\",\"45643\",\"0\",\"0\",\"0\",\"0\",\"64\",\"0\",\"0\",\"2\",\"4\",\"4412\",\"64\",\"71690\",\"0\",\"3\",\"1\",\"4\",\"2282\",\"3586\",\"44\",\"0\",\"0\",\"165\",\"233\",\"7\",\"7\",\"1\",\"16\",\"\",\"2\",\"51\",\"0\",\"7\",\"20\",\"12\",\"12\",\"7\",\"20\",\"35\",\"17\",\"20\",\"\",\"0\",\"0\",\"2\",\"98\",\"57.1\",\"0\",\"0\",\"71690\",\"45643\",\"25100\",\"0\",\"\",\"\",\"\",\"\",\"\",\"\",\"\",\"\",\"\",\"\",\"\",\"N\",\"\",\"\",\"\",\"\",\"\",\"\",\"\",\"\",\"\",\"\",\"\",\"\",\"\",\"\",\"N\",\"\",\"\",\"\",\"\",\"\",\"\"\r\n",
      "\"\",\"\",\"25000\",\"25000\",\"25000\",\" 36 months\",\"  5.32%\",\"752.87\",\"A\",\"A1\",\"Carman welder\",\"10+ years\",\"MORTGAGE\",\"70000\",\"Not Verified\",\"Mar-2016\",\"Fully Paid\",\"n\",\"\",\"\",\"debt_consolidation\",\"Debt consolidation\",\"758xx\",\"TX\",\"21.81\",\"0\",\"Jul-1983\",\"0\",\"\",\"\",\"16\",\"0\",\"4091\",\"6.8%\",\"54\",\"w\",\"0.00\",\"0.00\",\"27088.521784058\",\"27088.52\",\"25000.00\",\"2088.52\",\"0.0\",\"0.0\",\"0.0\",\"Apr-2019\",\"752.85\",\"\",\"Mar-2019\",\"0\",\"\",\"1\",\"Individual\",\"\",\"\",\"\",\"0\",\"0\",\"51894\",\"0\",\"5\",\"0\",\"4\",\"13\",\"47803\",\"79\",\"0\",\"1\",\"1306\",\"43\",\"60000\",\"2\",\"24\",\"1\",\"5\",\"3460\",\"32694\",\"3.8\",\"0\",\"0\",\"155\",\"392\",\"20\",\"13\",\"1\",\"29\",\"\",\"9\",\"\",\"0\",\"1\",\"2\",\"6\",\"13\",\"31\",\"11\",\"22\",\"2\",\"16\",\"0\",\"0\",\"0\",\"0\",\"100\",\"0\",\"0\",\"0\",\"120454\",\"51894\",\"34000\",\"60454\",\"\",\"\",\"\",\"\",\"\",\"\",\"\",\"\",\"\",\"\",\"\",\"N\",\"\",\"\",\"\",\"\",\"\",\"\",\"\",\"\",\"\",\"\",\"\",\"\",\"\",\"\",\"N\",\"\",\"\",\"\",\"\",\"\",\"\"\r\n"
     ]
    }
   ],
   "source": [
    "! head -3 /root/notebook/data/LoanStats_web.csv"
   ]
  },
  {
   "cell_type": "code",
   "execution_count": null,
   "metadata": {},
   "outputs": [
    {
     "name": "stdout",
     "output_type": "stream",
     "text": [
      "1432493 /root/notebook/data/LoanStats_web.csv\r\n"
     ]
    }
   ],
   "source": [
    "! wc -l /root/notebook/data/LoanStats_web.csv"
   ]
  },
  {
   "cell_type": "code",
   "execution_count": null,
   "metadata": {
    "collapsed": true
   },
   "outputs": [],
   "source": [
    "raw_df = spark.read.format('csv').option('header','true').option('mode','DROPMALFORMED')\\\n",
    ".load('/root/notebook/data/LoanStats_web.csv')"
   ]
  },
  {
   "cell_type": "code",
   "execution_count": null,
   "metadata": {
    "collapsed": true
   },
   "outputs": [],
   "source": [
    "raw201617_df = raw_df"
   ]
  },
  {
   "cell_type": "code",
   "execution_count": null,
   "metadata": {
    "collapsed": true
   },
   "outputs": [],
   "source": [
    "raw201617_df.printSchema()"
   ]
  },
  {
   "cell_type": "markdown",
   "metadata": {},
   "source": [
    "### Numbers of Fields [1]"
   ]
  },
  {
   "cell_type": "code",
   "execution_count": null,
   "metadata": {
    "collapsed": true
   },
   "outputs": [],
   "source": [
    "len(raw201617_df.columns)"
   ]
  },
  {
   "cell_type": "code",
   "execution_count": null,
   "metadata": {
    "collapsed": true
   },
   "outputs": [],
   "source": [
    "rawweb_df = raw201617_df.select('id',\n",
    " 'member_id',\n",
    " 'loan_amnt',\n",
    " 'funded_amnt',\n",
    " 'funded_amnt_inv',\n",
    " 'term',\n",
    " 'int_rate',\n",
    " 'installment',\n",
    " 'grade',\n",
    " 'sub_grade',\n",
    " 'emp_title',\n",
    " 'emp_length',\n",
    " 'home_ownership',\n",
    " 'annual_inc',\n",
    " 'verification_status',\n",
    " 'issue_d',\n",
    " 'loan_status',\n",
    " 'pymnt_plan',\n",
    " 'url',\n",
    " 'desc',\n",
    " 'purpose',\n",
    " 'title',\n",
    " 'zip_code',\n",
    " 'addr_state',\n",
    " 'dti',\n",
    " 'delinq_2yrs',\n",
    " 'earliest_cr_line',\n",
    " 'inq_last_6mths',\n",
    " 'mths_since_last_delinq',\n",
    " 'mths_since_last_record',\n",
    " 'open_acc',\n",
    " 'pub_rec',\n",
    " 'revol_bal',\n",
    " 'revol_util',\n",
    " 'total_acc',\n",
    " 'initial_list_status',\n",
    " 'out_prncp',\n",
    " 'out_prncp_inv',\n",
    " 'total_pymnt',\n",
    " 'total_pymnt_inv',\n",
    " 'total_rec_prncp',\n",
    " 'total_rec_int',\n",
    " 'total_rec_late_fee',\n",
    " 'recoveries',\n",
    " 'collection_recovery_fee',\n",
    " 'last_pymnt_d',\n",
    " 'last_pymnt_amnt',\n",
    " 'next_pymnt_d',\n",
    " 'last_credit_pull_d',\n",
    " 'collections_12_mths_ex_med',\n",
    " 'mths_since_last_major_derog',\n",
    " 'policy_code',\n",
    " 'application_type',\n",
    " 'annual_inc_joint',\n",
    " 'dti_joint',\n",
    " 'verification_status_joint',\n",
    " 'acc_now_delinq',\n",
    " 'tot_coll_amt',\n",
    " 'tot_cur_bal',\n",
    " 'open_acc_6m',\n",
    " #'open_il_6m',\n",
    " 'open_il_12m',\n",
    " 'open_il_24m',\n",
    " 'mths_since_rcnt_il',\n",
    " 'total_bal_il',\n",
    " 'il_util',\n",
    " 'open_rv_12m',\n",
    " 'open_rv_24m',\n",
    " 'max_bal_bc',\n",
    " 'all_util',\n",
    " 'total_rev_hi_lim',\n",
    " 'inq_fi',\n",
    " 'total_cu_tl',\n",
    " 'inq_last_12m')"
   ]
  },
  {
   "cell_type": "markdown",
   "metadata": {},
   "source": [
    "### Numbers of Fields after attributes selections [1]"
   ]
  },
  {
   "cell_type": "code",
   "execution_count": null,
   "metadata": {
    "collapsed": true
   },
   "outputs": [],
   "source": [
    "len(rawweb_df.columns)"
   ]
  },
  {
   "cell_type": "code",
   "execution_count": null,
   "metadata": {
    "collapsed": true
   },
   "outputs": [],
   "source": [
    "rawweb_df.select(['issue_d']).distinct().show()"
   ]
  },
  {
   "cell_type": "code",
   "execution_count": null,
   "metadata": {
    "collapsed": true
   },
   "outputs": [],
   "source": [
    "raw_df = rawweb_df"
   ]
  },
  {
   "cell_type": "code",
   "execution_count": null,
   "metadata": {
    "collapsed": true
   },
   "outputs": [],
   "source": [
    "raw_df.count()"
   ]
  },
  {
   "cell_type": "code",
   "execution_count": null,
   "metadata": {
    "collapsed": true
   },
   "outputs": [],
   "source": [
    "df_colfam5 = raw_df.select(\"loan_amnt\",\"term\",\"int_rate\",\"installment\",\"grade\",\"emp_length\",\\\n",
    "                           \"home_ownership\",\"annual_inc\",\"verification_status\",\"loan_status\",\\\n",
    "                           \"purpose\",\"addr_state\",\"dti\",\"delinq_2yrs\",\"earliest_cr_line\",\\\n",
    "                           \"inq_last_6mths\",\"open_acc\",\"pub_rec\",\"revol_bal\",\"revol_util\",\"total_acc\",\\\n",
    "                           \"last_credit_pull_d\")"
   ]
  },
  {
   "cell_type": "markdown",
   "metadata": {},
   "source": [
    "### Numbers of Fields after final attributes selections [1]"
   ]
  },
  {
   "cell_type": "code",
   "execution_count": null,
   "metadata": {
    "collapsed": true
   },
   "outputs": [],
   "source": [
    "len(df_colfam5.columns)"
   ]
  },
  {
   "cell_type": "code",
   "execution_count": null,
   "metadata": {
    "collapsed": true
   },
   "outputs": [],
   "source": [
    "! pip install pandas"
   ]
  },
  {
   "cell_type": "code",
   "execution_count": null,
   "metadata": {
    "collapsed": true
   },
   "outputs": [],
   "source": [
    "import pandas as pd\n",
    "pd.DataFrame(df_colfam5.describe().take(6), columns=df_colfam5.describe().columns).transpose()"
   ]
  },
  {
   "cell_type": "markdown",
   "metadata": {},
   "source": [
    "df_colfam5.select(['last_credit_pull_d']).distinct().\\\n",
    "orderBy(['last_credit_pull_d'],ascending=1).show()"
   ]
  },
  {
   "cell_type": "markdown",
   "metadata": {},
   "source": [
    "df_colfam5.select(['last_credit_pull_d']).\\\n",
    "filter(df_colfam5.last_credit_pull_d == '').count()"
   ]
  },
  {
   "cell_type": "markdown",
   "metadata": {},
   "source": [
    "df_colfam5.select(['last_credit_pull_d']).\\\n",
    "filter(df_colfam5['last_credit_pull_d'].isNull()).count()"
   ]
  },
  {
   "cell_type": "code",
   "execution_count": null,
   "metadata": {
    "collapsed": true
   },
   "outputs": [],
   "source": [
    "df_colfam5.groupby('home_ownership').count().show()"
   ]
  },
  {
   "cell_type": "markdown",
   "metadata": {},
   "source": [
    "# 2. Data Preparation"
   ]
  },
  {
   "cell_type": "markdown",
   "metadata": {},
   "source": [
    "Divide this process into 2 parts. The first is a business oriented preparation that turn many business rules to be programming's logics. Its result benefits many tasks related to the Business Intelligence and other descriptive analytics. The second one is a data science oriented preparation that turn many requirements of data science to be programming's logics. Its result benefits many tasks related to the Predictive analytics."
   ]
  },
  {
   "cell_type": "markdown",
   "metadata": {},
   "source": [
    "Asumption: Business oriented preparation: No missing values, ONLY month, Correct data types."
   ]
  },
  {
   "cell_type": "markdown",
   "metadata": {},
   "source": [
    "## Data Cleansing: Remove missing values"
   ]
  },
  {
   "cell_type": "code",
   "execution_count": null,
   "metadata": {
    "collapsed": true
   },
   "outputs": [],
   "source": [
    "df_no_missing = df_colfam5.dropna(how='any')"
   ]
  },
  {
   "cell_type": "markdown",
   "metadata": {},
   "source": [
    "## Check for a schema"
   ]
  },
  {
   "cell_type": "code",
   "execution_count": null,
   "metadata": {
    "collapsed": true
   },
   "outputs": [],
   "source": [
    "df_no_missing.printSchema()"
   ]
  },
  {
   "cell_type": "code",
   "execution_count": null,
   "metadata": {
    "collapsed": true
   },
   "outputs": [],
   "source": [
    "df_no_missing_fitmem = df_no_missing.repartition(60)"
   ]
  },
  {
   "cell_type": "code",
   "execution_count": null,
   "metadata": {
    "collapsed": true
   },
   "outputs": [],
   "source": [
    "df_no_missing_cached = df_no_missing_fitmem.cache()"
   ]
  },
  {
   "cell_type": "code",
   "execution_count": null,
   "metadata": {
    "collapsed": true
   },
   "outputs": [],
   "source": [
    "df_no_missing_cached.registerTempTable(\"df\")"
   ]
  },
  {
   "cell_type": "markdown",
   "metadata": {},
   "source": [
    "## Number of data rows"
   ]
  },
  {
   "cell_type": "code",
   "execution_count": null,
   "metadata": {
    "collapsed": true
   },
   "outputs": [],
   "source": [
    "df_no_missing_cached.count()"
   ]
  },
  {
   "cell_type": "markdown",
   "metadata": {},
   "source": [
    "## Data Transformation: Remove Sign of Percent and Extract Month."
   ]
  },
  {
   "cell_type": "code",
   "execution_count": null,
   "metadata": {
    "collapsed": true
   },
   "outputs": [],
   "source": [
    "from pyspark.sql.functions import udf\n",
    "from pyspark.sql.types import *"
   ]
  },
  {
   "cell_type": "markdown",
   "metadata": {},
   "source": [
    "### Remove Sign of Percent"
   ]
  },
  {
   "cell_type": "code",
   "execution_count": null,
   "metadata": {
    "collapsed": true
   },
   "outputs": [],
   "source": [
    "def f_removepercentsign(origin):\n",
    "    return origin.rstrip('%')"
   ]
  },
  {
   "cell_type": "code",
   "execution_count": null,
   "metadata": {
    "collapsed": true
   },
   "outputs": [],
   "source": [
    "removepercentsign = udf(lambda x: f_removepercentsign(x),StringType())"
   ]
  },
  {
   "cell_type": "markdown",
   "metadata": {},
   "source": [
    "### Extract Month"
   ]
  },
  {
   "cell_type": "code",
   "execution_count": null,
   "metadata": {
    "collapsed": true
   },
   "outputs": [],
   "source": [
    "def f_extractmonth(origin):\n",
    "    return origin.split('-')[0]"
   ]
  },
  {
   "cell_type": "code",
   "execution_count": null,
   "metadata": {
    "collapsed": true
   },
   "outputs": [],
   "source": [
    "extractmonth = udf(lambda x: f_extractmonth(x),StringType())"
   ]
  },
  {
   "cell_type": "code",
   "execution_count": null,
   "metadata": {
    "collapsed": true
   },
   "outputs": [],
   "source": []
  },
  {
   "cell_type": "code",
   "execution_count": null,
   "metadata": {
    "collapsed": true
   },
   "outputs": [],
   "source": [
    "extractterm = udf(lambda x: x.replace('months',''),StringType())"
   ]
  },
  {
   "cell_type": "code",
   "execution_count": null,
   "metadata": {
    "collapsed": true
   },
   "outputs": [],
   "source": [
    "#extractemp_length = udf(lambda x: x.replace('year',''),StringType())"
   ]
  },
  {
   "cell_type": "code",
   "execution_count": null,
   "metadata": {
    "collapsed": true
   },
   "outputs": [],
   "source": []
  },
  {
   "cell_type": "code",
   "execution_count": null,
   "metadata": {
    "collapsed": true
   },
   "outputs": [],
   "source": [
    "from pyspark.sql.functions import col"
   ]
  },
  {
   "cell_type": "code",
   "execution_count": null,
   "metadata": {
    "collapsed": true
   },
   "outputs": [],
   "source": [
    "dfWithCrunch = df_no_missing_cached.\\\n",
    "withColumn('revol_util',removepercentsign(col('revol_util')).cast(DoubleType())).\\\n",
    "withColumn('int_rate',removepercentsign(col('int_rate')).cast(DoubleType())).\\\n",
    "withColumn('earliest_cr_line',extractmonth(col('earliest_cr_line')).cast(StringType())).\\\n",
    "withColumn('last_credit_pull_d',extractmonth(col('last_credit_pull_d')).cast(StringType())).\\\n",
    "withColumn('dti',col('dti').cast(DoubleType())).\\\n",
    "withColumn('loan_amnt',col('loan_amnt').cast(DoubleType())).\\\n",
    "withColumn('revol_bal',col('revol_bal').cast(DoubleType())).\\\n",
    "withColumn('term',extractterm(col('term')).cast(DoubleType())).\\\n",
    "withColumn('installment',col('installment').cast(DoubleType())).\\\n",
    "withColumn('open_acc',col('open_acc').cast(DoubleType())).\\\n",
    "withColumn('total_acc',col('total_acc').cast(DoubleType())).\\\n",
    "withColumn('pub_rec',col('pub_rec').cast(DoubleType())).\\\n",
    "withColumn('annual_inc',col('annual_inc').cast(DoubleType()))"
   ]
  },
  {
   "cell_type": "code",
   "execution_count": null,
   "metadata": {
    "collapsed": true
   },
   "outputs": [],
   "source": [
    "#dfWithCrunch.select(['last_credit_pull_d']).printSchema()"
   ]
  },
  {
   "cell_type": "code",
   "execution_count": null,
   "metadata": {
    "collapsed": true
   },
   "outputs": [],
   "source": [
    "#dfWithCrunch.groupby('emp_length').count().show()"
   ]
  },
  {
   "cell_type": "code",
   "execution_count": null,
   "metadata": {
    "collapsed": true
   },
   "outputs": [],
   "source": [
    "#dfWithCrunch.count()"
   ]
  },
  {
   "cell_type": "code",
   "execution_count": null,
   "metadata": {
    "collapsed": true
   },
   "outputs": [],
   "source": [
    "dfWithCrunch.select(['loan_amnt','int_rate','dti','home_ownership','grade','term']).show()"
   ]
  },
  {
   "cell_type": "code",
   "execution_count": null,
   "metadata": {
    "collapsed": true
   },
   "outputs": [],
   "source": [
    "#dfWithCrunch.select(['loan_amnt','int_rate','dti','home_ownership','grade']).printSchema()"
   ]
  },
  {
   "cell_type": "code",
   "execution_count": null,
   "metadata": {
    "collapsed": true
   },
   "outputs": [],
   "source": [
    "dfWithCrunch.select(['loan_amnt','annual_inc']).describe().show()"
   ]
  },
  {
   "cell_type": "code",
   "execution_count": null,
   "metadata": {
    "collapsed": true
   },
   "outputs": [],
   "source": []
  },
  {
   "cell_type": "code",
   "execution_count": null,
   "metadata": {
    "collapsed": true
   },
   "outputs": [],
   "source": [
    "rawhive_df = dfWithCrunch.repartition(60).cache()\n",
    "#rawhive_df.registerTempTable(\"crunched_data\")"
   ]
  },
  {
   "cell_type": "code",
   "execution_count": null,
   "metadata": {
    "collapsed": true
   },
   "outputs": [],
   "source": [
    "len(rawhive_df.columns)"
   ]
  },
  {
   "cell_type": "code",
   "execution_count": null,
   "metadata": {
    "collapsed": true
   },
   "outputs": [],
   "source": [
    "rawhive_df.printSchema()"
   ]
  },
  {
   "cell_type": "code",
   "execution_count": null,
   "metadata": {
    "collapsed": true
   },
   "outputs": [],
   "source": [
    "#rawhive_df.select(['loan_amnt','int_rate','dti','home_ownership','grade']).printSchema()"
   ]
  },
  {
   "cell_type": "code",
   "execution_count": null,
   "metadata": {
    "collapsed": true
   },
   "outputs": [],
   "source": [
    "rawhive_df.count()"
   ]
  },
  {
   "cell_type": "markdown",
   "metadata": {},
   "source": [
    "### Data Transformation: Normalization of \"annual_inc\" and \"loan_amnt\""
   ]
  },
  {
   "cell_type": "code",
   "execution_count": null,
   "metadata": {
    "collapsed": true
   },
   "outputs": [],
   "source": [
    "from pyspark.sql.functions import *\n",
    "\n",
    "max_annual_inc = rawhive_df.select(max('annual_inc')).collect()[0][0]\n",
    "\n",
    "min_annual_inc = rawhive_df.select(min('annual_inc')).collect()[0][0]\n",
    "\n",
    "#sqlContext.udf.register(\"t_annual_inc\", lambda x: ((x-min_annual_inc)/(max_annual_inc-min_annual_inc)))"
   ]
  },
  {
   "cell_type": "code",
   "execution_count": null,
   "metadata": {
    "collapsed": true
   },
   "outputs": [],
   "source": [
    "def t_annual_inc(origin):\n",
    "    return ((origin-min_annual_inc)/(max_annual_inc-min_annual_inc))"
   ]
  },
  {
   "cell_type": "code",
   "execution_count": null,
   "metadata": {
    "collapsed": true
   },
   "outputs": [],
   "source": [
    "normalized_annual_inc = udf(lambda x: t_annual_inc(x),DoubleType())"
   ]
  },
  {
   "cell_type": "code",
   "execution_count": null,
   "metadata": {
    "collapsed": true
   },
   "outputs": [],
   "source": [
    "max_loan_amnt = rawhive_df.select(max('loan_amnt')).collect()[0][0]\n",
    "\n",
    "min_loan_amnt = rawhive_df.select(min('loan_amnt')).collect()[0][0]\n",
    "\n",
    "#sqlContext.udf.register(\"t_loan_amnt\", lambda x: ((x-min_loan_amnt)/(max_loan_amnt-min_loan_amnt)))"
   ]
  },
  {
   "cell_type": "code",
   "execution_count": null,
   "metadata": {
    "collapsed": true
   },
   "outputs": [],
   "source": [
    "def t_loan_amnt(origin):\n",
    "    return ((origin-min_loan_amnt)/(max_loan_amnt-min_loan_amnt))"
   ]
  },
  {
   "cell_type": "code",
   "execution_count": null,
   "metadata": {
    "collapsed": true
   },
   "outputs": [],
   "source": [
    "normalized_loan_amnt = udf(lambda x: t_loan_amnt(x),DoubleType())"
   ]
  },
  {
   "cell_type": "code",
   "execution_count": null,
   "metadata": {
    "collapsed": true
   },
   "outputs": [],
   "source": [
    "normalized_df = rawhive_df.withColumn('loan_amnt',normalized_loan_amnt(col('loan_amnt'))).\\\n",
    "withColumn('annual_inc',normalized_annual_inc(col('annual_inc')))"
   ]
  },
  {
   "cell_type": "code",
   "execution_count": null,
   "metadata": {
    "collapsed": true
   },
   "outputs": [],
   "source": [
    "normalized_df.printSchema()"
   ]
  },
  {
   "cell_type": "markdown",
   "metadata": {},
   "source": [
    "### Number of data rows that are only \"Fully Paid\" and \"Charged Off\""
   ]
  },
  {
   "cell_type": "code",
   "execution_count": null,
   "metadata": {
    "collapsed": true
   },
   "outputs": [],
   "source": [
    "from pyspark.sql.functions import col"
   ]
  },
  {
   "cell_type": "code",
   "execution_count": null,
   "metadata": {
    "collapsed": true
   },
   "outputs": [],
   "source": [
    "normalized_df.select(col('loan_status')).groupBy('loan_status').count().show()"
   ]
  },
  {
   "cell_type": "code",
   "execution_count": null,
   "metadata": {
    "collapsed": true
   },
   "outputs": [],
   "source": [
    "normalized_df.select(['loan_amnt','term','int_rate','installment','grade','annual_inc','revol_bal','loan_status']).\\\n",
    "orderBy(['loan_amnt','term','int_rate','installment','grade','annual_inc']).show()"
   ]
  },
  {
   "cell_type": "code",
   "execution_count": null,
   "metadata": {
    "collapsed": true
   },
   "outputs": [],
   "source": [
    "normalized_df.select(['loan_amnt','annual_inc']).describe().show()"
   ]
  },
  {
   "cell_type": "code",
   "execution_count": null,
   "metadata": {
    "collapsed": true
   },
   "outputs": [],
   "source": [
    "normalized_filtered_df = normalized_df.filter(col('loan_status') == 'Fully Paid').\\\n",
    "union(normalized_df.filter(col('loan_status') == 'Charged Off'))"
   ]
  },
  {
   "cell_type": "code",
   "execution_count": null,
   "metadata": {
    "collapsed": true
   },
   "outputs": [],
   "source": [
    "data = normalized_filtered_df.repartition(60).cache()"
   ]
  },
  {
   "cell_type": "markdown",
   "metadata": {},
   "source": [
    "### Drop Null"
   ]
  },
  {
   "cell_type": "code",
   "execution_count": null,
   "metadata": {
    "collapsed": true
   },
   "outputs": [],
   "source": [
    "data_no_missing_df = data.dropna(how='any')"
   ]
  },
  {
   "cell_type": "code",
   "execution_count": null,
   "metadata": {
    "collapsed": true
   },
   "outputs": [],
   "source": [
    "data_no_missing_df.count()"
   ]
  },
  {
   "cell_type": "code",
   "execution_count": null,
   "metadata": {
    "collapsed": true
   },
   "outputs": [],
   "source": [
    "df_no_missing_cached.select(['loan_status']).distinct().show(100)"
   ]
  },
  {
   "cell_type": "code",
   "execution_count": null,
   "metadata": {
    "collapsed": true
   },
   "outputs": [],
   "source": [
    "data_no_missing_df.printSchema()"
   ]
  },
  {
   "cell_type": "markdown",
   "metadata": {},
   "source": [
    "# 3. Data Modeling"
   ]
  },
  {
   "cell_type": "code",
   "execution_count": null,
   "metadata": {
    "collapsed": true
   },
   "outputs": [],
   "source": [
    "import pyspark\n",
    "from pyspark.sql import SQLContext\n",
    "from pyspark.sql.types import *\n",
    "from pyspark.ml.feature import OneHotEncoder, StringIndexer\n",
    "from pyspark.ml.feature import VectorAssembler\n",
    "from pyspark.mllib.clustering import KMeans, KMeansModel\n",
    "from pyspark.ml.feature import StringIndexer, VectorAssembler, OneHotEncoder,\\\n",
    "VectorIndexer, QuantileDiscretizer\n",
    "from pyspark.ml.tuning import ParamGridBuilder, CrossValidator\n",
    "from pyspark.ml.evaluation import MulticlassClassificationEvaluator, BinaryClassificationEvaluator\n",
    "from pyspark.ml.classification import LogisticRegression, GBTClassifier, NaiveBayes, RandomForestClassifier, DecisionTreeClassifier\n",
    "from pyspark.ml import Pipeline\n",
    "from pyspark.ml.clustering import *"
   ]
  },
  {
   "cell_type": "code",
   "execution_count": null,
   "metadata": {
    "collapsed": true
   },
   "outputs": [],
   "source": [
    "installmentDiscretizer = QuantileDiscretizer(numBuckets=5,inputCol='installment',\\\n",
    "                                             outputCol='installmentDiscreted')"
   ]
  },
  {
   "cell_type": "code",
   "execution_count": null,
   "metadata": {
    "collapsed": true
   },
   "outputs": [],
   "source": [
    "labelIndexer = StringIndexer(inputCol='loan_status',outputCol='indexedLabel')"
   ]
  },
  {
   "cell_type": "code",
   "execution_count": null,
   "metadata": {
    "collapsed": true
   },
   "outputs": [],
   "source": [
    "homeIndexer = StringIndexer(inputCol='home_ownership',outputCol='homeIndexed')\n",
    "homeOneHotEncoder = OneHotEncoder(dropLast=False,inputCol='homeIndexed',outputCol='homeVec')"
   ]
  },
  {
   "cell_type": "code",
   "execution_count": null,
   "metadata": {
    "collapsed": true
   },
   "outputs": [],
   "source": [
    "gradeIndexer = StringIndexer(inputCol='grade',outputCol='gradeIndexed')\n",
    "gradeOneHotEncoder = OneHotEncoder(dropLast=False,inputCol='gradeIndexed',outputCol='gradeVec')"
   ]
  },
  {
   "cell_type": "code",
   "execution_count": null,
   "metadata": {
    "collapsed": true
   },
   "outputs": [],
   "source": [
    "purposeIndexer = StringIndexer(inputCol='purpose',outputCol='purposeIndexed')\n",
    "purposeOneHotEncoder = OneHotEncoder(dropLast=False,inputCol='purposeIndexed',\\\n",
    "                                     outputCol='purposeVec')"
   ]
  },
  {
   "cell_type": "code",
   "execution_count": null,
   "metadata": {
    "collapsed": true
   },
   "outputs": [],
   "source": [
    "emp_lengthIndexer = StringIndexer(inputCol='emp_length',outputCol='emp_lengthIndexed')\n",
    "emp_lengthOneHotEncoder = OneHotEncoder(dropLast=False,inputCol='emp_lengthIndexed',\\\n",
    "                                     outputCol='emp_lengthVec')"
   ]
  },
  {
   "cell_type": "code",
   "execution_count": null,
   "metadata": {
    "collapsed": true
   },
   "outputs": [],
   "source": [
    "featureAssembler = VectorAssembler(inputCols=[\\\n",
    "                                              'loan_amnt',\\\n",
    "                                              'int_rate',\\\n",
    "                                              #'revol_bal',\\\n",
    "                                              'annual_inc',\\\n",
    "                                              'emp_lengthVec',\\\n",
    "                                              'installmentDiscreted',\\\n",
    "                                              'dti',\\\n",
    "                                              'homeVec',\\\n",
    "                                              'gradeVec',\\\n",
    "                                              'open_acc',\\\n",
    "                                              'term'],\\\n",
    "                                   outputCol='features')"
   ]
  },
  {
   "cell_type": "code",
   "execution_count": null,
   "metadata": {
    "collapsed": true
   },
   "outputs": [],
   "source": []
  },
  {
   "cell_type": "code",
   "execution_count": null,
   "metadata": {
    "collapsed": true
   },
   "outputs": [],
   "source": []
  },
  {
   "cell_type": "code",
   "execution_count": null,
   "metadata": {
    "collapsed": true
   },
   "outputs": [],
   "source": []
  },
  {
   "cell_type": "code",
   "execution_count": null,
   "metadata": {
    "collapsed": true
   },
   "outputs": [],
   "source": []
  },
  {
   "cell_type": "raw",
   "metadata": {
    "collapsed": true
   },
   "source": [
    "dt = RandomForestClassifier(featuresCol='***features',labelCol='indexedLabel',numTrees=10)"
   ]
  },
  {
   "cell_type": "raw",
   "metadata": {
    "collapsed": true
   },
   "source": [
    "pipeline_dt = Pipeline().setStages([gradeIndexer,gradeOneHotEncoder,\\\n",
    "                                    homeIndexer,homeOneHotEncoder,\\\n",
    "                                    purposeIndexer,purposeOneHotEncoder,\\\n",
    "                                    emp_lengthIndexer,emp_lengthOneHotEncoder,\\\n",
    "                                    #home_ownershipIndexer,home_ownershipOneHotEncoder,\\\n",
    "                                    installmentDiscretizer,\\\n",
    "                                    labelIndexer,featureAssembler,dt])"
   ]
  },
  {
   "cell_type": "code",
   "execution_count": null,
   "metadata": {
    "collapsed": true
   },
   "outputs": [],
   "source": [
    "data_no_missing_df_fully_paid = data_no_missing_df.filter(col('loan_status') == 'Fully Paid').sample(True, 0.3, 42)"
   ]
  },
  {
   "cell_type": "code",
   "execution_count": null,
   "metadata": {
    "collapsed": true
   },
   "outputs": [],
   "source": [
    "data_no_missing_df_charge_off = data_no_missing_df.filter(col('loan_status') == 'Charged Off')"
   ]
  },
  {
   "cell_type": "code",
   "execution_count": null,
   "metadata": {
    "collapsed": true
   },
   "outputs": [],
   "source": [
    "final_data_no_missing_df = data_no_missing_df_fully_paid.union(data_no_missing_df_charge_off)"
   ]
  },
  {
   "cell_type": "code",
   "execution_count": null,
   "metadata": {
    "collapsed": true
   },
   "outputs": [],
   "source": [
    "training , test = final_data_no_missing_df.filter(col('loan_amnt') > 0).randomSplit([0.8,0.2])"
   ]
  },
  {
   "cell_type": "code",
   "execution_count": null,
   "metadata": {
    "collapsed": true
   },
   "outputs": [],
   "source": [
    "training.select('loan_amnt').describe().show()"
   ]
  },
  {
   "cell_type": "code",
   "execution_count": null,
   "metadata": {
    "collapsed": true
   },
   "outputs": [],
   "source": [
    "training.select(['revol_bal']).\\\n",
    "describe().show()"
   ]
  },
  {
   "cell_type": "code",
   "execution_count": null,
   "metadata": {
    "collapsed": true
   },
   "outputs": [],
   "source": [
    "training.select(['loan_amnt','term','int_rate','installment','annual_inc']).\\\n",
    "describe().show()"
   ]
  },
  {
   "cell_type": "code",
   "execution_count": null,
   "metadata": {
    "collapsed": true
   },
   "outputs": [],
   "source": [
    "training"
   ]
  },
  {
   "cell_type": "code",
   "execution_count": null,
   "metadata": {
    "collapsed": true
   },
   "outputs": [],
   "source": [
    "from pyspark.ml.classification import MultilayerPerceptronClassifier\n",
    "\n",
    "pipeline = Pipeline(stages=[gradeIndexer,gradeOneHotEncoder,\\\n",
    "                                    homeIndexer,homeOneHotEncoder,\\\n",
    "                                    purposeIndexer,purposeOneHotEncoder,\\\n",
    "                                    emp_lengthIndexer,emp_lengthOneHotEncoder,\\\n",
    "                                    #home_ownershipIndexer,home_ownershipOneHotEncoder,\\\n",
    "                                    installmentDiscretizer,\\\n",
    "                                    labelIndexer,featureAssembler])"
   ]
  },
  {
   "cell_type": "code",
   "execution_count": null,
   "metadata": {
    "collapsed": true
   },
   "outputs": [],
   "source": [
    "train_df_features = pipeline.fit(training).transform(training)"
   ]
  },
  {
   "cell_type": "markdown",
   "metadata": {},
   "source": [
    "### MLP: กำหนด Pipeline เพื่อ Train Network"
   ]
  },
  {
   "cell_type": "code",
   "execution_count": null,
   "metadata": {
    "collapsed": true
   },
   "outputs": [],
   "source": [
    "layers = [\n",
    "    train_df_features.schema[\"features\"].metadata[\"ml_attr\"][\"num_attrs\"],\n",
    "    20, 10, 2\n",
    "]"
   ]
  },
  {
   "cell_type": "code",
   "execution_count": null,
   "metadata": {
    "collapsed": true
   },
   "outputs": [],
   "source": [
    "layers"
   ]
  },
  {
   "cell_type": "code",
   "execution_count": null,
   "metadata": {
    "collapsed": true
   },
   "outputs": [],
   "source": [
    "#layers = [30, 5, 4, 2]\n",
    "\n",
    "clf = MultilayerPerceptronClassifier(labelCol='indexedLabel',featuresCol='features'\\\n",
    "                                     ,layers=layers)"
   ]
  },
  {
   "cell_type": "code",
   "execution_count": null,
   "metadata": {
    "collapsed": true
   },
   "outputs": [],
   "source": [
    "from pyspark.ml.classification import MultilayerPerceptronClassifier\n",
    "\n",
    "pipeline = Pipeline(stages=[gradeIndexer,gradeOneHotEncoder,\\\n",
    "                                    homeIndexer,homeOneHotEncoder,\\\n",
    "                                    purposeIndexer,purposeOneHotEncoder,\\\n",
    "                                    emp_lengthIndexer,emp_lengthOneHotEncoder,\\\n",
    "                                    #home_ownershipIndexer,home_ownershipOneHotEncoder,\\\n",
    "                                    installmentDiscretizer,\\\n",
    "                                    labelIndexer,featureAssembler,clf])"
   ]
  },
  {
   "cell_type": "code",
   "execution_count": null,
   "metadata": {
    "collapsed": true
   },
   "outputs": [],
   "source": [
    "#getattr(clf,x1)"
   ]
  },
  {
   "cell_type": "code",
   "execution_count": null,
   "metadata": {
    "collapsed": true
   },
   "outputs": [],
   "source": [
    "#getattr(clf,x2)"
   ]
  },
  {
   "cell_type": "code",
   "execution_count": null,
   "metadata": {
    "collapsed": true
   },
   "outputs": [],
   "source": [
    "x1 = 'stepSize'\n",
    "x2 = 'maxIter'\n",
    "paramGrid = ParamGridBuilder() \\\n",
    "    .addGrid(getattr(clf,x1), [0.1, 0.2]) \\\n",
    "    .addGrid(getattr(clf,x2),[5,10])\\\n",
    "    .build()\n",
    "evaluator = MulticlassClassificationEvaluator\\\n",
    "(labelCol='indexedLabel', predictionCol='prediction', metricName='f1')\n",
    "\n",
    "crossval = CrossValidator(estimator=pipeline,\n",
    "                                      estimatorParamMaps=paramGrid,\n",
    "                                      evaluator=evaluator,\n",
    "                                      numFolds=2)\n",
    "cvModel = crossval.fit(training)"
   ]
  },
  {
   "cell_type": "code",
   "execution_count": null,
   "metadata": {
    "collapsed": true
   },
   "outputs": [],
   "source": [
    "cvModel"
   ]
  },
  {
   "cell_type": "code",
   "execution_count": null,
   "metadata": {
    "collapsed": true
   },
   "outputs": [],
   "source": []
  },
  {
   "cell_type": "code",
   "execution_count": null,
   "metadata": {
    "collapsed": true
   },
   "outputs": [],
   "source": []
  },
  {
   "cell_type": "code",
   "execution_count": null,
   "metadata": {
    "collapsed": true
   },
   "outputs": [],
   "source": []
  },
  {
   "cell_type": "code",
   "execution_count": null,
   "metadata": {
    "collapsed": true
   },
   "outputs": [],
   "source": []
  },
  {
   "cell_type": "code",
   "execution_count": null,
   "metadata": {
    "collapsed": true
   },
   "outputs": [],
   "source": []
  },
  {
   "cell_type": "markdown",
   "metadata": {
    "collapsed": true
   },
   "source": [
    "model1 = pipeline_dt.fit(training)"
   ]
  },
  {
   "cell_type": "code",
   "execution_count": null,
   "metadata": {
    "collapsed": true
   },
   "outputs": [],
   "source": [
    "training.select(['loan_amnt','int_rate','dti','home_ownership','grade']).describe().show()"
   ]
  },
  {
   "cell_type": "code",
   "execution_count": null,
   "metadata": {
    "collapsed": true
   },
   "outputs": [],
   "source": [
    "training.select(['loan_amnt','int_rate','dti','home_ownership','grade']).show()"
   ]
  },
  {
   "cell_type": "code",
   "execution_count": null,
   "metadata": {
    "collapsed": true
   },
   "outputs": [],
   "source": []
  },
  {
   "cell_type": "code",
   "execution_count": null,
   "metadata": {
    "collapsed": true
   },
   "outputs": [],
   "source": []
  },
  {
   "cell_type": "code",
   "execution_count": null,
   "metadata": {
    "collapsed": true
   },
   "outputs": [],
   "source": []
  },
  {
   "cell_type": "markdown",
   "metadata": {},
   "source": [
    "# 4. Evaluation of Models"
   ]
  },
  {
   "cell_type": "code",
   "execution_count": null,
   "metadata": {
    "collapsed": true
   },
   "outputs": [],
   "source": [
    "raw_result = cvModel.transform(test)"
   ]
  },
  {
   "cell_type": "code",
   "execution_count": null,
   "metadata": {
    "collapsed": true
   },
   "outputs": [],
   "source": [
    "spark_labeling = udf(lambda x: \"Charged Off\" if x == 1.0 else \"Fully Paid\")"
   ]
  },
  {
   "cell_type": "code",
   "execution_count": null,
   "metadata": {
    "collapsed": true,
    "scrolled": true
   },
   "outputs": [],
   "source": [
    "result = raw_result.withColumn('prediction_label',spark_labeling(col('prediction')))"
   ]
  },
  {
   "cell_type": "code",
   "execution_count": null,
   "metadata": {
    "collapsed": true
   },
   "outputs": [],
   "source": [
    "test.count()"
   ]
  },
  {
   "cell_type": "code",
   "execution_count": null,
   "metadata": {
    "collapsed": true
   },
   "outputs": [],
   "source": [
    "training.count()"
   ]
  },
  {
   "cell_type": "code",
   "execution_count": null,
   "metadata": {
    "collapsed": true
   },
   "outputs": [],
   "source": [
    "training.groupBy('loan_status').count().show()"
   ]
  },
  {
   "cell_type": "code",
   "execution_count": null,
   "metadata": {
    "collapsed": true
   },
   "outputs": [],
   "source": [
    "(0.25*349664)"
   ]
  },
  {
   "cell_type": "code",
   "execution_count": null,
   "metadata": {
    "collapsed": true
   },
   "outputs": [],
   "source": [
    "training.filter(training.loan_status == 'Fully Paid').count()"
   ]
  },
  {
   "cell_type": "code",
   "execution_count": null,
   "metadata": {
    "collapsed": true
   },
   "outputs": [],
   "source": [
    "training.filter(training.loan_status == 'Charged Off').count()"
   ]
  },
  {
   "cell_type": "code",
   "execution_count": null,
   "metadata": {
    "collapsed": true
   },
   "outputs": [],
   "source": [
    "result.select('loan_status','indexedLabel','prediction','prediction_label')\\\n",
    ".filter(result.loan_status != 'Fully Paid').show(10)"
   ]
  },
  {
   "cell_type": "code",
   "execution_count": null,
   "metadata": {
    "collapsed": true
   },
   "outputs": [],
   "source": [
    "result.select('loan_status','indexedLabel','prediction')\\\n",
    ".filter(result.loan_status != 'Fully Paid').count()"
   ]
  },
  {
   "cell_type": "code",
   "execution_count": null,
   "metadata": {
    "collapsed": true
   },
   "outputs": [],
   "source": [
    "result.select('loan_status','indexedLabel','prediction')\\\n",
    ".filter(result.loan_status != 'Fully Paid').\\\n",
    "filter(result.indexedLabel == result.prediction).count()"
   ]
  },
  {
   "cell_type": "code",
   "execution_count": null,
   "metadata": {
    "collapsed": true
   },
   "outputs": [],
   "source": [
    "result.select('loan_status','indexedLabel','prediction')\\\n",
    ".filter(result.loan_status != 'Fully Paid').\\\n",
    "filter(result.indexedLabel != result.prediction).count()"
   ]
  },
  {
   "cell_type": "code",
   "execution_count": null,
   "metadata": {
    "collapsed": true
   },
   "outputs": [],
   "source": [
    "result.select('loan_status','indexedLabel','prediction','prediction_label')\\\n",
    ".filter(result.loan_status == 'Fully Paid').show(20)"
   ]
  },
  {
   "cell_type": "code",
   "execution_count": null,
   "metadata": {
    "collapsed": true
   },
   "outputs": [],
   "source": [
    "result.select('loan_status','indexedLabel','prediction','prediction_label')\\\n",
    ".filter(result.loan_status != 'Fully Paid').show(20)"
   ]
  },
  {
   "cell_type": "code",
   "execution_count": null,
   "metadata": {
    "collapsed": true
   },
   "outputs": [],
   "source": [
    "result.select('loan_status','indexedLabel','prediction')\\\n",
    ".filter(result.indexedLabel != result.prediction).\\\n",
    "filter(result.loan_status == 'Fully Paid').count()"
   ]
  },
  {
   "cell_type": "code",
   "execution_count": null,
   "metadata": {
    "collapsed": true
   },
   "outputs": [],
   "source": [
    "result.select('loan_status','indexedLabel','prediction')\\\n",
    ".filter(result.indexedLabel != result.prediction)\\\n",
    ".filter(result.loan_status == 'Charged Off').count()"
   ]
  },
  {
   "cell_type": "markdown",
   "metadata": {
    "collapsed": true
   },
   "source": [
    "## Calculation for Confusion Matrix."
   ]
  },
  {
   "cell_type": "code",
   "execution_count": null,
   "metadata": {
    "collapsed": true
   },
   "outputs": [],
   "source": [
    "def eval_metrics(lap):\n",
    "\n",
    "    tp = float(len(lap[(lap['loan_status']=='Charged Off') &\\\n",
    "                       (lap['prediction_label']=='Charged Off')]))\n",
    "    \n",
    "    fn = float(len(lap[(lap['loan_status']=='Charged Off') &\\\n",
    "                       (lap['prediction_label']=='Fully Paid')]))\n",
    "\n",
    "    tn = float(len(lap[(lap['loan_status']=='Fully Paid') &\\\n",
    "                       (lap['prediction_label']=='Fully Paid')]))\n",
    "\n",
    "    fp = float(len(lap[(lap['loan_status']=='Fully Paid') &\\\n",
    "                       (lap['prediction_label']=='Charged Off')]))\n",
    "\n",
    "\n",
    "    try:\n",
    "        positivepredictivevalue = tp / (tp+fp)\n",
    "        negativepredictivevalue = tn / (tn+fn)\n",
    "        sensitivity = tp / (tp+fn)\n",
    "        specificity = tn / (tn+fp)\n",
    "        accuracy = (tp+tn) / (tp+tn+fp+fn)\n",
    "        return {'PPV': positivepredictivevalue, 'Sensitivity': sensitivity,\\\n",
    "            'NPV':negativepredictivevalue, 'Specificity': specificity, 'Accuracy': accuracy}\n",
    "    except ZeroDivisionError:\n",
    "        return 0\n",
    "\n",
    "    "
   ]
  },
  {
   "cell_type": "code",
   "execution_count": null,
   "metadata": {
    "collapsed": true
   },
   "outputs": [],
   "source": [
    "! pip install pandas"
   ]
  },
  {
   "cell_type": "code",
   "execution_count": null,
   "metadata": {
    "collapsed": true
   },
   "outputs": [],
   "source": [
    "lap = result.select(\"loan_status\", \"prediction_label\").toPandas()"
   ]
  },
  {
   "cell_type": "code",
   "execution_count": null,
   "metadata": {
    "collapsed": true
   },
   "outputs": [],
   "source": [
    "#lap"
   ]
  },
  {
   "cell_type": "code",
   "execution_count": null,
   "metadata": {
    "collapsed": true
   },
   "outputs": [],
   "source": [
    "m = eval_metrics(lap)"
   ]
  },
  {
   "cell_type": "code",
   "execution_count": null,
   "metadata": {
    "collapsed": true
   },
   "outputs": [],
   "source": [
    "m"
   ]
  },
  {
   "cell_type": "code",
   "execution_count": null,
   "metadata": {
    "collapsed": true
   },
   "outputs": [],
   "source": [
    "tp = float(len(lap[(lap['loan_status']=='Charged Off') &\\\n",
    "                   (lap['prediction_label']=='Charged Off')])) #positive = Charged Off"
   ]
  },
  {
   "cell_type": "code",
   "execution_count": null,
   "metadata": {
    "collapsed": true
   },
   "outputs": [],
   "source": [
    "tp"
   ]
  },
  {
   "cell_type": "code",
   "execution_count": null,
   "metadata": {
    "collapsed": true
   },
   "outputs": [],
   "source": [
    "tn = float(len(lap[(lap['loan_status']=='Fully Paid') &\\\n",
    "                   (lap['prediction_label']=='Fully Paid')])) #negative = Fully Paid"
   ]
  },
  {
   "cell_type": "code",
   "execution_count": null,
   "metadata": {
    "collapsed": true
   },
   "outputs": [],
   "source": [
    "tn"
   ]
  },
  {
   "cell_type": "code",
   "execution_count": null,
   "metadata": {
    "collapsed": true
   },
   "outputs": [],
   "source": [
    "fp = float(len(lap[(lap['loan_status']=='Fully Paid') &\\\n",
    "                   (lap['prediction_label']=='Charged Off')]))"
   ]
  },
  {
   "cell_type": "code",
   "execution_count": null,
   "metadata": {
    "collapsed": true
   },
   "outputs": [],
   "source": [
    "fn = float(len(lap[(lap['loan_status']=='Charged Off') &\\\n",
    "                   (lap['prediction_label']=='Fully Paid')]))"
   ]
  },
  {
   "cell_type": "code",
   "execution_count": null,
   "metadata": {
    "collapsed": true
   },
   "outputs": [],
   "source": [
    "#! pip install plotly"
   ]
  },
  {
   "cell_type": "code",
   "execution_count": null,
   "metadata": {
    "collapsed": true
   },
   "outputs": [],
   "source": [
    "#! pip install chart-studio"
   ]
  },
  {
   "cell_type": "code",
   "execution_count": null,
   "metadata": {
    "collapsed": true
   },
   "outputs": [],
   "source": []
  },
  {
   "cell_type": "code",
   "execution_count": null,
   "metadata": {
    "collapsed": true
   },
   "outputs": [],
   "source": [
    "#model1.save('./model_24Nov2019/')"
   ]
  },
  {
   "cell_type": "code",
   "execution_count": null,
   "metadata": {
    "collapsed": true
   },
   "outputs": [],
   "source": [
    "#model1"
   ]
  },
  {
   "cell_type": "code",
   "execution_count": null,
   "metadata": {
    "collapsed": true
   },
   "outputs": [],
   "source": [
    "#! ls -l ./model_24Nov2019/stages/"
   ]
  },
  {
   "cell_type": "code",
   "execution_count": null,
   "metadata": {
    "collapsed": true
   },
   "outputs": [],
   "source": [
    "#m"
   ]
  },
  {
   "cell_type": "markdown",
   "metadata": {
    "collapsed": true
   },
   "source": [
    "# Jan2020"
   ]
  },
  {
   "cell_type": "code",
   "execution_count": null,
   "metadata": {
    "collapsed": true
   },
   "outputs": [],
   "source": [
    "from pyspark.ml.feature import QuantileDiscretizer\n",
    "from pyspark.ml.feature import Bucketizer"
   ]
  },
  {
   "cell_type": "code",
   "execution_count": null,
   "metadata": {
    "collapsed": true
   },
   "outputs": [],
   "source": [
    "def get_model(df,categoricalCols,continuousCols,\\\n",
    "              discretedCols,split_range,labelCol):\n",
    "\n",
    "    from pyspark.ml import Pipeline\n",
    "    from pyspark.ml.feature import StringIndexer, OneHotEncoder, VectorAssembler\n",
    "    from pyspark.sql.functions import col\n",
    "    \n",
    "    \n",
    "    labelIndexer = StringIndexer(inputCol=labelCol,\\\n",
    "                             outputCol='indexedLabel',\\\n",
    "                             handleInvalid='keep')\n",
    "\n",
    "    indexers = [ StringIndexer(handleInvalid='keep',\\\n",
    "                               inputCol=c, outputCol=\"{0}_indexed\".format(c))\n",
    "                 for c in categoricalCols ]\n",
    "\n",
    "    # default setting: dropLast=True\n",
    "    encoders = [ OneHotEncoder(inputCol=indexer.getOutputCol(),\n",
    "                 outputCol=\"{0}_encoded\".format(indexer.getOutputCol()))\n",
    "                 for indexer in indexers ]\n",
    "    discretizers = [ Bucketizer(inputCol=d, outputCol=\"{0}_discretized\".format(d)\\\n",
    "                 ,splits=split_range)\n",
    "                 for d in discretedCols ]\n",
    "    \n",
    "    \n",
    "    featureCols = ['features']\n",
    "    assembler = VectorAssembler(inputCols=[encoder.getOutputCol() for encoder in encoders]\n",
    "                                + continuousCols +\\\n",
    "                                [discretizer.getOutputCol() for discretizer in discretizers], \\\n",
    "                                outputCol='features')\n",
    "    \n",
    "\n",
    "    pipeline_feature = Pipeline(stages=[labelIndexer] + indexers + encoders + discretizers + \\\n",
    "                        [assembler])\n",
    "    \n",
    "    \n",
    "    \n",
    "    train_df_features = pipeline_feature.fit(training).transform(training)\n",
    "    \n",
    "    layers = [\n",
    "    train_df_features.schema[\"features\"].metadata[\"ml_attr\"][\"num_attrs\"],\n",
    "    20, 10, 5, 2]\n",
    "    \n",
    "    \n",
    "    clf = MultilayerPerceptronClassifier(labelCol='indexedLabel',featuresCol='features'\\\n",
    "                                     ,layers=layers)\n",
    "    \n",
    "    \n",
    "    pipeline = Pipeline(stages=[labelIndexer] + indexers + encoders + discretizers + \\\n",
    "                        [assembler] + [clf])\n",
    "    \n",
    "\n",
    "\n",
    "    model=pipeline.fit(df)\n",
    "\n",
    "\n",
    "    return model"
   ]
  },
  {
   "cell_type": "code",
   "execution_count": null,
   "metadata": {
    "collapsed": true
   },
   "outputs": [],
   "source": [
    "training"
   ]
  },
  {
   "cell_type": "code",
   "execution_count": null,
   "metadata": {
    "collapsed": true
   },
   "outputs": [],
   "source": [
    "training.select('grade').describe().show()"
   ]
  },
  {
   "cell_type": "code",
   "execution_count": null,
   "metadata": {
    "collapsed": true
   },
   "outputs": [],
   "source": [
    "catcols = [\\\n",
    "           'emp_length',\\\n",
    "           'home_ownership',\\\n",
    "           'verification_status',\\\n",
    "           #'purpose',\\\n",
    "           'grade',\\\n",
    "           'addr_state'\\\n",
    "          ]\n",
    "\n",
    "num_cols = [\\\n",
    "            #'dti',\\\n",
    "            'loan_amnt',\\\n",
    "            'int_rate',\\\n",
    "            'installment',\\\n",
    "            'annual_inc',\\\n",
    "            #'revol_bal',\\\n",
    "            #'delinq_2yrs',\\\n",
    "            'pub_rec',\\\n",
    "            #'revol_util'\\\n",
    "            'total_acc'\\\n",
    "           ]\n",
    "\n",
    "discols = [\\\n",
    "           #'pub_rec',\\\n",
    "           'dti',\\\n",
    "           #'installment'\\\n",
    "          ]\n",
    "\n",
    "\n",
    "\n",
    "labelCol = 'loan_status'\n",
    "\n",
    "splits = [-1.0, 0.0, 1.0, 2.0, 3.0, 4.0, float(\"inf\")]"
   ]
  },
  {
   "cell_type": "code",
   "execution_count": null,
   "metadata": {
    "collapsed": true
   },
   "outputs": [],
   "source": [
    "from itertools import combinations \n",
    "list(combinations(catcols, 2))"
   ]
  },
  {
   "cell_type": "code",
   "execution_count": null,
   "metadata": {
    "collapsed": true
   },
   "outputs": [],
   "source": [
    "for i in range(len(catcols)):\n",
    "    for j in (list(combinations(catcols, i+1))):\n",
    "        ml_model = get_model(training,j\\\n",
    "                             ,num_cols,discols, splits, labelCol)\n",
    "        lap2 = ml_model.transform(test)\\\n",
    "        .withColumn('prediction_label',spark_labeling(col('prediction')))\\\n",
    "        .toPandas()\n",
    "        m2 = eval_metrics(lap2)\n",
    "        print(\"Categorical Features: {0} ได้ Model ที่มี {1}\".format(j,m2))\n",
    "        "
   ]
  },
  {
   "cell_type": "code",
   "execution_count": null,
   "metadata": {
    "collapsed": true
   },
   "outputs": [],
   "source": []
  },
  {
   "cell_type": "code",
   "execution_count": null,
   "metadata": {
    "collapsed": true
   },
   "outputs": [],
   "source": [
    "#ml_model = get_model(training,catcols,num_cols,discols, splits, labelCol)"
   ]
  },
  {
   "cell_type": "code",
   "execution_count": null,
   "metadata": {
    "collapsed": true
   },
   "outputs": [],
   "source": [
    "#ml_model"
   ]
  },
  {
   "cell_type": "code",
   "execution_count": null,
   "metadata": {
    "collapsed": true
   },
   "outputs": [],
   "source": [
    "ml_model.stages"
   ]
  },
  {
   "cell_type": "code",
   "execution_count": null,
   "metadata": {
    "collapsed": true
   },
   "outputs": [],
   "source": [
    "get_bucket = ml_model.stages[11]"
   ]
  },
  {
   "cell_type": "code",
   "execution_count": null,
   "metadata": {
    "collapsed": true
   },
   "outputs": [],
   "source": [
    "get_bucket.getOutputCol()"
   ]
  },
  {
   "cell_type": "code",
   "execution_count": null,
   "metadata": {
    "collapsed": true
   },
   "outputs": [],
   "source": [
    "get_bucket.transform(training).groupBy(get_bucket.getOutputCol()).count().show()"
   ]
  },
  {
   "cell_type": "code",
   "execution_count": null,
   "metadata": {
    "collapsed": true
   },
   "outputs": [],
   "source": [
    "lap2 = ml_model.transform(test)\\\n",
    ".withColumn('prediction_label',spark_labeling(col('prediction')))\\\n",
    ".toPandas()"
   ]
  },
  {
   "cell_type": "code",
   "execution_count": null,
   "metadata": {
    "collapsed": true
   },
   "outputs": [],
   "source": []
  },
  {
   "cell_type": "code",
   "execution_count": null,
   "metadata": {
    "collapsed": true
   },
   "outputs": [],
   "source": [
    "m2 = eval_metrics(lap2)"
   ]
  },
  {
   "cell_type": "code",
   "execution_count": null,
   "metadata": {
    "collapsed": true
   },
   "outputs": [],
   "source": [
    "m2"
   ]
  },
  {
   "cell_type": "code",
   "execution_count": null,
   "metadata": {
    "collapsed": true
   },
   "outputs": [],
   "source": [
    "training.groupby('loan_status').count().show()"
   ]
  },
  {
   "cell_type": "code",
   "execution_count": null,
   "metadata": {
    "collapsed": true
   },
   "outputs": [],
   "source": [
    "test.groupby('loan_status').count().show()"
   ]
  },
  {
   "cell_type": "code",
   "execution_count": null,
   "metadata": {
    "collapsed": true
   },
   "outputs": [],
   "source": [
    "training.count()"
   ]
  },
  {
   "cell_type": "code",
   "execution_count": null,
   "metadata": {
    "collapsed": true
   },
   "outputs": [],
   "source": [
    "training.count()"
   ]
  },
  {
   "cell_type": "code",
   "execution_count": null,
   "metadata": {
    "collapsed": true
   },
   "outputs": [],
   "source": [
    "training.groupby('loan_status').count().show()"
   ]
  },
  {
   "cell_type": "code",
   "execution_count": null,
   "metadata": {
    "collapsed": true
   },
   "outputs": [],
   "source": [
    "test.groupBy('loan_status').count().show()"
   ]
  },
  {
   "cell_type": "code",
   "execution_count": null,
   "metadata": {
    "collapsed": true
   },
   "outputs": [],
   "source": [
    "test_result_df = ml_model.transform(test)"
   ]
  },
  {
   "cell_type": "code",
   "execution_count": null,
   "metadata": {
    "collapsed": true
   },
   "outputs": [],
   "source": []
  },
  {
   "cell_type": "code",
   "execution_count": null,
   "metadata": {
    "collapsed": true
   },
   "outputs": [],
   "source": [
    "test_result_df.filter(col('indexedLabel') != col('prediction')).count()"
   ]
  },
  {
   "cell_type": "code",
   "execution_count": null,
   "metadata": {
    "collapsed": true
   },
   "outputs": [],
   "source": [
    "test_result_df.filter(col('indexedLabel') != col('prediction')).filter(col('loan_status') == 'Charged Off').\\\n",
    "groupBy(['loan_status','indexedLabel','prediction']).count().show()"
   ]
  },
  {
   "cell_type": "code",
   "execution_count": null,
   "metadata": {
    "collapsed": true
   },
   "outputs": [],
   "source": [
    "test_result_df.filter(col('loan_status') == 'Charged Off').count()"
   ]
  },
  {
   "cell_type": "code",
   "execution_count": null,
   "metadata": {
    "collapsed": true
   },
   "outputs": [],
   "source": [
    "13903/30629"
   ]
  },
  {
   "cell_type": "code",
   "execution_count": null,
   "metadata": {
    "collapsed": true
   },
   "outputs": [],
   "source": []
  },
  {
   "cell_type": "code",
   "execution_count": null,
   "metadata": {
    "collapsed": true
   },
   "outputs": [],
   "source": []
  },
  {
   "cell_type": "code",
   "execution_count": null,
   "metadata": {
    "collapsed": true
   },
   "outputs": [],
   "source": []
  },
  {
   "cell_type": "code",
   "execution_count": null,
   "metadata": {
    "collapsed": true
   },
   "outputs": [],
   "source": []
  },
  {
   "cell_type": "code",
   "execution_count": null,
   "metadata": {
    "collapsed": true
   },
   "outputs": [],
   "source": []
  },
  {
   "cell_type": "code",
   "execution_count": null,
   "metadata": {
    "collapsed": true
   },
   "outputs": [],
   "source": []
  }
 ],
 "metadata": {
  "anaconda-cloud": {},
  "kernelspec": {
   "display_name": "Python 3",
   "language": "python",
   "name": "python3"
  },
  "language_info": {
   "codemirror_mode": {
    "name": "ipython",
    "version": 3
   },
   "file_extension": ".py",
   "mimetype": "text/x-python",
   "name": "python",
   "nbconvert_exporter": "python",
   "pygments_lexer": "ipython3",
   "version": "3.6.1"
  }
 },
 "nbformat": 4,
 "nbformat_minor": 1
}
