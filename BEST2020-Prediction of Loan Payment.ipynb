{
 "cells": [
  {
   "cell_type": "code",
   "execution_count": 1,
   "metadata": {
    "collapsed": true
   },
   "outputs": [],
   "source": [
    "import time as t"
   ]
  },
  {
   "cell_type": "markdown",
   "metadata": {},
   "source": [
    "### Pre-Configuration of Spark\n",
    "\n",
    "function sparknotebook()\n",
    "{\n",
    "export SPARK_LOCAL_IP=\"192.168.10.1\"\n",
    "export PYSPARK_DRIVER_PYTHON=jupyter\n",
    "export PYSPARK_DRIVER_PYTHON_OPTS=\"notebook --no-browser --NotebookApp.token='' --allow-root --NotebookApp.ip='*' --NotebookApp.port=8880\"\n",
    "nohup $SPARK_HOME/bin/pyspark --master spark://192.168.10.1:7077\n",
    "}\n",
    "\n",
    "*** NO ANY CRONTAB JOB ***"
   ]
  },
  {
   "cell_type": "code",
   "execution_count": 2,
   "metadata": {
    "collapsed": true
   },
   "outputs": [],
   "source": [
    "! rm -rf metastore_db/"
   ]
  },
  {
   "cell_type": "code",
   "execution_count": 3,
   "metadata": {
    "collapsed": true
   },
   "outputs": [],
   "source": [
    "spark.stop()"
   ]
  },
  {
   "cell_type": "code",
   "execution_count": 4,
   "metadata": {
    "collapsed": true
   },
   "outputs": [],
   "source": [
    "spark = SparkSession \\\n",
    ".builder \\\n",
    ".appName(\"Prediction of Loan Payment\") \\\n",
    ".master(\"spark://192.168.10.1:7077\") \\\n",
    ".config(\"spark.executor.cores\",\"1\")\\\n",
    ".getOrCreate();"
   ]
  },
  {
   "cell_type": "code",
   "execution_count": 5,
   "metadata": {},
   "outputs": [
    {
     "name": "stdout",
     "output_type": "stream",
     "text": [
      "total 688820\r\n",
      "-rw-r--r-- 1 root root 689413344 Dec  8  2019 2008.csv\r\n",
      "-rw-r--r-- 1 root root     19549 Feb  8  2020 Aekanun-Collection-GKBM-NEW (Update).ipynb\r\n",
      "-rw-r--r-- 1 root root    174778 Oct 25 14:50 BEST2020-Prediction of Loan Payment.ipynb\r\n",
      "-rw-r--r-- 1 root root     94730 Feb  8  2020 Best-LAB-Dataproc-Prediction_of_Loan_Payment-Data2016-2019Q1-11Oct2019.ipynb\r\n",
      "-rw-r--r-- 1 root root      3560 Feb  8  2020 Homework_Pond.ipynb\r\n",
      "-rw-r--r-- 1 root root      4188 Feb  8  2020 Pond_(HDFS-Managing_Files).ipynb\r\n",
      "-rw-r--r-- 1 root root     47741 Feb  8  2020 Pond_(Hive_Movielen).ipynb\r\n",
      "-rw-r--r-- 1 root root    134422 Feb 29  2020 Pond_01-Feb-20+(Predict+ChargeOff)-Copy1.ipynb\r\n",
      "-rw-r--r-- 1 root root    128831 Feb 25  2020 Pond_01-Feb-20+(Predict+ChargeOff).ipynb\r\n",
      "-rw-r--r-- 1 root root     19082 Feb  8  2020 Pond_07-Sep-19 (Homework).ipynb\r\n",
      "-rw-r--r-- 1 root root      9710 Feb  8  2020 Pond_07-Sep-19 (Time Table).ipynb\r\n",
      "-rw-r--r-- 1 root root    115459 Dec  8  2019 Pond_08-Dec-19 (Arrival Delay).ipynb\r\n",
      "-rw-r--r-- 1 root root    151197 Dec  8  2019 Pond_08-Dec-19 (Random Forest).ipynb\r\n",
      "-rw-r--r-- 1 root root     43560 Dec 14  2019 Pond_08-Dec-19 (Regression).ipynb\r\n",
      "-rw-r--r-- 1 root root    101255 Feb  9  2020 Pond_08-Feb-20 (TLS_Test).ipynb\r\n",
      "-rw-r--r-- 1 root root    129673 Feb  9  2020 Pond_08-Feb-20 (Test).ipynb\r\n",
      "-rw-r--r-- 1 root root     25873 Feb  8  2020 Pond_09-Nov-19 (Arrival Delay).ipynb\r\n",
      "-rw-r--r-- 1 root root     99141 Feb  1  2020 Pond_14-Dec-19 (Credit Scoring).ipynb\r\n",
      "-rw-r--r-- 1 root root     50483 Dec 16  2019 Pond_14-Dec-19 (LendingClub-Sirint).ipynb\r\n",
      "-rw-r--r-- 1 root root    682029 Feb  8  2020 Pond_14-Sep-19 (TLS_Dictionary).ipynb\r\n",
      "-rw-r--r-- 1 root root     30967 Feb  8  2020 Pond_21-Sep-19 (TLS).ipynb\r\n",
      "-rw-r--r-- 1 root root     23863 Feb  8  2020 Pond_21-Sep-19 (TLS_Tit).ipynb\r\n",
      "-rw-r--r-- 1 root root    104813 Feb 29  2020 Pond_28-Feb-20 (Gradient Descent).ipynb\r\n",
      "-rw-r--r-- 1 root root    145507 Oct 18 11:25 Pond_29-Feb-20+(Predict+ChargeOff with MLP)-18Oct2020-SUCCESS.ipynb\r\n",
      "-rw-r--r-- 1 root root    200561 Oct 19 10:05 Pond_29-Feb-20+(Predict+ChargeOff with MLP)-18Oct2020.ipynb\r\n",
      "-rw-r--r-- 1 root root    139736 Oct 18 10:55 Pond_29-Feb-20+(Predict+ChargeOff with MLP)-Aekanun.ipynb\r\n",
      "-rw-r--r-- 1 root root    145955 Mar 28  2020 Pond_29-Feb-20+(Predict+ChargeOff with MLP)-Copy1.ipynb\r\n",
      "-rw-r--r-- 1 root root    144228 Mar  1  2020 Pond_29-Feb-20+(Predict+ChargeOff with MLP).ipynb\r\n",
      "-rw-r--r-- 1 root root    135856 Feb 29  2020 Pond_29-Feb-20+(Predict+ChargeOff).ipynb\r\n",
      "-rw-r--r-- 1 root root      5759 Feb  8  2020 Pond_Fundamental_Python_List.ipynb\r\n",
      "-rw-r--r-- 1 root root   3683158 Feb  8  2020 TLS.csv\r\n",
      "-rw-r--r-- 1 root root   4060384 Feb  9  2020 TLS_Prep.csv\r\n",
      "-rw-r--r-- 1 root root   5000927 Feb  8  2020 TLease.csv\r\n",
      "-rw-r--r-- 1 root root       702 Oct 25 14:50 derby.log\r\n",
      "drwxr-xr-x 5 root root      4096 Oct 25 14:50 \u001b[0m\u001b[01;34mmetastore_db\u001b[0m/\r\n",
      "drwxr-xr-x 4 root root      4096 Oct 18 19:36 \u001b[01;34mmodelMLP_bestloanpayment\u001b[0m/\r\n"
     ]
    }
   ],
   "source": [
    "ls -l"
   ]
  },
  {
   "cell_type": "code",
   "execution_count": 6,
   "metadata": {},
   "outputs": [
    {
     "name": "stdout",
     "output_type": "stream",
     "text": [
      "/root/notebook/POND\r\n"
     ]
    }
   ],
   "source": [
    "! pwd"
   ]
  },
  {
   "cell_type": "code",
   "execution_count": 7,
   "metadata": {},
   "outputs": [
    {
     "data": {
      "text/html": [
       "\n",
       "            <div>\n",
       "                <p><b>SparkSession - hive</b></p>\n",
       "                \n",
       "        <div>\n",
       "            <p><b>SparkContext</b></p>\n",
       "\n",
       "            <p><a href=\"http://192.168.10.1:4040\">Spark UI</a></p>\n",
       "\n",
       "            <dl>\n",
       "              <dt>Version</dt>\n",
       "                <dd><code>v2.2.0</code></dd>\n",
       "              <dt>Master</dt>\n",
       "                <dd><code>spark://192.168.10.1:7077</code></dd>\n",
       "              <dt>AppName</dt>\n",
       "                <dd><code>Prediction of Loan Payment</code></dd>\n",
       "            </dl>\n",
       "        </div>\n",
       "        \n",
       "            </div>\n",
       "        "
      ],
      "text/plain": [
       "<pyspark.sql.session.SparkSession at 0x7f7fa002c0f0>"
      ]
     },
     "execution_count": 7,
     "metadata": {},
     "output_type": "execute_result"
    }
   ],
   "source": [
    "spark"
   ]
  },
  {
   "cell_type": "code",
   "execution_count": 8,
   "metadata": {},
   "outputs": [
    {
     "name": "stdout",
     "output_type": "stream",
     "text": [
      "/root/notebook/data/LoanStats_web.csv\r\n"
     ]
    }
   ],
   "source": [
    "! ls /root/notebook/data/LoanStats_web.csv"
   ]
  },
  {
   "cell_type": "code",
   "execution_count": 9,
   "metadata": {},
   "outputs": [
    {
     "name": "stdout",
     "output_type": "stream",
     "text": [
      "total 688820\r\n",
      "-rw-r--r-- 1 root root 689413344 Dec  8  2019 2008.csv\r\n",
      "-rw-r--r-- 1 root root     19549 Feb  8  2020 Aekanun-Collection-GKBM-NEW (Update).ipynb\r\n",
      "-rw-r--r-- 1 root root    174778 Oct 25 14:50 BEST2020-Prediction of Loan Payment.ipynb\r\n",
      "-rw-r--r-- 1 root root     94730 Feb  8  2020 Best-LAB-Dataproc-Prediction_of_Loan_Payment-Data2016-2019Q1-11Oct2019.ipynb\r\n",
      "-rw-r--r-- 1 root root      3560 Feb  8  2020 Homework_Pond.ipynb\r\n",
      "-rw-r--r-- 1 root root      4188 Feb  8  2020 Pond_(HDFS-Managing_Files).ipynb\r\n",
      "-rw-r--r-- 1 root root     47741 Feb  8  2020 Pond_(Hive_Movielen).ipynb\r\n",
      "-rw-r--r-- 1 root root    134422 Feb 29  2020 Pond_01-Feb-20+(Predict+ChargeOff)-Copy1.ipynb\r\n",
      "-rw-r--r-- 1 root root    128831 Feb 25  2020 Pond_01-Feb-20+(Predict+ChargeOff).ipynb\r\n",
      "-rw-r--r-- 1 root root     19082 Feb  8  2020 Pond_07-Sep-19 (Homework).ipynb\r\n",
      "-rw-r--r-- 1 root root      9710 Feb  8  2020 Pond_07-Sep-19 (Time Table).ipynb\r\n",
      "-rw-r--r-- 1 root root    115459 Dec  8  2019 Pond_08-Dec-19 (Arrival Delay).ipynb\r\n",
      "-rw-r--r-- 1 root root    151197 Dec  8  2019 Pond_08-Dec-19 (Random Forest).ipynb\r\n",
      "-rw-r--r-- 1 root root     43560 Dec 14  2019 Pond_08-Dec-19 (Regression).ipynb\r\n",
      "-rw-r--r-- 1 root root    101255 Feb  9  2020 Pond_08-Feb-20 (TLS_Test).ipynb\r\n",
      "-rw-r--r-- 1 root root    129673 Feb  9  2020 Pond_08-Feb-20 (Test).ipynb\r\n",
      "-rw-r--r-- 1 root root     25873 Feb  8  2020 Pond_09-Nov-19 (Arrival Delay).ipynb\r\n",
      "-rw-r--r-- 1 root root     99141 Feb  1  2020 Pond_14-Dec-19 (Credit Scoring).ipynb\r\n",
      "-rw-r--r-- 1 root root     50483 Dec 16  2019 Pond_14-Dec-19 (LendingClub-Sirint).ipynb\r\n",
      "-rw-r--r-- 1 root root    682029 Feb  8  2020 Pond_14-Sep-19 (TLS_Dictionary).ipynb\r\n",
      "-rw-r--r-- 1 root root     30967 Feb  8  2020 Pond_21-Sep-19 (TLS).ipynb\r\n",
      "-rw-r--r-- 1 root root     23863 Feb  8  2020 Pond_21-Sep-19 (TLS_Tit).ipynb\r\n",
      "-rw-r--r-- 1 root root    104813 Feb 29  2020 Pond_28-Feb-20 (Gradient Descent).ipynb\r\n",
      "-rw-r--r-- 1 root root    145507 Oct 18 11:25 Pond_29-Feb-20+(Predict+ChargeOff with MLP)-18Oct2020-SUCCESS.ipynb\r\n",
      "-rw-r--r-- 1 root root    200561 Oct 19 10:05 Pond_29-Feb-20+(Predict+ChargeOff with MLP)-18Oct2020.ipynb\r\n",
      "-rw-r--r-- 1 root root    139736 Oct 18 10:55 Pond_29-Feb-20+(Predict+ChargeOff with MLP)-Aekanun.ipynb\r\n",
      "-rw-r--r-- 1 root root    145955 Mar 28  2020 Pond_29-Feb-20+(Predict+ChargeOff with MLP)-Copy1.ipynb\r\n",
      "-rw-r--r-- 1 root root    144228 Mar  1  2020 Pond_29-Feb-20+(Predict+ChargeOff with MLP).ipynb\r\n",
      "-rw-r--r-- 1 root root    135856 Feb 29  2020 Pond_29-Feb-20+(Predict+ChargeOff).ipynb\r\n",
      "-rw-r--r-- 1 root root      5759 Feb  8  2020 Pond_Fundamental_Python_List.ipynb\r\n",
      "-rw-r--r-- 1 root root   3683158 Feb  8  2020 TLS.csv\r\n",
      "-rw-r--r-- 1 root root   4060384 Feb  9  2020 TLS_Prep.csv\r\n",
      "-rw-r--r-- 1 root root   5000927 Feb  8  2020 TLease.csv\r\n",
      "-rw-r--r-- 1 root root       702 Oct 25 14:50 derby.log\r\n",
      "drwxr-xr-x 5 root root      4096 Oct 25 14:50 \u001b[0m\u001b[01;34mmetastore_db\u001b[0m/\r\n",
      "drwxr-xr-x 4 root root      4096 Oct 18 19:36 \u001b[01;34mmodelMLP_bestloanpayment\u001b[0m/\r\n"
     ]
    }
   ],
   "source": [
    "ls -l"
   ]
  },
  {
   "cell_type": "code",
   "execution_count": 10,
   "metadata": {
    "collapsed": true
   },
   "outputs": [],
   "source": [
    "Lending_Club_df = spark.read.format('csv').\\\n",
    "option('header','true').option('mode','DROPMALFORMED')\\\n",
    ".load('/root/notebook/data/LoanStats_web.csv')"
   ]
  },
  {
   "cell_type": "code",
   "execution_count": 11,
   "metadata": {
    "collapsed": true
   },
   "outputs": [],
   "source": [
    "#นับจำนวนข้อมูล (Row) เป็นการตรวจสอบจำนวนข้อมูลทั้งหมด"
   ]
  },
  {
   "cell_type": "code",
   "execution_count": 12,
   "metadata": {},
   "outputs": [
    {
     "data": {
      "text/plain": [
       "1432439"
      ]
     },
     "execution_count": 12,
     "metadata": {},
     "output_type": "execute_result"
    }
   ],
   "source": [
    "Lending_Club_df.count()"
   ]
  },
  {
   "cell_type": "code",
   "execution_count": 13,
   "metadata": {
    "collapsed": true
   },
   "outputs": [],
   "source": [
    "#นับจำนวน Field (Columns) เป็นการตรวจสอบ Attributes"
   ]
  },
  {
   "cell_type": "code",
   "execution_count": 14,
   "metadata": {},
   "outputs": [
    {
     "data": {
      "text/plain": [
       "144"
      ]
     },
     "execution_count": 14,
     "metadata": {},
     "output_type": "execute_result"
    }
   ],
   "source": [
    "len(Lending_Club_df.columns)"
   ]
  },
  {
   "cell_type": "code",
   "execution_count": 15,
   "metadata": {
    "collapsed": true
   },
   "outputs": [],
   "source": [
    "#ดู Type ของ่ข้อมูล (String / Double / etc.) "
   ]
  },
  {
   "cell_type": "code",
   "execution_count": 16,
   "metadata": {},
   "outputs": [
    {
     "name": "stdout",
     "output_type": "stream",
     "text": [
      "root\n",
      " |-- id: string (nullable = true)\n",
      " |-- member_id: string (nullable = true)\n",
      " |-- loan_amnt: string (nullable = true)\n",
      " |-- funded_amnt: string (nullable = true)\n",
      " |-- funded_amnt_inv: string (nullable = true)\n",
      " |-- term: string (nullable = true)\n",
      " |-- int_rate: string (nullable = true)\n",
      " |-- installment: string (nullable = true)\n",
      " |-- grade: string (nullable = true)\n",
      " |-- sub_grade: string (nullable = true)\n",
      " |-- emp_title: string (nullable = true)\n",
      " |-- emp_length: string (nullable = true)\n",
      " |-- home_ownership: string (nullable = true)\n",
      " |-- annual_inc: string (nullable = true)\n",
      " |-- verification_status: string (nullable = true)\n",
      " |-- issue_d: string (nullable = true)\n",
      " |-- loan_status: string (nullable = true)\n",
      " |-- pymnt_plan: string (nullable = true)\n",
      " |-- url: string (nullable = true)\n",
      " |-- desc: string (nullable = true)\n",
      " |-- purpose: string (nullable = true)\n",
      " |-- title: string (nullable = true)\n",
      " |-- zip_code: string (nullable = true)\n",
      " |-- addr_state: string (nullable = true)\n",
      " |-- dti: string (nullable = true)\n",
      " |-- delinq_2yrs: string (nullable = true)\n",
      " |-- earliest_cr_line: string (nullable = true)\n",
      " |-- inq_last_6mths: string (nullable = true)\n",
      " |-- mths_since_last_delinq: string (nullable = true)\n",
      " |-- mths_since_last_record: string (nullable = true)\n",
      " |-- open_acc: string (nullable = true)\n",
      " |-- pub_rec: string (nullable = true)\n",
      " |-- revol_bal: string (nullable = true)\n",
      " |-- revol_util: string (nullable = true)\n",
      " |-- total_acc: string (nullable = true)\n",
      " |-- initial_list_status: string (nullable = true)\n",
      " |-- out_prncp: string (nullable = true)\n",
      " |-- out_prncp_inv: string (nullable = true)\n",
      " |-- total_pymnt: string (nullable = true)\n",
      " |-- total_pymnt_inv: string (nullable = true)\n",
      " |-- total_rec_prncp: string (nullable = true)\n",
      " |-- total_rec_int: string (nullable = true)\n",
      " |-- total_rec_late_fee: string (nullable = true)\n",
      " |-- recoveries: string (nullable = true)\n",
      " |-- collection_recovery_fee: string (nullable = true)\n",
      " |-- last_pymnt_d: string (nullable = true)\n",
      " |-- last_pymnt_amnt: string (nullable = true)\n",
      " |-- next_pymnt_d: string (nullable = true)\n",
      " |-- last_credit_pull_d: string (nullable = true)\n",
      " |-- collections_12_mths_ex_med: string (nullable = true)\n",
      " |-- mths_since_last_major_derog: string (nullable = true)\n",
      " |-- policy_code: string (nullable = true)\n",
      " |-- application_type: string (nullable = true)\n",
      " |-- annual_inc_joint: string (nullable = true)\n",
      " |-- dti_joint: string (nullable = true)\n",
      " |-- verification_status_joint: string (nullable = true)\n",
      " |-- acc_now_delinq: string (nullable = true)\n",
      " |-- tot_coll_amt: string (nullable = true)\n",
      " |-- tot_cur_bal: string (nullable = true)\n",
      " |-- open_acc_6m: string (nullable = true)\n",
      " |-- open_act_il: string (nullable = true)\n",
      " |-- open_il_12m: string (nullable = true)\n",
      " |-- open_il_24m: string (nullable = true)\n",
      " |-- mths_since_rcnt_il: string (nullable = true)\n",
      " |-- total_bal_il: string (nullable = true)\n",
      " |-- il_util: string (nullable = true)\n",
      " |-- open_rv_12m: string (nullable = true)\n",
      " |-- open_rv_24m: string (nullable = true)\n",
      " |-- max_bal_bc: string (nullable = true)\n",
      " |-- all_util: string (nullable = true)\n",
      " |-- total_rev_hi_lim: string (nullable = true)\n",
      " |-- inq_fi: string (nullable = true)\n",
      " |-- total_cu_tl: string (nullable = true)\n",
      " |-- inq_last_12m: string (nullable = true)\n",
      " |-- acc_open_past_24mths: string (nullable = true)\n",
      " |-- avg_cur_bal: string (nullable = true)\n",
      " |-- bc_open_to_buy: string (nullable = true)\n",
      " |-- bc_util: string (nullable = true)\n",
      " |-- chargeoff_within_12_mths: string (nullable = true)\n",
      " |-- delinq_amnt: string (nullable = true)\n",
      " |-- mo_sin_old_il_acct: string (nullable = true)\n",
      " |-- mo_sin_old_rev_tl_op: string (nullable = true)\n",
      " |-- mo_sin_rcnt_rev_tl_op: string (nullable = true)\n",
      " |-- mo_sin_rcnt_tl: string (nullable = true)\n",
      " |-- mort_acc: string (nullable = true)\n",
      " |-- mths_since_recent_bc: string (nullable = true)\n",
      " |-- mths_since_recent_bc_dlq: string (nullable = true)\n",
      " |-- mths_since_recent_inq: string (nullable = true)\n",
      " |-- mths_since_recent_revol_delinq: string (nullable = true)\n",
      " |-- num_accts_ever_120_pd: string (nullable = true)\n",
      " |-- num_actv_bc_tl: string (nullable = true)\n",
      " |-- num_actv_rev_tl: string (nullable = true)\n",
      " |-- num_bc_sats: string (nullable = true)\n",
      " |-- num_bc_tl: string (nullable = true)\n",
      " |-- num_il_tl: string (nullable = true)\n",
      " |-- num_op_rev_tl: string (nullable = true)\n",
      " |-- num_rev_accts: string (nullable = true)\n",
      " |-- num_rev_tl_bal_gt_0: string (nullable = true)\n",
      " |-- num_sats: string (nullable = true)\n",
      " |-- num_tl_120dpd_2m: string (nullable = true)\n",
      " |-- num_tl_30dpd: string (nullable = true)\n",
      " |-- num_tl_90g_dpd_24m: string (nullable = true)\n",
      " |-- num_tl_op_past_12m: string (nullable = true)\n",
      " |-- pct_tl_nvr_dlq: string (nullable = true)\n",
      " |-- percent_bc_gt_75: string (nullable = true)\n",
      " |-- pub_rec_bankruptcies: string (nullable = true)\n",
      " |-- tax_liens: string (nullable = true)\n",
      " |-- tot_hi_cred_lim: string (nullable = true)\n",
      " |-- total_bal_ex_mort: string (nullable = true)\n",
      " |-- total_bc_limit: string (nullable = true)\n",
      " |-- total_il_high_credit_limit: string (nullable = true)\n",
      " |-- revol_bal_joint: string (nullable = true)\n",
      " |-- sec_app_earliest_cr_line: string (nullable = true)\n",
      " |-- sec_app_inq_last_6mths: string (nullable = true)\n",
      " |-- sec_app_mort_acc: string (nullable = true)\n",
      " |-- sec_app_open_acc: string (nullable = true)\n",
      " |-- sec_app_revol_util: string (nullable = true)\n",
      " |-- sec_app_open_act_il: string (nullable = true)\n",
      " |-- sec_app_num_rev_accts: string (nullable = true)\n",
      " |-- sec_app_chargeoff_within_12_mths: string (nullable = true)\n",
      " |-- sec_app_collections_12_mths_ex_med: string (nullable = true)\n",
      " |-- sec_app_mths_since_last_major_derog: string (nullable = true)\n",
      " |-- hardship_flag: string (nullable = true)\n",
      " |-- hardship_type: string (nullable = true)\n",
      " |-- hardship_reason: string (nullable = true)\n",
      " |-- hardship_status: string (nullable = true)\n",
      " |-- deferral_term: string (nullable = true)\n",
      " |-- hardship_amount: string (nullable = true)\n",
      " |-- hardship_start_date: string (nullable = true)\n",
      " |-- hardship_end_date: string (nullable = true)\n",
      " |-- payment_plan_start_date: string (nullable = true)\n",
      " |-- hardship_length: string (nullable = true)\n",
      " |-- hardship_dpd: string (nullable = true)\n",
      " |-- hardship_loan_status: string (nullable = true)\n",
      " |-- orig_projected_additional_accrued_interest: string (nullable = true)\n",
      " |-- hardship_payoff_balance_amount: string (nullable = true)\n",
      " |-- hardship_last_payment_amount: string (nullable = true)\n",
      " |-- debt_settlement_flag: string (nullable = true)\n",
      " |-- debt_settlement_flag_date: string (nullable = true)\n",
      " |-- settlement_status: string (nullable = true)\n",
      " |-- settlement_date: string (nullable = true)\n",
      " |-- settlement_amount: string (nullable = true)\n",
      " |-- settlement_percentage: string (nullable = true)\n",
      " |-- settlement_term: string (nullable = true)\n",
      "\n"
     ]
    }
   ],
   "source": [
    "Lending_Club_df.printSchema()"
   ]
  },
  {
   "cell_type": "code",
   "execution_count": 17,
   "metadata": {
    "collapsed": true
   },
   "outputs": [],
   "source": [
    "#ดูกลุ่มข้อมูลของแต่ละตัวแปรและนับจำนวนในแต่ละกลุ่ม"
   ]
  },
  {
   "cell_type": "code",
   "execution_count": 18,
   "metadata": {},
   "outputs": [
    {
     "name": "stdout",
     "output_type": "stream",
     "text": [
      "+------------------+------+\n",
      "|           purpose| count|\n",
      "+------------------+------+\n",
      "|           wedding|     7|\n",
      "|             other| 93997|\n",
      "|    small_business| 15032|\n",
      "|debt_consolidation|791531|\n",
      "|       credit_card|335091|\n",
      "|            moving|  9733|\n",
      "|          vacation| 10579|\n",
      "|  renewable_energy|   910|\n",
      "|             house|  9893|\n",
      "|               car| 15288|\n",
      "|    major_purchase| 32649|\n",
      "|           medical| 18807|\n",
      "|  home_improvement| 98922|\n",
      "+------------------+------+\n",
      "\n"
     ]
    }
   ],
   "source": [
    "Lending_Club_df.select(['purpose']).groupBy('purpose').count().show()"
   ]
  },
  {
   "cell_type": "code",
   "execution_count": 19,
   "metadata": {},
   "outputs": [
    {
     "name": "stdout",
     "output_type": "stream",
     "text": [
      "+--------------+------+\n",
      "|home_ownership| count|\n",
      "+--------------+------+\n",
      "|           OWN|170888|\n",
      "|          RENT|556960|\n",
      "|      MORTGAGE|701646|\n",
      "|           ANY|  2940|\n",
      "|          NONE|     5|\n",
      "+--------------+------+\n",
      "\n"
     ]
    }
   ],
   "source": [
    "Lending_Club_df.select(['home_ownership']).groupBy('home_ownership').count().show()"
   ]
  },
  {
   "cell_type": "code",
   "execution_count": 20,
   "metadata": {},
   "outputs": [
    {
     "name": "stdout",
     "output_type": "stream",
     "text": [
      "+-----+------+\n",
      "|grade| count|\n",
      "+-----+------+\n",
      "|    F| 19480|\n",
      "|    E| 68353|\n",
      "|    B|424110|\n",
      "|    D|191136|\n",
      "|    C|421101|\n",
      "|    A|302988|\n",
      "|    G|  5271|\n",
      "+-----+------+\n",
      "\n"
     ]
    }
   ],
   "source": [
    "Lending_Club_df.select(['grade']).groupBy('grade').count().show()"
   ]
  },
  {
   "cell_type": "code",
   "execution_count": 21,
   "metadata": {},
   "outputs": [
    {
     "name": "stdout",
     "output_type": "stream",
     "text": [
      "+--------------------+-----+\n",
      "|           emp_title|count|\n",
      "+--------------------+-----+\n",
      "|           Physician| 1337|\n",
      "|       Construction |   84|\n",
      "|Maintenance Fligh...|    1|\n",
      "|     Medical billing|   26|\n",
      "|      sale associate|    7|\n",
      "| Field Sales Manager|   24|\n",
      "|Learning Behavior...|    1|\n",
      "|          lieutenant|   26|\n",
      "|Bookkeeper/office...|    1|\n",
      "|      Histology Tech|   12|\n",
      "|                 CSR|  694|\n",
      "|      SUPERINTENDENT|   52|\n",
      "|      Lead Therapist|   12|\n",
      "|           Scientist|  317|\n",
      "|       Swing Manager|    2|\n",
      "|      CLERK TYPIST 3|    1|\n",
      "|Vp financial cent...|    1|\n",
      "|           machinist|  429|\n",
      "|Branch Regional R...|    1|\n",
      "|           hygienist|   15|\n",
      "+--------------------+-----+\n",
      "only showing top 20 rows\n",
      "\n"
     ]
    }
   ],
   "source": [
    "Lending_Club_df.select(['emp_title']).groupBy('emp_title').count().show()"
   ]
  },
  {
   "cell_type": "code",
   "execution_count": 22,
   "metadata": {},
   "outputs": [
    {
     "name": "stdout",
     "output_type": "stream",
     "text": [
      "+----------+------+\n",
      "|emp_length| count|\n",
      "+----------+------+\n",
      "|   9 years| 46393|\n",
      "|   5 years| 88686|\n",
      "|    1 year| 95926|\n",
      "|       n/a|108470|\n",
      "|   2 years|130250|\n",
      "|   7 years| 48965|\n",
      "|   8 years| 51222|\n",
      "|   4 years| 86767|\n",
      "|   6 years| 62261|\n",
      "|   3 years|116802|\n",
      "| 10+ years|478304|\n",
      "|  < 1 year|118393|\n",
      "+----------+------+\n",
      "\n"
     ]
    }
   ],
   "source": [
    "Lending_Club_df.select(['emp_length']).groupBy('emp_length').count().show()"
   ]
  },
  {
   "cell_type": "code",
   "execution_count": 23,
   "metadata": {},
   "outputs": [
    {
     "name": "stdout",
     "output_type": "stream",
     "text": [
      "+------------------+------+\n",
      "|       loan_status| count|\n",
      "+------------------+------+\n",
      "|        Fully Paid|583755|\n",
      "|           Default|  1419|\n",
      "|   In Grace Period|  6136|\n",
      "|       Charged Off|152998|\n",
      "|Late (31-120 days)| 19455|\n",
      "|           Current|663690|\n",
      "| Late (16-30 days)|  4986|\n",
      "+------------------+------+\n",
      "\n"
     ]
    }
   ],
   "source": [
    "Lending_Club_df.select(['loan_status']).groupBy('loan_status').count().show()"
   ]
  },
  {
   "cell_type": "code",
   "execution_count": 24,
   "metadata": {},
   "outputs": [
    {
     "name": "stdout",
     "output_type": "stream",
     "text": [
      "+----------+-------+\n",
      "|      term|  count|\n",
      "+----------+-------+\n",
      "| 36 months|1036234|\n",
      "| 60 months| 396205|\n",
      "+----------+-------+\n",
      "\n"
     ]
    }
   ],
   "source": [
    "Lending_Club_df.select(['term']).groupBy('term').count().show()"
   ]
  },
  {
   "cell_type": "code",
   "execution_count": 25,
   "metadata": {},
   "outputs": [
    {
     "name": "stdout",
     "output_type": "stream",
     "text": [
      "+-------+-------+\n",
      "|pub_rec|  count|\n",
      "+-------+-------+\n",
      "|      7|    302|\n",
      "|     15|      4|\n",
      "|     11|     39|\n",
      "|      3|   6827|\n",
      "|      8|    111|\n",
      "|     28|      9|\n",
      "|     22|      1|\n",
      "|     16|     14|\n",
      "|     52|      1|\n",
      "|      0|1196699|\n",
      "|     47|      1|\n",
      "|      5|   1300|\n",
      "|     31|      1|\n",
      "|     61|      5|\n",
      "|     17|      2|\n",
      "|     46|      1|\n",
      "|      6|    629|\n",
      "|     19|     16|\n",
      "|     25|      1|\n",
      "|      9|     99|\n",
      "+-------+-------+\n",
      "only showing top 20 rows\n",
      "\n"
     ]
    }
   ],
   "source": [
    "Lending_Club_df.select(['pub_rec']).groupBy('pub_rec').count().show()"
   ]
  },
  {
   "cell_type": "code",
   "execution_count": 26,
   "metadata": {},
   "outputs": [
    {
     "name": "stdout",
     "output_type": "stream",
     "text": [
      "+--------------+------+\n",
      "|inq_last_6mths| count|\n",
      "+--------------+------+\n",
      "|             3| 31289|\n",
      "|             0|925659|\n",
      "|          null|     1|\n",
      "|             5|  2400|\n",
      "|             1|356887|\n",
      "|             4|  7274|\n",
      "|             2|108929|\n",
      "+--------------+------+\n",
      "\n"
     ]
    }
   ],
   "source": [
    "Lending_Club_df.select(['inq_last_6mths']).groupBy('inq_last_6mths').count().show()"
   ]
  },
  {
   "cell_type": "code",
   "execution_count": 27,
   "metadata": {},
   "outputs": [
    {
     "name": "stdout",
     "output_type": "stream",
     "text": [
      "+-----------------+-------+\n",
      "|settlement_status|  count|\n",
      "+-----------------+-------+\n",
      "|             null|1407028|\n",
      "|         COMPLETE|   8606|\n",
      "|           BROKEN|   4116|\n",
      "|           ACTIVE|  12689|\n",
      "+-----------------+-------+\n",
      "\n"
     ]
    }
   ],
   "source": [
    "Lending_Club_df.select(['settlement_status']).groupBy('settlement_status').count().show()"
   ]
  },
  {
   "cell_type": "markdown",
   "metadata": {},
   "source": [
    "### เลือกข้อมูลเฉพาะที่ Label เป็น \"Fully Paid\" และ \"Charged Off\""
   ]
  },
  {
   "cell_type": "code",
   "execution_count": 28,
   "metadata": {
    "collapsed": true
   },
   "outputs": [],
   "source": [
    "from pyspark.sql.functions import *"
   ]
  },
  {
   "cell_type": "code",
   "execution_count": 29,
   "metadata": {
    "collapsed": true
   },
   "outputs": [],
   "source": [
    "Predict_ChargedOff_df = Lending_Club_df.filter((col('loan_status') == 'Fully Paid') | ((col('loan_status') =='Charged Off')))"
   ]
  },
  {
   "cell_type": "code",
   "execution_count": 30,
   "metadata": {},
   "outputs": [
    {
     "name": "stdout",
     "output_type": "stream",
     "text": [
      "+-----------+------+\n",
      "|loan_status| count|\n",
      "+-----------+------+\n",
      "| Fully Paid|583755|\n",
      "|Charged Off|152998|\n",
      "+-----------+------+\n",
      "\n"
     ]
    }
   ],
   "source": [
    "Predict_ChargedOff_df.groupBy('loan_status').count().show()"
   ]
  },
  {
   "cell_type": "code",
   "execution_count": 31,
   "metadata": {},
   "outputs": [
    {
     "data": {
      "text/plain": [
       "736753"
      ]
     },
     "execution_count": 31,
     "metadata": {},
     "output_type": "execute_result"
    }
   ],
   "source": [
    "Predict_ChargedOff_df.count()"
   ]
  },
  {
   "cell_type": "markdown",
   "metadata": {
    "collapsed": true
   },
   "source": [
    "### คัดเลือกตัวแปร (Attributes) ที่เกี่ยวข้องกับ Business"
   ]
  },
  {
   "cell_type": "code",
   "execution_count": 32,
   "metadata": {
    "collapsed": true
   },
   "outputs": [],
   "source": [
    "raw_relatedAtt_df = Predict_ChargedOff_df"
   ]
  },
  {
   "cell_type": "code",
   "execution_count": 33,
   "metadata": {
    "collapsed": true
   },
   "outputs": [],
   "source": [
    "raw_business_df = raw_relatedAtt_df.select('annual_inc'\\\n",
    "                                           ,'bc_util'\\\n",
    "                                           ,'inq_fi'\\\n",
    "                                           ,'inq_last_12m'\\\n",
    "                                           ,'home_ownership'\\\n",
    "                                           ,'purpose'\\\n",
    "                                           ,'emp_length'\\\n",
    "                                           ,'revol_bal'\\\n",
    "                                           ,'dti'\\\n",
    "                                           ,'delinq_2yrs'\\\n",
    "                                           ,'pub_rec_bankruptcies'\\\n",
    "                                           ,'pub_rec'\\\n",
    "                                           ,'open_rv_24m'\\\n",
    "                                           ,'mort_acc'\\\n",
    "                                           ,'num_actv_bc_tl'\\\n",
    "                                           ,'num_actv_rev_tl'\\\n",
    "                                           ,'num_il_tl'\\\n",
    "                                           ,'num_tl_90g_dpd_24m'\\\n",
    "                                           ,'int_rate'\\\n",
    "                                           ,'inq_last_6mths'\\\n",
    "                                           ,'term'\\\n",
    "                                           ,'installment'\\\n",
    "                                           ,'total_rev_hi_lim'\\\n",
    "                                           ,'total_bal_il'\\\n",
    "                                           ,'total_bal_ex_mort'\\\n",
    "                                           ,'total_acc'\\\n",
    "                                           ,'tot_cur_bal'\\\n",
    "                                           ,'loan_amnt'\\\n",
    "                                           ,'loan_status'\\\n",
    "                                           ,'verification_status'\\\n",
    "                                           ,'collections_12_mths_ex_med'\\\n",
    "                                           ,'chargeoff_within_12_mths'\\\n",
    "                                           ,'il_util'\\\n",
    "                                           ,'last_pymnt_amnt'\\\n",
    "                                           #,'last_pymnt_d'\\\n",
    "                                           ,'out_prncp_inv'\\\n",
    "                                           ,'out_prncp'\\\n",
    "                                           ,'total_pymnt_inv'\\\n",
    "                                           ,'total_pymnt'\\\n",
    "                                           ,'grade')\n",
    "                                           #,'sec_app_collections_12_mths_ex_med'\\\n",
    "                                           #,'sec_app_chargeoff_within_12_mths'\\\n",
    "                                           #,'settlement_term'\\\n",
    "                                           #,'settlement_amount'\\\n",
    "                                           #,'settlement_status'"
   ]
  },
  {
   "cell_type": "code",
   "execution_count": 34,
   "metadata": {},
   "outputs": [
    {
     "data": {
      "text/plain": [
       "736753"
      ]
     },
     "execution_count": 34,
     "metadata": {},
     "output_type": "execute_result"
    }
   ],
   "source": [
    "raw_business_df.count()"
   ]
  },
  {
   "cell_type": "code",
   "execution_count": 35,
   "metadata": {},
   "outputs": [
    {
     "data": {
      "text/plain": [
       "39"
      ]
     },
     "execution_count": 35,
     "metadata": {},
     "output_type": "execute_result"
    }
   ],
   "source": [
    "len(raw_business_df.columns)"
   ]
  },
  {
   "cell_type": "code",
   "execution_count": 36,
   "metadata": {},
   "outputs": [
    {
     "name": "stdout",
     "output_type": "stream",
     "text": [
      "Requirement already satisfied: pandas in /root/anaconda3/lib/python3.6/site-packages\n",
      "Requirement already satisfied: python-dateutil>=2 in /root/anaconda3/lib/python3.6/site-packages (from pandas)\n",
      "Requirement already satisfied: pytz>=2011k in /root/anaconda3/lib/python3.6/site-packages (from pandas)\n",
      "Requirement already satisfied: numpy>=1.7.0 in /root/anaconda3/lib/python3.6/site-packages (from pandas)\n",
      "Requirement already satisfied: six>=1.5 in /root/anaconda3/lib/python3.6/site-packages (from python-dateutil>=2->pandas)\n",
      "\u001b[33mYou are using pip version 9.0.1, however version 20.2.4 is available.\n",
      "You should consider upgrading via the 'pip install --upgrade pip' command.\u001b[0m\n"
     ]
    }
   ],
   "source": [
    "! pip install pandas"
   ]
  },
  {
   "cell_type": "markdown",
   "metadata": {
    "collapsed": true
   },
   "source": [
    "### สร้าง Dataframe โดยใช้ Pandas และให้แสดงข้อมูลเบื้องต้น"
   ]
  },
  {
   "cell_type": "code",
   "execution_count": 37,
   "metadata": {},
   "outputs": [
    {
     "data": {
      "text/html": [
       "<div>\n",
       "<style>\n",
       "    .dataframe thead tr:only-child th {\n",
       "        text-align: right;\n",
       "    }\n",
       "\n",
       "    .dataframe thead th {\n",
       "        text-align: left;\n",
       "    }\n",
       "\n",
       "    .dataframe tbody tr th {\n",
       "        vertical-align: top;\n",
       "    }\n",
       "</style>\n",
       "<table border=\"1\" class=\"dataframe\">\n",
       "  <thead>\n",
       "    <tr style=\"text-align: right;\">\n",
       "      <th></th>\n",
       "      <th>0</th>\n",
       "      <th>1</th>\n",
       "      <th>2</th>\n",
       "      <th>3</th>\n",
       "      <th>4</th>\n",
       "    </tr>\n",
       "  </thead>\n",
       "  <tbody>\n",
       "    <tr>\n",
       "      <th>summary</th>\n",
       "      <td>count</td>\n",
       "      <td>mean</td>\n",
       "      <td>stddev</td>\n",
       "      <td>min</td>\n",
       "      <td>max</td>\n",
       "    </tr>\n",
       "    <tr>\n",
       "      <th>annual_inc</th>\n",
       "      <td>736753</td>\n",
       "      <td>79498.51232281375</td>\n",
       "      <td>78094.80304273874</td>\n",
       "      <td>0</td>\n",
       "      <td>99999.84</td>\n",
       "    </tr>\n",
       "    <tr>\n",
       "      <th>bc_util</th>\n",
       "      <td>727863</td>\n",
       "      <td>55.109972343696256</td>\n",
       "      <td>28.90306464396113</td>\n",
       "      <td>0</td>\n",
       "      <td>99.9</td>\n",
       "    </tr>\n",
       "    <tr>\n",
       "      <th>inq_fi</th>\n",
       "      <td>736697</td>\n",
       "      <td>1.058429720767154</td>\n",
       "      <td>1.5524238231939937</td>\n",
       "      <td>0</td>\n",
       "      <td>9</td>\n",
       "    </tr>\n",
       "    <tr>\n",
       "      <th>inq_last_12m</th>\n",
       "      <td>736696</td>\n",
       "      <td>2.226637581851944</td>\n",
       "      <td>2.492919247096462</td>\n",
       "      <td>0</td>\n",
       "      <td>9</td>\n",
       "    </tr>\n",
       "    <tr>\n",
       "      <th>home_ownership</th>\n",
       "      <td>736753</td>\n",
       "      <td>None</td>\n",
       "      <td>None</td>\n",
       "      <td>ANY</td>\n",
       "      <td>RENT</td>\n",
       "    </tr>\n",
       "    <tr>\n",
       "      <th>purpose</th>\n",
       "      <td>736753</td>\n",
       "      <td>None</td>\n",
       "      <td>None</td>\n",
       "      <td>car</td>\n",
       "      <td>wedding</td>\n",
       "    </tr>\n",
       "    <tr>\n",
       "      <th>emp_length</th>\n",
       "      <td>736753</td>\n",
       "      <td>None</td>\n",
       "      <td>None</td>\n",
       "      <td>1 year</td>\n",
       "      <td>n/a</td>\n",
       "    </tr>\n",
       "    <tr>\n",
       "      <th>revol_bal</th>\n",
       "      <td>736753</td>\n",
       "      <td>16101.816257280256</td>\n",
       "      <td>22819.366258659797</td>\n",
       "      <td>0</td>\n",
       "      <td>99991</td>\n",
       "    </tr>\n",
       "    <tr>\n",
       "      <th>dti</th>\n",
       "      <td>736281</td>\n",
       "      <td>18.711086881231356</td>\n",
       "      <td>13.79426027607045</td>\n",
       "      <td>-1</td>\n",
       "      <td>999</td>\n",
       "    </tr>\n",
       "    <tr>\n",
       "      <th>delinq_2yrs</th>\n",
       "      <td>736753</td>\n",
       "      <td>0.3277299176250385</td>\n",
       "      <td>0.9008942673149017</td>\n",
       "      <td>0</td>\n",
       "      <td>9</td>\n",
       "    </tr>\n",
       "    <tr>\n",
       "      <th>pub_rec_bankruptcies</th>\n",
       "      <td>736753</td>\n",
       "      <td>0.15135873216668272</td>\n",
       "      <td>0.4004291245050485</td>\n",
       "      <td>0</td>\n",
       "      <td>9</td>\n",
       "    </tr>\n",
       "    <tr>\n",
       "      <th>pub_rec</th>\n",
       "      <td>736753</td>\n",
       "      <td>0.2478686886921397</td>\n",
       "      <td>0.6645595580653079</td>\n",
       "      <td>0</td>\n",
       "      <td>9</td>\n",
       "    </tr>\n",
       "    <tr>\n",
       "      <th>open_rv_24m</th>\n",
       "      <td>736697</td>\n",
       "      <td>2.9324349087888235</td>\n",
       "      <td>2.666530456175596</td>\n",
       "      <td>0</td>\n",
       "      <td>9</td>\n",
       "    </tr>\n",
       "    <tr>\n",
       "      <th>mort_acc</th>\n",
       "      <td>736753</td>\n",
       "      <td>1.5372831871739918</td>\n",
       "      <td>1.8452942109254602</td>\n",
       "      <td>0</td>\n",
       "      <td>9</td>\n",
       "    </tr>\n",
       "    <tr>\n",
       "      <th>num_actv_bc_tl</th>\n",
       "      <td>736753</td>\n",
       "      <td>3.6019737958311673</td>\n",
       "      <td>2.3258299935262516</td>\n",
       "      <td>0</td>\n",
       "      <td>9</td>\n",
       "    </tr>\n",
       "    <tr>\n",
       "      <th>num_actv_rev_tl</th>\n",
       "      <td>736753</td>\n",
       "      <td>5.53152956282499</td>\n",
       "      <td>3.4098121016495155</td>\n",
       "      <td>0</td>\n",
       "      <td>9</td>\n",
       "    </tr>\n",
       "    <tr>\n",
       "      <th>num_il_tl</th>\n",
       "      <td>736753</td>\n",
       "      <td>8.69048921415997</td>\n",
       "      <td>7.531767795417341</td>\n",
       "      <td>0</td>\n",
       "      <td>99</td>\n",
       "    </tr>\n",
       "    <tr>\n",
       "      <th>num_tl_90g_dpd_24m</th>\n",
       "      <td>736753</td>\n",
       "      <td>0.08721104630724273</td>\n",
       "      <td>0.5119924609867895</td>\n",
       "      <td>0</td>\n",
       "      <td>9</td>\n",
       "    </tr>\n",
       "    <tr>\n",
       "      <th>int_rate</th>\n",
       "      <td>736753</td>\n",
       "      <td>None</td>\n",
       "      <td>None</td>\n",
       "      <td>5.31%</td>\n",
       "      <td>30.99%</td>\n",
       "    </tr>\n",
       "    <tr>\n",
       "      <th>inq_last_6mths</th>\n",
       "      <td>736752</td>\n",
       "      <td>0.559349686190197</td>\n",
       "      <td>0.8478593630428064</td>\n",
       "      <td>0</td>\n",
       "      <td>5</td>\n",
       "    </tr>\n",
       "    <tr>\n",
       "      <th>term</th>\n",
       "      <td>736753</td>\n",
       "      <td>None</td>\n",
       "      <td>None</td>\n",
       "      <td>36 months</td>\n",
       "      <td>60 months</td>\n",
       "    </tr>\n",
       "    <tr>\n",
       "      <th>installment</th>\n",
       "      <td>736753</td>\n",
       "      <td>446.57625235320603</td>\n",
       "      <td>282.9465648641051</td>\n",
       "      <td>100.01</td>\n",
       "      <td>999.98</td>\n",
       "    </tr>\n",
       "    <tr>\n",
       "      <th>total_rev_hi_lim</th>\n",
       "      <td>736753</td>\n",
       "      <td>34845.277422691186</td>\n",
       "      <td>35308.55819505189</td>\n",
       "      <td>0</td>\n",
       "      <td>99979</td>\n",
       "    </tr>\n",
       "    <tr>\n",
       "      <th>total_bal_il</th>\n",
       "      <td>736697</td>\n",
       "      <td>35679.135799385636</td>\n",
       "      <td>43231.862183231875</td>\n",
       "      <td>0</td>\n",
       "      <td>99999</td>\n",
       "    </tr>\n",
       "    <tr>\n",
       "      <th>total_bal_ex_mort</th>\n",
       "      <td>736753</td>\n",
       "      <td>51900.18028973075</td>\n",
       "      <td>50510.56473675784</td>\n",
       "      <td>0</td>\n",
       "      <td>99999</td>\n",
       "    </tr>\n",
       "    <tr>\n",
       "      <th>total_acc</th>\n",
       "      <td>736753</td>\n",
       "      <td>24.403395710638435</td>\n",
       "      <td>12.16602859864534</td>\n",
       "      <td>10</td>\n",
       "      <td>99</td>\n",
       "    </tr>\n",
       "    <tr>\n",
       "      <th>tot_cur_bal</th>\n",
       "      <td>736753</td>\n",
       "      <td>145813.89097024375</td>\n",
       "      <td>163521.43581930472</td>\n",
       "      <td>0</td>\n",
       "      <td>99998</td>\n",
       "    </tr>\n",
       "    <tr>\n",
       "      <th>loan_amnt</th>\n",
       "      <td>736753</td>\n",
       "      <td>14504.619831883956</td>\n",
       "      <td>9243.769756253685</td>\n",
       "      <td>1000</td>\n",
       "      <td>9975</td>\n",
       "    </tr>\n",
       "    <tr>\n",
       "      <th>loan_status</th>\n",
       "      <td>736753</td>\n",
       "      <td>None</td>\n",
       "      <td>None</td>\n",
       "      <td>Charged Off</td>\n",
       "      <td>Fully Paid</td>\n",
       "    </tr>\n",
       "    <tr>\n",
       "      <th>verification_status</th>\n",
       "      <td>736753</td>\n",
       "      <td>None</td>\n",
       "      <td>None</td>\n",
       "      <td>Not Verified</td>\n",
       "      <td>Verified</td>\n",
       "    </tr>\n",
       "    <tr>\n",
       "      <th>collections_12_mths_ex_med</th>\n",
       "      <td>736753</td>\n",
       "      <td>0.021156344120756888</td>\n",
       "      <td>0.16475782177378753</td>\n",
       "      <td>0</td>\n",
       "      <td>9</td>\n",
       "    </tr>\n",
       "    <tr>\n",
       "      <th>chargeoff_within_12_mths</th>\n",
       "      <td>736753</td>\n",
       "      <td>0.009115673773978525</td>\n",
       "      <td>0.11175105737158188</td>\n",
       "      <td>0</td>\n",
       "      <td>9</td>\n",
       "    </tr>\n",
       "    <tr>\n",
       "      <th>il_util</th>\n",
       "      <td>635833</td>\n",
       "      <td>70.88124240169982</td>\n",
       "      <td>23.050545487293384</td>\n",
       "      <td>0</td>\n",
       "      <td>99</td>\n",
       "    </tr>\n",
       "    <tr>\n",
       "      <th>last_pymnt_amnt</th>\n",
       "      <td>736753</td>\n",
       "      <td>6200.0172501096595</td>\n",
       "      <td>7739.751013890626</td>\n",
       "      <td>0.0</td>\n",
       "      <td>9999.89</td>\n",
       "    </tr>\n",
       "    <tr>\n",
       "      <th>out_prncp_inv</th>\n",
       "      <td>736753</td>\n",
       "      <td>0.0</td>\n",
       "      <td>0.0</td>\n",
       "      <td>0.00</td>\n",
       "      <td>0.00</td>\n",
       "    </tr>\n",
       "    <tr>\n",
       "      <th>out_prncp</th>\n",
       "      <td>736753</td>\n",
       "      <td>0.0</td>\n",
       "      <td>0.0</td>\n",
       "      <td>0.00</td>\n",
       "      <td>0.00</td>\n",
       "    </tr>\n",
       "    <tr>\n",
       "      <th>total_pymnt_inv</th>\n",
       "      <td>736753</td>\n",
       "      <td>14302.06671880541</td>\n",
       "      <td>10416.15207885069</td>\n",
       "      <td>0.00</td>\n",
       "      <td>9999.95</td>\n",
       "    </tr>\n",
       "    <tr>\n",
       "      <th>total_pymnt</th>\n",
       "      <td>736753</td>\n",
       "      <td>14307.439003572941</td>\n",
       "      <td>10419.143476019915</td>\n",
       "      <td>0.0</td>\n",
       "      <td>9999.95</td>\n",
       "    </tr>\n",
       "    <tr>\n",
       "      <th>grade</th>\n",
       "      <td>736753</td>\n",
       "      <td>None</td>\n",
       "      <td>None</td>\n",
       "      <td>A</td>\n",
       "      <td>G</td>\n",
       "    </tr>\n",
       "  </tbody>\n",
       "</table>\n",
       "</div>"
      ],
      "text/plain": [
       "                                 0                     1                    2  \\\n",
       "summary                      count                  mean               stddev   \n",
       "annual_inc                  736753     79498.51232281375    78094.80304273874   \n",
       "bc_util                     727863    55.109972343696256    28.90306464396113   \n",
       "inq_fi                      736697     1.058429720767154   1.5524238231939937   \n",
       "inq_last_12m                736696     2.226637581851944    2.492919247096462   \n",
       "home_ownership              736753                  None                 None   \n",
       "purpose                     736753                  None                 None   \n",
       "emp_length                  736753                  None                 None   \n",
       "revol_bal                   736753    16101.816257280256   22819.366258659797   \n",
       "dti                         736281    18.711086881231356    13.79426027607045   \n",
       "delinq_2yrs                 736753    0.3277299176250385   0.9008942673149017   \n",
       "pub_rec_bankruptcies        736753   0.15135873216668272   0.4004291245050485   \n",
       "pub_rec                     736753    0.2478686886921397   0.6645595580653079   \n",
       "open_rv_24m                 736697    2.9324349087888235    2.666530456175596   \n",
       "mort_acc                    736753    1.5372831871739918   1.8452942109254602   \n",
       "num_actv_bc_tl              736753    3.6019737958311673   2.3258299935262516   \n",
       "num_actv_rev_tl             736753      5.53152956282499   3.4098121016495155   \n",
       "num_il_tl                   736753      8.69048921415997    7.531767795417341   \n",
       "num_tl_90g_dpd_24m          736753   0.08721104630724273   0.5119924609867895   \n",
       "int_rate                    736753                  None                 None   \n",
       "inq_last_6mths              736752     0.559349686190197   0.8478593630428064   \n",
       "term                        736753                  None                 None   \n",
       "installment                 736753    446.57625235320603    282.9465648641051   \n",
       "total_rev_hi_lim            736753    34845.277422691186    35308.55819505189   \n",
       "total_bal_il                736697    35679.135799385636   43231.862183231875   \n",
       "total_bal_ex_mort           736753     51900.18028973075    50510.56473675784   \n",
       "total_acc                   736753    24.403395710638435    12.16602859864534   \n",
       "tot_cur_bal                 736753    145813.89097024375   163521.43581930472   \n",
       "loan_amnt                   736753    14504.619831883956    9243.769756253685   \n",
       "loan_status                 736753                  None                 None   \n",
       "verification_status         736753                  None                 None   \n",
       "collections_12_mths_ex_med  736753  0.021156344120756888  0.16475782177378753   \n",
       "chargeoff_within_12_mths    736753  0.009115673773978525  0.11175105737158188   \n",
       "il_util                     635833     70.88124240169982   23.050545487293384   \n",
       "last_pymnt_amnt             736753    6200.0172501096595    7739.751013890626   \n",
       "out_prncp_inv               736753                   0.0                  0.0   \n",
       "out_prncp                   736753                   0.0                  0.0   \n",
       "total_pymnt_inv             736753     14302.06671880541    10416.15207885069   \n",
       "total_pymnt                 736753    14307.439003572941   10419.143476019915   \n",
       "grade                       736753                  None                 None   \n",
       "\n",
       "                                       3           4  \n",
       "summary                              min         max  \n",
       "annual_inc                             0    99999.84  \n",
       "bc_util                                0        99.9  \n",
       "inq_fi                                 0           9  \n",
       "inq_last_12m                           0           9  \n",
       "home_ownership                       ANY        RENT  \n",
       "purpose                              car     wedding  \n",
       "emp_length                        1 year         n/a  \n",
       "revol_bal                              0       99991  \n",
       "dti                                   -1         999  \n",
       "delinq_2yrs                            0           9  \n",
       "pub_rec_bankruptcies                   0           9  \n",
       "pub_rec                                0           9  \n",
       "open_rv_24m                            0           9  \n",
       "mort_acc                               0           9  \n",
       "num_actv_bc_tl                         0           9  \n",
       "num_actv_rev_tl                        0           9  \n",
       "num_il_tl                              0          99  \n",
       "num_tl_90g_dpd_24m                     0           9  \n",
       "int_rate                           5.31%      30.99%  \n",
       "inq_last_6mths                         0           5  \n",
       "term                           36 months   60 months  \n",
       "installment                       100.01      999.98  \n",
       "total_rev_hi_lim                       0       99979  \n",
       "total_bal_il                           0       99999  \n",
       "total_bal_ex_mort                      0       99999  \n",
       "total_acc                             10          99  \n",
       "tot_cur_bal                            0       99998  \n",
       "loan_amnt                           1000        9975  \n",
       "loan_status                  Charged Off  Fully Paid  \n",
       "verification_status         Not Verified    Verified  \n",
       "collections_12_mths_ex_med             0           9  \n",
       "chargeoff_within_12_mths               0           9  \n",
       "il_util                                0          99  \n",
       "last_pymnt_amnt                      0.0     9999.89  \n",
       "out_prncp_inv                       0.00        0.00  \n",
       "out_prncp                           0.00        0.00  \n",
       "total_pymnt_inv                     0.00     9999.95  \n",
       "total_pymnt                          0.0     9999.95  \n",
       "grade                                  A           G  "
      ]
     },
     "execution_count": 37,
     "metadata": {},
     "output_type": "execute_result"
    }
   ],
   "source": [
    "import pandas as pd\n",
    "pd.DataFrame(raw_business_df.describe().take(6),\\\n",
    "             columns=raw_business_df.describe().columns).transpose()"
   ]
  },
  {
   "cell_type": "markdown",
   "metadata": {
    "collapsed": true
   },
   "source": [
    "### 3) Data Preparation"
   ]
  },
  {
   "cell_type": "markdown",
   "metadata": {
    "collapsed": true
   },
   "source": [
    "### Cleansing ข้อมูล โดยการ Remove 'Null' ออก"
   ]
  },
  {
   "cell_type": "code",
   "execution_count": 38,
   "metadata": {
    "collapsed": true
   },
   "outputs": [],
   "source": [
    "no_null_df = raw_business_df.dropna(how='any')"
   ]
  },
  {
   "cell_type": "code",
   "execution_count": 39,
   "metadata": {},
   "outputs": [
    {
     "data": {
      "text/plain": [
       "627714"
      ]
     },
     "execution_count": 39,
     "metadata": {},
     "output_type": "execute_result"
    }
   ],
   "source": [
    "no_null_df.count()"
   ]
  },
  {
   "cell_type": "markdown",
   "metadata": {
    "collapsed": true
   },
   "source": [
    "### Remove ค่า Wedding ใน Field 'Purpose'"
   ]
  },
  {
   "cell_type": "code",
   "execution_count": 40,
   "metadata": {
    "collapsed": true
   },
   "outputs": [],
   "source": [
    "from pyspark.sql.functions import *"
   ]
  },
  {
   "cell_type": "code",
   "execution_count": 41,
   "metadata": {
    "collapsed": true
   },
   "outputs": [],
   "source": [
    "no_wedding_df = no_null_df.filter(col('purpose') != 'wedding')"
   ]
  },
  {
   "cell_type": "code",
   "execution_count": 42,
   "metadata": {},
   "outputs": [
    {
     "name": "stdout",
     "output_type": "stream",
     "text": [
      "+------------------+------+\n",
      "|           purpose| count|\n",
      "+------------------+------+\n",
      "|             other| 41383|\n",
      "|    small_business|  6552|\n",
      "|debt_consolidation|360885|\n",
      "|       credit_card|130378|\n",
      "|            moving|  4877|\n",
      "|          vacation|  5049|\n",
      "|  renewable_energy|   445|\n",
      "|             house|  3758|\n",
      "|               car|  6838|\n",
      "|    major_purchase| 14407|\n",
      "|           medical|  8449|\n",
      "|  home_improvement| 44688|\n",
      "+------------------+------+\n",
      "\n"
     ]
    }
   ],
   "source": [
    "no_wedding_df.select(['purpose']).groupBy('purpose').count().show()"
   ]
  },
  {
   "cell_type": "code",
   "execution_count": 43,
   "metadata": {},
   "outputs": [
    {
     "data": {
      "text/plain": [
       "627709"
      ]
     },
     "execution_count": 43,
     "metadata": {},
     "output_type": "execute_result"
    }
   ],
   "source": [
    "no_wedding_df.count()"
   ]
  },
  {
   "cell_type": "markdown",
   "metadata": {
    "collapsed": true
   },
   "source": [
    "### นับจำนวนข้อมูลหลัง Cleansing ค่า 'Null'"
   ]
  },
  {
   "cell_type": "code",
   "execution_count": 44,
   "metadata": {
    "collapsed": true
   },
   "outputs": [],
   "source": [
    "fitmem_no_null_df = no_wedding_df.repartition(60)"
   ]
  },
  {
   "cell_type": "code",
   "execution_count": 45,
   "metadata": {
    "collapsed": true
   },
   "outputs": [],
   "source": [
    "cached_no_null_df = fitmem_no_null_df.cache()"
   ]
  },
  {
   "cell_type": "code",
   "execution_count": 46,
   "metadata": {},
   "outputs": [
    {
     "data": {
      "text/plain": [
       "627709"
      ]
     },
     "execution_count": 46,
     "metadata": {},
     "output_type": "execute_result"
    }
   ],
   "source": [
    "cached_no_null_df.count()"
   ]
  },
  {
   "cell_type": "markdown",
   "metadata": {
    "collapsed": true
   },
   "source": [
    "### ดู Type ของ่ข้อมูลหลัง Remove ค่า 'Null'"
   ]
  },
  {
   "cell_type": "code",
   "execution_count": 47,
   "metadata": {},
   "outputs": [
    {
     "name": "stdout",
     "output_type": "stream",
     "text": [
      "root\n",
      " |-- annual_inc: string (nullable = true)\n",
      " |-- bc_util: string (nullable = true)\n",
      " |-- inq_fi: string (nullable = true)\n",
      " |-- inq_last_12m: string (nullable = true)\n",
      " |-- home_ownership: string (nullable = true)\n",
      " |-- purpose: string (nullable = true)\n",
      " |-- emp_length: string (nullable = true)\n",
      " |-- revol_bal: string (nullable = true)\n",
      " |-- dti: string (nullable = true)\n",
      " |-- delinq_2yrs: string (nullable = true)\n",
      " |-- pub_rec_bankruptcies: string (nullable = true)\n",
      " |-- pub_rec: string (nullable = true)\n",
      " |-- open_rv_24m: string (nullable = true)\n",
      " |-- mort_acc: string (nullable = true)\n",
      " |-- num_actv_bc_tl: string (nullable = true)\n",
      " |-- num_actv_rev_tl: string (nullable = true)\n",
      " |-- num_il_tl: string (nullable = true)\n",
      " |-- num_tl_90g_dpd_24m: string (nullable = true)\n",
      " |-- int_rate: string (nullable = true)\n",
      " |-- inq_last_6mths: string (nullable = true)\n",
      " |-- term: string (nullable = true)\n",
      " |-- installment: string (nullable = true)\n",
      " |-- total_rev_hi_lim: string (nullable = true)\n",
      " |-- total_bal_il: string (nullable = true)\n",
      " |-- total_bal_ex_mort: string (nullable = true)\n",
      " |-- total_acc: string (nullable = true)\n",
      " |-- tot_cur_bal: string (nullable = true)\n",
      " |-- loan_amnt: string (nullable = true)\n",
      " |-- loan_status: string (nullable = true)\n",
      " |-- verification_status: string (nullable = true)\n",
      " |-- collections_12_mths_ex_med: string (nullable = true)\n",
      " |-- chargeoff_within_12_mths: string (nullable = true)\n",
      " |-- il_util: string (nullable = true)\n",
      " |-- last_pymnt_amnt: string (nullable = true)\n",
      " |-- out_prncp_inv: string (nullable = true)\n",
      " |-- out_prncp: string (nullable = true)\n",
      " |-- total_pymnt_inv: string (nullable = true)\n",
      " |-- total_pymnt: string (nullable = true)\n",
      " |-- grade: string (nullable = true)\n",
      "\n"
     ]
    }
   ],
   "source": [
    "cached_no_null_df.printSchema()"
   ]
  },
  {
   "cell_type": "markdown",
   "metadata": {
    "collapsed": true
   },
   "source": [
    "### Remove '%' และ Extract Month"
   ]
  },
  {
   "cell_type": "code",
   "execution_count": 48,
   "metadata": {
    "collapsed": true
   },
   "outputs": [],
   "source": [
    "from pyspark.sql.functions import udf\n",
    "from pyspark.sql.types import *"
   ]
  },
  {
   "cell_type": "markdown",
   "metadata": {
    "collapsed": true
   },
   "source": [
    "### Remove '%' "
   ]
  },
  {
   "cell_type": "code",
   "execution_count": 49,
   "metadata": {
    "collapsed": true
   },
   "outputs": [],
   "source": [
    "def f_removepercent(origin):\n",
    "    return origin.rstrip('%')"
   ]
  },
  {
   "cell_type": "code",
   "execution_count": 50,
   "metadata": {
    "collapsed": true
   },
   "outputs": [],
   "source": [
    "removepercent = udf(lambda x: f_removepercent(x),StringType())"
   ]
  },
  {
   "cell_type": "markdown",
   "metadata": {},
   "source": [
    "### Remove 'Wedding'"
   ]
  },
  {
   "cell_type": "code",
   "execution_count": 51,
   "metadata": {
    "collapsed": true
   },
   "outputs": [],
   "source": [
    "#def f_wedding(origin):\n",
    "    #return origin.rstrip('wedding')"
   ]
  },
  {
   "cell_type": "code",
   "execution_count": 52,
   "metadata": {
    "collapsed": true
   },
   "outputs": [],
   "source": [
    "#removewedding = udf(lambda x: f_wedding(x),StringType())"
   ]
  },
  {
   "cell_type": "markdown",
   "metadata": {
    "collapsed": true
   },
   "source": [
    "### Extract Month"
   ]
  },
  {
   "cell_type": "code",
   "execution_count": 53,
   "metadata": {
    "collapsed": true
   },
   "outputs": [],
   "source": [
    "def f_exrtractmonth(origin):\n",
    "    return origin.split('-')[0]"
   ]
  },
  {
   "cell_type": "code",
   "execution_count": 54,
   "metadata": {
    "collapsed": true
   },
   "outputs": [],
   "source": [
    "exrtractmonth = udf(lambda x: f_exrtractmonth(x),StringType())"
   ]
  },
  {
   "cell_type": "markdown",
   "metadata": {},
   "source": [
    "### Replace'n/a' ใน Field 'emp_length' ด้วย 'No employ'"
   ]
  },
  {
   "cell_type": "code",
   "execution_count": 55,
   "metadata": {
    "collapsed": true
   },
   "outputs": [],
   "source": [
    "def python_treatNA(origin):\n",
    "    if origin == 'n/a':\n",
    "        new = 'NotEmployed'\n",
    "    else:\n",
    "        new = origin\n",
    "    return new"
   ]
  },
  {
   "cell_type": "code",
   "execution_count": 56,
   "metadata": {
    "collapsed": true
   },
   "outputs": [],
   "source": [
    "treatNA = udf(lambda x: python_treatNA(x),StringType())"
   ]
  },
  {
   "cell_type": "markdown",
   "metadata": {
    "collapsed": true
   },
   "source": [
    "### เปลี่ยนแปลง Type ของข้อมูล"
   ]
  },
  {
   "cell_type": "code",
   "execution_count": 57,
   "metadata": {
    "collapsed": true
   },
   "outputs": [],
   "source": [
    "from pyspark.sql.functions import col"
   ]
  },
  {
   "cell_type": "code",
   "execution_count": 58,
   "metadata": {
    "collapsed": true
   },
   "outputs": [],
   "source": [
    "crunched_df = cached_no_null_df.\\\n",
    "withColumn('emp_length',treatNA(cached_no_null_df['emp_length'])).\\\n",
    "withColumn('int_rate',removepercent(cached_no_null_df['int_rate']).cast(DoubleType())).\\\n",
    "withColumn('dti',cached_no_null_df['dti'].cast(DoubleType())).\\\n",
    "withColumn('revol_bal',cached_no_null_df['revol_bal'].cast(DoubleType())).\\\n",
    "withColumn('pub_rec',cached_no_null_df['pub_rec'].cast(DoubleType())).\\\n",
    "withColumn('total_bal_il',cached_no_null_df['total_bal_il'].cast(DoubleType())).\\\n",
    "withColumn('tot_cur_bal',cached_no_null_df['tot_cur_bal'].cast(DoubleType())).\\\n",
    "withColumn('total_acc',cached_no_null_df['total_acc'].cast(DoubleType())).\\\n",
    "withColumn('total_bal_ex_mort',cached_no_null_df['total_bal_ex_mort'].cast(DoubleType())).\\\n",
    "withColumn('total_rev_hi_lim',cached_no_null_df['total_rev_hi_lim'].cast(DoubleType())).\\\n",
    "withColumn('num_actv_rev_tl',cached_no_null_df['num_actv_rev_tl'].cast(DoubleType())).\\\n",
    "withColumn('num_actv_bc_tl',cached_no_null_df['num_actv_bc_tl'].cast(DoubleType())).\\\n",
    "withColumn('num_il_tl',cached_no_null_df['num_il_tl'].cast(DoubleType())).\\\n",
    "withColumn('pub_rec_bankruptcies',cached_no_null_df['pub_rec_bankruptcies'].cast(DoubleType())).\\\n",
    "withColumn('delinq_2yrs',cached_no_null_df['delinq_2yrs'].cast(DoubleType())).\\\n",
    "withColumn('open_rv_24m',cached_no_null_df['open_rv_24m'].cast(DoubleType())).\\\n",
    "withColumn('num_tl_90g_dpd_24m',cached_no_null_df['num_tl_90g_dpd_24m'].cast(DoubleType())).\\\n",
    "withColumn('inq_last_6mths',cached_no_null_df['inq_last_6mths'].cast(DoubleType())).\\\n",
    "withColumn('bc_util',cached_no_null_df['bc_util'].cast(DoubleType())).\\\n",
    "withColumn('mort_acc',cached_no_null_df['mort_acc'].cast(DoubleType())).\\\n",
    "withColumn('inq_fi',cached_no_null_df['inq_fi'].cast(DoubleType())).\\\n",
    "withColumn('last_pymnt_amnt',cached_no_null_df['last_pymnt_amnt'].cast(DoubleType())).\\\n",
    "withColumn('out_prncp_inv',cached_no_null_df['out_prncp_inv'].cast(DoubleType())).\\\n",
    "withColumn('out_prncp',cached_no_null_df['out_prncp'].cast(DoubleType())).\\\n",
    "withColumn('total_pymnt_inv',cached_no_null_df['total_pymnt_inv'].cast(DoubleType())).\\\n",
    "withColumn('total_pymnt',cached_no_null_df['total_pymnt'].cast(DoubleType())).\\\n",
    "withColumn('il_util',cached_no_null_df['il_util'].cast(DoubleType())).\\\n",
    "withColumn('chargeoff_within_12_mths',cached_no_null_df['chargeoff_within_12_mths'].cast(DoubleType())).\\\n",
    "withColumn('collections_12_mths_ex_med',cached_no_null_df['collections_12_mths_ex_med'].cast(DoubleType())).\\\n",
    "withColumn('loan_amnt',cached_no_null_df['loan_amnt'].cast(DoubleType())).\\\n",
    "withColumn('inq_last_12m',cached_no_null_df['inq_last_12m'].cast(DoubleType())).\\\n",
    "withColumn('installment',cached_no_null_df['installment'].cast(DoubleType())).\\\n",
    "withColumn('annual_inc',cached_no_null_df['annual_inc'].cast(DoubleType()))"
   ]
  },
  {
   "cell_type": "code",
   "execution_count": 59,
   "metadata": {},
   "outputs": [
    {
     "name": "stdout",
     "output_type": "stream",
     "text": [
      "root\n",
      " |-- annual_inc: double (nullable = true)\n",
      " |-- bc_util: double (nullable = true)\n",
      " |-- inq_fi: double (nullable = true)\n",
      " |-- inq_last_12m: double (nullable = true)\n",
      " |-- home_ownership: string (nullable = true)\n",
      " |-- purpose: string (nullable = true)\n",
      " |-- emp_length: string (nullable = true)\n",
      " |-- revol_bal: double (nullable = true)\n",
      " |-- dti: double (nullable = true)\n",
      " |-- delinq_2yrs: double (nullable = true)\n",
      " |-- pub_rec_bankruptcies: double (nullable = true)\n",
      " |-- pub_rec: double (nullable = true)\n",
      " |-- open_rv_24m: double (nullable = true)\n",
      " |-- mort_acc: double (nullable = true)\n",
      " |-- num_actv_bc_tl: double (nullable = true)\n",
      " |-- num_actv_rev_tl: double (nullable = true)\n",
      " |-- num_il_tl: double (nullable = true)\n",
      " |-- num_tl_90g_dpd_24m: double (nullable = true)\n",
      " |-- int_rate: double (nullable = true)\n",
      " |-- inq_last_6mths: double (nullable = true)\n",
      " |-- term: string (nullable = true)\n",
      " |-- installment: double (nullable = true)\n",
      " |-- total_rev_hi_lim: double (nullable = true)\n",
      " |-- total_bal_il: double (nullable = true)\n",
      " |-- total_bal_ex_mort: double (nullable = true)\n",
      " |-- total_acc: double (nullable = true)\n",
      " |-- tot_cur_bal: double (nullable = true)\n",
      " |-- loan_amnt: double (nullable = true)\n",
      " |-- loan_status: string (nullable = true)\n",
      " |-- verification_status: string (nullable = true)\n",
      " |-- collections_12_mths_ex_med: double (nullable = true)\n",
      " |-- chargeoff_within_12_mths: double (nullable = true)\n",
      " |-- il_util: double (nullable = true)\n",
      " |-- last_pymnt_amnt: double (nullable = true)\n",
      " |-- out_prncp_inv: double (nullable = true)\n",
      " |-- out_prncp: double (nullable = true)\n",
      " |-- total_pymnt_inv: double (nullable = true)\n",
      " |-- total_pymnt: double (nullable = true)\n",
      " |-- grade: string (nullable = true)\n",
      "\n"
     ]
    }
   ],
   "source": [
    "crunched_df.printSchema()"
   ]
  },
  {
   "cell_type": "markdown",
   "metadata": {},
   "source": [
    "### เช็ค 'emp_length' หลัง Replace value"
   ]
  },
  {
   "cell_type": "code",
   "execution_count": 60,
   "metadata": {},
   "outputs": [
    {
     "name": "stdout",
     "output_type": "stream",
     "text": [
      "+-----------+\n",
      "| emp_length|\n",
      "+-----------+\n",
      "|    9 years|\n",
      "|    5 years|\n",
      "|     1 year|\n",
      "|NotEmployed|\n",
      "|    2 years|\n",
      "|    7 years|\n",
      "|    8 years|\n",
      "|    4 years|\n",
      "|    6 years|\n",
      "|    3 years|\n",
      "|  10+ years|\n",
      "|   < 1 year|\n",
      "+-----------+\n",
      "\n"
     ]
    }
   ],
   "source": [
    "crunched_df.select(crunched_df['emp_length']).distinct().show()"
   ]
  },
  {
   "cell_type": "code",
   "execution_count": 61,
   "metadata": {},
   "outputs": [
    {
     "name": "stdout",
     "output_type": "stream",
     "text": [
      "+------------------+\n",
      "|           purpose|\n",
      "+------------------+\n",
      "|             other|\n",
      "|    small_business|\n",
      "|debt_consolidation|\n",
      "|       credit_card|\n",
      "|            moving|\n",
      "|          vacation|\n",
      "|  renewable_energy|\n",
      "|             house|\n",
      "|               car|\n",
      "|    major_purchase|\n",
      "|           medical|\n",
      "|  home_improvement|\n",
      "+------------------+\n",
      "\n"
     ]
    }
   ],
   "source": [
    "crunched_df.select(crunched_df['purpose']).distinct().show()"
   ]
  },
  {
   "cell_type": "markdown",
   "metadata": {
    "collapsed": true
   },
   "source": [
    "### Normalization 'annual_inc'"
   ]
  },
  {
   "cell_type": "code",
   "execution_count": 62,
   "metadata": {
    "collapsed": true
   },
   "outputs": [],
   "source": [
    "from pyspark.sql.functions import *\n",
    "max_annual_inc = crunched_df.select(max('annual_inc')).collect()[0][0]\n",
    "min_annual_inc = crunched_df.select(min('annual_inc')).collect()[0][0]"
   ]
  },
  {
   "cell_type": "code",
   "execution_count": 63,
   "metadata": {
    "collapsed": true
   },
   "outputs": [],
   "source": [
    "def t_annual_inc(origin):\n",
    "    return ((origin-min_annual_inc)/(max_annual_inc-min_annual_inc))"
   ]
  },
  {
   "cell_type": "code",
   "execution_count": 64,
   "metadata": {
    "collapsed": true
   },
   "outputs": [],
   "source": [
    "n_annual_inc = udf(lambda x: t_annual_inc(x),DoubleType())"
   ]
  },
  {
   "cell_type": "markdown",
   "metadata": {
    "collapsed": true
   },
   "source": [
    "### Normalization 'loan_amnt'"
   ]
  },
  {
   "cell_type": "code",
   "execution_count": 65,
   "metadata": {
    "collapsed": true
   },
   "outputs": [],
   "source": [
    "#max_loan_amt = crunched_df.select(max('loan_amnt')).collect()[0][0]\n",
    "#min_loan_amt = crunched_df.select(min('loan_amnt')).collect()[0][0]"
   ]
  },
  {
   "cell_type": "code",
   "execution_count": 66,
   "metadata": {
    "collapsed": true
   },
   "outputs": [],
   "source": [
    "#def t_loan_amt(origin):\n",
    "    #return ((origin-min_loan_amt)/(max_loan_amt-min_loan_amt))"
   ]
  },
  {
   "cell_type": "code",
   "execution_count": 67,
   "metadata": {
    "collapsed": true
   },
   "outputs": [],
   "source": [
    "#n_loan_amt = udf(lambda x: t_loan_amt(x),DoubleType())"
   ]
  },
  {
   "cell_type": "markdown",
   "metadata": {
    "collapsed": true
   },
   "source": [
    "### Normalization 'revol_bal'"
   ]
  },
  {
   "cell_type": "code",
   "execution_count": 68,
   "metadata": {
    "collapsed": true
   },
   "outputs": [],
   "source": [
    "max_revol_bal = crunched_df.select(max('revol_bal')).collect()[0][0]\n",
    "min_revol_bal = crunched_df.select(min('revol_bal')).collect()[0][0]"
   ]
  },
  {
   "cell_type": "code",
   "execution_count": 69,
   "metadata": {
    "collapsed": true
   },
   "outputs": [],
   "source": [
    "def t_revol_bal(origin):\n",
    "    return ((origin-min_revol_bal)/(max_revol_bal-min_revol_bal))"
   ]
  },
  {
   "cell_type": "code",
   "execution_count": 70,
   "metadata": {
    "collapsed": true
   },
   "outputs": [],
   "source": [
    "n_revol_bal = udf(lambda x: t_revol_bal(x),DoubleType())"
   ]
  },
  {
   "cell_type": "markdown",
   "metadata": {
    "collapsed": true
   },
   "source": [
    "### Normalization 'tot_cur_bal'"
   ]
  },
  {
   "cell_type": "code",
   "execution_count": 71,
   "metadata": {
    "collapsed": true
   },
   "outputs": [],
   "source": [
    "max_tot_cur_bal = crunched_df.select(max('tot_cur_bal')).collect()[0][0]\n",
    "min_tot_cur_bal = crunched_df.select(min('tot_cur_bal')).collect()[0][0]"
   ]
  },
  {
   "cell_type": "code",
   "execution_count": 72,
   "metadata": {
    "collapsed": true
   },
   "outputs": [],
   "source": [
    "def t_tot_cur_bal(origin):\n",
    "    return ((origin-min_tot_cur_bal)/(max_tot_cur_bal-min_tot_cur_bal))"
   ]
  },
  {
   "cell_type": "code",
   "execution_count": 73,
   "metadata": {
    "collapsed": true
   },
   "outputs": [],
   "source": [
    "n_tot_cur_bal = udf(lambda x: t_tot_cur_bal(x),DoubleType())"
   ]
  },
  {
   "cell_type": "markdown",
   "metadata": {
    "collapsed": true
   },
   "source": [
    "### Normalization 'total_rev_hi_lim'"
   ]
  },
  {
   "cell_type": "code",
   "execution_count": 74,
   "metadata": {
    "collapsed": true
   },
   "outputs": [],
   "source": [
    "max_total_rev_hi_lim = crunched_df.select(max('total_rev_hi_lim')).collect()[0][0]\n",
    "min_total_rev_hi_lim = crunched_df.select(min('total_rev_hi_lim')).collect()[0][0]"
   ]
  },
  {
   "cell_type": "code",
   "execution_count": 75,
   "metadata": {
    "collapsed": true
   },
   "outputs": [],
   "source": [
    "def t_total_rev_hi_lim(origin):\n",
    "    return ((origin-min_total_rev_hi_lim)/(max_total_rev_hi_lim-min_total_rev_hi_lim))"
   ]
  },
  {
   "cell_type": "code",
   "execution_count": 76,
   "metadata": {
    "collapsed": true
   },
   "outputs": [],
   "source": [
    "n_total_rev_hi_lim = udf(lambda x: t_total_rev_hi_lim(x),DoubleType())"
   ]
  },
  {
   "cell_type": "markdown",
   "metadata": {},
   "source": [
    "### Normalization 'total_bal_ex_mort'"
   ]
  },
  {
   "cell_type": "code",
   "execution_count": 77,
   "metadata": {
    "collapsed": true
   },
   "outputs": [],
   "source": [
    "max_total_bal_ex_mort = crunched_df.select(max('total_bal_ex_mort')).collect()[0][0]\n",
    "min_total_bal_ex_mort = crunched_df.select(min('total_bal_ex_mort')).collect()[0][0]"
   ]
  },
  {
   "cell_type": "code",
   "execution_count": 78,
   "metadata": {
    "collapsed": true
   },
   "outputs": [],
   "source": [
    "def t_total_bal_ex_mort(origin):\n",
    "    return ((origin-min_total_bal_ex_mort)/(max_total_bal_ex_mort-min_total_bal_ex_mort))"
   ]
  },
  {
   "cell_type": "code",
   "execution_count": 79,
   "metadata": {
    "collapsed": true
   },
   "outputs": [],
   "source": [
    "n_total_bal_ex_mort = udf(lambda x: t_total_bal_ex_mort(x),DoubleType())"
   ]
  },
  {
   "cell_type": "markdown",
   "metadata": {},
   "source": [
    "### Normalization 'total_bal_il'"
   ]
  },
  {
   "cell_type": "code",
   "execution_count": 80,
   "metadata": {
    "collapsed": true
   },
   "outputs": [],
   "source": [
    "max_total_bal_il = crunched_df.select(max('total_bal_il')).collect()[0][0]\n",
    "min_total_bal_il = crunched_df.select(min('total_bal_il')).collect()[0][0]"
   ]
  },
  {
   "cell_type": "code",
   "execution_count": 81,
   "metadata": {
    "collapsed": true
   },
   "outputs": [],
   "source": [
    "def t_total_bal_il(origin):\n",
    "    return ((origin-min_total_bal_il)/(max_total_bal_il-min_total_bal_il))"
   ]
  },
  {
   "cell_type": "code",
   "execution_count": 82,
   "metadata": {
    "collapsed": true
   },
   "outputs": [],
   "source": [
    "n_total_bal_il = udf(lambda x: t_total_bal_il(x),DoubleType())"
   ]
  },
  {
   "cell_type": "markdown",
   "metadata": {
    "collapsed": true
   },
   "source": [
    "### รวมตัวแปรที่ทำการ Normalized แล้ว"
   ]
  },
  {
   "cell_type": "code",
   "execution_count": 83,
   "metadata": {
    "collapsed": true
   },
   "outputs": [],
   "source": [
    "normalized_df = crunched_df.\\\n",
    "withColumn('annual_inc',n_annual_inc(crunched_df['annual_inc'])).\\\n",
    "withColumn('revol_bal',n_revol_bal(crunched_df['revol_bal'])).\\\n",
    "withColumn('tot_cur_bal',n_tot_cur_bal(crunched_df['tot_cur_bal'])).\\\n",
    "withColumn('total_rev_hi_lim',n_total_rev_hi_lim(crunched_df['total_rev_hi_lim'])).\\\n",
    "withColumn('total_bal_il',n_total_bal_il(crunched_df['total_bal_il'])).\\\n",
    "withColumn('total_bal_ex_mort',n_total_bal_ex_mort(crunched_df['total_bal_ex_mort']))\n",
    "\n",
    "#withColumn('loan_amnt',n_loan_amt(crunched_df['loan_amnt'])).\\"
   ]
  },
  {
   "cell_type": "code",
   "execution_count": 84,
   "metadata": {
    "collapsed": true
   },
   "outputs": [],
   "source": [
    "#ดูข้อมูลที่มีการทำ Normalization (ให้ลองเปลี่ยน orderby เป็น GroupBy)"
   ]
  },
  {
   "cell_type": "code",
   "execution_count": 85,
   "metadata": {},
   "outputs": [
    {
     "name": "stdout",
     "output_type": "stream",
     "text": [
      "+-----+--------------------+--------------------+--------------------+--------------------+--------------------+--------------------+\n",
      "|grade|          annual_inc|           revol_bal|         tot_cur_bal|           revol_bal|        total_bal_il|    total_rev_hi_lim|\n",
      "+-----+--------------------+--------------------+--------------------+--------------------+--------------------+--------------------+\n",
      "|    A|0.005742893408359239|0.004191086843994723|0.026179372974751938|0.004191086843994723| 0.09994269424113393|  0.0351493848857645|\n",
      "|    A|0.003340315086656...|0.004729802766697...|0.002708901284331421|0.004729802766697...|0.006795447456422235| 0.01621407109246556|\n",
      "|    A|0.008354391584123303|0.005709685725609922| 0.02314724007954436|0.005709685725609922|0.017692246313208614|0.013946368841771075|\n",
      "|    A|0.011801569176131867|0.017764443167227792| 0.06389535964291722|0.017764443167227792| 0.04838346982742987|0.041498951187709056|\n",
      "|    A|0.008563311438184429|0.002925587775982058| 0.05233652377625614|0.002925587775982058|0.056158918299397204|0.009864504790521004|\n",
      "|    A|0.020889582827790812| 0.16207264140414152| 0.29099348174071976| 0.16207264140414152|  0.0434007703634926| 0.13305742955949884|\n",
      "|    A|0.010443590124734553| 0.02403833056066003|0.013160301575092948| 0.02403833056066003| 0.03213837527292775|0.053404388003855094|\n",
      "|    A|0.005742893408359239|                 0.0|0.002450499649954858|                 0.0| 0.00967887013354418| 0.01700776688020863|\n",
      "|    A|0.010025750416612304|0.011200545570709321|0.010711822122706065|0.011200545570709321| 0.03306397208701771| 0.07517432961052214|\n",
      "|    A|0.006787492678664864|0.002723459452618924|0.019521352753676207|0.002723459452618924| 0.07485655425549664| 0.08628607063892511|\n",
      "|    A|0.018069164797965623|0.001769062238826...|0.003411011766365253|0.001769062238826...|0.007112442603567465|0.029933669709167186|\n",
      "|    A|0.012092803452693077|0.011712018110697773| 0.04194811691875059|0.011712018110697773| 0.07407530992260096| 0.00997788990305573|\n",
      "|    A|0.007309792313817677|0.002414115235993606| 0.01888664340868303|0.002414115235993606|0.023752874355310212|0.028629740915017857|\n",
      "|    A|0.014099687570804244|0.003802648935618614|0.001894945318761...|0.003802648935618614|0.004345807612235867| 0.06769091218323034|\n",
      "|    A|0.003465666999092...|0.006506774374698455|0.005052514117507913|0.006506774374698455| 0.00535700036994857|0.006633029083281365|\n",
      "|    A|0.009398990854428928|0.005410887334551376| 0.02686495456759324|0.005410887334551376|0.018134733818377016| 0.07749872441748398|\n",
      "|    A|0.009008415187261655|0.009047439517493327|0.005211558762404...|0.009047439517493327|0.013116490276155727|0.010374737796927264|\n",
      "|    A|0.008511081474669146|0.010403456921620789|0.010978120893030172|0.010403456921620789| 0.03477371479141429|0.021032938375191337|\n",
      "|    A|0.007309792313817677|0.006287069675390701|0.002257662609375333|0.006287069675390701|0.003727775883705...| 0.01491014229831623|\n",
      "|    A|0.020889582827790812|0.038496657412704735|  0.1666855830620759|0.038496657412704735| 0.21337980661119857|0.049946142071546004|\n",
      "+-----+--------------------+--------------------+--------------------+--------------------+--------------------+--------------------+\n",
      "only showing top 20 rows\n",
      "\n"
     ]
    }
   ],
   "source": [
    "normalized_df.select(['grade'\\\n",
    "                      ,'annual_inc'\\\n",
    "                      ,'revol_bal'\\\n",
    "                      ,'tot_cur_bal'\\\n",
    "                      ,'revol_bal'\\\n",
    "                      ,'total_bal_il'\\\n",
    "                      ,'total_rev_hi_lim']).orderBy(['grade']).show()"
   ]
  },
  {
   "cell_type": "code",
   "execution_count": 86,
   "metadata": {},
   "outputs": [
    {
     "data": {
      "text/plain": [
       "627709"
      ]
     },
     "execution_count": 86,
     "metadata": {},
     "output_type": "execute_result"
    }
   ],
   "source": [
    "normalized_df.count()"
   ]
  },
  {
   "cell_type": "code",
   "execution_count": 87,
   "metadata": {
    "collapsed": true
   },
   "outputs": [],
   "source": [
    "normalized_filtered_df = normalized_df\\\n",
    "#.filter(col('loan_status') == 'Fully Paid').\\\n",
    "#union(normalized_df.filter(col('loan_status') == 'Charged Off'))"
   ]
  },
  {
   "cell_type": "code",
   "execution_count": 88,
   "metadata": {},
   "outputs": [
    {
     "data": {
      "text/plain": [
       "627709"
      ]
     },
     "execution_count": 88,
     "metadata": {},
     "output_type": "execute_result"
    }
   ],
   "source": [
    "normalized_filtered_df.count()"
   ]
  },
  {
   "cell_type": "code",
   "execution_count": 89,
   "metadata": {
    "collapsed": true
   },
   "outputs": [],
   "source": [
    "#normalized_filtered_df.select('loan_status').distinct().show()"
   ]
  },
  {
   "cell_type": "markdown",
   "metadata": {
    "collapsed": true,
    "scrolled": true
   },
   "source": [
    "### สร้าง Dataframe โดยใช้ Pandas และให้แสดงข้อมูลหลัง Normalized"
   ]
  },
  {
   "cell_type": "code",
   "execution_count": 90,
   "metadata": {},
   "outputs": [
    {
     "data": {
      "text/html": [
       "<div>\n",
       "<style>\n",
       "    .dataframe thead tr:only-child th {\n",
       "        text-align: right;\n",
       "    }\n",
       "\n",
       "    .dataframe thead th {\n",
       "        text-align: left;\n",
       "    }\n",
       "\n",
       "    .dataframe tbody tr th {\n",
       "        vertical-align: top;\n",
       "    }\n",
       "</style>\n",
       "<table border=\"1\" class=\"dataframe\">\n",
       "  <thead>\n",
       "    <tr style=\"text-align: right;\">\n",
       "      <th></th>\n",
       "      <th>0</th>\n",
       "      <th>1</th>\n",
       "      <th>2</th>\n",
       "      <th>3</th>\n",
       "      <th>4</th>\n",
       "    </tr>\n",
       "  </thead>\n",
       "  <tbody>\n",
       "    <tr>\n",
       "      <th>summary</th>\n",
       "      <td>count</td>\n",
       "      <td>mean</td>\n",
       "      <td>stddev</td>\n",
       "      <td>min</td>\n",
       "      <td>max</td>\n",
       "    </tr>\n",
       "    <tr>\n",
       "      <th>annual_inc</th>\n",
       "      <td>627709</td>\n",
       "      <td>0.00846256614532977</td>\n",
       "      <td>0.008274208621998921</td>\n",
       "      <td>0.0</td>\n",
       "      <td>1.0</td>\n",
       "    </tr>\n",
       "    <tr>\n",
       "      <th>bc_util</th>\n",
       "      <td>627709</td>\n",
       "      <td>55.70084688924322</td>\n",
       "      <td>28.831685669621613</td>\n",
       "      <td>0.0</td>\n",
       "      <td>252.3</td>\n",
       "    </tr>\n",
       "    <tr>\n",
       "      <th>inq_fi</th>\n",
       "      <td>627709</td>\n",
       "      <td>1.1189500230202212</td>\n",
       "      <td>1.5859378645745748</td>\n",
       "      <td>0.0</td>\n",
       "      <td>48.0</td>\n",
       "    </tr>\n",
       "    <tr>\n",
       "      <th>inq_last_12m</th>\n",
       "      <td>627709</td>\n",
       "      <td>2.3041584555900902</td>\n",
       "      <td>2.5282249368970446</td>\n",
       "      <td>0.0</td>\n",
       "      <td>67.0</td>\n",
       "    </tr>\n",
       "    <tr>\n",
       "      <th>home_ownership</th>\n",
       "      <td>627709</td>\n",
       "      <td>None</td>\n",
       "      <td>None</td>\n",
       "      <td>ANY</td>\n",
       "      <td>RENT</td>\n",
       "    </tr>\n",
       "    <tr>\n",
       "      <th>purpose</th>\n",
       "      <td>627709</td>\n",
       "      <td>None</td>\n",
       "      <td>None</td>\n",
       "      <td>car</td>\n",
       "      <td>vacation</td>\n",
       "    </tr>\n",
       "    <tr>\n",
       "      <th>emp_length</th>\n",
       "      <td>627709</td>\n",
       "      <td>None</td>\n",
       "      <td>None</td>\n",
       "      <td>1 year</td>\n",
       "      <td>NotEmployed</td>\n",
       "    </tr>\n",
       "    <tr>\n",
       "      <th>revol_bal</th>\n",
       "      <td>627709</td>\n",
       "      <td>0.0142652576807312</td>\n",
       "      <td>0.019837633181117035</td>\n",
       "      <td>0.0</td>\n",
       "      <td>1.0</td>\n",
       "    </tr>\n",
       "    <tr>\n",
       "      <th>dti</th>\n",
       "      <td>627709</td>\n",
       "      <td>19.848822623221896</td>\n",
       "      <td>13.332388424437127</td>\n",
       "      <td>-1.0</td>\n",
       "      <td>999.0</td>\n",
       "    </tr>\n",
       "    <tr>\n",
       "      <th>delinq_2yrs</th>\n",
       "      <td>627709</td>\n",
       "      <td>0.33588653340958946</td>\n",
       "      <td>0.9146222699150908</td>\n",
       "      <td>0.0</td>\n",
       "      <td>29.0</td>\n",
       "    </tr>\n",
       "    <tr>\n",
       "      <th>pub_rec_bankruptcies</th>\n",
       "      <td>627709</td>\n",
       "      <td>0.1550129120340795</td>\n",
       "      <td>0.4042242917813718</td>\n",
       "      <td>0.0</td>\n",
       "      <td>9.0</td>\n",
       "    </tr>\n",
       "    <tr>\n",
       "      <th>pub_rec</th>\n",
       "      <td>627709</td>\n",
       "      <td>0.25163571017780534</td>\n",
       "      <td>0.6690494256847435</td>\n",
       "      <td>0.0</td>\n",
       "      <td>61.0</td>\n",
       "    </tr>\n",
       "    <tr>\n",
       "      <th>open_rv_24m</th>\n",
       "      <td>627709</td>\n",
       "      <td>2.9518439276798643</td>\n",
       "      <td>2.6565701178449803</td>\n",
       "      <td>0.0</td>\n",
       "      <td>60.0</td>\n",
       "    </tr>\n",
       "    <tr>\n",
       "      <th>mort_acc</th>\n",
       "      <td>627709</td>\n",
       "      <td>1.551597953828924</td>\n",
       "      <td>1.8458996626614081</td>\n",
       "      <td>0.0</td>\n",
       "      <td>45.0</td>\n",
       "    </tr>\n",
       "    <tr>\n",
       "      <th>num_actv_bc_tl</th>\n",
       "      <td>627709</td>\n",
       "      <td>3.659109555542457</td>\n",
       "      <td>2.316108315933109</td>\n",
       "      <td>0.0</td>\n",
       "      <td>50.0</td>\n",
       "    </tr>\n",
       "    <tr>\n",
       "      <th>num_actv_rev_tl</th>\n",
       "      <td>627709</td>\n",
       "      <td>5.620569403975409</td>\n",
       "      <td>3.433232605428906</td>\n",
       "      <td>0.0</td>\n",
       "      <td>72.0</td>\n",
       "    </tr>\n",
       "    <tr>\n",
       "      <th>num_il_tl</th>\n",
       "      <td>627709</td>\n",
       "      <td>9.426406185031599</td>\n",
       "      <td>7.588155467770035</td>\n",
       "      <td>0.0</td>\n",
       "      <td>159.0</td>\n",
       "    </tr>\n",
       "    <tr>\n",
       "      <th>num_tl_90g_dpd_24m</th>\n",
       "      <td>627709</td>\n",
       "      <td>0.0905849685124795</td>\n",
       "      <td>0.5289816499660783</td>\n",
       "      <td>0.0</td>\n",
       "      <td>29.0</td>\n",
       "    </tr>\n",
       "    <tr>\n",
       "      <th>int_rate</th>\n",
       "      <td>627709</td>\n",
       "      <td>13.280175511265053</td>\n",
       "      <td>5.202268566651464</td>\n",
       "      <td>5.31</td>\n",
       "      <td>30.99</td>\n",
       "    </tr>\n",
       "    <tr>\n",
       "      <th>inq_last_6mths</th>\n",
       "      <td>627709</td>\n",
       "      <td>0.573671876617987</td>\n",
       "      <td>0.8591618206021223</td>\n",
       "      <td>0.0</td>\n",
       "      <td>5.0</td>\n",
       "    </tr>\n",
       "    <tr>\n",
       "      <th>term</th>\n",
       "      <td>627709</td>\n",
       "      <td>None</td>\n",
       "      <td>None</td>\n",
       "      <td>36 months</td>\n",
       "      <td>60 months</td>\n",
       "    </tr>\n",
       "    <tr>\n",
       "      <th>installment</th>\n",
       "      <td>627709</td>\n",
       "      <td>448.83294164971744</td>\n",
       "      <td>281.9550475174519</td>\n",
       "      <td>30.12</td>\n",
       "      <td>1715.42</td>\n",
       "    </tr>\n",
       "    <tr>\n",
       "      <th>total_rev_hi_lim</th>\n",
       "      <td>627709</td>\n",
       "      <td>0.01977583255636347</td>\n",
       "      <td>0.019660543281213912</td>\n",
       "      <td>0.0</td>\n",
       "      <td>1.0</td>\n",
       "    </tr>\n",
       "    <tr>\n",
       "      <th>total_bal_il</th>\n",
       "      <td>627709</td>\n",
       "      <td>0.02848778361109026</td>\n",
       "      <td>0.031721132399715024</td>\n",
       "      <td>0.0</td>\n",
       "      <td>1.0</td>\n",
       "    </tr>\n",
       "    <tr>\n",
       "      <th>total_bal_ex_mort</th>\n",
       "      <td>627709</td>\n",
       "      <td>0.035411849637098876</td>\n",
       "      <td>0.03237449598318382</td>\n",
       "      <td>0.0</td>\n",
       "      <td>1.0</td>\n",
       "    </tr>\n",
       "    <tr>\n",
       "      <th>total_acc</th>\n",
       "      <td>627709</td>\n",
       "      <td>25.266365465526224</td>\n",
       "      <td>12.160289901586092</td>\n",
       "      <td>3.0</td>\n",
       "      <td>176.0</td>\n",
       "    </tr>\n",
       "    <tr>\n",
       "      <th>tot_cur_bal</th>\n",
       "      <td>627709</td>\n",
       "      <td>0.02759613433547146</td>\n",
       "      <td>0.02975739430686678</td>\n",
       "      <td>0.0</td>\n",
       "      <td>1.0</td>\n",
       "    </tr>\n",
       "    <tr>\n",
       "      <th>loan_amnt</th>\n",
       "      <td>627709</td>\n",
       "      <td>14584.374686359444</td>\n",
       "      <td>9198.85973410322</td>\n",
       "      <td>1000.0</td>\n",
       "      <td>40000.0</td>\n",
       "    </tr>\n",
       "    <tr>\n",
       "      <th>loan_status</th>\n",
       "      <td>627709</td>\n",
       "      <td>None</td>\n",
       "      <td>None</td>\n",
       "      <td>Charged Off</td>\n",
       "      <td>Fully Paid</td>\n",
       "    </tr>\n",
       "    <tr>\n",
       "      <th>verification_status</th>\n",
       "      <td>627709</td>\n",
       "      <td>None</td>\n",
       "      <td>None</td>\n",
       "      <td>Not Verified</td>\n",
       "      <td>Verified</td>\n",
       "    </tr>\n",
       "    <tr>\n",
       "      <th>collections_12_mths_ex_med</th>\n",
       "      <td>627709</td>\n",
       "      <td>0.021815841416962318</td>\n",
       "      <td>0.16875135837034816</td>\n",
       "      <td>0.0</td>\n",
       "      <td>20.0</td>\n",
       "    </tr>\n",
       "    <tr>\n",
       "      <th>chargeoff_within_12_mths</th>\n",
       "      <td>627709</td>\n",
       "      <td>0.009338722242312919</td>\n",
       "      <td>0.11206603190606607</td>\n",
       "      <td>0.0</td>\n",
       "      <td>9.0</td>\n",
       "    </tr>\n",
       "    <tr>\n",
       "      <th>il_util</th>\n",
       "      <td>627709</td>\n",
       "      <td>70.87251258146689</td>\n",
       "      <td>23.052966604000147</td>\n",
       "      <td>0.0</td>\n",
       "      <td>558.0</td>\n",
       "    </tr>\n",
       "    <tr>\n",
       "      <th>last_pymnt_amnt</th>\n",
       "      <td>627709</td>\n",
       "      <td>6253.392336894964</td>\n",
       "      <td>7731.400556207945</td>\n",
       "      <td>0.0</td>\n",
       "      <td>42148.53</td>\n",
       "    </tr>\n",
       "    <tr>\n",
       "      <th>out_prncp_inv</th>\n",
       "      <td>627709</td>\n",
       "      <td>0.0</td>\n",
       "      <td>0.0</td>\n",
       "      <td>0.0</td>\n",
       "      <td>0.0</td>\n",
       "    </tr>\n",
       "    <tr>\n",
       "      <th>out_prncp</th>\n",
       "      <td>627709</td>\n",
       "      <td>0.0</td>\n",
       "      <td>0.0</td>\n",
       "      <td>0.0</td>\n",
       "      <td>0.0</td>\n",
       "    </tr>\n",
       "    <tr>\n",
       "      <th>total_pymnt_inv</th>\n",
       "      <td>627709</td>\n",
       "      <td>14393.700326026861</td>\n",
       "      <td>10402.20773138486</td>\n",
       "      <td>0.0</td>\n",
       "      <td>64508.23</td>\n",
       "    </tr>\n",
       "    <tr>\n",
       "      <th>total_pymnt</th>\n",
       "      <td>627709</td>\n",
       "      <td>14399.10142161876</td>\n",
       "      <td>10405.196651440598</td>\n",
       "      <td>0.0</td>\n",
       "      <td>64508.226002991</td>\n",
       "    </tr>\n",
       "    <tr>\n",
       "      <th>grade</th>\n",
       "      <td>627709</td>\n",
       "      <td>None</td>\n",
       "      <td>None</td>\n",
       "      <td>A</td>\n",
       "      <td>G</td>\n",
       "    </tr>\n",
       "  </tbody>\n",
       "</table>\n",
       "</div>"
      ],
      "text/plain": [
       "                                 0                     1  \\\n",
       "summary                      count                  mean   \n",
       "annual_inc                  627709   0.00846256614532977   \n",
       "bc_util                     627709     55.70084688924322   \n",
       "inq_fi                      627709    1.1189500230202212   \n",
       "inq_last_12m                627709    2.3041584555900902   \n",
       "home_ownership              627709                  None   \n",
       "purpose                     627709                  None   \n",
       "emp_length                  627709                  None   \n",
       "revol_bal                   627709    0.0142652576807312   \n",
       "dti                         627709    19.848822623221896   \n",
       "delinq_2yrs                 627709   0.33588653340958946   \n",
       "pub_rec_bankruptcies        627709    0.1550129120340795   \n",
       "pub_rec                     627709   0.25163571017780534   \n",
       "open_rv_24m                 627709    2.9518439276798643   \n",
       "mort_acc                    627709     1.551597953828924   \n",
       "num_actv_bc_tl              627709     3.659109555542457   \n",
       "num_actv_rev_tl             627709     5.620569403975409   \n",
       "num_il_tl                   627709     9.426406185031599   \n",
       "num_tl_90g_dpd_24m          627709    0.0905849685124795   \n",
       "int_rate                    627709    13.280175511265053   \n",
       "inq_last_6mths              627709     0.573671876617987   \n",
       "term                        627709                  None   \n",
       "installment                 627709    448.83294164971744   \n",
       "total_rev_hi_lim            627709   0.01977583255636347   \n",
       "total_bal_il                627709   0.02848778361109026   \n",
       "total_bal_ex_mort           627709  0.035411849637098876   \n",
       "total_acc                   627709    25.266365465526224   \n",
       "tot_cur_bal                 627709   0.02759613433547146   \n",
       "loan_amnt                   627709    14584.374686359444   \n",
       "loan_status                 627709                  None   \n",
       "verification_status         627709                  None   \n",
       "collections_12_mths_ex_med  627709  0.021815841416962318   \n",
       "chargeoff_within_12_mths    627709  0.009338722242312919   \n",
       "il_util                     627709     70.87251258146689   \n",
       "last_pymnt_amnt             627709     6253.392336894964   \n",
       "out_prncp_inv               627709                   0.0   \n",
       "out_prncp                   627709                   0.0   \n",
       "total_pymnt_inv             627709    14393.700326026861   \n",
       "total_pymnt                 627709     14399.10142161876   \n",
       "grade                       627709                  None   \n",
       "\n",
       "                                               2             3  \\\n",
       "summary                                   stddev           min   \n",
       "annual_inc                  0.008274208621998921           0.0   \n",
       "bc_util                       28.831685669621613           0.0   \n",
       "inq_fi                        1.5859378645745748           0.0   \n",
       "inq_last_12m                  2.5282249368970446           0.0   \n",
       "home_ownership                              None           ANY   \n",
       "purpose                                     None           car   \n",
       "emp_length                                  None        1 year   \n",
       "revol_bal                   0.019837633181117035           0.0   \n",
       "dti                           13.332388424437127          -1.0   \n",
       "delinq_2yrs                   0.9146222699150908           0.0   \n",
       "pub_rec_bankruptcies          0.4042242917813718           0.0   \n",
       "pub_rec                       0.6690494256847435           0.0   \n",
       "open_rv_24m                   2.6565701178449803           0.0   \n",
       "mort_acc                      1.8458996626614081           0.0   \n",
       "num_actv_bc_tl                 2.316108315933109           0.0   \n",
       "num_actv_rev_tl                3.433232605428906           0.0   \n",
       "num_il_tl                      7.588155467770035           0.0   \n",
       "num_tl_90g_dpd_24m            0.5289816499660783           0.0   \n",
       "int_rate                       5.202268566651464          5.31   \n",
       "inq_last_6mths                0.8591618206021223           0.0   \n",
       "term                                        None     36 months   \n",
       "installment                    281.9550475174519         30.12   \n",
       "total_rev_hi_lim            0.019660543281213912           0.0   \n",
       "total_bal_il                0.031721132399715024           0.0   \n",
       "total_bal_ex_mort            0.03237449598318382           0.0   \n",
       "total_acc                     12.160289901586092           3.0   \n",
       "tot_cur_bal                  0.02975739430686678           0.0   \n",
       "loan_amnt                       9198.85973410322        1000.0   \n",
       "loan_status                                 None   Charged Off   \n",
       "verification_status                         None  Not Verified   \n",
       "collections_12_mths_ex_med   0.16875135837034816           0.0   \n",
       "chargeoff_within_12_mths     0.11206603190606607           0.0   \n",
       "il_util                       23.052966604000147           0.0   \n",
       "last_pymnt_amnt                7731.400556207945           0.0   \n",
       "out_prncp_inv                                0.0           0.0   \n",
       "out_prncp                                    0.0           0.0   \n",
       "total_pymnt_inv                10402.20773138486           0.0   \n",
       "total_pymnt                   10405.196651440598           0.0   \n",
       "grade                                       None             A   \n",
       "\n",
       "                                          4  \n",
       "summary                                 max  \n",
       "annual_inc                              1.0  \n",
       "bc_util                               252.3  \n",
       "inq_fi                                 48.0  \n",
       "inq_last_12m                           67.0  \n",
       "home_ownership                         RENT  \n",
       "purpose                            vacation  \n",
       "emp_length                      NotEmployed  \n",
       "revol_bal                               1.0  \n",
       "dti                                   999.0  \n",
       "delinq_2yrs                            29.0  \n",
       "pub_rec_bankruptcies                    9.0  \n",
       "pub_rec                                61.0  \n",
       "open_rv_24m                            60.0  \n",
       "mort_acc                               45.0  \n",
       "num_actv_bc_tl                         50.0  \n",
       "num_actv_rev_tl                        72.0  \n",
       "num_il_tl                             159.0  \n",
       "num_tl_90g_dpd_24m                     29.0  \n",
       "int_rate                              30.99  \n",
       "inq_last_6mths                          5.0  \n",
       "term                              60 months  \n",
       "installment                         1715.42  \n",
       "total_rev_hi_lim                        1.0  \n",
       "total_bal_il                            1.0  \n",
       "total_bal_ex_mort                       1.0  \n",
       "total_acc                             176.0  \n",
       "tot_cur_bal                             1.0  \n",
       "loan_amnt                           40000.0  \n",
       "loan_status                      Fully Paid  \n",
       "verification_status                Verified  \n",
       "collections_12_mths_ex_med             20.0  \n",
       "chargeoff_within_12_mths                9.0  \n",
       "il_util                               558.0  \n",
       "last_pymnt_amnt                    42148.53  \n",
       "out_prncp_inv                           0.0  \n",
       "out_prncp                               0.0  \n",
       "total_pymnt_inv                    64508.23  \n",
       "total_pymnt                 64508.226002991  \n",
       "grade                                     G  "
      ]
     },
     "execution_count": 90,
     "metadata": {},
     "output_type": "execute_result"
    }
   ],
   "source": [
    "pd.DataFrame(normalized_df.describe().take(6),\\\n",
    "             columns=normalized_df.describe().columns).transpose()"
   ]
  },
  {
   "cell_type": "markdown",
   "metadata": {
    "collapsed": true
   },
   "source": [
    "### กำจัดค่า 'Null' จากการทำ Data Prep"
   ]
  },
  {
   "cell_type": "code",
   "execution_count": 91,
   "metadata": {
    "collapsed": true
   },
   "outputs": [],
   "source": [
    "data_no_missing_df = normalized_filtered_df.dropna(how='any')"
   ]
  },
  {
   "cell_type": "code",
   "execution_count": 92,
   "metadata": {},
   "outputs": [
    {
     "data": {
      "text/plain": [
       "627709"
      ]
     },
     "execution_count": 92,
     "metadata": {},
     "output_type": "execute_result"
    }
   ],
   "source": [
    "data_no_missing_df.count()"
   ]
  },
  {
   "cell_type": "code",
   "execution_count": 93,
   "metadata": {},
   "outputs": [
    {
     "name": "stdout",
     "output_type": "stream",
     "text": [
      "root\n",
      " |-- annual_inc: double (nullable = true)\n",
      " |-- bc_util: double (nullable = true)\n",
      " |-- inq_fi: double (nullable = true)\n",
      " |-- inq_last_12m: double (nullable = true)\n",
      " |-- home_ownership: string (nullable = true)\n",
      " |-- purpose: string (nullable = true)\n",
      " |-- emp_length: string (nullable = true)\n",
      " |-- revol_bal: double (nullable = true)\n",
      " |-- dti: double (nullable = true)\n",
      " |-- delinq_2yrs: double (nullable = true)\n",
      " |-- pub_rec_bankruptcies: double (nullable = true)\n",
      " |-- pub_rec: double (nullable = true)\n",
      " |-- open_rv_24m: double (nullable = true)\n",
      " |-- mort_acc: double (nullable = true)\n",
      " |-- num_actv_bc_tl: double (nullable = true)\n",
      " |-- num_actv_rev_tl: double (nullable = true)\n",
      " |-- num_il_tl: double (nullable = true)\n",
      " |-- num_tl_90g_dpd_24m: double (nullable = true)\n",
      " |-- int_rate: double (nullable = true)\n",
      " |-- inq_last_6mths: double (nullable = true)\n",
      " |-- term: string (nullable = true)\n",
      " |-- installment: double (nullable = true)\n",
      " |-- total_rev_hi_lim: double (nullable = true)\n",
      " |-- total_bal_il: double (nullable = true)\n",
      " |-- total_bal_ex_mort: double (nullable = true)\n",
      " |-- total_acc: double (nullable = true)\n",
      " |-- tot_cur_bal: double (nullable = true)\n",
      " |-- loan_amnt: double (nullable = true)\n",
      " |-- loan_status: string (nullable = true)\n",
      " |-- verification_status: string (nullable = true)\n",
      " |-- collections_12_mths_ex_med: double (nullable = true)\n",
      " |-- chargeoff_within_12_mths: double (nullable = true)\n",
      " |-- il_util: double (nullable = true)\n",
      " |-- last_pymnt_amnt: double (nullable = true)\n",
      " |-- out_prncp_inv: double (nullable = true)\n",
      " |-- out_prncp: double (nullable = true)\n",
      " |-- total_pymnt_inv: double (nullable = true)\n",
      " |-- total_pymnt: double (nullable = true)\n",
      " |-- grade: string (nullable = true)\n",
      "\n"
     ]
    }
   ],
   "source": [
    "data_no_missing_df.printSchema()"
   ]
  },
  {
   "cell_type": "markdown",
   "metadata": {
    "collapsed": true
   },
   "source": [
    "### 4) ML Modeling"
   ]
  },
  {
   "cell_type": "code",
   "execution_count": 94,
   "metadata": {
    "collapsed": true
   },
   "outputs": [],
   "source": [
    "import pyspark\n",
    "from pyspark.sql import SQLContext\n",
    "from pyspark.sql.types import *\n",
    "from pyspark.ml.feature import OneHotEncoder, StringIndexer\n",
    "from pyspark.ml.feature import VectorAssembler\n",
    "from pyspark.mllib.clustering import KMeans, KMeansModel\n",
    "from pyspark.ml.feature import StringIndexer, VectorAssembler, \\\n",
    "OneHotEncoder, VectorIndexer\n",
    "from pyspark.ml.tuning import ParamGridBuilder, CrossValidator\n",
    "from pyspark.ml.evaluation import MulticlassClassificationEvaluator, \\\n",
    "BinaryClassificationEvaluator\n",
    "from pyspark.ml.classification import LogisticRegression, GBTClassifier, \\\n",
    "NaiveBayes, RandomForestClassifier, DecisionTreeClassifier\n",
    "from pyspark.ml import Pipeline\n",
    "from pyspark.ml.clustering import *"
   ]
  },
  {
   "cell_type": "code",
   "execution_count": 95,
   "metadata": {
    "collapsed": true
   },
   "outputs": [],
   "source": [
    "#เปลี่ยนข้อมูลที่ต้องการ (Field) จาก Categorical เป็น Numerical"
   ]
  },
  {
   "cell_type": "code",
   "execution_count": 96,
   "metadata": {
    "collapsed": true
   },
   "outputs": [],
   "source": [
    "labelIndexer = StringIndexer(inputCol='loan_status',outputCol='indexedLabel')"
   ]
  },
  {
   "cell_type": "code",
   "execution_count": 97,
   "metadata": {
    "collapsed": true
   },
   "outputs": [],
   "source": [
    "gradeIndexer = StringIndexer(inputCol='grade',outputCol='gradeIndexed')\n",
    "gradeOneHotEncoder = OneHotEncoder(dropLast=False,inputCol='gradeIndexed',\\\n",
    "                                  outputCol='gradeVec')"
   ]
  },
  {
   "cell_type": "code",
   "execution_count": 98,
   "metadata": {
    "collapsed": true
   },
   "outputs": [],
   "source": [
    "homeIndexer = StringIndexer(inputCol='home_ownership',outputCol='homeIndexed')\n",
    "homeOneHotEncoder = OneHotEncoder(dropLast=False,inputCol='homeIndexed',\\\n",
    "                                  outputCol='homeVec')"
   ]
  },
  {
   "cell_type": "code",
   "execution_count": 99,
   "metadata": {
    "collapsed": true
   },
   "outputs": [],
   "source": [
    "purposeIndexer = StringIndexer(inputCol='purpose',outputCol='purposeIndexed')\n",
    "purposeOneHotEncoder = OneHotEncoder(dropLast=False,inputCol='purposeIndexed',\\\n",
    "                                  outputCol='purposeVec')"
   ]
  },
  {
   "cell_type": "code",
   "execution_count": 100,
   "metadata": {
    "collapsed": true
   },
   "outputs": [],
   "source": [
    "emp_lengthIndexer = StringIndexer(inputCol='emp_length',outputCol='emp_lengthIndexed')\n",
    "emp_lengthOneHotEncoder = OneHotEncoder(dropLast=False,inputCol='emp_lengthIndexed',\\\n",
    "                                  outputCol='emp_lengthVec')"
   ]
  },
  {
   "cell_type": "code",
   "execution_count": 101,
   "metadata": {
    "collapsed": true
   },
   "outputs": [],
   "source": [
    "verification_statusIndexer = StringIndexer(inputCol='verification_status',outputCol='verification_statusIndexed')\n",
    "verification_statusOneHotEncoder = OneHotEncoder(dropLast=False,inputCol='verification_statusIndexed',\\\n",
    "                                  outputCol='verification_statusVec')"
   ]
  },
  {
   "cell_type": "markdown",
   "metadata": {
    "collapsed": true
   },
   "source": [
    "### เลือก Feature ที่จะใช้ในการ Train"
   ]
  },
  {
   "cell_type": "code",
   "execution_count": 102,
   "metadata": {
    "collapsed": true
   },
   "outputs": [],
   "source": [
    "featureAssembler = VectorAssembler(inputCols=['annual_inc'\\\n",
    "                                              #,'bc_util'\\\n",
    "                                              #,'inq_fi'\\\n",
    "                                              #,'inq_last_12m'\\\n",
    "                                              #,'home_ownership'\\\n",
    "                                              #,'purpose'\\\n",
    "                                              #,'emp_length'\\\n",
    "                                              ,'revol_bal'\\\n",
    "                                              ,'dti'\\\n",
    "                                              ,'delinq_2yrs'\\\n",
    "                                              ,'pub_rec_bankruptcies'\\\n",
    "                                              ,'pub_rec'\\\n",
    "                                              #,'open_rv_24m'\\\n",
    "                                              ,'mort_acc'\\\n",
    "                                              ,'num_actv_bc_tl'\\\n",
    "                                              #,'num_actv_rev_tl'\\\n",
    "                                              #,'num_il_tl'\\\n",
    "                                              #,'num_tl_90g_dpd_24m'\\\n",
    "                                              #,'int_rate'\\\n",
    "                                              ,'inq_last_6mths'\\\n",
    "                                              #,'term'\\\n",
    "                                              ,'installment'\\\n",
    "                                              #,'total_rev_hi_lim'\\\n",
    "                                              ,'total_bal_il'\\\n",
    "                                              ,'total_bal_ex_mort'\\\n",
    "                                              ,'total_acc'\\\n",
    "                                              ,'tot_cur_bal'\\\n",
    "                                              ,'collections_12_mths_ex_med'\\\n",
    "                                              ,'chargeoff_within_12_mths'\\\n",
    "                                              ,'il_util'\\\n",
    "                                              ,'last_pymnt_amnt'\\\n",
    "                                              #,'last_pymnt_d'\\\n",
    "                                              ,'out_prncp_inv'\\\n",
    "                                              ,'out_prncp'\\\n",
    "                                              ,'total_pymnt_inv'\\\n",
    "                                              ,'total_pymnt'\\\n",
    "                                              ,'loan_amnt'\\\n",
    "                                              #,'loan_status'\\\n",
    "                                              #,'verification_status'\\\n",
    "                                              ,'gradeVec'\\\n",
    "                                              ,'homeVec'\\\n",
    "                                              ,'emp_lengthVec'\\\n",
    "                                              ,'purposeVec'\\\n",
    "                                              ,'verification_statusVec']\\\n",
    "                                   ,outputCol='***features')"
   ]
  },
  {
   "cell_type": "markdown",
   "metadata": {},
   "source": [
    "# Modeling with DecisionTree"
   ]
  },
  {
   "cell_type": "code",
   "execution_count": 103,
   "metadata": {
    "collapsed": true
   },
   "outputs": [],
   "source": [
    "dt = DecisionTreeClassifier(featuresCol='***features',labelCol='indexedLabel')"
   ]
  },
  {
   "cell_type": "code",
   "execution_count": 104,
   "metadata": {
    "collapsed": true
   },
   "outputs": [],
   "source": [
    "#ทำ Sequencing ลำดับของการทำ Modeling"
   ]
  },
  {
   "cell_type": "code",
   "execution_count": 105,
   "metadata": {
    "collapsed": true
   },
   "outputs": [],
   "source": [
    "pipeline_dt = Pipeline().setStages([gradeIndexer,gradeOneHotEncoder,\\\n",
    "                                    homeIndexer,homeOneHotEncoder,\\\n",
    "                                    emp_lengthIndexer,emp_lengthOneHotEncoder,\\\n",
    "                                    purposeIndexer,purposeOneHotEncoder,\\\n",
    "                                    verification_statusIndexer,verification_statusOneHotEncoder,\\\n",
    "                                    labelIndexer,\\\n",
    "                                    featureAssembler,\\\n",
    "                                    dt])"
   ]
  },
  {
   "cell_type": "markdown",
   "metadata": {},
   "source": [
    "### แบ่งข้อมูลเป็น Training และ Testing"
   ]
  },
  {
   "cell_type": "code",
   "execution_count": 106,
   "metadata": {
    "collapsed": true
   },
   "outputs": [],
   "source": [
    "#แบ่งข้อมูลเป็น Training และ Testing (ุ60% - 40%) โดย Random จากข้อมูลที่เหลืออยู่"
   ]
  },
  {
   "cell_type": "code",
   "execution_count": 107,
   "metadata": {
    "collapsed": true
   },
   "outputs": [],
   "source": [
    "training_dt, test_dt = normalized_df.randomSplit([0.6,0.4])"
   ]
  },
  {
   "cell_type": "code",
   "execution_count": 108,
   "metadata": {
    "collapsed": true
   },
   "outputs": [],
   "source": [
    "#ดูการการกระจุกตัวของ Label จากการ Random เพื่อดู Imbalance Data"
   ]
  },
  {
   "cell_type": "code",
   "execution_count": 109,
   "metadata": {},
   "outputs": [
    {
     "name": "stdout",
     "output_type": "stream",
     "text": [
      "+-----------+------+\n",
      "|loan_status| count|\n",
      "+-----------+------+\n",
      "|Charged Off| 78737|\n",
      "| Fully Paid|297427|\n",
      "+-----------+------+\n",
      "\n"
     ]
    }
   ],
   "source": [
    "training_dt.groupBy('loan_status').count().orderBy(['loan_status']).show()"
   ]
  },
  {
   "cell_type": "code",
   "execution_count": 110,
   "metadata": {},
   "outputs": [
    {
     "name": "stdout",
     "output_type": "stream",
     "text": [
      "+-----+------+\n",
      "|grade| count|\n",
      "+-----+------+\n",
      "|    F|  7542|\n",
      "|    E| 22113|\n",
      "|    B|111724|\n",
      "|    D| 52806|\n",
      "|    C|113054|\n",
      "|    A| 66690|\n",
      "|    G|  2235|\n",
      "+-----+------+\n",
      "\n"
     ]
    }
   ],
   "source": [
    "training_dt.groupBy('grade').count().show()"
   ]
  },
  {
   "cell_type": "code",
   "execution_count": 111,
   "metadata": {},
   "outputs": [
    {
     "data": {
      "text/plain": [
       "376164"
      ]
     },
     "execution_count": 111,
     "metadata": {},
     "output_type": "execute_result"
    }
   ],
   "source": [
    "training_dt.count()"
   ]
  },
  {
   "cell_type": "code",
   "execution_count": 112,
   "metadata": {
    "collapsed": true
   },
   "outputs": [],
   "source": [
    "#แบ่งข้อมูลเป็น Training และ Testing (ุ60%) โดย Random จาก Label ในแต่ละ Catergory "
   ]
  },
  {
   "cell_type": "code",
   "execution_count": 113,
   "metadata": {
    "collapsed": true
   },
   "outputs": [],
   "source": [
    "#training, test = normalized_df\\\n",
    "#.filter(col('grade') == 'A').sample(False,0.4,42).\\\n",
    "#union(normalized_df.filter(col('grade') =='B').\\\n",
    "      #sample(False,0.4,42)).\\\n",
    "#union(normalized_df.filter(col('grade') =='C').\\\n",
    "      #ample(False,0.4,42)).\\\n",
    "#union(normalized_df.filter(col('grade') =='D').\\\n",
    "      #sample(False,0.4,42)).\\\n",
    "#union(normalized_df.filter(col('grade') =='E')).\\\n",
    "#union(normalized_df.filter(col('grade') =='F')).\\\n",
    "#union(normalized_df.filter(col('grade') =='G')).\\\n",
    "#randomSplit([0.4,0.2], seed = 12)"
   ]
  },
  {
   "cell_type": "code",
   "execution_count": 114,
   "metadata": {
    "collapsed": true
   },
   "outputs": [],
   "source": [
    "start_time_dt = t.time()"
   ]
  },
  {
   "cell_type": "code",
   "execution_count": 115,
   "metadata": {
    "collapsed": true
   },
   "outputs": [],
   "source": [
    "model_dt = pipeline_dt.fit(training_dt)"
   ]
  },
  {
   "cell_type": "code",
   "execution_count": 116,
   "metadata": {
    "collapsed": true
   },
   "outputs": [],
   "source": [
    "duration_dt = t.time() - start_time_dt"
   ]
  },
  {
   "cell_type": "code",
   "execution_count": 117,
   "metadata": {},
   "outputs": [
    {
     "name": "stdout",
     "output_type": "stream",
     "text": [
      "ใช้เวลา Distributed Training 80.90866780281067 วินาที\n"
     ]
    }
   ],
   "source": [
    "print('ใช้เวลา Distributed Training {0} วินาที'.format(duration_dt))"
   ]
  },
  {
   "cell_type": "code",
   "execution_count": 118,
   "metadata": {
    "collapsed": true
   },
   "outputs": [],
   "source": [
    "spark_fullLabel_func = udf(lambda x: \"Fully Paid\" if x == 0.0 else \"Charged Off\")"
   ]
  },
  {
   "cell_type": "code",
   "execution_count": 119,
   "metadata": {
    "collapsed": true
   },
   "outputs": [],
   "source": [
    "result_dt = model_dt.transform(test_dt.dropna()).withColumn('full_prediction',spark_fullLabel_func(col('prediction')))"
   ]
  },
  {
   "cell_type": "code",
   "execution_count": 120,
   "metadata": {
    "collapsed": true
   },
   "outputs": [],
   "source": [
    "#ดูการการกระจุกตัวของ Label จากการ Random เพื่อดู Imbalance Data (ข้อมูล Test)"
   ]
  },
  {
   "cell_type": "code",
   "execution_count": 121,
   "metadata": {},
   "outputs": [
    {
     "name": "stdout",
     "output_type": "stream",
     "text": [
      "+-----------+------------+------+\n",
      "|loan_status|indexedLabel| count|\n",
      "+-----------+------------+------+\n",
      "| Fully Paid|         0.0|199026|\n",
      "|Charged Off|         1.0| 52519|\n",
      "+-----------+------------+------+\n",
      "\n"
     ]
    }
   ],
   "source": [
    "result_dt.groupBy(['loan_status','indexedLabel']).count().show()"
   ]
  },
  {
   "cell_type": "code",
   "execution_count": 122,
   "metadata": {},
   "outputs": [
    {
     "data": {
      "text/plain": [
       "251545"
      ]
     },
     "execution_count": 122,
     "metadata": {},
     "output_type": "execute_result"
    }
   ],
   "source": [
    "result_dt.count()"
   ]
  },
  {
   "cell_type": "code",
   "execution_count": 123,
   "metadata": {},
   "outputs": [
    {
     "data": {
      "text/plain": [
       "DataFrame[annual_inc: double, bc_util: double, inq_fi: double, inq_last_12m: double, home_ownership: string, purpose: string, emp_length: string, revol_bal: double, dti: double, delinq_2yrs: double, pub_rec_bankruptcies: double, pub_rec: double, open_rv_24m: double, mort_acc: double, num_actv_bc_tl: double, num_actv_rev_tl: double, num_il_tl: double, num_tl_90g_dpd_24m: double, int_rate: double, inq_last_6mths: double, term: string, installment: double, total_rev_hi_lim: double, total_bal_il: double, total_bal_ex_mort: double, total_acc: double, tot_cur_bal: double, loan_amnt: double, loan_status: string, verification_status: string, collections_12_mths_ex_med: double, chargeoff_within_12_mths: double, il_util: double, last_pymnt_amnt: double, out_prncp_inv: double, out_prncp: double, total_pymnt_inv: double, total_pymnt: double, grade: string, gradeIndexed: double, gradeVec: vector, homeIndexed: double, homeVec: vector, emp_lengthIndexed: double, emp_lengthVec: vector, purposeIndexed: double, purposeVec: vector, verification_statusIndexed: double, verification_statusVec: vector, indexedLabel: double, ***features: vector, rawPrediction: vector, probability: vector, prediction: double, full_prediction: string]"
      ]
     },
     "execution_count": 123,
     "metadata": {},
     "output_type": "execute_result"
    }
   ],
   "source": [
    "result_dt"
   ]
  },
  {
   "cell_type": "code",
   "execution_count": 124,
   "metadata": {
    "collapsed": true
   },
   "outputs": [],
   "source": [
    "num_result_dt = result_dt.count()"
   ]
  },
  {
   "cell_type": "markdown",
   "metadata": {},
   "source": [
    "# การประเมิน Charge-Off [Aekanun]"
   ]
  },
  {
   "cell_type": "code",
   "execution_count": 125,
   "metadata": {},
   "outputs": [
    {
     "name": "stdout",
     "output_type": "stream",
     "text": [
      "+-----------+------------+----------+---------------+\n",
      "|loan_status|indexedLabel|prediction|full_prediction|\n",
      "+-----------+------------+----------+---------------+\n",
      "|Charged Off|         1.0|       0.0|     Fully Paid|\n",
      "|Charged Off|         1.0|       0.0|     Fully Paid|\n",
      "|Charged Off|         1.0|       1.0|    Charged Off|\n",
      "|Charged Off|         1.0|       1.0|    Charged Off|\n",
      "|Charged Off|         1.0|       0.0|     Fully Paid|\n",
      "|Charged Off|         1.0|       1.0|    Charged Off|\n",
      "|Charged Off|         1.0|       1.0|    Charged Off|\n",
      "|Charged Off|         1.0|       0.0|     Fully Paid|\n",
      "|Charged Off|         1.0|       1.0|    Charged Off|\n",
      "|Charged Off|         1.0|       0.0|     Fully Paid|\n",
      "|Charged Off|         1.0|       1.0|    Charged Off|\n",
      "|Charged Off|         1.0|       1.0|    Charged Off|\n",
      "|Charged Off|         1.0|       0.0|     Fully Paid|\n",
      "|Charged Off|         1.0|       0.0|     Fully Paid|\n",
      "|Charged Off|         1.0|       0.0|     Fully Paid|\n",
      "|Charged Off|         1.0|       0.0|     Fully Paid|\n",
      "|Charged Off|         1.0|       1.0|    Charged Off|\n",
      "|Charged Off|         1.0|       1.0|    Charged Off|\n",
      "|Charged Off|         1.0|       1.0|    Charged Off|\n",
      "|Charged Off|         1.0|       1.0|    Charged Off|\n",
      "+-----------+------------+----------+---------------+\n",
      "only showing top 20 rows\n",
      "\n"
     ]
    }
   ],
   "source": [
    "result_dt.select('loan_status','indexedLabel','prediction','full_prediction').\\\n",
    "filter(col('loan_status') == 'Charged Off').show()"
   ]
  },
  {
   "cell_type": "code",
   "execution_count": 126,
   "metadata": {
    "collapsed": true
   },
   "outputs": [],
   "source": [
    "num_Actual_ChargeOff = result_dt.select('loan_status','indexedLabel','prediction','full_prediction').\\\n",
    "filter(col('loan_status') == 'Charged Off').count()"
   ]
  },
  {
   "cell_type": "code",
   "execution_count": 127,
   "metadata": {},
   "outputs": [
    {
     "data": {
      "text/plain": [
       "52519"
      ]
     },
     "execution_count": 127,
     "metadata": {},
     "output_type": "execute_result"
    }
   ],
   "source": [
    "num_Actual_ChargeOff"
   ]
  },
  {
   "cell_type": "code",
   "execution_count": 128,
   "metadata": {
    "collapsed": true
   },
   "outputs": [],
   "source": [
    "#ตรวจสอบความถูกต้องจากการ Predict ตรงกับข้อมูลที่เป็น IndexLabel หรือไม่ (เนื่องจากมีการทำ indexer ค่าที่ได้จึงเป็น Numerical)"
   ]
  },
  {
   "cell_type": "markdown",
   "metadata": {},
   "source": [
    "### Positive = Charged Off"
   ]
  },
  {
   "cell_type": "code",
   "execution_count": 129,
   "metadata": {},
   "outputs": [
    {
     "name": "stdout",
     "output_type": "stream",
     "text": [
      "+-----------+------------+----------+---------------+\n",
      "|loan_status|indexedLabel|prediction|full_prediction|\n",
      "+-----------+------------+----------+---------------+\n",
      "|Charged Off|         1.0|       0.0|     Fully Paid|\n",
      "|Charged Off|         1.0|       0.0|     Fully Paid|\n",
      "|Charged Off|         1.0|       0.0|     Fully Paid|\n",
      "|Charged Off|         1.0|       0.0|     Fully Paid|\n",
      "|Charged Off|         1.0|       0.0|     Fully Paid|\n",
      "|Charged Off|         1.0|       0.0|     Fully Paid|\n",
      "|Charged Off|         1.0|       0.0|     Fully Paid|\n",
      "|Charged Off|         1.0|       0.0|     Fully Paid|\n",
      "|Charged Off|         1.0|       0.0|     Fully Paid|\n",
      "|Charged Off|         1.0|       0.0|     Fully Paid|\n",
      "|Charged Off|         1.0|       0.0|     Fully Paid|\n",
      "|Charged Off|         1.0|       0.0|     Fully Paid|\n",
      "|Charged Off|         1.0|       0.0|     Fully Paid|\n",
      "|Charged Off|         1.0|       0.0|     Fully Paid|\n",
      "|Charged Off|         1.0|       0.0|     Fully Paid|\n",
      "|Charged Off|         1.0|       0.0|     Fully Paid|\n",
      "|Charged Off|         1.0|       0.0|     Fully Paid|\n",
      "|Charged Off|         1.0|       0.0|     Fully Paid|\n",
      "|Charged Off|         1.0|       0.0|     Fully Paid|\n",
      "|Charged Off|         1.0|       0.0|     Fully Paid|\n",
      "+-----------+------------+----------+---------------+\n",
      "only showing top 20 rows\n",
      "\n"
     ]
    }
   ],
   "source": [
    "result_dt.select('loan_status','indexedLabel','prediction','full_prediction').\\\n",
    "filter((col('indexedLabel') != col('prediction'))).filter(col('loan_status') == 'Charged Off').show()"
   ]
  },
  {
   "cell_type": "code",
   "execution_count": 130,
   "metadata": {
    "collapsed": true
   },
   "outputs": [],
   "source": [
    "num_False_FullyPaid = result_dt.select('loan_status','indexedLabel','prediction','full_prediction').\\\n",
    "filter((col('indexedLabel') != col('prediction'))).filter(col('loan_status') == 'Charged Off').count()"
   ]
  },
  {
   "cell_type": "code",
   "execution_count": 131,
   "metadata": {},
   "outputs": [
    {
     "data": {
      "text/plain": [
       "18.18199127934652"
      ]
     },
     "execution_count": 131,
     "metadata": {},
     "output_type": "execute_result"
    }
   ],
   "source": [
    "(num_False_FullyPaid/num_Actual_ChargeOff)*100"
   ]
  },
  {
   "cell_type": "code",
   "execution_count": 132,
   "metadata": {},
   "outputs": [
    {
     "name": "stdout",
     "output_type": "stream",
     "text": [
      "+-----------+------------+----------+---------------+\n",
      "|loan_status|indexedLabel|prediction|full_prediction|\n",
      "+-----------+------------+----------+---------------+\n",
      "|Charged Off|         1.0|       1.0|    Charged Off|\n",
      "|Charged Off|         1.0|       1.0|    Charged Off|\n",
      "|Charged Off|         1.0|       1.0|    Charged Off|\n",
      "|Charged Off|         1.0|       1.0|    Charged Off|\n",
      "|Charged Off|         1.0|       1.0|    Charged Off|\n",
      "|Charged Off|         1.0|       1.0|    Charged Off|\n",
      "|Charged Off|         1.0|       1.0|    Charged Off|\n",
      "|Charged Off|         1.0|       1.0|    Charged Off|\n",
      "|Charged Off|         1.0|       1.0|    Charged Off|\n",
      "|Charged Off|         1.0|       1.0|    Charged Off|\n",
      "|Charged Off|         1.0|       1.0|    Charged Off|\n",
      "|Charged Off|         1.0|       1.0|    Charged Off|\n",
      "|Charged Off|         1.0|       1.0|    Charged Off|\n",
      "|Charged Off|         1.0|       1.0|    Charged Off|\n",
      "|Charged Off|         1.0|       1.0|    Charged Off|\n",
      "|Charged Off|         1.0|       1.0|    Charged Off|\n",
      "|Charged Off|         1.0|       1.0|    Charged Off|\n",
      "|Charged Off|         1.0|       1.0|    Charged Off|\n",
      "|Charged Off|         1.0|       1.0|    Charged Off|\n",
      "|Charged Off|         1.0|       1.0|    Charged Off|\n",
      "+-----------+------------+----------+---------------+\n",
      "only showing top 20 rows\n",
      "\n"
     ]
    }
   ],
   "source": [
    "result_dt.select('loan_status','indexedLabel','prediction','full_prediction').\\\n",
    "filter((col('indexedLabel') == col('prediction'))).filter(col('loan_status') == 'Charged Off').show()"
   ]
  },
  {
   "cell_type": "code",
   "execution_count": 133,
   "metadata": {
    "collapsed": true
   },
   "outputs": [],
   "source": [
    "num_True_ChargeOff = result_dt.select('loan_status','indexedLabel','prediction','full_prediction').\\\n",
    "filter((col('indexedLabel') == col('prediction'))).filter(col('loan_status') == 'Charged Off').count()"
   ]
  },
  {
   "cell_type": "code",
   "execution_count": 134,
   "metadata": {},
   "outputs": [
    {
     "data": {
      "text/plain": [
       "81.81800872065348"
      ]
     },
     "execution_count": 134,
     "metadata": {},
     "output_type": "execute_result"
    }
   ],
   "source": [
    "(num_True_ChargeOff/num_Actual_ChargeOff)*100"
   ]
  },
  {
   "cell_type": "markdown",
   "metadata": {},
   "source": [
    "# ------------- สิ้นสุดการประเมิน ---------------------------"
   ]
  },
  {
   "cell_type": "markdown",
   "metadata": {},
   "source": [
    "# การประเมิน Fully Paid [Aekanun]"
   ]
  },
  {
   "cell_type": "code",
   "execution_count": 135,
   "metadata": {},
   "outputs": [
    {
     "name": "stdout",
     "output_type": "stream",
     "text": [
      "+-----------+------------+----------+---------------+\n",
      "|loan_status|indexedLabel|prediction|full_prediction|\n",
      "+-----------+------------+----------+---------------+\n",
      "| Fully Paid|         0.0|       0.0|     Fully Paid|\n",
      "| Fully Paid|         0.0|       0.0|     Fully Paid|\n",
      "| Fully Paid|         0.0|       0.0|     Fully Paid|\n",
      "| Fully Paid|         0.0|       0.0|     Fully Paid|\n",
      "| Fully Paid|         0.0|       0.0|     Fully Paid|\n",
      "| Fully Paid|         0.0|       0.0|     Fully Paid|\n",
      "| Fully Paid|         0.0|       0.0|     Fully Paid|\n",
      "| Fully Paid|         0.0|       0.0|     Fully Paid|\n",
      "| Fully Paid|         0.0|       0.0|     Fully Paid|\n",
      "| Fully Paid|         0.0|       0.0|     Fully Paid|\n",
      "| Fully Paid|         0.0|       0.0|     Fully Paid|\n",
      "| Fully Paid|         0.0|       0.0|     Fully Paid|\n",
      "| Fully Paid|         0.0|       0.0|     Fully Paid|\n",
      "| Fully Paid|         0.0|       0.0|     Fully Paid|\n",
      "| Fully Paid|         0.0|       0.0|     Fully Paid|\n",
      "| Fully Paid|         0.0|       0.0|     Fully Paid|\n",
      "| Fully Paid|         0.0|       0.0|     Fully Paid|\n",
      "| Fully Paid|         0.0|       0.0|     Fully Paid|\n",
      "| Fully Paid|         0.0|       0.0|     Fully Paid|\n",
      "| Fully Paid|         0.0|       0.0|     Fully Paid|\n",
      "+-----------+------------+----------+---------------+\n",
      "only showing top 20 rows\n",
      "\n"
     ]
    }
   ],
   "source": [
    "result_dt.select('loan_status','indexedLabel','prediction','full_prediction').\\\n",
    "filter(col('loan_status') == 'Fully Paid').show()"
   ]
  },
  {
   "cell_type": "code",
   "execution_count": 136,
   "metadata": {
    "collapsed": true
   },
   "outputs": [],
   "source": [
    "num_Actual_FullyPaid = result_dt.select('loan_status','indexedLabel','prediction','full_prediction').\\\n",
    "filter(col('loan_status') == 'Fully Paid').count()"
   ]
  },
  {
   "cell_type": "code",
   "execution_count": 137,
   "metadata": {},
   "outputs": [
    {
     "data": {
      "text/plain": [
       "199026"
      ]
     },
     "execution_count": 137,
     "metadata": {},
     "output_type": "execute_result"
    }
   ],
   "source": [
    "num_Actual_FullyPaid"
   ]
  },
  {
   "cell_type": "code",
   "execution_count": 138,
   "metadata": {
    "collapsed": true
   },
   "outputs": [],
   "source": [
    "#ตรวจสอบความถูกต้องจากการ Predict ตรงกับข้อมูลที่เป็น IndexLabel หรือไม่ (เนื่องจากมีการทำ indexer ค่าที่ได้จึงเป็น Numerical)"
   ]
  },
  {
   "cell_type": "markdown",
   "metadata": {},
   "source": [
    "### Negative = Fully Paid"
   ]
  },
  {
   "cell_type": "code",
   "execution_count": 139,
   "metadata": {},
   "outputs": [
    {
     "name": "stdout",
     "output_type": "stream",
     "text": [
      "+-----------+------------+----------+---------------+\n",
      "|loan_status|indexedLabel|prediction|full_prediction|\n",
      "+-----------+------------+----------+---------------+\n",
      "| Fully Paid|         0.0|       1.0|    Charged Off|\n",
      "| Fully Paid|         0.0|       1.0|    Charged Off|\n",
      "| Fully Paid|         0.0|       1.0|    Charged Off|\n",
      "| Fully Paid|         0.0|       1.0|    Charged Off|\n",
      "| Fully Paid|         0.0|       1.0|    Charged Off|\n",
      "| Fully Paid|         0.0|       1.0|    Charged Off|\n",
      "| Fully Paid|         0.0|       1.0|    Charged Off|\n",
      "| Fully Paid|         0.0|       1.0|    Charged Off|\n",
      "| Fully Paid|         0.0|       1.0|    Charged Off|\n",
      "| Fully Paid|         0.0|       1.0|    Charged Off|\n",
      "| Fully Paid|         0.0|       1.0|    Charged Off|\n",
      "| Fully Paid|         0.0|       1.0|    Charged Off|\n",
      "| Fully Paid|         0.0|       1.0|    Charged Off|\n",
      "| Fully Paid|         0.0|       1.0|    Charged Off|\n",
      "| Fully Paid|         0.0|       1.0|    Charged Off|\n",
      "| Fully Paid|         0.0|       1.0|    Charged Off|\n",
      "| Fully Paid|         0.0|       1.0|    Charged Off|\n",
      "| Fully Paid|         0.0|       1.0|    Charged Off|\n",
      "| Fully Paid|         0.0|       1.0|    Charged Off|\n",
      "| Fully Paid|         0.0|       1.0|    Charged Off|\n",
      "+-----------+------------+----------+---------------+\n",
      "only showing top 20 rows\n",
      "\n"
     ]
    }
   ],
   "source": [
    "result_dt.select('loan_status','indexedLabel','prediction','full_prediction').\\\n",
    "filter((col('indexedLabel') != col('prediction'))).filter(col('loan_status') == 'Fully Paid').show()"
   ]
  },
  {
   "cell_type": "code",
   "execution_count": 140,
   "metadata": {
    "collapsed": true
   },
   "outputs": [],
   "source": [
    "num_False_ChargedOff = result_dt.select('loan_status','indexedLabel','prediction','full_prediction').\\\n",
    "filter((col('indexedLabel') != col('prediction'))).filter(col('loan_status') == 'Fully Paid').count()"
   ]
  },
  {
   "cell_type": "code",
   "execution_count": 141,
   "metadata": {},
   "outputs": [
    {
     "data": {
      "text/plain": [
       "0.5315888376393034"
      ]
     },
     "execution_count": 141,
     "metadata": {},
     "output_type": "execute_result"
    }
   ],
   "source": [
    "(num_False_ChargedOff/num_Actual_FullyPaid)*100"
   ]
  },
  {
   "cell_type": "code",
   "execution_count": 142,
   "metadata": {},
   "outputs": [
    {
     "name": "stdout",
     "output_type": "stream",
     "text": [
      "+-----------+------------+----------+---------------+\n",
      "|loan_status|indexedLabel|prediction|full_prediction|\n",
      "+-----------+------------+----------+---------------+\n",
      "| Fully Paid|         0.0|       0.0|     Fully Paid|\n",
      "| Fully Paid|         0.0|       0.0|     Fully Paid|\n",
      "| Fully Paid|         0.0|       0.0|     Fully Paid|\n",
      "| Fully Paid|         0.0|       0.0|     Fully Paid|\n",
      "| Fully Paid|         0.0|       0.0|     Fully Paid|\n",
      "| Fully Paid|         0.0|       0.0|     Fully Paid|\n",
      "| Fully Paid|         0.0|       0.0|     Fully Paid|\n",
      "| Fully Paid|         0.0|       0.0|     Fully Paid|\n",
      "| Fully Paid|         0.0|       0.0|     Fully Paid|\n",
      "| Fully Paid|         0.0|       0.0|     Fully Paid|\n",
      "| Fully Paid|         0.0|       0.0|     Fully Paid|\n",
      "| Fully Paid|         0.0|       0.0|     Fully Paid|\n",
      "| Fully Paid|         0.0|       0.0|     Fully Paid|\n",
      "| Fully Paid|         0.0|       0.0|     Fully Paid|\n",
      "| Fully Paid|         0.0|       0.0|     Fully Paid|\n",
      "| Fully Paid|         0.0|       0.0|     Fully Paid|\n",
      "| Fully Paid|         0.0|       0.0|     Fully Paid|\n",
      "| Fully Paid|         0.0|       0.0|     Fully Paid|\n",
      "| Fully Paid|         0.0|       0.0|     Fully Paid|\n",
      "| Fully Paid|         0.0|       0.0|     Fully Paid|\n",
      "+-----------+------------+----------+---------------+\n",
      "only showing top 20 rows\n",
      "\n"
     ]
    }
   ],
   "source": [
    "result_dt.select('loan_status','indexedLabel','prediction','full_prediction').\\\n",
    "filter((col('indexedLabel') == col('prediction'))).filter(col('loan_status') == 'Fully Paid').show()"
   ]
  },
  {
   "cell_type": "code",
   "execution_count": 143,
   "metadata": {
    "collapsed": true
   },
   "outputs": [],
   "source": [
    "num_True_FullyPaid = result_dt.select('loan_status','indexedLabel','prediction','full_prediction').\\\n",
    "filter((col('indexedLabel') == col('prediction'))).filter(col('loan_status') == 'Fully Paid').count()"
   ]
  },
  {
   "cell_type": "code",
   "execution_count": 144,
   "metadata": {},
   "outputs": [
    {
     "data": {
      "text/plain": [
       "99.4684111623607"
      ]
     },
     "execution_count": 144,
     "metadata": {},
     "output_type": "execute_result"
    }
   ],
   "source": [
    "(num_True_FullyPaid/num_Actual_FullyPaid)*100"
   ]
  },
  {
   "cell_type": "markdown",
   "metadata": {},
   "source": [
    "# ------------- สิ้นสุดการประเมิน ---------------------------"
   ]
  },
  {
   "cell_type": "code",
   "execution_count": 145,
   "metadata": {},
   "outputs": [
    {
     "data": {
      "text/plain": [
       "251545"
      ]
     },
     "execution_count": 145,
     "metadata": {},
     "output_type": "execute_result"
    }
   ],
   "source": [
    "num_Actual_FullyPaid + num_Actual_ChargeOff"
   ]
  },
  {
   "cell_type": "code",
   "execution_count": 146,
   "metadata": {},
   "outputs": [
    {
     "data": {
      "text/plain": [
       "0.9578325945655847"
      ]
     },
     "execution_count": 146,
     "metadata": {},
     "output_type": "execute_result"
    }
   ],
   "source": [
    "(num_True_FullyPaid+num_True_ChargeOff)/(num_Actual_FullyPaid + num_Actual_ChargeOff)"
   ]
  },
  {
   "cell_type": "code",
   "execution_count": 147,
   "metadata": {
    "collapsed": true
   },
   "outputs": [],
   "source": [
    "from pyspark.ml.evaluation import MulticlassClassificationEvaluator"
   ]
  },
  {
   "cell_type": "code",
   "execution_count": 148,
   "metadata": {},
   "outputs": [
    {
     "data": {
      "text/plain": [
       "95.78325945655847"
      ]
     },
     "execution_count": 148,
     "metadata": {},
     "output_type": "execute_result"
    }
   ],
   "source": [
    "evaluator_DT = MulticlassClassificationEvaluator(predictionCol=\"prediction\",\\\n",
    "                                              labelCol='indexedLabel', metricName='accuracy')\n",
    "evaluator_DT.evaluate(result_dt)*100"
   ]
  },
  {
   "cell_type": "code",
   "execution_count": null,
   "metadata": {
    "collapsed": true
   },
   "outputs": [],
   "source": []
  },
  {
   "cell_type": "code",
   "execution_count": null,
   "metadata": {
    "collapsed": true
   },
   "outputs": [],
   "source": []
  },
  {
   "cell_type": "code",
   "execution_count": null,
   "metadata": {
    "collapsed": true
   },
   "outputs": [],
   "source": []
  },
  {
   "cell_type": "markdown",
   "metadata": {
    "collapsed": true
   },
   "source": [
    "# Modeling with RandomForest"
   ]
  },
  {
   "cell_type": "code",
   "execution_count": 149,
   "metadata": {
    "collapsed": true
   },
   "outputs": [],
   "source": [
    "RF = RandomForestClassifier(featuresCol='***features',labelCol='indexedLabel')"
   ]
  },
  {
   "cell_type": "code",
   "execution_count": 150,
   "metadata": {
    "collapsed": true
   },
   "outputs": [],
   "source": [
    "pipeline_RF = Pipeline().setStages([gradeIndexer,gradeOneHotEncoder,\\\n",
    "                                    homeIndexer,homeOneHotEncoder,\\\n",
    "                                    emp_lengthIndexer,emp_lengthOneHotEncoder,\\\n",
    "                                    purposeIndexer,purposeOneHotEncoder,\\\n",
    "                                    verification_statusIndexer,verification_statusOneHotEncoder,\\\n",
    "                                    labelIndexer,\\\n",
    "                                    featureAssembler,\\\n",
    "                                    RF])"
   ]
  },
  {
   "cell_type": "code",
   "execution_count": 151,
   "metadata": {
    "collapsed": true
   },
   "outputs": [],
   "source": [
    "#training_RF, test_RF = normalized_df.randomSplit([0.6,0.4])"
   ]
  },
  {
   "cell_type": "code",
   "execution_count": 152,
   "metadata": {
    "collapsed": true
   },
   "outputs": [],
   "source": [
    "training_RF = training_dt"
   ]
  },
  {
   "cell_type": "code",
   "execution_count": 153,
   "metadata": {
    "collapsed": true
   },
   "outputs": [],
   "source": [
    "test_RF = test_dt"
   ]
  },
  {
   "cell_type": "code",
   "execution_count": 154,
   "metadata": {},
   "outputs": [
    {
     "name": "stdout",
     "output_type": "stream",
     "text": [
      "+-----------+------+\n",
      "|loan_status| count|\n",
      "+-----------+------+\n",
      "|Charged Off| 78737|\n",
      "| Fully Paid|297427|\n",
      "+-----------+------+\n",
      "\n"
     ]
    }
   ],
   "source": [
    "training_RF.groupBy('loan_status').count().orderBy(['loan_status']).show()"
   ]
  },
  {
   "cell_type": "code",
   "execution_count": 155,
   "metadata": {},
   "outputs": [
    {
     "data": {
      "text/plain": [
       "376164"
      ]
     },
     "execution_count": 155,
     "metadata": {},
     "output_type": "execute_result"
    }
   ],
   "source": [
    "training_RF.count()"
   ]
  },
  {
   "cell_type": "code",
   "execution_count": 156,
   "metadata": {
    "collapsed": true
   },
   "outputs": [],
   "source": [
    "start_time_rf = t.time()"
   ]
  },
  {
   "cell_type": "code",
   "execution_count": 157,
   "metadata": {
    "collapsed": true
   },
   "outputs": [],
   "source": [
    "model_RF = pipeline_RF.fit(training_RF)"
   ]
  },
  {
   "cell_type": "code",
   "execution_count": 158,
   "metadata": {
    "collapsed": true
   },
   "outputs": [],
   "source": [
    "duration_rf = t.time() - start_time_rf"
   ]
  },
  {
   "cell_type": "code",
   "execution_count": 159,
   "metadata": {},
   "outputs": [
    {
     "name": "stdout",
     "output_type": "stream",
     "text": [
      "ใช้เวลา Distributed Training 71.83115410804749 วินาที\n"
     ]
    }
   ],
   "source": [
    "print('ใช้เวลา Distributed Training {0} วินาที'.format(duration_rf))"
   ]
  },
  {
   "cell_type": "code",
   "execution_count": 160,
   "metadata": {
    "collapsed": true
   },
   "outputs": [],
   "source": [
    "result_RF = model_RF.transform(test_RF.dropna()).withColumn('full_prediction',spark_fullLabel_func(col('prediction')))"
   ]
  },
  {
   "cell_type": "code",
   "execution_count": 161,
   "metadata": {},
   "outputs": [
    {
     "name": "stdout",
     "output_type": "stream",
     "text": [
      "+-----------+------+\n",
      "|loan_status| count|\n",
      "+-----------+------+\n",
      "| Fully Paid|199026|\n",
      "|Charged Off| 52519|\n",
      "+-----------+------+\n",
      "\n"
     ]
    }
   ],
   "source": [
    "result_RF.groupBy('loan_status').count().show()"
   ]
  },
  {
   "cell_type": "code",
   "execution_count": 162,
   "metadata": {},
   "outputs": [
    {
     "data": {
      "text/plain": [
       "251545"
      ]
     },
     "execution_count": 162,
     "metadata": {},
     "output_type": "execute_result"
    }
   ],
   "source": [
    "result_RF.count()"
   ]
  },
  {
   "cell_type": "code",
   "execution_count": 163,
   "metadata": {},
   "outputs": [
    {
     "data": {
      "text/plain": [
       "DataFrame[annual_inc: double, bc_util: double, inq_fi: double, inq_last_12m: double, home_ownership: string, purpose: string, emp_length: string, revol_bal: double, dti: double, delinq_2yrs: double, pub_rec_bankruptcies: double, pub_rec: double, open_rv_24m: double, mort_acc: double, num_actv_bc_tl: double, num_actv_rev_tl: double, num_il_tl: double, num_tl_90g_dpd_24m: double, int_rate: double, inq_last_6mths: double, term: string, installment: double, total_rev_hi_lim: double, total_bal_il: double, total_bal_ex_mort: double, total_acc: double, tot_cur_bal: double, loan_amnt: double, loan_status: string, verification_status: string, collections_12_mths_ex_med: double, chargeoff_within_12_mths: double, il_util: double, last_pymnt_amnt: double, out_prncp_inv: double, out_prncp: double, total_pymnt_inv: double, total_pymnt: double, grade: string, gradeIndexed: double, gradeVec: vector, homeIndexed: double, homeVec: vector, emp_lengthIndexed: double, emp_lengthVec: vector, purposeIndexed: double, purposeVec: vector, verification_statusIndexed: double, verification_statusVec: vector, indexedLabel: double, ***features: vector, rawPrediction: vector, probability: vector, prediction: double, full_prediction: string]"
      ]
     },
     "execution_count": 163,
     "metadata": {},
     "output_type": "execute_result"
    }
   ],
   "source": [
    "result_RF"
   ]
  },
  {
   "cell_type": "markdown",
   "metadata": {},
   "source": [
    "# การประเมิน Charge-Off [Aekanun]"
   ]
  },
  {
   "cell_type": "code",
   "execution_count": 164,
   "metadata": {},
   "outputs": [
    {
     "name": "stdout",
     "output_type": "stream",
     "text": [
      "+-----------+------------+----------+---------------+\n",
      "|loan_status|indexedLabel|prediction|full_prediction|\n",
      "+-----------+------------+----------+---------------+\n",
      "|Charged Off|         1.0|       0.0|     Fully Paid|\n",
      "|Charged Off|         1.0|       1.0|    Charged Off|\n",
      "|Charged Off|         1.0|       0.0|     Fully Paid|\n",
      "|Charged Off|         1.0|       1.0|    Charged Off|\n",
      "|Charged Off|         1.0|       0.0|     Fully Paid|\n",
      "|Charged Off|         1.0|       0.0|     Fully Paid|\n",
      "|Charged Off|         1.0|       0.0|     Fully Paid|\n",
      "|Charged Off|         1.0|       0.0|     Fully Paid|\n",
      "|Charged Off|         1.0|       1.0|    Charged Off|\n",
      "|Charged Off|         1.0|       0.0|     Fully Paid|\n",
      "|Charged Off|         1.0|       0.0|     Fully Paid|\n",
      "|Charged Off|         1.0|       1.0|    Charged Off|\n",
      "|Charged Off|         1.0|       0.0|     Fully Paid|\n",
      "|Charged Off|         1.0|       1.0|    Charged Off|\n",
      "|Charged Off|         1.0|       0.0|     Fully Paid|\n",
      "|Charged Off|         1.0|       0.0|     Fully Paid|\n",
      "|Charged Off|         1.0|       1.0|    Charged Off|\n",
      "|Charged Off|         1.0|       1.0|    Charged Off|\n",
      "|Charged Off|         1.0|       1.0|    Charged Off|\n",
      "|Charged Off|         1.0|       1.0|    Charged Off|\n",
      "+-----------+------------+----------+---------------+\n",
      "only showing top 20 rows\n",
      "\n"
     ]
    }
   ],
   "source": [
    "result_RF.select('loan_status','indexedLabel','prediction','full_prediction').\\\n",
    "filter(col('loan_status') == 'Charged Off').show()"
   ]
  },
  {
   "cell_type": "code",
   "execution_count": 165,
   "metadata": {
    "collapsed": true
   },
   "outputs": [],
   "source": [
    "num_Actual_ChargeOff = result_RF.select('loan_status','indexedLabel','prediction','full_prediction').\\\n",
    "filter(col('loan_status') == 'Charged Off').count()"
   ]
  },
  {
   "cell_type": "code",
   "execution_count": 166,
   "metadata": {},
   "outputs": [
    {
     "data": {
      "text/plain": [
       "52519"
      ]
     },
     "execution_count": 166,
     "metadata": {},
     "output_type": "execute_result"
    }
   ],
   "source": [
    "num_Actual_ChargeOff"
   ]
  },
  {
   "cell_type": "code",
   "execution_count": 167,
   "metadata": {
    "collapsed": true
   },
   "outputs": [],
   "source": [
    "#ตรวจสอบความถูกต้องจากการ Predict ตรงกับข้อมูลที่เป็น IndexLabel หรือไม่ (เนื่องจากมีการทำ indexer ค่าที่ได้จึงเป็น Numerical)"
   ]
  },
  {
   "cell_type": "markdown",
   "metadata": {},
   "source": [
    "### Positive = Charged Off"
   ]
  },
  {
   "cell_type": "code",
   "execution_count": 168,
   "metadata": {},
   "outputs": [
    {
     "name": "stdout",
     "output_type": "stream",
     "text": [
      "+-----------+------------+----------+---------------+\n",
      "|loan_status|indexedLabel|prediction|full_prediction|\n",
      "+-----------+------------+----------+---------------+\n",
      "|Charged Off|         1.0|       0.0|     Fully Paid|\n",
      "|Charged Off|         1.0|       0.0|     Fully Paid|\n",
      "|Charged Off|         1.0|       0.0|     Fully Paid|\n",
      "|Charged Off|         1.0|       0.0|     Fully Paid|\n",
      "|Charged Off|         1.0|       0.0|     Fully Paid|\n",
      "|Charged Off|         1.0|       0.0|     Fully Paid|\n",
      "|Charged Off|         1.0|       0.0|     Fully Paid|\n",
      "|Charged Off|         1.0|       0.0|     Fully Paid|\n",
      "|Charged Off|         1.0|       0.0|     Fully Paid|\n",
      "|Charged Off|         1.0|       0.0|     Fully Paid|\n",
      "|Charged Off|         1.0|       0.0|     Fully Paid|\n",
      "|Charged Off|         1.0|       0.0|     Fully Paid|\n",
      "|Charged Off|         1.0|       0.0|     Fully Paid|\n",
      "|Charged Off|         1.0|       0.0|     Fully Paid|\n",
      "|Charged Off|         1.0|       0.0|     Fully Paid|\n",
      "|Charged Off|         1.0|       0.0|     Fully Paid|\n",
      "|Charged Off|         1.0|       0.0|     Fully Paid|\n",
      "|Charged Off|         1.0|       0.0|     Fully Paid|\n",
      "|Charged Off|         1.0|       0.0|     Fully Paid|\n",
      "|Charged Off|         1.0|       0.0|     Fully Paid|\n",
      "+-----------+------------+----------+---------------+\n",
      "only showing top 20 rows\n",
      "\n"
     ]
    }
   ],
   "source": [
    "result_RF.select('loan_status','indexedLabel','prediction','full_prediction').\\\n",
    "filter((col('indexedLabel') != col('prediction'))).filter(col('loan_status') == 'Charged Off').show()"
   ]
  },
  {
   "cell_type": "code",
   "execution_count": 169,
   "metadata": {
    "collapsed": true
   },
   "outputs": [],
   "source": [
    "num_False_FullyPaid = result_RF.select('loan_status','indexedLabel','prediction','full_prediction').\\\n",
    "filter((col('indexedLabel') != col('prediction'))).filter(col('loan_status') == 'Charged Off').count()"
   ]
  },
  {
   "cell_type": "code",
   "execution_count": 170,
   "metadata": {},
   "outputs": [
    {
     "data": {
      "text/plain": [
       "27203"
      ]
     },
     "execution_count": 170,
     "metadata": {},
     "output_type": "execute_result"
    }
   ],
   "source": [
    "num_False_FullyPaid"
   ]
  },
  {
   "cell_type": "code",
   "execution_count": 171,
   "metadata": {},
   "outputs": [
    {
     "data": {
      "text/plain": [
       "51.79649269788077"
      ]
     },
     "execution_count": 171,
     "metadata": {},
     "output_type": "execute_result"
    }
   ],
   "source": [
    "(num_False_FullyPaid/num_Actual_ChargeOff)*100"
   ]
  },
  {
   "cell_type": "code",
   "execution_count": 172,
   "metadata": {},
   "outputs": [
    {
     "name": "stdout",
     "output_type": "stream",
     "text": [
      "+-----------+------------+----------+---------------+\n",
      "|loan_status|indexedLabel|prediction|full_prediction|\n",
      "+-----------+------------+----------+---------------+\n",
      "|Charged Off|         1.0|       1.0|    Charged Off|\n",
      "|Charged Off|         1.0|       1.0|    Charged Off|\n",
      "|Charged Off|         1.0|       1.0|    Charged Off|\n",
      "|Charged Off|         1.0|       1.0|    Charged Off|\n",
      "|Charged Off|         1.0|       1.0|    Charged Off|\n",
      "|Charged Off|         1.0|       1.0|    Charged Off|\n",
      "|Charged Off|         1.0|       1.0|    Charged Off|\n",
      "|Charged Off|         1.0|       1.0|    Charged Off|\n",
      "|Charged Off|         1.0|       1.0|    Charged Off|\n",
      "|Charged Off|         1.0|       1.0|    Charged Off|\n",
      "|Charged Off|         1.0|       1.0|    Charged Off|\n",
      "|Charged Off|         1.0|       1.0|    Charged Off|\n",
      "|Charged Off|         1.0|       1.0|    Charged Off|\n",
      "|Charged Off|         1.0|       1.0|    Charged Off|\n",
      "|Charged Off|         1.0|       1.0|    Charged Off|\n",
      "|Charged Off|         1.0|       1.0|    Charged Off|\n",
      "|Charged Off|         1.0|       1.0|    Charged Off|\n",
      "|Charged Off|         1.0|       1.0|    Charged Off|\n",
      "|Charged Off|         1.0|       1.0|    Charged Off|\n",
      "|Charged Off|         1.0|       1.0|    Charged Off|\n",
      "+-----------+------------+----------+---------------+\n",
      "only showing top 20 rows\n",
      "\n"
     ]
    }
   ],
   "source": [
    "result_RF.select('loan_status','indexedLabel','prediction','full_prediction').\\\n",
    "filter((col('indexedLabel') == col('prediction'))).filter(col('loan_status') == 'Charged Off').show()"
   ]
  },
  {
   "cell_type": "code",
   "execution_count": 173,
   "metadata": {
    "collapsed": true
   },
   "outputs": [],
   "source": [
    "num_True_ChargeOff = result_RF.select('loan_status','indexedLabel','prediction','full_prediction').\\\n",
    "filter((col('indexedLabel') == col('prediction'))).filter(col('loan_status') == 'Charged Off').count()"
   ]
  },
  {
   "cell_type": "code",
   "execution_count": 174,
   "metadata": {},
   "outputs": [
    {
     "data": {
      "text/plain": [
       "48.20350730211923"
      ]
     },
     "execution_count": 174,
     "metadata": {},
     "output_type": "execute_result"
    }
   ],
   "source": [
    "(num_True_ChargeOff/num_Actual_ChargeOff)*100"
   ]
  },
  {
   "cell_type": "markdown",
   "metadata": {},
   "source": [
    "# ------------- สิ้นสุดการประเมิน ---------------------------"
   ]
  },
  {
   "cell_type": "markdown",
   "metadata": {},
   "source": [
    "# การประเมิน Fully Paid [Aekanun]"
   ]
  },
  {
   "cell_type": "code",
   "execution_count": 175,
   "metadata": {},
   "outputs": [
    {
     "name": "stdout",
     "output_type": "stream",
     "text": [
      "+-----------+------------+----------+---------------+\n",
      "|loan_status|indexedLabel|prediction|full_prediction|\n",
      "+-----------+------------+----------+---------------+\n",
      "| Fully Paid|         0.0|       0.0|     Fully Paid|\n",
      "| Fully Paid|         0.0|       0.0|     Fully Paid|\n",
      "| Fully Paid|         0.0|       0.0|     Fully Paid|\n",
      "| Fully Paid|         0.0|       0.0|     Fully Paid|\n",
      "| Fully Paid|         0.0|       0.0|     Fully Paid|\n",
      "| Fully Paid|         0.0|       0.0|     Fully Paid|\n",
      "| Fully Paid|         0.0|       0.0|     Fully Paid|\n",
      "| Fully Paid|         0.0|       0.0|     Fully Paid|\n",
      "| Fully Paid|         0.0|       0.0|     Fully Paid|\n",
      "| Fully Paid|         0.0|       0.0|     Fully Paid|\n",
      "| Fully Paid|         0.0|       0.0|     Fully Paid|\n",
      "| Fully Paid|         0.0|       0.0|     Fully Paid|\n",
      "| Fully Paid|         0.0|       0.0|     Fully Paid|\n",
      "| Fully Paid|         0.0|       0.0|     Fully Paid|\n",
      "| Fully Paid|         0.0|       0.0|     Fully Paid|\n",
      "| Fully Paid|         0.0|       0.0|     Fully Paid|\n",
      "| Fully Paid|         0.0|       0.0|     Fully Paid|\n",
      "| Fully Paid|         0.0|       0.0|     Fully Paid|\n",
      "| Fully Paid|         0.0|       0.0|     Fully Paid|\n",
      "| Fully Paid|         0.0|       0.0|     Fully Paid|\n",
      "+-----------+------------+----------+---------------+\n",
      "only showing top 20 rows\n",
      "\n"
     ]
    }
   ],
   "source": [
    "result_RF.select('loan_status','indexedLabel','prediction','full_prediction').\\\n",
    "filter(col('loan_status') == 'Fully Paid').show()"
   ]
  },
  {
   "cell_type": "code",
   "execution_count": 176,
   "metadata": {
    "collapsed": true
   },
   "outputs": [],
   "source": [
    "num_Actual_FullyPaid = result_RF.select('loan_status','indexedLabel','prediction','full_prediction').\\\n",
    "filter(col('loan_status') == 'Fully Paid').count()"
   ]
  },
  {
   "cell_type": "code",
   "execution_count": 177,
   "metadata": {},
   "outputs": [
    {
     "data": {
      "text/plain": [
       "199026"
      ]
     },
     "execution_count": 177,
     "metadata": {},
     "output_type": "execute_result"
    }
   ],
   "source": [
    "num_Actual_FullyPaid"
   ]
  },
  {
   "cell_type": "code",
   "execution_count": 178,
   "metadata": {
    "collapsed": true
   },
   "outputs": [],
   "source": [
    "#ตรวจสอบความถูกต้องจากการ Predict ตรงกับข้อมูลที่เป็น IndexLabel หรือไม่ (เนื่องจากมีการทำ indexer ค่าที่ได้จึงเป็น Numerical)"
   ]
  },
  {
   "cell_type": "markdown",
   "metadata": {},
   "source": [
    "### Negative = Fully Paid"
   ]
  },
  {
   "cell_type": "code",
   "execution_count": 179,
   "metadata": {},
   "outputs": [
    {
     "name": "stdout",
     "output_type": "stream",
     "text": [
      "+-----------+------------+----------+---------------+\n",
      "|loan_status|indexedLabel|prediction|full_prediction|\n",
      "+-----------+------------+----------+---------------+\n",
      "| Fully Paid|         0.0|       1.0|    Charged Off|\n",
      "| Fully Paid|         0.0|       1.0|    Charged Off|\n",
      "| Fully Paid|         0.0|       1.0|    Charged Off|\n",
      "| Fully Paid|         0.0|       1.0|    Charged Off|\n",
      "| Fully Paid|         0.0|       1.0|    Charged Off|\n",
      "| Fully Paid|         0.0|       1.0|    Charged Off|\n",
      "| Fully Paid|         0.0|       1.0|    Charged Off|\n",
      "| Fully Paid|         0.0|       1.0|    Charged Off|\n",
      "| Fully Paid|         0.0|       1.0|    Charged Off|\n",
      "| Fully Paid|         0.0|       1.0|    Charged Off|\n",
      "| Fully Paid|         0.0|       1.0|    Charged Off|\n",
      "| Fully Paid|         0.0|       1.0|    Charged Off|\n",
      "| Fully Paid|         0.0|       1.0|    Charged Off|\n",
      "| Fully Paid|         0.0|       1.0|    Charged Off|\n",
      "| Fully Paid|         0.0|       1.0|    Charged Off|\n",
      "| Fully Paid|         0.0|       1.0|    Charged Off|\n",
      "| Fully Paid|         0.0|       1.0|    Charged Off|\n",
      "| Fully Paid|         0.0|       1.0|    Charged Off|\n",
      "| Fully Paid|         0.0|       1.0|    Charged Off|\n",
      "| Fully Paid|         0.0|       1.0|    Charged Off|\n",
      "+-----------+------------+----------+---------------+\n",
      "only showing top 20 rows\n",
      "\n"
     ]
    }
   ],
   "source": [
    "result_RF.select('loan_status','indexedLabel','prediction','full_prediction').\\\n",
    "filter((col('indexedLabel') != col('prediction'))).filter(col('loan_status') == 'Fully Paid').show()"
   ]
  },
  {
   "cell_type": "code",
   "execution_count": 180,
   "metadata": {
    "collapsed": true
   },
   "outputs": [],
   "source": [
    "num_False_ChargedOff = result_RF.select('loan_status','indexedLabel','prediction','full_prediction').\\\n",
    "filter((col('indexedLabel') != col('prediction'))).filter(col('loan_status') == 'Fully Paid').count()"
   ]
  },
  {
   "cell_type": "code",
   "execution_count": 181,
   "metadata": {},
   "outputs": [
    {
     "data": {
      "text/plain": [
       "0.05778139539557646"
      ]
     },
     "execution_count": 181,
     "metadata": {},
     "output_type": "execute_result"
    }
   ],
   "source": [
    "(num_False_ChargedOff/num_Actual_FullyPaid)*100"
   ]
  },
  {
   "cell_type": "code",
   "execution_count": 182,
   "metadata": {},
   "outputs": [
    {
     "name": "stdout",
     "output_type": "stream",
     "text": [
      "+-----------+------------+----------+---------------+\n",
      "|loan_status|indexedLabel|prediction|full_prediction|\n",
      "+-----------+------------+----------+---------------+\n",
      "| Fully Paid|         0.0|       0.0|     Fully Paid|\n",
      "| Fully Paid|         0.0|       0.0|     Fully Paid|\n",
      "| Fully Paid|         0.0|       0.0|     Fully Paid|\n",
      "| Fully Paid|         0.0|       0.0|     Fully Paid|\n",
      "| Fully Paid|         0.0|       0.0|     Fully Paid|\n",
      "| Fully Paid|         0.0|       0.0|     Fully Paid|\n",
      "| Fully Paid|         0.0|       0.0|     Fully Paid|\n",
      "| Fully Paid|         0.0|       0.0|     Fully Paid|\n",
      "| Fully Paid|         0.0|       0.0|     Fully Paid|\n",
      "| Fully Paid|         0.0|       0.0|     Fully Paid|\n",
      "| Fully Paid|         0.0|       0.0|     Fully Paid|\n",
      "| Fully Paid|         0.0|       0.0|     Fully Paid|\n",
      "| Fully Paid|         0.0|       0.0|     Fully Paid|\n",
      "| Fully Paid|         0.0|       0.0|     Fully Paid|\n",
      "| Fully Paid|         0.0|       0.0|     Fully Paid|\n",
      "| Fully Paid|         0.0|       0.0|     Fully Paid|\n",
      "| Fully Paid|         0.0|       0.0|     Fully Paid|\n",
      "| Fully Paid|         0.0|       0.0|     Fully Paid|\n",
      "| Fully Paid|         0.0|       0.0|     Fully Paid|\n",
      "| Fully Paid|         0.0|       0.0|     Fully Paid|\n",
      "+-----------+------------+----------+---------------+\n",
      "only showing top 20 rows\n",
      "\n"
     ]
    }
   ],
   "source": [
    "result_RF.select('loan_status','indexedLabel','prediction','full_prediction').\\\n",
    "filter((col('indexedLabel') == col('prediction'))).filter(col('loan_status') == 'Fully Paid').show()"
   ]
  },
  {
   "cell_type": "code",
   "execution_count": 183,
   "metadata": {
    "collapsed": true
   },
   "outputs": [],
   "source": [
    "num_True_FullyPaid = result_RF.select('loan_status','indexedLabel','prediction','full_prediction').\\\n",
    "filter((col('indexedLabel') == col('prediction'))).filter(col('loan_status') == 'Fully Paid').count()"
   ]
  },
  {
   "cell_type": "code",
   "execution_count": 184,
   "metadata": {},
   "outputs": [
    {
     "data": {
      "text/plain": [
       "99.94221860460442"
      ]
     },
     "execution_count": 184,
     "metadata": {},
     "output_type": "execute_result"
    }
   ],
   "source": [
    "(num_True_FullyPaid/num_Actual_FullyPaid)*100"
   ]
  },
  {
   "cell_type": "markdown",
   "metadata": {},
   "source": [
    "# ------------- สิ้นสุดการประเมิน ---------------------------"
   ]
  },
  {
   "cell_type": "code",
   "execution_count": 185,
   "metadata": {},
   "outputs": [
    {
     "data": {
      "text/plain": [
       "251545"
      ]
     },
     "execution_count": 185,
     "metadata": {},
     "output_type": "execute_result"
    }
   ],
   "source": [
    "num_Actual_FullyPaid + num_Actual_ChargeOff"
   ]
  },
  {
   "cell_type": "code",
   "execution_count": 186,
   "metadata": {},
   "outputs": [
    {
     "data": {
      "text/plain": [
       "0.89139915323302"
      ]
     },
     "execution_count": 186,
     "metadata": {},
     "output_type": "execute_result"
    }
   ],
   "source": [
    "(num_True_FullyPaid+num_True_ChargeOff)/(num_Actual_FullyPaid + num_Actual_ChargeOff)"
   ]
  },
  {
   "cell_type": "code",
   "execution_count": null,
   "metadata": {
    "collapsed": true
   },
   "outputs": [],
   "source": []
  },
  {
   "cell_type": "code",
   "execution_count": 187,
   "metadata": {
    "collapsed": true
   },
   "outputs": [],
   "source": [
    "from pyspark.ml.evaluation import MulticlassClassificationEvaluator"
   ]
  },
  {
   "cell_type": "code",
   "execution_count": 188,
   "metadata": {},
   "outputs": [
    {
     "data": {
      "text/plain": [
       "89.139915323302"
      ]
     },
     "execution_count": 188,
     "metadata": {},
     "output_type": "execute_result"
    }
   ],
   "source": [
    "evaluator_RF = MulticlassClassificationEvaluator(predictionCol=\"prediction\",\\\n",
    "                                              labelCol='indexedLabel', metricName='accuracy')\n",
    "evaluator_RF.evaluate(result_RF)*100"
   ]
  },
  {
   "cell_type": "code",
   "execution_count": null,
   "metadata": {
    "collapsed": true
   },
   "outputs": [],
   "source": []
  },
  {
   "cell_type": "markdown",
   "metadata": {
    "collapsed": true
   },
   "source": [
    "# Modeling with Multi layer Perceptron (ANN)"
   ]
  },
  {
   "cell_type": "code",
   "execution_count": 189,
   "metadata": {
    "collapsed": true
   },
   "outputs": [],
   "source": [
    "from pyspark.ml.classification import MultilayerPerceptronClassifier"
   ]
  },
  {
   "cell_type": "code",
   "execution_count": 190,
   "metadata": {
    "collapsed": true
   },
   "outputs": [],
   "source": [
    "pipeline_mlp = Pipeline(stages=[gradeIndexer,gradeOneHotEncoder,\\\n",
    "                                    homeIndexer,homeOneHotEncoder,\\\n",
    "                                    emp_lengthIndexer,emp_lengthOneHotEncoder,\\\n",
    "                                    purposeIndexer,purposeOneHotEncoder,\\\n",
    "                                    verification_statusIndexer,verification_statusOneHotEncoder,\\\n",
    "                                    labelIndexer,\\\n",
    "                                    featureAssembler])"
   ]
  },
  {
   "cell_type": "code",
   "execution_count": 191,
   "metadata": {
    "collapsed": true
   },
   "outputs": [],
   "source": [
    "#training_mlp, test_mlp = normalized_df.randomSplit([0.6,0.4])"
   ]
  },
  {
   "cell_type": "code",
   "execution_count": 192,
   "metadata": {
    "collapsed": true
   },
   "outputs": [],
   "source": [
    "training_mlp = training_dt"
   ]
  },
  {
   "cell_type": "code",
   "execution_count": 193,
   "metadata": {
    "collapsed": true
   },
   "outputs": [],
   "source": [
    "test_mlp = test_dt"
   ]
  },
  {
   "cell_type": "code",
   "execution_count": null,
   "metadata": {
    "collapsed": true
   },
   "outputs": [],
   "source": []
  },
  {
   "cell_type": "code",
   "execution_count": null,
   "metadata": {
    "collapsed": true
   },
   "outputs": [],
   "source": []
  },
  {
   "cell_type": "code",
   "execution_count": 194,
   "metadata": {
    "collapsed": true
   },
   "outputs": [],
   "source": [
    "train_df_features = pipeline_mlp.fit(training_mlp).transform(training_mlp)"
   ]
  },
  {
   "cell_type": "code",
   "execution_count": null,
   "metadata": {
    "collapsed": true
   },
   "outputs": [],
   "source": []
  },
  {
   "cell_type": "code",
   "execution_count": 195,
   "metadata": {
    "collapsed": true
   },
   "outputs": [],
   "source": [
    "layers = [train_df_features.schema[\"***features\"].metadata[\"ml_attr\"][\"num_attrs\"],20 ,10, 2]"
   ]
  },
  {
   "cell_type": "code",
   "execution_count": 196,
   "metadata": {},
   "outputs": [
    {
     "data": {
      "text/plain": [
       "[62, 20, 10, 2]"
      ]
     },
     "execution_count": 196,
     "metadata": {},
     "output_type": "execute_result"
    }
   ],
   "source": [
    "layers"
   ]
  },
  {
   "cell_type": "markdown",
   "metadata": {},
   "source": [
    "### Implementation of MLP"
   ]
  },
  {
   "cell_type": "code",
   "execution_count": 197,
   "metadata": {
    "collapsed": true
   },
   "outputs": [],
   "source": [
    "clf = MultilayerPerceptronClassifier(labelCol='indexedLabel'\\\n",
    "                                    ,featuresCol='***features'\\\n",
    "                                    ,layers = layers)"
   ]
  },
  {
   "cell_type": "code",
   "execution_count": 198,
   "metadata": {
    "collapsed": true
   },
   "outputs": [],
   "source": [
    "from pyspark.ml.classification import MultilayerPerceptronClassifier"
   ]
  },
  {
   "cell_type": "code",
   "execution_count": 199,
   "metadata": {
    "collapsed": true
   },
   "outputs": [],
   "source": [
    "pipeline_mlp_test = Pipeline(stages=[gradeIndexer,gradeOneHotEncoder,\\\n",
    "                                    homeIndexer,homeOneHotEncoder,\\\n",
    "                                    emp_lengthIndexer,emp_lengthOneHotEncoder,\\\n",
    "                                    purposeIndexer,purposeOneHotEncoder,\\\n",
    "                                    verification_statusIndexer,verification_statusOneHotEncoder,\\\n",
    "                                    labelIndexer,\\\n",
    "                                    featureAssembler,\n",
    "                                    clf])"
   ]
  },
  {
   "cell_type": "code",
   "execution_count": 200,
   "metadata": {
    "collapsed": true
   },
   "outputs": [],
   "source": [
    "#training_mlp_test, test_mlp_test = normalized_df.randomSplit([0.6,0.4])"
   ]
  },
  {
   "cell_type": "code",
   "execution_count": 201,
   "metadata": {},
   "outputs": [
    {
     "name": "stdout",
     "output_type": "stream",
     "text": [
      "+-----------+------+\n",
      "|loan_status| count|\n",
      "+-----------+------+\n",
      "|Charged Off| 78737|\n",
      "| Fully Paid|297427|\n",
      "+-----------+------+\n",
      "\n"
     ]
    }
   ],
   "source": [
    "training_mlp.groupBy('loan_status').count().orderBy(['loan_status']).show()"
   ]
  },
  {
   "cell_type": "code",
   "execution_count": 202,
   "metadata": {},
   "outputs": [
    {
     "data": {
      "text/plain": [
       "376164"
      ]
     },
     "execution_count": 202,
     "metadata": {},
     "output_type": "execute_result"
    }
   ],
   "source": [
    "training_mlp.count()"
   ]
  },
  {
   "cell_type": "code",
   "execution_count": 203,
   "metadata": {
    "collapsed": true
   },
   "outputs": [],
   "source": [
    "start_time_mlp = t.time()"
   ]
  },
  {
   "cell_type": "code",
   "execution_count": 204,
   "metadata": {
    "collapsed": true
   },
   "outputs": [],
   "source": [
    "model_mlp = pipeline_mlp_test.fit(training_mlp)"
   ]
  },
  {
   "cell_type": "code",
   "execution_count": 205,
   "metadata": {
    "collapsed": true
   },
   "outputs": [],
   "source": [
    "duration_mlp = t.time() - start_time_mlp"
   ]
  },
  {
   "cell_type": "code",
   "execution_count": 206,
   "metadata": {},
   "outputs": [
    {
     "name": "stdout",
     "output_type": "stream",
     "text": [
      "ใช้เวลา Distributed Training 255.3360812664032 วินาที\n"
     ]
    }
   ],
   "source": [
    "print('ใช้เวลา Distributed Training {0} วินาที'.format(duration_mlp))"
   ]
  },
  {
   "cell_type": "code",
   "execution_count": 207,
   "metadata": {
    "collapsed": true
   },
   "outputs": [],
   "source": [
    "result_mlp = model_mlp.transform(test_mlp.dropna())\\\n",
    ".withColumn('full_prediction',spark_fullLabel_func(col('prediction')))"
   ]
  },
  {
   "cell_type": "code",
   "execution_count": 208,
   "metadata": {},
   "outputs": [
    {
     "name": "stdout",
     "output_type": "stream",
     "text": [
      "+-----------+------+\n",
      "|loan_status| count|\n",
      "+-----------+------+\n",
      "| Fully Paid|199026|\n",
      "|Charged Off| 52519|\n",
      "+-----------+------+\n",
      "\n"
     ]
    }
   ],
   "source": [
    "result_mlp.groupBy('loan_status').count().show()"
   ]
  },
  {
   "cell_type": "code",
   "execution_count": 209,
   "metadata": {},
   "outputs": [
    {
     "data": {
      "text/plain": [
       "251545"
      ]
     },
     "execution_count": 209,
     "metadata": {},
     "output_type": "execute_result"
    }
   ],
   "source": [
    "result_mlp.count()"
   ]
  },
  {
   "cell_type": "code",
   "execution_count": null,
   "metadata": {
    "collapsed": true
   },
   "outputs": [],
   "source": []
  },
  {
   "cell_type": "code",
   "execution_count": 210,
   "metadata": {},
   "outputs": [
    {
     "data": {
      "text/plain": [
       "DataFrame[annual_inc: double, bc_util: double, inq_fi: double, inq_last_12m: double, home_ownership: string, purpose: string, emp_length: string, revol_bal: double, dti: double, delinq_2yrs: double, pub_rec_bankruptcies: double, pub_rec: double, open_rv_24m: double, mort_acc: double, num_actv_bc_tl: double, num_actv_rev_tl: double, num_il_tl: double, num_tl_90g_dpd_24m: double, int_rate: double, inq_last_6mths: double, term: string, installment: double, total_rev_hi_lim: double, total_bal_il: double, total_bal_ex_mort: double, total_acc: double, tot_cur_bal: double, loan_amnt: double, loan_status: string, verification_status: string, collections_12_mths_ex_med: double, chargeoff_within_12_mths: double, il_util: double, last_pymnt_amnt: double, out_prncp_inv: double, out_prncp: double, total_pymnt_inv: double, total_pymnt: double, grade: string, gradeIndexed: double, gradeVec: vector, homeIndexed: double, homeVec: vector, emp_lengthIndexed: double, emp_lengthVec: vector, purposeIndexed: double, purposeVec: vector, verification_statusIndexed: double, verification_statusVec: vector, indexedLabel: double, ***features: vector, prediction: double, full_prediction: string]"
      ]
     },
     "execution_count": 210,
     "metadata": {},
     "output_type": "execute_result"
    }
   ],
   "source": [
    "result_mlp"
   ]
  },
  {
   "cell_type": "markdown",
   "metadata": {},
   "source": [
    "# การประเมิน Charge-Off [Aekanun]"
   ]
  },
  {
   "cell_type": "code",
   "execution_count": 211,
   "metadata": {},
   "outputs": [
    {
     "name": "stdout",
     "output_type": "stream",
     "text": [
      "+-----------+------------+----------+---------------+\n",
      "|loan_status|indexedLabel|prediction|full_prediction|\n",
      "+-----------+------------+----------+---------------+\n",
      "|Charged Off|         1.0|       1.0|    Charged Off|\n",
      "|Charged Off|         1.0|       1.0|    Charged Off|\n",
      "|Charged Off|         1.0|       1.0|    Charged Off|\n",
      "|Charged Off|         1.0|       1.0|    Charged Off|\n",
      "|Charged Off|         1.0|       1.0|    Charged Off|\n",
      "|Charged Off|         1.0|       0.0|     Fully Paid|\n",
      "|Charged Off|         1.0|       1.0|    Charged Off|\n",
      "|Charged Off|         1.0|       1.0|    Charged Off|\n",
      "|Charged Off|         1.0|       1.0|    Charged Off|\n",
      "|Charged Off|         1.0|       0.0|     Fully Paid|\n",
      "|Charged Off|         1.0|       1.0|    Charged Off|\n",
      "|Charged Off|         1.0|       1.0|    Charged Off|\n",
      "|Charged Off|         1.0|       1.0|    Charged Off|\n",
      "|Charged Off|         1.0|       1.0|    Charged Off|\n",
      "|Charged Off|         1.0|       0.0|     Fully Paid|\n",
      "|Charged Off|         1.0|       0.0|     Fully Paid|\n",
      "|Charged Off|         1.0|       1.0|    Charged Off|\n",
      "|Charged Off|         1.0|       1.0|    Charged Off|\n",
      "|Charged Off|         1.0|       1.0|    Charged Off|\n",
      "|Charged Off|         1.0|       1.0|    Charged Off|\n",
      "+-----------+------------+----------+---------------+\n",
      "only showing top 20 rows\n",
      "\n"
     ]
    }
   ],
   "source": [
    "result_mlp.select('loan_status','indexedLabel','prediction','full_prediction').\\\n",
    "filter(col('loan_status') == 'Charged Off').show()"
   ]
  },
  {
   "cell_type": "code",
   "execution_count": 212,
   "metadata": {
    "collapsed": true
   },
   "outputs": [],
   "source": [
    "num_Actual_ChargeOff = result_mlp.select('loan_status','indexedLabel','prediction','full_prediction').\\\n",
    "filter(col('loan_status') == 'Charged Off').count()"
   ]
  },
  {
   "cell_type": "code",
   "execution_count": 213,
   "metadata": {},
   "outputs": [
    {
     "data": {
      "text/plain": [
       "52519"
      ]
     },
     "execution_count": 213,
     "metadata": {},
     "output_type": "execute_result"
    }
   ],
   "source": [
    "num_Actual_ChargeOff"
   ]
  },
  {
   "cell_type": "code",
   "execution_count": 214,
   "metadata": {
    "collapsed": true
   },
   "outputs": [],
   "source": [
    "#ตรวจสอบความถูกต้องจากการ Predict ตรงกับข้อมูลที่เป็น IndexLabel หรือไม่ (เนื่องจากมีการทำ indexer ค่าที่ได้จึงเป็น Numerical)"
   ]
  },
  {
   "cell_type": "markdown",
   "metadata": {},
   "source": [
    "### Positive = Charged Off"
   ]
  },
  {
   "cell_type": "code",
   "execution_count": 215,
   "metadata": {},
   "outputs": [
    {
     "name": "stdout",
     "output_type": "stream",
     "text": [
      "+-----------+------------+----------+---------------+\n",
      "|loan_status|indexedLabel|prediction|full_prediction|\n",
      "+-----------+------------+----------+---------------+\n",
      "|Charged Off|         1.0|       0.0|     Fully Paid|\n",
      "|Charged Off|         1.0|       0.0|     Fully Paid|\n",
      "|Charged Off|         1.0|       0.0|     Fully Paid|\n",
      "|Charged Off|         1.0|       0.0|     Fully Paid|\n",
      "|Charged Off|         1.0|       0.0|     Fully Paid|\n",
      "|Charged Off|         1.0|       0.0|     Fully Paid|\n",
      "|Charged Off|         1.0|       0.0|     Fully Paid|\n",
      "|Charged Off|         1.0|       0.0|     Fully Paid|\n",
      "|Charged Off|         1.0|       0.0|     Fully Paid|\n",
      "|Charged Off|         1.0|       0.0|     Fully Paid|\n",
      "|Charged Off|         1.0|       0.0|     Fully Paid|\n",
      "|Charged Off|         1.0|       0.0|     Fully Paid|\n",
      "|Charged Off|         1.0|       0.0|     Fully Paid|\n",
      "|Charged Off|         1.0|       0.0|     Fully Paid|\n",
      "|Charged Off|         1.0|       0.0|     Fully Paid|\n",
      "|Charged Off|         1.0|       0.0|     Fully Paid|\n",
      "|Charged Off|         1.0|       0.0|     Fully Paid|\n",
      "|Charged Off|         1.0|       0.0|     Fully Paid|\n",
      "|Charged Off|         1.0|       0.0|     Fully Paid|\n",
      "|Charged Off|         1.0|       0.0|     Fully Paid|\n",
      "+-----------+------------+----------+---------------+\n",
      "only showing top 20 rows\n",
      "\n"
     ]
    }
   ],
   "source": [
    "result_mlp.select('loan_status','indexedLabel','prediction','full_prediction').\\\n",
    "filter((col('indexedLabel') != col('prediction'))).filter(col('loan_status') == 'Charged Off').show()"
   ]
  },
  {
   "cell_type": "code",
   "execution_count": 216,
   "metadata": {
    "collapsed": true
   },
   "outputs": [],
   "source": [
    "num_False_FullyPaid = result_mlp.select('loan_status','indexedLabel','prediction','full_prediction').\\\n",
    "filter((col('indexedLabel') != col('prediction'))).filter(col('loan_status') == 'Charged Off').count()"
   ]
  },
  {
   "cell_type": "code",
   "execution_count": 217,
   "metadata": {},
   "outputs": [
    {
     "data": {
      "text/plain": [
       "1656"
      ]
     },
     "execution_count": 217,
     "metadata": {},
     "output_type": "execute_result"
    }
   ],
   "source": [
    "num_False_FullyPaid"
   ]
  },
  {
   "cell_type": "code",
   "execution_count": 218,
   "metadata": {},
   "outputs": [
    {
     "data": {
      "text/plain": [
       "3.1531445762485957"
      ]
     },
     "execution_count": 218,
     "metadata": {},
     "output_type": "execute_result"
    }
   ],
   "source": [
    "(num_False_FullyPaid/num_Actual_ChargeOff)*100"
   ]
  },
  {
   "cell_type": "code",
   "execution_count": 219,
   "metadata": {},
   "outputs": [
    {
     "name": "stdout",
     "output_type": "stream",
     "text": [
      "+-----------+------------+----------+---------------+\n",
      "|loan_status|indexedLabel|prediction|full_prediction|\n",
      "+-----------+------------+----------+---------------+\n",
      "|Charged Off|         1.0|       1.0|    Charged Off|\n",
      "|Charged Off|         1.0|       1.0|    Charged Off|\n",
      "|Charged Off|         1.0|       1.0|    Charged Off|\n",
      "|Charged Off|         1.0|       1.0|    Charged Off|\n",
      "|Charged Off|         1.0|       1.0|    Charged Off|\n",
      "|Charged Off|         1.0|       1.0|    Charged Off|\n",
      "|Charged Off|         1.0|       1.0|    Charged Off|\n",
      "|Charged Off|         1.0|       1.0|    Charged Off|\n",
      "|Charged Off|         1.0|       1.0|    Charged Off|\n",
      "|Charged Off|         1.0|       1.0|    Charged Off|\n",
      "|Charged Off|         1.0|       1.0|    Charged Off|\n",
      "|Charged Off|         1.0|       1.0|    Charged Off|\n",
      "|Charged Off|         1.0|       1.0|    Charged Off|\n",
      "|Charged Off|         1.0|       1.0|    Charged Off|\n",
      "|Charged Off|         1.0|       1.0|    Charged Off|\n",
      "|Charged Off|         1.0|       1.0|    Charged Off|\n",
      "|Charged Off|         1.0|       1.0|    Charged Off|\n",
      "|Charged Off|         1.0|       1.0|    Charged Off|\n",
      "|Charged Off|         1.0|       1.0|    Charged Off|\n",
      "|Charged Off|         1.0|       1.0|    Charged Off|\n",
      "+-----------+------------+----------+---------------+\n",
      "only showing top 20 rows\n",
      "\n"
     ]
    }
   ],
   "source": [
    "result_mlp.select('loan_status','indexedLabel','prediction','full_prediction').\\\n",
    "filter((col('indexedLabel') == col('prediction'))).filter(col('loan_status') == 'Charged Off').show()"
   ]
  },
  {
   "cell_type": "code",
   "execution_count": 220,
   "metadata": {
    "collapsed": true
   },
   "outputs": [],
   "source": [
    "num_True_ChargeOff = result_mlp.select('loan_status','indexedLabel','prediction','full_prediction').\\\n",
    "filter((col('indexedLabel') == col('prediction'))).filter(col('loan_status') == 'Charged Off').count()"
   ]
  },
  {
   "cell_type": "code",
   "execution_count": 221,
   "metadata": {},
   "outputs": [
    {
     "data": {
      "text/plain": [
       "96.84685542375139"
      ]
     },
     "execution_count": 221,
     "metadata": {},
     "output_type": "execute_result"
    }
   ],
   "source": [
    "(num_True_ChargeOff/num_Actual_ChargeOff)*100"
   ]
  },
  {
   "cell_type": "markdown",
   "metadata": {},
   "source": [
    "# ------------- สิ้นสุดการประเมิน ---------------------------"
   ]
  },
  {
   "cell_type": "markdown",
   "metadata": {},
   "source": [
    "# การประเมิน Fully Paid [Aekanun]"
   ]
  },
  {
   "cell_type": "code",
   "execution_count": 222,
   "metadata": {},
   "outputs": [
    {
     "name": "stdout",
     "output_type": "stream",
     "text": [
      "+-----------+------------+----------+---------------+\n",
      "|loan_status|indexedLabel|prediction|full_prediction|\n",
      "+-----------+------------+----------+---------------+\n",
      "| Fully Paid|         0.0|       0.0|     Fully Paid|\n",
      "| Fully Paid|         0.0|       0.0|     Fully Paid|\n",
      "| Fully Paid|         0.0|       0.0|     Fully Paid|\n",
      "| Fully Paid|         0.0|       0.0|     Fully Paid|\n",
      "| Fully Paid|         0.0|       0.0|     Fully Paid|\n",
      "| Fully Paid|         0.0|       0.0|     Fully Paid|\n",
      "| Fully Paid|         0.0|       0.0|     Fully Paid|\n",
      "| Fully Paid|         0.0|       0.0|     Fully Paid|\n",
      "| Fully Paid|         0.0|       0.0|     Fully Paid|\n",
      "| Fully Paid|         0.0|       0.0|     Fully Paid|\n",
      "| Fully Paid|         0.0|       0.0|     Fully Paid|\n",
      "| Fully Paid|         0.0|       0.0|     Fully Paid|\n",
      "| Fully Paid|         0.0|       0.0|     Fully Paid|\n",
      "| Fully Paid|         0.0|       0.0|     Fully Paid|\n",
      "| Fully Paid|         0.0|       0.0|     Fully Paid|\n",
      "| Fully Paid|         0.0|       0.0|     Fully Paid|\n",
      "| Fully Paid|         0.0|       0.0|     Fully Paid|\n",
      "| Fully Paid|         0.0|       0.0|     Fully Paid|\n",
      "| Fully Paid|         0.0|       0.0|     Fully Paid|\n",
      "| Fully Paid|         0.0|       0.0|     Fully Paid|\n",
      "+-----------+------------+----------+---------------+\n",
      "only showing top 20 rows\n",
      "\n"
     ]
    }
   ],
   "source": [
    "result_mlp.select('loan_status','indexedLabel','prediction','full_prediction').\\\n",
    "filter(col('loan_status') == 'Fully Paid').show()"
   ]
  },
  {
   "cell_type": "code",
   "execution_count": 223,
   "metadata": {
    "collapsed": true
   },
   "outputs": [],
   "source": [
    "num_Actual_FullyPaid = result_mlp.select('loan_status','indexedLabel','prediction','full_prediction').\\\n",
    "filter(col('loan_status') == 'Fully Paid').count()"
   ]
  },
  {
   "cell_type": "code",
   "execution_count": 224,
   "metadata": {},
   "outputs": [
    {
     "data": {
      "text/plain": [
       "199026"
      ]
     },
     "execution_count": 224,
     "metadata": {},
     "output_type": "execute_result"
    }
   ],
   "source": [
    "num_Actual_FullyPaid"
   ]
  },
  {
   "cell_type": "code",
   "execution_count": 225,
   "metadata": {
    "collapsed": true
   },
   "outputs": [],
   "source": [
    "#ตรวจสอบความถูกต้องจากการ Predict ตรงกับข้อมูลที่เป็น IndexLabel หรือไม่ (เนื่องจากมีการทำ indexer ค่าที่ได้จึงเป็น Numerical)"
   ]
  },
  {
   "cell_type": "markdown",
   "metadata": {},
   "source": [
    "### Negative = Fully Paid"
   ]
  },
  {
   "cell_type": "code",
   "execution_count": 226,
   "metadata": {},
   "outputs": [
    {
     "name": "stdout",
     "output_type": "stream",
     "text": [
      "+-----------+------------+----------+---------------+\n",
      "|loan_status|indexedLabel|prediction|full_prediction|\n",
      "+-----------+------------+----------+---------------+\n",
      "| Fully Paid|         0.0|       1.0|    Charged Off|\n",
      "| Fully Paid|         0.0|       1.0|    Charged Off|\n",
      "| Fully Paid|         0.0|       1.0|    Charged Off|\n",
      "| Fully Paid|         0.0|       1.0|    Charged Off|\n",
      "| Fully Paid|         0.0|       1.0|    Charged Off|\n",
      "| Fully Paid|         0.0|       1.0|    Charged Off|\n",
      "| Fully Paid|         0.0|       1.0|    Charged Off|\n",
      "| Fully Paid|         0.0|       1.0|    Charged Off|\n",
      "| Fully Paid|         0.0|       1.0|    Charged Off|\n",
      "| Fully Paid|         0.0|       1.0|    Charged Off|\n",
      "| Fully Paid|         0.0|       1.0|    Charged Off|\n",
      "| Fully Paid|         0.0|       1.0|    Charged Off|\n",
      "| Fully Paid|         0.0|       1.0|    Charged Off|\n",
      "| Fully Paid|         0.0|       1.0|    Charged Off|\n",
      "| Fully Paid|         0.0|       1.0|    Charged Off|\n",
      "+-----------+------------+----------+---------------+\n",
      "\n"
     ]
    }
   ],
   "source": [
    "result_mlp.select('loan_status','indexedLabel','prediction','full_prediction').\\\n",
    "filter((col('indexedLabel') != col('prediction'))).filter(col('loan_status') == 'Fully Paid').show()"
   ]
  },
  {
   "cell_type": "code",
   "execution_count": 227,
   "metadata": {
    "collapsed": true
   },
   "outputs": [],
   "source": [
    "num_False_ChargedOff = result_mlp.select('loan_status','indexedLabel','prediction','full_prediction').\\\n",
    "filter((col('indexedLabel') != col('prediction'))).filter(col('loan_status') == 'Fully Paid').count()"
   ]
  },
  {
   "cell_type": "code",
   "execution_count": 228,
   "metadata": {},
   "outputs": [
    {
     "data": {
      "text/plain": [
       "0.007536703747249103"
      ]
     },
     "execution_count": 228,
     "metadata": {},
     "output_type": "execute_result"
    }
   ],
   "source": [
    "(num_False_ChargedOff/num_Actual_FullyPaid)*100"
   ]
  },
  {
   "cell_type": "code",
   "execution_count": 229,
   "metadata": {},
   "outputs": [
    {
     "name": "stdout",
     "output_type": "stream",
     "text": [
      "+-----------+------------+----------+---------------+\n",
      "|loan_status|indexedLabel|prediction|full_prediction|\n",
      "+-----------+------------+----------+---------------+\n",
      "| Fully Paid|         0.0|       0.0|     Fully Paid|\n",
      "| Fully Paid|         0.0|       0.0|     Fully Paid|\n",
      "| Fully Paid|         0.0|       0.0|     Fully Paid|\n",
      "| Fully Paid|         0.0|       0.0|     Fully Paid|\n",
      "| Fully Paid|         0.0|       0.0|     Fully Paid|\n",
      "| Fully Paid|         0.0|       0.0|     Fully Paid|\n",
      "| Fully Paid|         0.0|       0.0|     Fully Paid|\n",
      "| Fully Paid|         0.0|       0.0|     Fully Paid|\n",
      "| Fully Paid|         0.0|       0.0|     Fully Paid|\n",
      "| Fully Paid|         0.0|       0.0|     Fully Paid|\n",
      "| Fully Paid|         0.0|       0.0|     Fully Paid|\n",
      "| Fully Paid|         0.0|       0.0|     Fully Paid|\n",
      "| Fully Paid|         0.0|       0.0|     Fully Paid|\n",
      "| Fully Paid|         0.0|       0.0|     Fully Paid|\n",
      "| Fully Paid|         0.0|       0.0|     Fully Paid|\n",
      "| Fully Paid|         0.0|       0.0|     Fully Paid|\n",
      "| Fully Paid|         0.0|       0.0|     Fully Paid|\n",
      "| Fully Paid|         0.0|       0.0|     Fully Paid|\n",
      "| Fully Paid|         0.0|       0.0|     Fully Paid|\n",
      "| Fully Paid|         0.0|       0.0|     Fully Paid|\n",
      "+-----------+------------+----------+---------------+\n",
      "only showing top 20 rows\n",
      "\n"
     ]
    }
   ],
   "source": [
    "result_mlp.select('loan_status','indexedLabel','prediction','full_prediction').\\\n",
    "filter((col('indexedLabel') == col('prediction'))).filter(col('loan_status') == 'Fully Paid').show()"
   ]
  },
  {
   "cell_type": "code",
   "execution_count": 230,
   "metadata": {
    "collapsed": true
   },
   "outputs": [],
   "source": [
    "num_True_FullyPaid = result_mlp.select('loan_status','indexedLabel','prediction','full_prediction').\\\n",
    "filter((col('indexedLabel') == col('prediction'))).filter(col('loan_status') == 'Fully Paid').count()"
   ]
  },
  {
   "cell_type": "code",
   "execution_count": 231,
   "metadata": {},
   "outputs": [
    {
     "data": {
      "text/plain": [
       "99.99246329625275"
      ]
     },
     "execution_count": 231,
     "metadata": {},
     "output_type": "execute_result"
    }
   ],
   "source": [
    "(num_True_FullyPaid/num_Actual_FullyPaid)*100"
   ]
  },
  {
   "cell_type": "markdown",
   "metadata": {},
   "source": [
    "# ------------- สิ้นสุดการประเมิน ---------------------------"
   ]
  },
  {
   "cell_type": "code",
   "execution_count": 232,
   "metadata": {},
   "outputs": [
    {
     "data": {
      "text/plain": [
       "251545"
      ]
     },
     "execution_count": 232,
     "metadata": {},
     "output_type": "execute_result"
    }
   ],
   "source": [
    "num_Actual_FullyPaid + num_Actual_ChargeOff"
   ]
  },
  {
   "cell_type": "code",
   "execution_count": 233,
   "metadata": {},
   "outputs": [
    {
     "data": {
      "text/plain": [
       "0.9933570534099266"
      ]
     },
     "execution_count": 233,
     "metadata": {},
     "output_type": "execute_result"
    }
   ],
   "source": [
    "(num_True_FullyPaid+num_True_ChargeOff)/(num_Actual_FullyPaid + num_Actual_ChargeOff)"
   ]
  },
  {
   "cell_type": "code",
   "execution_count": null,
   "metadata": {
    "collapsed": true
   },
   "outputs": [],
   "source": []
  },
  {
   "cell_type": "code",
   "execution_count": 234,
   "metadata": {
    "collapsed": true
   },
   "outputs": [],
   "source": [
    "from pyspark.ml.evaluation import MulticlassClassificationEvaluator"
   ]
  },
  {
   "cell_type": "code",
   "execution_count": 235,
   "metadata": {},
   "outputs": [
    {
     "data": {
      "text/plain": [
       "99.33570534099266"
      ]
     },
     "execution_count": 235,
     "metadata": {},
     "output_type": "execute_result"
    }
   ],
   "source": [
    "evaluator_RF = MulticlassClassificationEvaluator(predictionCol=\"prediction\",\\\n",
    "                                              labelCol='indexedLabel', metricName='accuracy')\n",
    "evaluator_RF.evaluate(result_mlp)*100"
   ]
  },
  {
   "cell_type": "code",
   "execution_count": 236,
   "metadata": {
    "collapsed": true
   },
   "outputs": [],
   "source": [
    "#model_mlp.save('./modelMLP_bestloanpayment')"
   ]
  },
  {
   "cell_type": "code",
   "execution_count": 237,
   "metadata": {},
   "outputs": [
    {
     "name": "stdout",
     "output_type": "stream",
     "text": [
      "Filesystem                      Size  Used Avail Use% Mounted on\r\n",
      "/dev/mapper/set1--vm1--vg-root   12G   11G  662M  95% /\r\n",
      "none                            4.0K     0  4.0K   0% /sys/fs/cgroup\r\n",
      "udev                            3.9G  4.0K  3.9G   1% /dev\r\n",
      "tmpfs                           798M  840K  797M   1% /run\r\n",
      "none                            5.0M     0  5.0M   0% /run/lock\r\n",
      "none                            3.9G     0  3.9G   0% /run/shm\r\n",
      "none                            100M   12K  100M   1% /run/user\r\n",
      "/dev/sda1                       236M   37M  188M  17% /boot\r\n"
     ]
    }
   ],
   "source": [
    "! df -h"
   ]
  },
  {
   "cell_type": "code",
   "execution_count": 238,
   "metadata": {},
   "outputs": [
    {
     "name": "stdout",
     "output_type": "stream",
     "text": [
      "total 8\r\n",
      "drwxr-xr-x  2 root root 4096 Oct 18 19:36 metadata\r\n",
      "drwxr-xr-x 15 root root 4096 Oct 18 19:36 stages\r\n"
     ]
    }
   ],
   "source": [
    "! ls -l modelMLP_bestloanpayment"
   ]
  },
  {
   "cell_type": "code",
   "execution_count": null,
   "metadata": {
    "collapsed": true
   },
   "outputs": [],
   "source": []
  },
  {
   "cell_type": "code",
   "execution_count": null,
   "metadata": {
    "collapsed": true
   },
   "outputs": [],
   "source": []
  },
  {
   "cell_type": "code",
   "execution_count": null,
   "metadata": {
    "collapsed": true
   },
   "outputs": [],
   "source": []
  },
  {
   "cell_type": "code",
   "execution_count": null,
   "metadata": {
    "collapsed": true
   },
   "outputs": [],
   "source": []
  },
  {
   "cell_type": "code",
   "execution_count": null,
   "metadata": {
    "collapsed": true
   },
   "outputs": [],
   "source": []
  },
  {
   "cell_type": "code",
   "execution_count": null,
   "metadata": {
    "collapsed": true
   },
   "outputs": [],
   "source": []
  },
  {
   "cell_type": "code",
   "execution_count": null,
   "metadata": {
    "collapsed": true
   },
   "outputs": [],
   "source": []
  },
  {
   "cell_type": "code",
   "execution_count": null,
   "metadata": {
    "collapsed": true
   },
   "outputs": [],
   "source": []
  },
  {
   "cell_type": "code",
   "execution_count": null,
   "metadata": {
    "collapsed": true
   },
   "outputs": [],
   "source": []
  },
  {
   "cell_type": "code",
   "execution_count": null,
   "metadata": {
    "collapsed": true
   },
   "outputs": [],
   "source": []
  },
  {
   "cell_type": "code",
   "execution_count": null,
   "metadata": {
    "collapsed": true
   },
   "outputs": [],
   "source": []
  },
  {
   "cell_type": "code",
   "execution_count": null,
   "metadata": {
    "collapsed": true
   },
   "outputs": [],
   "source": []
  },
  {
   "cell_type": "code",
   "execution_count": null,
   "metadata": {
    "collapsed": true
   },
   "outputs": [],
   "source": []
  },
  {
   "cell_type": "code",
   "execution_count": null,
   "metadata": {
    "collapsed": true
   },
   "outputs": [],
   "source": []
  },
  {
   "cell_type": "code",
   "execution_count": null,
   "metadata": {
    "collapsed": true
   },
   "outputs": [],
   "source": []
  },
  {
   "cell_type": "code",
   "execution_count": null,
   "metadata": {
    "collapsed": true
   },
   "outputs": [],
   "source": []
  },
  {
   "cell_type": "code",
   "execution_count": null,
   "metadata": {
    "collapsed": true
   },
   "outputs": [],
   "source": []
  },
  {
   "cell_type": "code",
   "execution_count": null,
   "metadata": {
    "collapsed": true
   },
   "outputs": [],
   "source": []
  },
  {
   "cell_type": "code",
   "execution_count": null,
   "metadata": {
    "collapsed": true
   },
   "outputs": [],
   "source": []
  },
  {
   "cell_type": "code",
   "execution_count": null,
   "metadata": {
    "collapsed": true
   },
   "outputs": [],
   "source": []
  },
  {
   "cell_type": "code",
   "execution_count": null,
   "metadata": {
    "collapsed": true
   },
   "outputs": [],
   "source": []
  },
  {
   "cell_type": "code",
   "execution_count": null,
   "metadata": {
    "collapsed": true
   },
   "outputs": [],
   "source": []
  },
  {
   "cell_type": "code",
   "execution_count": null,
   "metadata": {
    "collapsed": true
   },
   "outputs": [],
   "source": []
  },
  {
   "cell_type": "code",
   "execution_count": null,
   "metadata": {
    "collapsed": true
   },
   "outputs": [],
   "source": []
  },
  {
   "cell_type": "code",
   "execution_count": null,
   "metadata": {
    "collapsed": true
   },
   "outputs": [],
   "source": []
  }
 ],
 "metadata": {
  "kernelspec": {
   "display_name": "Python 3",
   "language": "python",
   "name": "python3"
  },
  "language_info": {
   "codemirror_mode": {
    "name": "ipython",
    "version": 3
   },
   "file_extension": ".py",
   "mimetype": "text/x-python",
   "name": "python",
   "nbconvert_exporter": "python",
   "pygments_lexer": "ipython3",
   "version": "3.6.1"
  }
 },
 "nbformat": 4,
 "nbformat_minor": 2
}
