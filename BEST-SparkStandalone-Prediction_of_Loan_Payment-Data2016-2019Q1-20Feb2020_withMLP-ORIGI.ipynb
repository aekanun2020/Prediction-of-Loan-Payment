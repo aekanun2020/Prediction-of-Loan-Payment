{
 "cells": [
  {
   "cell_type": "code",
   "execution_count": 1,
   "metadata": {
    "collapsed": true
   },
   "outputs": [],
   "source": [
    "! rm -rf metastore_db/"
   ]
  },
  {
   "cell_type": "code",
   "execution_count": 2,
   "metadata": {
    "collapsed": true
   },
   "outputs": [],
   "source": [
    "spark.stop()"
   ]
  },
  {
   "cell_type": "code",
   "execution_count": 3,
   "metadata": {
    "collapsed": true
   },
   "outputs": [],
   "source": [
    "spark = SparkSession \\\n",
    "    .builder \\\n",
    "    .appName(\"Prediction of Loan Payment\") \\\n",
    "    .master(\"local[*]\") \\\n",
    "    .config(\"spark.executor.cores\",\"3\")\\\n",
    "    .getOrCreate();"
   ]
  },
  {
   "cell_type": "markdown",
   "metadata": {},
   "source": [
    "# 1. Data Understanding"
   ]
  },
  {
   "cell_type": "markdown",
   "metadata": {},
   "source": [
    "## Collecting the current data from the LendingClub's Website."
   ]
  },
  {
   "cell_type": "code",
   "execution_count": 4,
   "metadata": {
    "collapsed": true
   },
   "outputs": [],
   "source": [
    "#! rm -rf LoanStats_web.csv"
   ]
  },
  {
   "cell_type": "code",
   "execution_count": 5,
   "metadata": {
    "collapsed": true
   },
   "outputs": [],
   "source": [
    "#! touch LoanStats_web.csv"
   ]
  },
  {
   "cell_type": "code",
   "execution_count": 6,
   "metadata": {},
   "outputs": [
    {
     "name": "stdout",
     "output_type": "stream",
     "text": [
      "-rw-r--r-- 1 root root 1160243241 Nov 22 18:37 /root/notebook/data/LoanStats_web.csv\r\n"
     ]
    }
   ],
   "source": [
    "! ls -l /root/notebook/data/LoanStats_web.csv"
   ]
  },
  {
   "cell_type": "code",
   "execution_count": 7,
   "metadata": {},
   "outputs": [
    {
     "name": "stdout",
     "output_type": "stream",
     "text": [
      "\"id\",\"member_id\",\"loan_amnt\",\"funded_amnt\",\"funded_amnt_inv\",\"term\",\"int_rate\",\"installment\",\"grade\",\"sub_grade\",\"emp_title\",\"emp_length\",\"home_ownership\",\"annual_inc\",\"verification_status\",\"issue_d\",\"loan_status\",\"pymnt_plan\",\"url\",\"desc\",\"purpose\",\"title\",\"zip_code\",\"addr_state\",\"dti\",\"delinq_2yrs\",\"earliest_cr_line\",\"inq_last_6mths\",\"mths_since_last_delinq\",\"mths_since_last_record\",\"open_acc\",\"pub_rec\",\"revol_bal\",\"revol_util\",\"total_acc\",\"initial_list_status\",\"out_prncp\",\"out_prncp_inv\",\"total_pymnt\",\"total_pymnt_inv\",\"total_rec_prncp\",\"total_rec_int\",\"total_rec_late_fee\",\"recoveries\",\"collection_recovery_fee\",\"last_pymnt_d\",\"last_pymnt_amnt\",\"next_pymnt_d\",\"last_credit_pull_d\",\"collections_12_mths_ex_med\",\"mths_since_last_major_derog\",\"policy_code\",\"application_type\",\"annual_inc_joint\",\"dti_joint\",\"verification_status_joint\",\"acc_now_delinq\",\"tot_coll_amt\",\"tot_cur_bal\",\"open_acc_6m\",\"open_act_il\",\"open_il_12m\",\"open_il_24m\",\"mths_since_rcnt_il\",\"total_bal_il\",\"il_util\",\"open_rv_12m\",\"open_rv_24m\",\"max_bal_bc\",\"all_util\",\"total_rev_hi_lim\",\"inq_fi\",\"total_cu_tl\",\"inq_last_12m\",\"acc_open_past_24mths\",\"avg_cur_bal\",\"bc_open_to_buy\",\"bc_util\",\"chargeoff_within_12_mths\",\"delinq_amnt\",\"mo_sin_old_il_acct\",\"mo_sin_old_rev_tl_op\",\"mo_sin_rcnt_rev_tl_op\",\"mo_sin_rcnt_tl\",\"mort_acc\",\"mths_since_recent_bc\",\"mths_since_recent_bc_dlq\",\"mths_since_recent_inq\",\"mths_since_recent_revol_delinq\",\"num_accts_ever_120_pd\",\"num_actv_bc_tl\",\"num_actv_rev_tl\",\"num_bc_sats\",\"num_bc_tl\",\"num_il_tl\",\"num_op_rev_tl\",\"num_rev_accts\",\"num_rev_tl_bal_gt_0\",\"num_sats\",\"num_tl_120dpd_2m\",\"num_tl_30dpd\",\"num_tl_90g_dpd_24m\",\"num_tl_op_past_12m\",\"pct_tl_nvr_dlq\",\"percent_bc_gt_75\",\"pub_rec_bankruptcies\",\"tax_liens\",\"tot_hi_cred_lim\",\"total_bal_ex_mort\",\"total_bc_limit\",\"total_il_high_credit_limit\",\"revol_bal_joint\",\"sec_app_earliest_cr_line\",\"sec_app_inq_last_6mths\",\"sec_app_mort_acc\",\"sec_app_open_acc\",\"sec_app_revol_util\",\"sec_app_open_act_il\",\"sec_app_num_rev_accts\",\"sec_app_chargeoff_within_12_mths\",\"sec_app_collections_12_mths_ex_med\",\"sec_app_mths_since_last_major_derog\",\"hardship_flag\",\"hardship_type\",\"hardship_reason\",\"hardship_status\",\"deferral_term\",\"hardship_amount\",\"hardship_start_date\",\"hardship_end_date\",\"payment_plan_start_date\",\"hardship_length\",\"hardship_dpd\",\"hardship_loan_status\",\"orig_projected_additional_accrued_interest\",\"hardship_payoff_balance_amount\",\"hardship_last_payment_amount\",\"debt_settlement_flag\",\"debt_settlement_flag_date\",\"settlement_status\",\"settlement_date\",\"settlement_amount\",\"settlement_percentage\",\"settlement_term\"\r\n",
      "\"\",\"\",\"30000\",\"30000\",\"30000\",\" 36 months\",\"  9.75%\",\"964.5\",\"B\",\"B3\",\"\",\"n/a\",\"MORTGAGE\",\"89600\",\"Verified\",\"Mar-2016\",\"Fully Paid\",\"n\",\"\",\"\",\"debt_consolidation\",\"Debt consolidation\",\"233xx\",\"VA\",\"21.15\",\"0\",\"Oct-1996\",\"1\",\"51\",\"\",\"22\",\"0\",\"45643\",\"64%\",\"43\",\"w\",\"0.00\",\"0.00\",\"34683.4671902942\",\"34683.47\",\"30000.00\",\"4683.47\",\"0.0\",\"0.0\",\"0.0\",\"Feb-2019\",\"1922.97\",\"\",\"Oct-2019\",\"0\",\"\",\"1\",\"Individual\",\"\",\"\",\"\",\"0\",\"0\",\"45643\",\"0\",\"0\",\"0\",\"0\",\"64\",\"0\",\"0\",\"2\",\"4\",\"4412\",\"64\",\"71690\",\"0\",\"3\",\"1\",\"4\",\"2282\",\"3586\",\"44\",\"0\",\"0\",\"165\",\"233\",\"7\",\"7\",\"1\",\"16\",\"\",\"2\",\"51\",\"0\",\"7\",\"20\",\"12\",\"12\",\"7\",\"20\",\"35\",\"17\",\"20\",\"\",\"0\",\"0\",\"2\",\"98\",\"57.1\",\"0\",\"0\",\"71690\",\"45643\",\"25100\",\"0\",\"\",\"\",\"\",\"\",\"\",\"\",\"\",\"\",\"\",\"\",\"\",\"N\",\"\",\"\",\"\",\"\",\"\",\"\",\"\",\"\",\"\",\"\",\"\",\"\",\"\",\"\",\"N\",\"\",\"\",\"\",\"\",\"\",\"\"\r\n",
      "\"\",\"\",\"25000\",\"25000\",\"25000\",\" 36 months\",\"  5.32%\",\"752.87\",\"A\",\"A1\",\"Carman welder\",\"10+ years\",\"MORTGAGE\",\"70000\",\"Not Verified\",\"Mar-2016\",\"Fully Paid\",\"n\",\"\",\"\",\"debt_consolidation\",\"Debt consolidation\",\"758xx\",\"TX\",\"21.81\",\"0\",\"Jul-1983\",\"0\",\"\",\"\",\"16\",\"0\",\"4091\",\"6.8%\",\"54\",\"w\",\"0.00\",\"0.00\",\"27088.521784058\",\"27088.52\",\"25000.00\",\"2088.52\",\"0.0\",\"0.0\",\"0.0\",\"Apr-2019\",\"752.85\",\"\",\"Mar-2019\",\"0\",\"\",\"1\",\"Individual\",\"\",\"\",\"\",\"0\",\"0\",\"51894\",\"0\",\"5\",\"0\",\"4\",\"13\",\"47803\",\"79\",\"0\",\"1\",\"1306\",\"43\",\"60000\",\"2\",\"24\",\"1\",\"5\",\"3460\",\"32694\",\"3.8\",\"0\",\"0\",\"155\",\"392\",\"20\",\"13\",\"1\",\"29\",\"\",\"9\",\"\",\"0\",\"1\",\"2\",\"6\",\"13\",\"31\",\"11\",\"22\",\"2\",\"16\",\"0\",\"0\",\"0\",\"0\",\"100\",\"0\",\"0\",\"0\",\"120454\",\"51894\",\"34000\",\"60454\",\"\",\"\",\"\",\"\",\"\",\"\",\"\",\"\",\"\",\"\",\"\",\"N\",\"\",\"\",\"\",\"\",\"\",\"\",\"\",\"\",\"\",\"\",\"\",\"\",\"\",\"\",\"N\",\"\",\"\",\"\",\"\",\"\",\"\"\r\n"
     ]
    }
   ],
   "source": [
    "! head -3 /root/notebook/data/LoanStats_web.csv"
   ]
  },
  {
   "cell_type": "code",
   "execution_count": 8,
   "metadata": {},
   "outputs": [
    {
     "name": "stdout",
     "output_type": "stream",
     "text": [
      "1432493 /root/notebook/data/LoanStats_web.csv\r\n"
     ]
    }
   ],
   "source": [
    "! wc -l /root/notebook/data/LoanStats_web.csv"
   ]
  },
  {
   "cell_type": "code",
   "execution_count": 9,
   "metadata": {
    "collapsed": true
   },
   "outputs": [],
   "source": [
    "raw_df = spark.read.format('csv').option('header','true').option('mode','DROPMALFORMED')\\\n",
    ".load('/root/notebook/data/LoanStats_web.csv')"
   ]
  },
  {
   "cell_type": "code",
   "execution_count": 10,
   "metadata": {
    "collapsed": true
   },
   "outputs": [],
   "source": [
    "raw201617_df = raw_df"
   ]
  },
  {
   "cell_type": "code",
   "execution_count": 11,
   "metadata": {},
   "outputs": [
    {
     "name": "stdout",
     "output_type": "stream",
     "text": [
      "root\n",
      " |-- id: string (nullable = true)\n",
      " |-- member_id: string (nullable = true)\n",
      " |-- loan_amnt: string (nullable = true)\n",
      " |-- funded_amnt: string (nullable = true)\n",
      " |-- funded_amnt_inv: string (nullable = true)\n",
      " |-- term: string (nullable = true)\n",
      " |-- int_rate: string (nullable = true)\n",
      " |-- installment: string (nullable = true)\n",
      " |-- grade: string (nullable = true)\n",
      " |-- sub_grade: string (nullable = true)\n",
      " |-- emp_title: string (nullable = true)\n",
      " |-- emp_length: string (nullable = true)\n",
      " |-- home_ownership: string (nullable = true)\n",
      " |-- annual_inc: string (nullable = true)\n",
      " |-- verification_status: string (nullable = true)\n",
      " |-- issue_d: string (nullable = true)\n",
      " |-- loan_status: string (nullable = true)\n",
      " |-- pymnt_plan: string (nullable = true)\n",
      " |-- url: string (nullable = true)\n",
      " |-- desc: string (nullable = true)\n",
      " |-- purpose: string (nullable = true)\n",
      " |-- title: string (nullable = true)\n",
      " |-- zip_code: string (nullable = true)\n",
      " |-- addr_state: string (nullable = true)\n",
      " |-- dti: string (nullable = true)\n",
      " |-- delinq_2yrs: string (nullable = true)\n",
      " |-- earliest_cr_line: string (nullable = true)\n",
      " |-- inq_last_6mths: string (nullable = true)\n",
      " |-- mths_since_last_delinq: string (nullable = true)\n",
      " |-- mths_since_last_record: string (nullable = true)\n",
      " |-- open_acc: string (nullable = true)\n",
      " |-- pub_rec: string (nullable = true)\n",
      " |-- revol_bal: string (nullable = true)\n",
      " |-- revol_util: string (nullable = true)\n",
      " |-- total_acc: string (nullable = true)\n",
      " |-- initial_list_status: string (nullable = true)\n",
      " |-- out_prncp: string (nullable = true)\n",
      " |-- out_prncp_inv: string (nullable = true)\n",
      " |-- total_pymnt: string (nullable = true)\n",
      " |-- total_pymnt_inv: string (nullable = true)\n",
      " |-- total_rec_prncp: string (nullable = true)\n",
      " |-- total_rec_int: string (nullable = true)\n",
      " |-- total_rec_late_fee: string (nullable = true)\n",
      " |-- recoveries: string (nullable = true)\n",
      " |-- collection_recovery_fee: string (nullable = true)\n",
      " |-- last_pymnt_d: string (nullable = true)\n",
      " |-- last_pymnt_amnt: string (nullable = true)\n",
      " |-- next_pymnt_d: string (nullable = true)\n",
      " |-- last_credit_pull_d: string (nullable = true)\n",
      " |-- collections_12_mths_ex_med: string (nullable = true)\n",
      " |-- mths_since_last_major_derog: string (nullable = true)\n",
      " |-- policy_code: string (nullable = true)\n",
      " |-- application_type: string (nullable = true)\n",
      " |-- annual_inc_joint: string (nullable = true)\n",
      " |-- dti_joint: string (nullable = true)\n",
      " |-- verification_status_joint: string (nullable = true)\n",
      " |-- acc_now_delinq: string (nullable = true)\n",
      " |-- tot_coll_amt: string (nullable = true)\n",
      " |-- tot_cur_bal: string (nullable = true)\n",
      " |-- open_acc_6m: string (nullable = true)\n",
      " |-- open_act_il: string (nullable = true)\n",
      " |-- open_il_12m: string (nullable = true)\n",
      " |-- open_il_24m: string (nullable = true)\n",
      " |-- mths_since_rcnt_il: string (nullable = true)\n",
      " |-- total_bal_il: string (nullable = true)\n",
      " |-- il_util: string (nullable = true)\n",
      " |-- open_rv_12m: string (nullable = true)\n",
      " |-- open_rv_24m: string (nullable = true)\n",
      " |-- max_bal_bc: string (nullable = true)\n",
      " |-- all_util: string (nullable = true)\n",
      " |-- total_rev_hi_lim: string (nullable = true)\n",
      " |-- inq_fi: string (nullable = true)\n",
      " |-- total_cu_tl: string (nullable = true)\n",
      " |-- inq_last_12m: string (nullable = true)\n",
      " |-- acc_open_past_24mths: string (nullable = true)\n",
      " |-- avg_cur_bal: string (nullable = true)\n",
      " |-- bc_open_to_buy: string (nullable = true)\n",
      " |-- bc_util: string (nullable = true)\n",
      " |-- chargeoff_within_12_mths: string (nullable = true)\n",
      " |-- delinq_amnt: string (nullable = true)\n",
      " |-- mo_sin_old_il_acct: string (nullable = true)\n",
      " |-- mo_sin_old_rev_tl_op: string (nullable = true)\n",
      " |-- mo_sin_rcnt_rev_tl_op: string (nullable = true)\n",
      " |-- mo_sin_rcnt_tl: string (nullable = true)\n",
      " |-- mort_acc: string (nullable = true)\n",
      " |-- mths_since_recent_bc: string (nullable = true)\n",
      " |-- mths_since_recent_bc_dlq: string (nullable = true)\n",
      " |-- mths_since_recent_inq: string (nullable = true)\n",
      " |-- mths_since_recent_revol_delinq: string (nullable = true)\n",
      " |-- num_accts_ever_120_pd: string (nullable = true)\n",
      " |-- num_actv_bc_tl: string (nullable = true)\n",
      " |-- num_actv_rev_tl: string (nullable = true)\n",
      " |-- num_bc_sats: string (nullable = true)\n",
      " |-- num_bc_tl: string (nullable = true)\n",
      " |-- num_il_tl: string (nullable = true)\n",
      " |-- num_op_rev_tl: string (nullable = true)\n",
      " |-- num_rev_accts: string (nullable = true)\n",
      " |-- num_rev_tl_bal_gt_0: string (nullable = true)\n",
      " |-- num_sats: string (nullable = true)\n",
      " |-- num_tl_120dpd_2m: string (nullable = true)\n",
      " |-- num_tl_30dpd: string (nullable = true)\n",
      " |-- num_tl_90g_dpd_24m: string (nullable = true)\n",
      " |-- num_tl_op_past_12m: string (nullable = true)\n",
      " |-- pct_tl_nvr_dlq: string (nullable = true)\n",
      " |-- percent_bc_gt_75: string (nullable = true)\n",
      " |-- pub_rec_bankruptcies: string (nullable = true)\n",
      " |-- tax_liens: string (nullable = true)\n",
      " |-- tot_hi_cred_lim: string (nullable = true)\n",
      " |-- total_bal_ex_mort: string (nullable = true)\n",
      " |-- total_bc_limit: string (nullable = true)\n",
      " |-- total_il_high_credit_limit: string (nullable = true)\n",
      " |-- revol_bal_joint: string (nullable = true)\n",
      " |-- sec_app_earliest_cr_line: string (nullable = true)\n",
      " |-- sec_app_inq_last_6mths: string (nullable = true)\n",
      " |-- sec_app_mort_acc: string (nullable = true)\n",
      " |-- sec_app_open_acc: string (nullable = true)\n",
      " |-- sec_app_revol_util: string (nullable = true)\n",
      " |-- sec_app_open_act_il: string (nullable = true)\n",
      " |-- sec_app_num_rev_accts: string (nullable = true)\n",
      " |-- sec_app_chargeoff_within_12_mths: string (nullable = true)\n",
      " |-- sec_app_collections_12_mths_ex_med: string (nullable = true)\n",
      " |-- sec_app_mths_since_last_major_derog: string (nullable = true)\n",
      " |-- hardship_flag: string (nullable = true)\n",
      " |-- hardship_type: string (nullable = true)\n",
      " |-- hardship_reason: string (nullable = true)\n",
      " |-- hardship_status: string (nullable = true)\n",
      " |-- deferral_term: string (nullable = true)\n",
      " |-- hardship_amount: string (nullable = true)\n",
      " |-- hardship_start_date: string (nullable = true)\n",
      " |-- hardship_end_date: string (nullable = true)\n",
      " |-- payment_plan_start_date: string (nullable = true)\n",
      " |-- hardship_length: string (nullable = true)\n",
      " |-- hardship_dpd: string (nullable = true)\n",
      " |-- hardship_loan_status: string (nullable = true)\n",
      " |-- orig_projected_additional_accrued_interest: string (nullable = true)\n",
      " |-- hardship_payoff_balance_amount: string (nullable = true)\n",
      " |-- hardship_last_payment_amount: string (nullable = true)\n",
      " |-- debt_settlement_flag: string (nullable = true)\n",
      " |-- debt_settlement_flag_date: string (nullable = true)\n",
      " |-- settlement_status: string (nullable = true)\n",
      " |-- settlement_date: string (nullable = true)\n",
      " |-- settlement_amount: string (nullable = true)\n",
      " |-- settlement_percentage: string (nullable = true)\n",
      " |-- settlement_term: string (nullable = true)\n",
      "\n"
     ]
    }
   ],
   "source": [
    "raw201617_df.printSchema()"
   ]
  },
  {
   "cell_type": "markdown",
   "metadata": {},
   "source": [
    "### Numbers of Fields [1]"
   ]
  },
  {
   "cell_type": "code",
   "execution_count": 12,
   "metadata": {},
   "outputs": [
    {
     "data": {
      "text/plain": [
       "144"
      ]
     },
     "execution_count": 12,
     "metadata": {},
     "output_type": "execute_result"
    }
   ],
   "source": [
    "len(raw201617_df.columns)"
   ]
  },
  {
   "cell_type": "code",
   "execution_count": 13,
   "metadata": {
    "collapsed": true
   },
   "outputs": [],
   "source": [
    "rawweb_df = raw201617_df.select('id',\n",
    " 'member_id',\n",
    " 'loan_amnt',\n",
    " 'funded_amnt',\n",
    " 'funded_amnt_inv',\n",
    " 'term',\n",
    " 'int_rate',\n",
    " 'installment',\n",
    " 'grade',\n",
    " 'sub_grade',\n",
    " 'emp_title',\n",
    " 'emp_length',\n",
    " 'home_ownership',\n",
    " 'annual_inc',\n",
    " 'verification_status',\n",
    " 'issue_d',\n",
    " 'loan_status',\n",
    " 'pymnt_plan',\n",
    " 'url',\n",
    " 'desc',\n",
    " 'purpose',\n",
    " 'title',\n",
    " 'zip_code',\n",
    " 'addr_state',\n",
    " 'dti',\n",
    " 'delinq_2yrs',\n",
    " 'earliest_cr_line',\n",
    " 'inq_last_6mths',\n",
    " 'mths_since_last_delinq',\n",
    " 'mths_since_last_record',\n",
    " 'open_acc',\n",
    " 'pub_rec',\n",
    " 'revol_bal',\n",
    " 'revol_util',\n",
    " 'total_acc',\n",
    " 'initial_list_status',\n",
    " 'out_prncp',\n",
    " 'out_prncp_inv',\n",
    " 'total_pymnt',\n",
    " 'total_pymnt_inv',\n",
    " 'total_rec_prncp',\n",
    " 'total_rec_int',\n",
    " 'total_rec_late_fee',\n",
    " 'recoveries',\n",
    " 'collection_recovery_fee',\n",
    " 'last_pymnt_d',\n",
    " 'last_pymnt_amnt',\n",
    " 'next_pymnt_d',\n",
    " 'last_credit_pull_d',\n",
    " 'collections_12_mths_ex_med',\n",
    " 'mths_since_last_major_derog',\n",
    " 'policy_code',\n",
    " 'application_type',\n",
    " 'annual_inc_joint',\n",
    " 'dti_joint',\n",
    " 'verification_status_joint',\n",
    " 'acc_now_delinq',\n",
    " 'tot_coll_amt',\n",
    " 'tot_cur_bal',\n",
    " 'open_acc_6m',\n",
    " #'open_il_6m',\n",
    " 'open_il_12m',\n",
    " 'open_il_24m',\n",
    " 'mths_since_rcnt_il',\n",
    " 'total_bal_il',\n",
    " 'il_util',\n",
    " 'open_rv_12m',\n",
    " 'open_rv_24m',\n",
    " 'max_bal_bc',\n",
    " 'all_util',\n",
    " 'total_rev_hi_lim',\n",
    " 'inq_fi',\n",
    " 'total_cu_tl',\n",
    " 'inq_last_12m')"
   ]
  },
  {
   "cell_type": "markdown",
   "metadata": {},
   "source": [
    "### Numbers of Fields after attributes selections [1]"
   ]
  },
  {
   "cell_type": "code",
   "execution_count": 14,
   "metadata": {},
   "outputs": [
    {
     "data": {
      "text/plain": [
       "73"
      ]
     },
     "execution_count": 14,
     "metadata": {},
     "output_type": "execute_result"
    }
   ],
   "source": [
    "len(rawweb_df.columns)"
   ]
  },
  {
   "cell_type": "code",
   "execution_count": 15,
   "metadata": {},
   "outputs": [
    {
     "name": "stdout",
     "output_type": "stream",
     "text": [
      "+--------+\n",
      "| issue_d|\n",
      "+--------+\n",
      "|Oct-2016|\n",
      "|Feb-2019|\n",
      "|Mar-2018|\n",
      "|Sep-2018|\n",
      "|Jan-2016|\n",
      "|Jul-2016|\n",
      "|Aug-2016|\n",
      "|Feb-2017|\n",
      "|Nov-2018|\n",
      "|Jul-2018|\n",
      "|Apr-2018|\n",
      "|Dec-2018|\n",
      "|May-2016|\n",
      "|Jan-2018|\n",
      "|Aug-2018|\n",
      "|Jan-2019|\n",
      "|Apr-2016|\n",
      "|Sep-2016|\n",
      "|Oct-2018|\n",
      "|Feb-2018|\n",
      "+--------+\n",
      "only showing top 20 rows\n",
      "\n"
     ]
    }
   ],
   "source": [
    "rawweb_df.select(['issue_d']).distinct().show()"
   ]
  },
  {
   "cell_type": "code",
   "execution_count": 16,
   "metadata": {
    "collapsed": true
   },
   "outputs": [],
   "source": [
    "raw_df = rawweb_df"
   ]
  },
  {
   "cell_type": "code",
   "execution_count": 17,
   "metadata": {},
   "outputs": [
    {
     "data": {
      "text/plain": [
       "1432439"
      ]
     },
     "execution_count": 17,
     "metadata": {},
     "output_type": "execute_result"
    }
   ],
   "source": [
    "raw_df.count()"
   ]
  },
  {
   "cell_type": "code",
   "execution_count": 18,
   "metadata": {
    "collapsed": true
   },
   "outputs": [],
   "source": [
    "df_colfam5 = raw_df.select(\"loan_amnt\",\"term\",\"int_rate\",\"installment\",\"grade\",\"emp_length\",\\\n",
    "                           \"home_ownership\",\"annual_inc\",\"verification_status\",\"loan_status\",\\\n",
    "                           \"purpose\",\"addr_state\",\"dti\",\"delinq_2yrs\",\"earliest_cr_line\",\\\n",
    "                           \"inq_last_6mths\",\"open_acc\",\"pub_rec\",\"revol_bal\",\"revol_util\",\"total_acc\",\\\n",
    "                           \"last_credit_pull_d\")"
   ]
  },
  {
   "cell_type": "markdown",
   "metadata": {},
   "source": [
    "### Numbers of Fields after final attributes selections [1]"
   ]
  },
  {
   "cell_type": "code",
   "execution_count": 19,
   "metadata": {},
   "outputs": [
    {
     "data": {
      "text/plain": [
       "22"
      ]
     },
     "execution_count": 19,
     "metadata": {},
     "output_type": "execute_result"
    }
   ],
   "source": [
    "len(df_colfam5.columns)"
   ]
  },
  {
   "cell_type": "code",
   "execution_count": 20,
   "metadata": {},
   "outputs": [
    {
     "name": "stdout",
     "output_type": "stream",
     "text": [
      "Requirement already satisfied: pandas in /root/anaconda3/lib/python3.6/site-packages\n",
      "Requirement already satisfied: python-dateutil>=2 in /root/anaconda3/lib/python3.6/site-packages (from pandas)\n",
      "Requirement already satisfied: pytz>=2011k in /root/anaconda3/lib/python3.6/site-packages (from pandas)\n",
      "Requirement already satisfied: numpy>=1.7.0 in /root/anaconda3/lib/python3.6/site-packages (from pandas)\n",
      "Requirement already satisfied: six>=1.5 in /root/anaconda3/lib/python3.6/site-packages (from python-dateutil>=2->pandas)\n",
      "\u001b[33mYou are using pip version 9.0.1, however version 20.0.2 is available.\n",
      "You should consider upgrading via the 'pip install --upgrade pip' command.\u001b[0m\n"
     ]
    }
   ],
   "source": [
    "! pip install pandas"
   ]
  },
  {
   "cell_type": "code",
   "execution_count": 21,
   "metadata": {},
   "outputs": [
    {
     "data": {
      "text/html": [
       "<div>\n",
       "<style>\n",
       "    .dataframe thead tr:only-child th {\n",
       "        text-align: right;\n",
       "    }\n",
       "\n",
       "    .dataframe thead th {\n",
       "        text-align: left;\n",
       "    }\n",
       "\n",
       "    .dataframe tbody tr th {\n",
       "        vertical-align: top;\n",
       "    }\n",
       "</style>\n",
       "<table border=\"1\" class=\"dataframe\">\n",
       "  <thead>\n",
       "    <tr style=\"text-align: right;\">\n",
       "      <th></th>\n",
       "      <th>0</th>\n",
       "      <th>1</th>\n",
       "      <th>2</th>\n",
       "      <th>3</th>\n",
       "      <th>4</th>\n",
       "    </tr>\n",
       "  </thead>\n",
       "  <tbody>\n",
       "    <tr>\n",
       "      <th>summary</th>\n",
       "      <td>count</td>\n",
       "      <td>mean</td>\n",
       "      <td>stddev</td>\n",
       "      <td>min</td>\n",
       "      <td>max</td>\n",
       "    </tr>\n",
       "    <tr>\n",
       "      <th>loan_amnt</th>\n",
       "      <td>1432439</td>\n",
       "      <td>15370.392945179516</td>\n",
       "      <td>9646.028077240426</td>\n",
       "      <td>1000</td>\n",
       "      <td>9975</td>\n",
       "    </tr>\n",
       "    <tr>\n",
       "      <th>term</th>\n",
       "      <td>1432439</td>\n",
       "      <td>None</td>\n",
       "      <td>None</td>\n",
       "      <td>36 months</td>\n",
       "      <td>60 months</td>\n",
       "    </tr>\n",
       "    <tr>\n",
       "      <th>int_rate</th>\n",
       "      <td>1432439</td>\n",
       "      <td>None</td>\n",
       "      <td>None</td>\n",
       "      <td>5.31%</td>\n",
       "      <td>30.99%</td>\n",
       "    </tr>\n",
       "    <tr>\n",
       "      <th>installment</th>\n",
       "      <td>1432439</td>\n",
       "      <td>456.6879090138958</td>\n",
       "      <td>281.71351826414445</td>\n",
       "      <td>100.01</td>\n",
       "      <td>999.98</td>\n",
       "    </tr>\n",
       "    <tr>\n",
       "      <th>grade</th>\n",
       "      <td>1432439</td>\n",
       "      <td>None</td>\n",
       "      <td>None</td>\n",
       "      <td>A</td>\n",
       "      <td>G</td>\n",
       "    </tr>\n",
       "    <tr>\n",
       "      <th>emp_length</th>\n",
       "      <td>1432439</td>\n",
       "      <td>None</td>\n",
       "      <td>None</td>\n",
       "      <td>1 year</td>\n",
       "      <td>n/a</td>\n",
       "    </tr>\n",
       "    <tr>\n",
       "      <th>home_ownership</th>\n",
       "      <td>1432439</td>\n",
       "      <td>None</td>\n",
       "      <td>None</td>\n",
       "      <td>ANY</td>\n",
       "      <td>RENT</td>\n",
       "    </tr>\n",
       "    <tr>\n",
       "      <th>annual_inc</th>\n",
       "      <td>1432439</td>\n",
       "      <td>81034.59412687029</td>\n",
       "      <td>134183.40313571738</td>\n",
       "      <td>0</td>\n",
       "      <td>99999.84</td>\n",
       "    </tr>\n",
       "    <tr>\n",
       "      <th>verification_status</th>\n",
       "      <td>1432439</td>\n",
       "      <td>None</td>\n",
       "      <td>None</td>\n",
       "      <td>Not Verified</td>\n",
       "      <td>Verified</td>\n",
       "    </tr>\n",
       "    <tr>\n",
       "      <th>loan_status</th>\n",
       "      <td>1432439</td>\n",
       "      <td>None</td>\n",
       "      <td>None</td>\n",
       "      <td>Charged Off</td>\n",
       "      <td>Late (31-120 days)</td>\n",
       "    </tr>\n",
       "    <tr>\n",
       "      <th>purpose</th>\n",
       "      <td>1432439</td>\n",
       "      <td>None</td>\n",
       "      <td>None</td>\n",
       "      <td>car</td>\n",
       "      <td>wedding</td>\n",
       "    </tr>\n",
       "    <tr>\n",
       "      <th>addr_state</th>\n",
       "      <td>1432439</td>\n",
       "      <td>None</td>\n",
       "      <td>None</td>\n",
       "      <td>AK</td>\n",
       "      <td>WY</td>\n",
       "    </tr>\n",
       "    <tr>\n",
       "      <th>dti</th>\n",
       "      <td>1430855</td>\n",
       "      <td>19.211872978044386</td>\n",
       "      <td>15.97277532300163</td>\n",
       "      <td>-1</td>\n",
       "      <td>999</td>\n",
       "    </tr>\n",
       "    <tr>\n",
       "      <th>delinq_2yrs</th>\n",
       "      <td>1432439</td>\n",
       "      <td>0.30147182532729144</td>\n",
       "      <td>0.8643187650693963</td>\n",
       "      <td>0</td>\n",
       "      <td>9</td>\n",
       "    </tr>\n",
       "    <tr>\n",
       "      <th>earliest_cr_line</th>\n",
       "      <td>1432439</td>\n",
       "      <td>None</td>\n",
       "      <td>None</td>\n",
       "      <td>Apr-1955</td>\n",
       "      <td>Sep-2015</td>\n",
       "    </tr>\n",
       "    <tr>\n",
       "      <th>inq_last_6mths</th>\n",
       "      <td>1432438</td>\n",
       "      <td>0.4954546025726768</td>\n",
       "      <td>0.7921955450181846</td>\n",
       "      <td>0</td>\n",
       "      <td>5</td>\n",
       "    </tr>\n",
       "    <tr>\n",
       "      <th>open_acc</th>\n",
       "      <td>1432439</td>\n",
       "      <td>11.710326233787267</td>\n",
       "      <td>5.841051333566688</td>\n",
       "      <td>0</td>\n",
       "      <td>97</td>\n",
       "    </tr>\n",
       "    <tr>\n",
       "      <th>pub_rec</th>\n",
       "      <td>1432439</td>\n",
       "      <td>0.20539234131435963</td>\n",
       "      <td>0.5861093697871795</td>\n",
       "      <td>0</td>\n",
       "      <td>9</td>\n",
       "    </tr>\n",
       "    <tr>\n",
       "      <th>revol_bal</th>\n",
       "      <td>1432439</td>\n",
       "      <td>16846.678102173984</td>\n",
       "      <td>23301.014583199456</td>\n",
       "      <td>0</td>\n",
       "      <td>99996</td>\n",
       "    </tr>\n",
       "    <tr>\n",
       "      <th>revol_util</th>\n",
       "      <td>1431250</td>\n",
       "      <td>None</td>\n",
       "      <td>None</td>\n",
       "      <td>0%</td>\n",
       "      <td>99.9%</td>\n",
       "    </tr>\n",
       "    <tr>\n",
       "      <th>total_acc</th>\n",
       "      <td>1432439</td>\n",
       "      <td>23.60291782058433</td>\n",
       "      <td>12.040971368344772</td>\n",
       "      <td>10</td>\n",
       "      <td>99</td>\n",
       "    </tr>\n",
       "    <tr>\n",
       "      <th>last_credit_pull_d</th>\n",
       "      <td>1432415</td>\n",
       "      <td>None</td>\n",
       "      <td>None</td>\n",
       "      <td>Apr-2016</td>\n",
       "      <td>Sep-2019</td>\n",
       "    </tr>\n",
       "  </tbody>\n",
       "</table>\n",
       "</div>"
      ],
      "text/plain": [
       "                           0                    1                   2  \\\n",
       "summary                count                 mean              stddev   \n",
       "loan_amnt            1432439   15370.392945179516   9646.028077240426   \n",
       "term                 1432439                 None                None   \n",
       "int_rate             1432439                 None                None   \n",
       "installment          1432439    456.6879090138958  281.71351826414445   \n",
       "grade                1432439                 None                None   \n",
       "emp_length           1432439                 None                None   \n",
       "home_ownership       1432439                 None                None   \n",
       "annual_inc           1432439    81034.59412687029  134183.40313571738   \n",
       "verification_status  1432439                 None                None   \n",
       "loan_status          1432439                 None                None   \n",
       "purpose              1432439                 None                None   \n",
       "addr_state           1432439                 None                None   \n",
       "dti                  1430855   19.211872978044386   15.97277532300163   \n",
       "delinq_2yrs          1432439  0.30147182532729144  0.8643187650693963   \n",
       "earliest_cr_line     1432439                 None                None   \n",
       "inq_last_6mths       1432438   0.4954546025726768  0.7921955450181846   \n",
       "open_acc             1432439   11.710326233787267   5.841051333566688   \n",
       "pub_rec              1432439  0.20539234131435963  0.5861093697871795   \n",
       "revol_bal            1432439   16846.678102173984  23301.014583199456   \n",
       "revol_util           1431250                 None                None   \n",
       "total_acc            1432439    23.60291782058433  12.040971368344772   \n",
       "last_credit_pull_d   1432415                 None                None   \n",
       "\n",
       "                                3                   4  \n",
       "summary                       min                 max  \n",
       "loan_amnt                    1000                9975  \n",
       "term                    36 months           60 months  \n",
       "int_rate                    5.31%              30.99%  \n",
       "installment                100.01              999.98  \n",
       "grade                           A                   G  \n",
       "emp_length                 1 year                 n/a  \n",
       "home_ownership                ANY                RENT  \n",
       "annual_inc                      0            99999.84  \n",
       "verification_status  Not Verified            Verified  \n",
       "loan_status           Charged Off  Late (31-120 days)  \n",
       "purpose                       car             wedding  \n",
       "addr_state                     AK                  WY  \n",
       "dti                            -1                 999  \n",
       "delinq_2yrs                     0                   9  \n",
       "earliest_cr_line         Apr-1955            Sep-2015  \n",
       "inq_last_6mths                  0                   5  \n",
       "open_acc                        0                  97  \n",
       "pub_rec                         0                   9  \n",
       "revol_bal                       0               99996  \n",
       "revol_util                     0%               99.9%  \n",
       "total_acc                      10                  99  \n",
       "last_credit_pull_d       Apr-2016            Sep-2019  "
      ]
     },
     "execution_count": 21,
     "metadata": {},
     "output_type": "execute_result"
    }
   ],
   "source": [
    "import pandas as pd\n",
    "pd.DataFrame(df_colfam5.describe().take(6), columns=df_colfam5.describe().columns).transpose()"
   ]
  },
  {
   "cell_type": "markdown",
   "metadata": {},
   "source": [
    "df_colfam5.select(['last_credit_pull_d']).distinct().\\\n",
    "orderBy(['last_credit_pull_d'],ascending=1).show()"
   ]
  },
  {
   "cell_type": "markdown",
   "metadata": {},
   "source": [
    "df_colfam5.select(['last_credit_pull_d']).\\\n",
    "filter(df_colfam5.last_credit_pull_d == '').count()"
   ]
  },
  {
   "cell_type": "markdown",
   "metadata": {},
   "source": [
    "df_colfam5.select(['last_credit_pull_d']).\\\n",
    "filter(df_colfam5['last_credit_pull_d'].isNull()).count()"
   ]
  },
  {
   "cell_type": "code",
   "execution_count": 22,
   "metadata": {},
   "outputs": [
    {
     "name": "stdout",
     "output_type": "stream",
     "text": [
      "+--------------+------+\n",
      "|home_ownership| count|\n",
      "+--------------+------+\n",
      "|           OWN|170888|\n",
      "|          RENT|556960|\n",
      "|      MORTGAGE|701646|\n",
      "|           ANY|  2940|\n",
      "|          NONE|     5|\n",
      "+--------------+------+\n",
      "\n"
     ]
    }
   ],
   "source": [
    "df_colfam5.groupby('home_ownership').count().show()"
   ]
  },
  {
   "cell_type": "markdown",
   "metadata": {},
   "source": [
    "# 2. Data Preparation"
   ]
  },
  {
   "cell_type": "markdown",
   "metadata": {},
   "source": [
    "Divide this process into 2 parts. The first is a business oriented preparation that turn many business rules to be programming's logics. Its result benefits many tasks related to the Business Intelligence and other descriptive analytics. The second one is a data science oriented preparation that turn many requirements of data science to be programming's logics. Its result benefits many tasks related to the Predictive analytics."
   ]
  },
  {
   "cell_type": "markdown",
   "metadata": {},
   "source": [
    "Asumption: Business oriented preparation: No missing values, ONLY month, Correct data types."
   ]
  },
  {
   "cell_type": "markdown",
   "metadata": {},
   "source": [
    "## Data Cleansing: Remove missing values"
   ]
  },
  {
   "cell_type": "code",
   "execution_count": 23,
   "metadata": {
    "collapsed": true
   },
   "outputs": [],
   "source": [
    "df_no_missing = df_colfam5.dropna(how='any')"
   ]
  },
  {
   "cell_type": "markdown",
   "metadata": {},
   "source": [
    "## Check for a schema"
   ]
  },
  {
   "cell_type": "code",
   "execution_count": 24,
   "metadata": {},
   "outputs": [
    {
     "name": "stdout",
     "output_type": "stream",
     "text": [
      "root\n",
      " |-- loan_amnt: string (nullable = true)\n",
      " |-- term: string (nullable = true)\n",
      " |-- int_rate: string (nullable = true)\n",
      " |-- installment: string (nullable = true)\n",
      " |-- grade: string (nullable = true)\n",
      " |-- emp_length: string (nullable = true)\n",
      " |-- home_ownership: string (nullable = true)\n",
      " |-- annual_inc: string (nullable = true)\n",
      " |-- verification_status: string (nullable = true)\n",
      " |-- loan_status: string (nullable = true)\n",
      " |-- purpose: string (nullable = true)\n",
      " |-- addr_state: string (nullable = true)\n",
      " |-- dti: string (nullable = true)\n",
      " |-- delinq_2yrs: string (nullable = true)\n",
      " |-- earliest_cr_line: string (nullable = true)\n",
      " |-- inq_last_6mths: string (nullable = true)\n",
      " |-- open_acc: string (nullable = true)\n",
      " |-- pub_rec: string (nullable = true)\n",
      " |-- revol_bal: string (nullable = true)\n",
      " |-- revol_util: string (nullable = true)\n",
      " |-- total_acc: string (nullable = true)\n",
      " |-- last_credit_pull_d: string (nullable = true)\n",
      "\n"
     ]
    }
   ],
   "source": [
    "df_no_missing.printSchema()"
   ]
  },
  {
   "cell_type": "code",
   "execution_count": 25,
   "metadata": {
    "collapsed": true
   },
   "outputs": [],
   "source": [
    "df_no_missing_fitmem = df_no_missing.repartition(60)"
   ]
  },
  {
   "cell_type": "code",
   "execution_count": 26,
   "metadata": {
    "collapsed": true
   },
   "outputs": [],
   "source": [
    "df_no_missing_cached = df_no_missing_fitmem.cache()"
   ]
  },
  {
   "cell_type": "code",
   "execution_count": 27,
   "metadata": {
    "collapsed": true
   },
   "outputs": [],
   "source": [
    "df_no_missing_cached.registerTempTable(\"df\")"
   ]
  },
  {
   "cell_type": "markdown",
   "metadata": {},
   "source": [
    "## Number of data rows"
   ]
  },
  {
   "cell_type": "code",
   "execution_count": 28,
   "metadata": {},
   "outputs": [
    {
     "data": {
      "text/plain": [
       "1429645"
      ]
     },
     "execution_count": 28,
     "metadata": {},
     "output_type": "execute_result"
    }
   ],
   "source": [
    "df_no_missing_cached.count()"
   ]
  },
  {
   "cell_type": "markdown",
   "metadata": {},
   "source": [
    "## Data Transformation: Remove Sign of Percent and Extract Month."
   ]
  },
  {
   "cell_type": "code",
   "execution_count": 29,
   "metadata": {
    "collapsed": true
   },
   "outputs": [],
   "source": [
    "from pyspark.sql.functions import udf\n",
    "from pyspark.sql.types import *"
   ]
  },
  {
   "cell_type": "markdown",
   "metadata": {},
   "source": [
    "### Remove Sign of Percent"
   ]
  },
  {
   "cell_type": "code",
   "execution_count": 30,
   "metadata": {
    "collapsed": true
   },
   "outputs": [],
   "source": [
    "def f_removepercentsign(origin):\n",
    "    return origin.rstrip('%')"
   ]
  },
  {
   "cell_type": "code",
   "execution_count": 31,
   "metadata": {
    "collapsed": true
   },
   "outputs": [],
   "source": [
    "removepercentsign = udf(lambda x: f_removepercentsign(x),StringType())"
   ]
  },
  {
   "cell_type": "markdown",
   "metadata": {},
   "source": [
    "### Extract Month"
   ]
  },
  {
   "cell_type": "code",
   "execution_count": 32,
   "metadata": {
    "collapsed": true
   },
   "outputs": [],
   "source": [
    "def f_extractmonth(origin):\n",
    "    return origin.split('-')[0]"
   ]
  },
  {
   "cell_type": "code",
   "execution_count": 33,
   "metadata": {
    "collapsed": true
   },
   "outputs": [],
   "source": [
    "extractmonth = udf(lambda x: f_extractmonth(x),StringType())"
   ]
  },
  {
   "cell_type": "code",
   "execution_count": null,
   "metadata": {
    "collapsed": true
   },
   "outputs": [],
   "source": []
  },
  {
   "cell_type": "code",
   "execution_count": 34,
   "metadata": {
    "collapsed": true
   },
   "outputs": [],
   "source": [
    "extractterm = udf(lambda x: x.replace('months',''),StringType())"
   ]
  },
  {
   "cell_type": "code",
   "execution_count": 35,
   "metadata": {
    "collapsed": true
   },
   "outputs": [],
   "source": [
    "#extractemp_length = udf(lambda x: x.replace('year',''),StringType())"
   ]
  },
  {
   "cell_type": "code",
   "execution_count": null,
   "metadata": {
    "collapsed": true
   },
   "outputs": [],
   "source": []
  },
  {
   "cell_type": "code",
   "execution_count": 36,
   "metadata": {
    "collapsed": true
   },
   "outputs": [],
   "source": [
    "from pyspark.sql.functions import col"
   ]
  },
  {
   "cell_type": "code",
   "execution_count": 37,
   "metadata": {
    "collapsed": true
   },
   "outputs": [],
   "source": [
    "dfWithCrunch = df_no_missing_cached.\\\n",
    "withColumn('revol_util',removepercentsign(col('revol_util')).cast(DoubleType())).\\\n",
    "withColumn('int_rate',removepercentsign(col('int_rate')).cast(DoubleType())).\\\n",
    "withColumn('earliest_cr_line',extractmonth(col('earliest_cr_line')).cast(StringType())).\\\n",
    "withColumn('last_credit_pull_d',extractmonth(col('last_credit_pull_d')).cast(StringType())).\\\n",
    "withColumn('dti',col('dti').cast(DoubleType())).\\\n",
    "withColumn('loan_amnt',col('loan_amnt').cast(DoubleType())).\\\n",
    "withColumn('revol_bal',col('revol_bal').cast(DoubleType())).\\\n",
    "withColumn('term',extractterm(col('term')).cast(DoubleType())).\\\n",
    "withColumn('installment',col('installment').cast(DoubleType())).\\\n",
    "withColumn('open_acc',col('open_acc').cast(DoubleType())).\\\n",
    "withColumn('total_acc',col('total_acc').cast(DoubleType())).\\\n",
    "withColumn('pub_rec',col('pub_rec').cast(DoubleType())).\\\n",
    "withColumn('annual_inc',col('annual_inc').cast(DoubleType()))"
   ]
  },
  {
   "cell_type": "code",
   "execution_count": 38,
   "metadata": {
    "collapsed": true
   },
   "outputs": [],
   "source": [
    "#dfWithCrunch.select(['last_credit_pull_d']).printSchema()"
   ]
  },
  {
   "cell_type": "code",
   "execution_count": 39,
   "metadata": {
    "collapsed": true
   },
   "outputs": [],
   "source": [
    "#dfWithCrunch.groupby('emp_length').count().show()"
   ]
  },
  {
   "cell_type": "code",
   "execution_count": 40,
   "metadata": {
    "collapsed": true
   },
   "outputs": [],
   "source": [
    "#dfWithCrunch.count()"
   ]
  },
  {
   "cell_type": "code",
   "execution_count": 41,
   "metadata": {},
   "outputs": [
    {
     "name": "stdout",
     "output_type": "stream",
     "text": [
      "+---------+--------+-----+--------------+-----+----+\n",
      "|loan_amnt|int_rate|  dti|home_ownership|grade|term|\n",
      "+---------+--------+-----+--------------+-----+----+\n",
      "|  20625.0|   10.75|24.16|      MORTGAGE|    B|36.0|\n",
      "|  12875.0|   13.67| 6.49|      MORTGAGE|    C|36.0|\n",
      "|  16300.0|    9.75|24.74|           OWN|    B|36.0|\n",
      "|  10000.0|   14.46|33.73|          RENT|    C|36.0|\n",
      "|   7200.0|    8.39| 8.08|          RENT|    B|36.0|\n",
      "|  30000.0|   10.75|22.14|      MORTGAGE|    B|60.0|\n",
      "|  15000.0|    9.75|15.91|          RENT|    B|60.0|\n",
      "|   8000.0|    9.75|17.66|          RENT|    B|36.0|\n",
      "|  10000.0|    6.97|17.24|      MORTGAGE|    A|36.0|\n",
      "|   6500.0|   11.47| 16.0|          RENT|    B|36.0|\n",
      "|  17650.0|   19.53|13.63|          RENT|    D|36.0|\n",
      "|  10000.0|   12.99| 9.75|          RENT|    C|36.0|\n",
      "|   7000.0|   11.47|21.36|      MORTGAGE|    B|36.0|\n",
      "|  25000.0|   18.25|36.29|           OWN|    D|36.0|\n",
      "|   8500.0|    6.49|17.23|      MORTGAGE|    A|36.0|\n",
      "|  23675.0|   14.46|21.42|          RENT|    C|36.0|\n",
      "|   6000.0|   11.47| 17.6|          RENT|    B|36.0|\n",
      "|  14000.0|   11.99| 5.23|          RENT|    C|36.0|\n",
      "|   5000.0|    9.16|16.49|          RENT|    B|36.0|\n",
      "|   5000.0|    8.39|21.97|           OWN|    B|36.0|\n",
      "+---------+--------+-----+--------------+-----+----+\n",
      "only showing top 20 rows\n",
      "\n"
     ]
    }
   ],
   "source": [
    "dfWithCrunch.select(['loan_amnt','int_rate','dti','home_ownership','grade','term']).show()"
   ]
  },
  {
   "cell_type": "code",
   "execution_count": 42,
   "metadata": {
    "collapsed": true
   },
   "outputs": [],
   "source": [
    "#dfWithCrunch.select(['loan_amnt','int_rate','dti','home_ownership','grade']).printSchema()"
   ]
  },
  {
   "cell_type": "code",
   "execution_count": 43,
   "metadata": {},
   "outputs": [
    {
     "name": "stdout",
     "output_type": "stream",
     "text": [
      "+-------+------------------+-----------------+\n",
      "|summary|         loan_amnt|       annual_inc|\n",
      "+-------+------------------+-----------------+\n",
      "|  count|           1429645|          1429645|\n",
      "|   mean|15366.699302973815|81111.66344812173|\n",
      "| stddev| 9641.851365996221|134222.5400492037|\n",
      "|    min|            1000.0|              0.0|\n",
      "|    max|           40000.0|            6.1E7|\n",
      "+-------+------------------+-----------------+\n",
      "\n"
     ]
    }
   ],
   "source": [
    "dfWithCrunch.select(['loan_amnt','annual_inc']).describe().show()"
   ]
  },
  {
   "cell_type": "code",
   "execution_count": null,
   "metadata": {
    "collapsed": true
   },
   "outputs": [],
   "source": []
  },
  {
   "cell_type": "code",
   "execution_count": 44,
   "metadata": {
    "collapsed": true
   },
   "outputs": [],
   "source": [
    "rawhive_df = dfWithCrunch.repartition(60).cache()\n",
    "#rawhive_df.registerTempTable(\"crunched_data\")"
   ]
  },
  {
   "cell_type": "code",
   "execution_count": 45,
   "metadata": {},
   "outputs": [
    {
     "data": {
      "text/plain": [
       "22"
      ]
     },
     "execution_count": 45,
     "metadata": {},
     "output_type": "execute_result"
    }
   ],
   "source": [
    "len(rawhive_df.columns)"
   ]
  },
  {
   "cell_type": "code",
   "execution_count": 46,
   "metadata": {},
   "outputs": [
    {
     "name": "stdout",
     "output_type": "stream",
     "text": [
      "root\n",
      " |-- loan_amnt: double (nullable = true)\n",
      " |-- term: double (nullable = true)\n",
      " |-- int_rate: double (nullable = true)\n",
      " |-- installment: double (nullable = true)\n",
      " |-- grade: string (nullable = true)\n",
      " |-- emp_length: string (nullable = true)\n",
      " |-- home_ownership: string (nullable = true)\n",
      " |-- annual_inc: double (nullable = true)\n",
      " |-- verification_status: string (nullable = true)\n",
      " |-- loan_status: string (nullable = true)\n",
      " |-- purpose: string (nullable = true)\n",
      " |-- addr_state: string (nullable = true)\n",
      " |-- dti: double (nullable = true)\n",
      " |-- delinq_2yrs: string (nullable = true)\n",
      " |-- earliest_cr_line: string (nullable = true)\n",
      " |-- inq_last_6mths: string (nullable = true)\n",
      " |-- open_acc: double (nullable = true)\n",
      " |-- pub_rec: double (nullable = true)\n",
      " |-- revol_bal: double (nullable = true)\n",
      " |-- revol_util: double (nullable = true)\n",
      " |-- total_acc: double (nullable = true)\n",
      " |-- last_credit_pull_d: string (nullable = true)\n",
      "\n"
     ]
    }
   ],
   "source": [
    "rawhive_df.printSchema()"
   ]
  },
  {
   "cell_type": "code",
   "execution_count": 47,
   "metadata": {
    "collapsed": true
   },
   "outputs": [],
   "source": [
    "#rawhive_df.select(['loan_amnt','int_rate','dti','home_ownership','grade']).printSchema()"
   ]
  },
  {
   "cell_type": "code",
   "execution_count": 48,
   "metadata": {},
   "outputs": [
    {
     "data": {
      "text/plain": [
       "1429645"
      ]
     },
     "execution_count": 48,
     "metadata": {},
     "output_type": "execute_result"
    }
   ],
   "source": [
    "rawhive_df.count()"
   ]
  },
  {
   "cell_type": "markdown",
   "metadata": {},
   "source": [
    "### Data Transformation: Normalization of \"annual_inc\" and \"loan_amnt\""
   ]
  },
  {
   "cell_type": "code",
   "execution_count": 49,
   "metadata": {
    "collapsed": true
   },
   "outputs": [],
   "source": [
    "from pyspark.sql.functions import *\n",
    "\n",
    "max_annual_inc = rawhive_df.select(max('annual_inc')).collect()[0][0]\n",
    "\n",
    "min_annual_inc = rawhive_df.select(min('annual_inc')).collect()[0][0]\n",
    "\n",
    "#sqlContext.udf.register(\"t_annual_inc\", lambda x: ((x-min_annual_inc)/(max_annual_inc-min_annual_inc)))"
   ]
  },
  {
   "cell_type": "code",
   "execution_count": 50,
   "metadata": {
    "collapsed": true
   },
   "outputs": [],
   "source": [
    "def t_annual_inc(origin):\n",
    "    return ((origin-min_annual_inc)/(max_annual_inc-min_annual_inc))"
   ]
  },
  {
   "cell_type": "code",
   "execution_count": 51,
   "metadata": {
    "collapsed": true
   },
   "outputs": [],
   "source": [
    "normalized_annual_inc = udf(lambda x: t_annual_inc(x),DoubleType())"
   ]
  },
  {
   "cell_type": "code",
   "execution_count": 52,
   "metadata": {
    "collapsed": true
   },
   "outputs": [],
   "source": [
    "max_loan_amnt = rawhive_df.select(max('loan_amnt')).collect()[0][0]\n",
    "\n",
    "min_loan_amnt = rawhive_df.select(min('loan_amnt')).collect()[0][0]\n",
    "\n",
    "#sqlContext.udf.register(\"t_loan_amnt\", lambda x: ((x-min_loan_amnt)/(max_loan_amnt-min_loan_amnt)))"
   ]
  },
  {
   "cell_type": "code",
   "execution_count": 53,
   "metadata": {
    "collapsed": true
   },
   "outputs": [],
   "source": [
    "def t_loan_amnt(origin):\n",
    "    return ((origin-min_loan_amnt)/(max_loan_amnt-min_loan_amnt))"
   ]
  },
  {
   "cell_type": "code",
   "execution_count": 54,
   "metadata": {
    "collapsed": true
   },
   "outputs": [],
   "source": [
    "normalized_loan_amnt = udf(lambda x: t_loan_amnt(x),DoubleType())"
   ]
  },
  {
   "cell_type": "code",
   "execution_count": 55,
   "metadata": {
    "collapsed": true
   },
   "outputs": [],
   "source": [
    "normalized_df = rawhive_df.withColumn('loan_amnt',normalized_loan_amnt(col('loan_amnt'))).\\\n",
    "withColumn('annual_inc',normalized_annual_inc(col('annual_inc')))"
   ]
  },
  {
   "cell_type": "code",
   "execution_count": 56,
   "metadata": {},
   "outputs": [
    {
     "name": "stdout",
     "output_type": "stream",
     "text": [
      "root\n",
      " |-- loan_amnt: double (nullable = true)\n",
      " |-- term: double (nullable = true)\n",
      " |-- int_rate: double (nullable = true)\n",
      " |-- installment: double (nullable = true)\n",
      " |-- grade: string (nullable = true)\n",
      " |-- emp_length: string (nullable = true)\n",
      " |-- home_ownership: string (nullable = true)\n",
      " |-- annual_inc: double (nullable = true)\n",
      " |-- verification_status: string (nullable = true)\n",
      " |-- loan_status: string (nullable = true)\n",
      " |-- purpose: string (nullable = true)\n",
      " |-- addr_state: string (nullable = true)\n",
      " |-- dti: double (nullable = true)\n",
      " |-- delinq_2yrs: string (nullable = true)\n",
      " |-- earliest_cr_line: string (nullable = true)\n",
      " |-- inq_last_6mths: string (nullable = true)\n",
      " |-- open_acc: double (nullable = true)\n",
      " |-- pub_rec: double (nullable = true)\n",
      " |-- revol_bal: double (nullable = true)\n",
      " |-- revol_util: double (nullable = true)\n",
      " |-- total_acc: double (nullable = true)\n",
      " |-- last_credit_pull_d: string (nullable = true)\n",
      "\n"
     ]
    }
   ],
   "source": [
    "normalized_df.printSchema()"
   ]
  },
  {
   "cell_type": "markdown",
   "metadata": {},
   "source": [
    "### Number of data rows that are only \"Fully Paid\" and \"Charged Off\""
   ]
  },
  {
   "cell_type": "code",
   "execution_count": 57,
   "metadata": {
    "collapsed": true
   },
   "outputs": [],
   "source": [
    "from pyspark.sql.functions import col"
   ]
  },
  {
   "cell_type": "code",
   "execution_count": 58,
   "metadata": {},
   "outputs": [
    {
     "name": "stdout",
     "output_type": "stream",
     "text": [
      "+------------------+------+\n",
      "|       loan_status| count|\n",
      "+------------------+------+\n",
      "|        Fully Paid|582923|\n",
      "|           Default|  1416|\n",
      "|   In Grace Period|  6125|\n",
      "|       Charged Off|152817|\n",
      "|Late (31-120 days)| 19405|\n",
      "|           Current|661982|\n",
      "| Late (16-30 days)|  4977|\n",
      "+------------------+------+\n",
      "\n"
     ]
    }
   ],
   "source": [
    "normalized_df.select(col('loan_status')).groupBy('loan_status').count().show()"
   ]
  },
  {
   "cell_type": "code",
   "execution_count": 59,
   "metadata": {},
   "outputs": [
    {
     "name": "stdout",
     "output_type": "stream",
     "text": [
      "+---------+----+--------+-----------+-----+--------------------+---------+-----------+\n",
      "|loan_amnt|term|int_rate|installment|grade|          annual_inc|revol_bal|loan_status|\n",
      "+---------+----+--------+-----------+-----+--------------------+---------+-----------+\n",
      "|      0.0|36.0|    5.31|      30.12|    A|4.098360655737705E-4|   3215.0|    Current|\n",
      "|      0.0|36.0|    5.31|      30.12|    A|5.081967213114754E-4|  25993.0| Fully Paid|\n",
      "|      0.0|36.0|    5.31|      30.12|    A|5.901639344262295E-4|   3311.0| Fully Paid|\n",
      "|      0.0|36.0|    5.31|      30.12|    A|6.065573770491804E-4|   1605.0| Fully Paid|\n",
      "|      0.0|36.0|    5.31|      30.12|    A|6.557377049180328E-4|   1016.0| Fully Paid|\n",
      "|      0.0|36.0|    5.31|      30.12|    A|6.557377049180328E-4|   1329.0|    Current|\n",
      "|      0.0|36.0|    5.31|      30.12|    A|7.180327868852459E-4|    804.0|    Current|\n",
      "|      0.0|36.0|    5.31|      30.12|    A|9.344262295081968E-4|    858.0| Fully Paid|\n",
      "|      0.0|36.0|    5.31|      30.12|    A|0.001557377049180328|   2608.0| Fully Paid|\n",
      "|      0.0|36.0|    5.32|      30.12|    A|2.948852459016393E-4|   3092.0|Charged Off|\n",
      "|      0.0|36.0|    5.32|      30.12|    A|3.278688524590164E-4|   1059.0| Fully Paid|\n",
      "|      0.0|36.0|    5.32|      30.12|    A|3.399344262295082E-4|   4521.0|Charged Off|\n",
      "|      0.0|36.0|    5.32|      30.12|    A|4.918032786885246E-4|   5394.0| Fully Paid|\n",
      "|      0.0|36.0|    5.32|      30.12|    A|4.918032786885246E-4|   8631.0|    Current|\n",
      "|      0.0|36.0|    5.32|      30.12|    A| 5.40983606557377E-4|    464.0| Fully Paid|\n",
      "|      0.0|36.0|    5.32|      30.12|    A| 5.40983606557377E-4|   3869.0|    Current|\n",
      "|      0.0|36.0|    5.32|      30.12|    A| 5.40983606557377E-4|   3869.0|    Current|\n",
      "|      0.0|36.0|    5.32|      30.12|    A| 5.40983606557377E-4|   3869.0|    Current|\n",
      "|      0.0|36.0|    5.32|      30.12|    A| 5.40983606557377E-4|   3869.0|    Current|\n",
      "|      0.0|36.0|    5.32|      30.12|    A|5.734426229508197E-4|   1277.0|    Current|\n",
      "+---------+----+--------+-----------+-----+--------------------+---------+-----------+\n",
      "only showing top 20 rows\n",
      "\n"
     ]
    }
   ],
   "source": [
    "normalized_df.select(['loan_amnt','term','int_rate','installment','grade','annual_inc','revol_bal','loan_status']).\\\n",
    "orderBy(['loan_amnt','term','int_rate','installment','grade','annual_inc']).show()"
   ]
  },
  {
   "cell_type": "code",
   "execution_count": 60,
   "metadata": {},
   "outputs": [
    {
     "name": "stdout",
     "output_type": "stream",
     "text": [
      "+-------+-------------------+--------------------+\n",
      "|summary|          loan_amnt|          annual_inc|\n",
      "+-------+-------------------+--------------------+\n",
      "|  count|            1429645|             1429645|\n",
      "|   mean| 0.3683769052044868|0.001329699400788...|\n",
      "| stddev|0.24722695810246717|0.002200369509003...|\n",
      "|    min|                0.0|                 0.0|\n",
      "|    max|                1.0|                 1.0|\n",
      "+-------+-------------------+--------------------+\n",
      "\n"
     ]
    }
   ],
   "source": [
    "normalized_df.select(['loan_amnt','annual_inc']).describe().show()"
   ]
  },
  {
   "cell_type": "code",
   "execution_count": 61,
   "metadata": {
    "collapsed": true
   },
   "outputs": [],
   "source": [
    "normalized_filtered_df = normalized_df.filter(col('loan_status') == 'Fully Paid').\\\n",
    "union(normalized_df.filter(col('loan_status') == 'Charged Off'))"
   ]
  },
  {
   "cell_type": "code",
   "execution_count": 62,
   "metadata": {
    "collapsed": true
   },
   "outputs": [],
   "source": [
    "data = normalized_filtered_df.repartition(60).cache()"
   ]
  },
  {
   "cell_type": "markdown",
   "metadata": {},
   "source": [
    "### Drop Null"
   ]
  },
  {
   "cell_type": "code",
   "execution_count": 63,
   "metadata": {
    "collapsed": true
   },
   "outputs": [],
   "source": [
    "data_no_missing_df = data.dropna(how='any')"
   ]
  },
  {
   "cell_type": "code",
   "execution_count": 64,
   "metadata": {},
   "outputs": [
    {
     "data": {
      "text/plain": [
       "735740"
      ]
     },
     "execution_count": 64,
     "metadata": {},
     "output_type": "execute_result"
    }
   ],
   "source": [
    "data_no_missing_df.count()"
   ]
  },
  {
   "cell_type": "code",
   "execution_count": 65,
   "metadata": {},
   "outputs": [
    {
     "name": "stdout",
     "output_type": "stream",
     "text": [
      "+------------------+\n",
      "|       loan_status|\n",
      "+------------------+\n",
      "|        Fully Paid|\n",
      "|           Default|\n",
      "|   In Grace Period|\n",
      "|       Charged Off|\n",
      "|Late (31-120 days)|\n",
      "|           Current|\n",
      "| Late (16-30 days)|\n",
      "+------------------+\n",
      "\n"
     ]
    }
   ],
   "source": [
    "df_no_missing_cached.select(['loan_status']).distinct().show(100)"
   ]
  },
  {
   "cell_type": "code",
   "execution_count": 66,
   "metadata": {},
   "outputs": [
    {
     "name": "stdout",
     "output_type": "stream",
     "text": [
      "root\n",
      " |-- loan_amnt: double (nullable = true)\n",
      " |-- term: double (nullable = true)\n",
      " |-- int_rate: double (nullable = true)\n",
      " |-- installment: double (nullable = true)\n",
      " |-- grade: string (nullable = true)\n",
      " |-- emp_length: string (nullable = true)\n",
      " |-- home_ownership: string (nullable = true)\n",
      " |-- annual_inc: double (nullable = true)\n",
      " |-- verification_status: string (nullable = true)\n",
      " |-- loan_status: string (nullable = true)\n",
      " |-- purpose: string (nullable = true)\n",
      " |-- addr_state: string (nullable = true)\n",
      " |-- dti: double (nullable = true)\n",
      " |-- delinq_2yrs: string (nullable = true)\n",
      " |-- earliest_cr_line: string (nullable = true)\n",
      " |-- inq_last_6mths: string (nullable = true)\n",
      " |-- open_acc: double (nullable = true)\n",
      " |-- pub_rec: double (nullable = true)\n",
      " |-- revol_bal: double (nullable = true)\n",
      " |-- revol_util: double (nullable = true)\n",
      " |-- total_acc: double (nullable = true)\n",
      " |-- last_credit_pull_d: string (nullable = true)\n",
      "\n"
     ]
    }
   ],
   "source": [
    "data_no_missing_df.printSchema()"
   ]
  },
  {
   "cell_type": "markdown",
   "metadata": {},
   "source": [
    "# 3. Data Modeling"
   ]
  },
  {
   "cell_type": "code",
   "execution_count": 67,
   "metadata": {
    "collapsed": true
   },
   "outputs": [],
   "source": [
    "import pyspark\n",
    "from pyspark.sql import SQLContext\n",
    "from pyspark.sql.types import *\n",
    "from pyspark.ml.feature import OneHotEncoder, StringIndexer\n",
    "from pyspark.ml.feature import VectorAssembler\n",
    "from pyspark.mllib.clustering import KMeans, KMeansModel\n",
    "from pyspark.ml.feature import StringIndexer, VectorAssembler, OneHotEncoder,\\\n",
    "VectorIndexer, QuantileDiscretizer\n",
    "from pyspark.ml.tuning import ParamGridBuilder, CrossValidator\n",
    "from pyspark.ml.evaluation import MulticlassClassificationEvaluator, BinaryClassificationEvaluator\n",
    "from pyspark.ml.classification import LogisticRegression, GBTClassifier, NaiveBayes, RandomForestClassifier, DecisionTreeClassifier\n",
    "from pyspark.ml import Pipeline\n",
    "from pyspark.ml.clustering import *"
   ]
  },
  {
   "cell_type": "code",
   "execution_count": 68,
   "metadata": {
    "collapsed": true
   },
   "outputs": [],
   "source": [
    "installmentDiscretizer = QuantileDiscretizer(numBuckets=5,inputCol='installment',\\\n",
    "                                             outputCol='installmentDiscreted')"
   ]
  },
  {
   "cell_type": "code",
   "execution_count": 69,
   "metadata": {
    "collapsed": true
   },
   "outputs": [],
   "source": [
    "labelIndexer = StringIndexer(inputCol='loan_status',outputCol='indexedLabel')"
   ]
  },
  {
   "cell_type": "code",
   "execution_count": 70,
   "metadata": {
    "collapsed": true
   },
   "outputs": [],
   "source": [
    "homeIndexer = StringIndexer(inputCol='home_ownership',outputCol='homeIndexed')\n",
    "homeOneHotEncoder = OneHotEncoder(dropLast=False,inputCol='homeIndexed',outputCol='homeVec')"
   ]
  },
  {
   "cell_type": "code",
   "execution_count": 71,
   "metadata": {
    "collapsed": true
   },
   "outputs": [],
   "source": [
    "gradeIndexer = StringIndexer(inputCol='grade',outputCol='gradeIndexed')\n",
    "gradeOneHotEncoder = OneHotEncoder(dropLast=False,inputCol='gradeIndexed',outputCol='gradeVec')"
   ]
  },
  {
   "cell_type": "code",
   "execution_count": 72,
   "metadata": {
    "collapsed": true
   },
   "outputs": [],
   "source": [
    "purposeIndexer = StringIndexer(inputCol='purpose',outputCol='purposeIndexed')\n",
    "purposeOneHotEncoder = OneHotEncoder(dropLast=False,inputCol='purposeIndexed',\\\n",
    "                                     outputCol='purposeVec')"
   ]
  },
  {
   "cell_type": "code",
   "execution_count": 73,
   "metadata": {
    "collapsed": true
   },
   "outputs": [],
   "source": [
    "emp_lengthIndexer = StringIndexer(inputCol='emp_length',outputCol='emp_lengthIndexed')\n",
    "emp_lengthOneHotEncoder = OneHotEncoder(dropLast=False,inputCol='emp_lengthIndexed',\\\n",
    "                                     outputCol='emp_lengthVec')"
   ]
  },
  {
   "cell_type": "code",
   "execution_count": 74,
   "metadata": {
    "collapsed": true
   },
   "outputs": [],
   "source": [
    "featureAssembler = VectorAssembler(inputCols=[\\\n",
    "                                              'loan_amnt',\\\n",
    "                                              'int_rate',\\\n",
    "                                              #'revol_bal',\\\n",
    "                                              'annual_inc',\\\n",
    "                                              'emp_lengthVec',\\\n",
    "                                              'installmentDiscreted',\\\n",
    "                                              'dti',\\\n",
    "                                              'homeVec',\\\n",
    "                                              'gradeVec',\\\n",
    "                                              'open_acc',\\\n",
    "                                              'term'],\\\n",
    "                                   outputCol='features')"
   ]
  },
  {
   "cell_type": "code",
   "execution_count": null,
   "metadata": {
    "collapsed": true
   },
   "outputs": [],
   "source": []
  },
  {
   "cell_type": "code",
   "execution_count": null,
   "metadata": {
    "collapsed": true
   },
   "outputs": [],
   "source": []
  },
  {
   "cell_type": "code",
   "execution_count": null,
   "metadata": {
    "collapsed": true
   },
   "outputs": [],
   "source": []
  },
  {
   "cell_type": "code",
   "execution_count": null,
   "metadata": {
    "collapsed": true
   },
   "outputs": [],
   "source": []
  },
  {
   "cell_type": "raw",
   "metadata": {
    "collapsed": true
   },
   "source": [
    "dt = RandomForestClassifier(featuresCol='***features',labelCol='indexedLabel',numTrees=10)"
   ]
  },
  {
   "cell_type": "raw",
   "metadata": {
    "collapsed": true
   },
   "source": [
    "pipeline_dt = Pipeline().setStages([gradeIndexer,gradeOneHotEncoder,\\\n",
    "                                    homeIndexer,homeOneHotEncoder,\\\n",
    "                                    purposeIndexer,purposeOneHotEncoder,\\\n",
    "                                    emp_lengthIndexer,emp_lengthOneHotEncoder,\\\n",
    "                                    #home_ownershipIndexer,home_ownershipOneHotEncoder,\\\n",
    "                                    installmentDiscretizer,\\\n",
    "                                    labelIndexer,featureAssembler,dt])"
   ]
  },
  {
   "cell_type": "code",
   "execution_count": 77,
   "metadata": {
    "collapsed": true
   },
   "outputs": [],
   "source": [
    "data_no_missing_df_fully_paid = data_no_missing_df.filter(col('loan_status') == 'Fully Paid').sample(True, 0.3, 42)"
   ]
  },
  {
   "cell_type": "code",
   "execution_count": 78,
   "metadata": {
    "collapsed": true
   },
   "outputs": [],
   "source": [
    "data_no_missing_df_charge_off = data_no_missing_df.filter(col('loan_status') == 'Charged Off')"
   ]
  },
  {
   "cell_type": "code",
   "execution_count": 79,
   "metadata": {
    "collapsed": true
   },
   "outputs": [],
   "source": [
    "final_data_no_missing_df = data_no_missing_df_fully_paid.union(data_no_missing_df_charge_off)"
   ]
  },
  {
   "cell_type": "code",
   "execution_count": 80,
   "metadata": {
    "collapsed": true
   },
   "outputs": [],
   "source": [
    "training , test = final_data_no_missing_df.filter(col('loan_amnt') > 0).randomSplit([0.8,0.2])"
   ]
  },
  {
   "cell_type": "code",
   "execution_count": 81,
   "metadata": {},
   "outputs": [
    {
     "name": "stdout",
     "output_type": "stream",
     "text": [
      "+-------+-------------------+\n",
      "|summary|          loan_amnt|\n",
      "+-------+-------------------+\n",
      "|  count|             260745|\n",
      "|   mean| 0.3588826542879378|\n",
      "| stddev|0.23803869280248646|\n",
      "|    min|6.41025641025641E-4|\n",
      "|    max|                1.0|\n",
      "+-------+-------------------+\n",
      "\n"
     ]
    }
   ],
   "source": [
    "training.select('loan_amnt').describe().show()"
   ]
  },
  {
   "cell_type": "code",
   "execution_count": 82,
   "metadata": {},
   "outputs": [
    {
     "name": "stdout",
     "output_type": "stream",
     "text": [
      "+-------+------------------+\n",
      "|summary|         revol_bal|\n",
      "+-------+------------------+\n",
      "|  count|            260745|\n",
      "|   mean|15877.743385299815|\n",
      "| stddev| 21578.74699967469|\n",
      "|    min|               0.0|\n",
      "|    max|         1137891.0|\n",
      "+-------+------------------+\n",
      "\n"
     ]
    }
   ],
   "source": [
    "training.select(['revol_bal']).\\\n",
    "describe().show()"
   ]
  },
  {
   "cell_type": "code",
   "execution_count": 83,
   "metadata": {},
   "outputs": [
    {
     "name": "stdout",
     "output_type": "stream",
     "text": [
      "+-------+-------------------+------------------+------------------+-----------------+--------------------+\n",
      "|summary|          loan_amnt|              term|          int_rate|      installment|          annual_inc|\n",
      "+-------+-------------------+------------------+------------------+-----------------+--------------------+\n",
      "|  count|             260745|            260745|            260745|           260745|              260745|\n",
      "|   mean| 0.3588826542879378| 42.04323764597596|14.057881838578194|461.3462111258122|0.001280400949626...|\n",
      "| stddev|0.23803869280248646|10.417168446356694| 5.397254156773198|284.4969347563382|0.001374141626438...|\n",
      "|    min|6.41025641025641E-4|              36.0|              5.31|            33.05|                 0.0|\n",
      "|    max|                1.0|              60.0|             30.99|          1715.42| 0.15693560655737704|\n",
      "+-------+-------------------+------------------+------------------+-----------------+--------------------+\n",
      "\n"
     ]
    }
   ],
   "source": [
    "training.select(['loan_amnt','term','int_rate','installment','annual_inc']).\\\n",
    "describe().show()"
   ]
  },
  {
   "cell_type": "code",
   "execution_count": 84,
   "metadata": {},
   "outputs": [
    {
     "data": {
      "text/plain": [
       "DataFrame[loan_amnt: double, term: double, int_rate: double, installment: double, grade: string, emp_length: string, home_ownership: string, annual_inc: double, verification_status: string, loan_status: string, purpose: string, addr_state: string, dti: double, delinq_2yrs: string, earliest_cr_line: string, inq_last_6mths: string, open_acc: double, pub_rec: double, revol_bal: double, revol_util: double, total_acc: double, last_credit_pull_d: string]"
      ]
     },
     "execution_count": 84,
     "metadata": {},
     "output_type": "execute_result"
    }
   ],
   "source": [
    "training"
   ]
  },
  {
   "cell_type": "code",
   "execution_count": 85,
   "metadata": {
    "collapsed": true
   },
   "outputs": [],
   "source": [
    "from pyspark.ml.classification import MultilayerPerceptronClassifier\n",
    "\n",
    "pipeline = Pipeline(stages=[gradeIndexer,gradeOneHotEncoder,\\\n",
    "                                    homeIndexer,homeOneHotEncoder,\\\n",
    "                                    purposeIndexer,purposeOneHotEncoder,\\\n",
    "                                    emp_lengthIndexer,emp_lengthOneHotEncoder,\\\n",
    "                                    #home_ownershipIndexer,home_ownershipOneHotEncoder,\\\n",
    "                                    installmentDiscretizer,\\\n",
    "                                    labelIndexer,featureAssembler])"
   ]
  },
  {
   "cell_type": "code",
   "execution_count": 86,
   "metadata": {
    "collapsed": true
   },
   "outputs": [],
   "source": [
    "train_df_features = pipeline.fit(training).transform(training)"
   ]
  },
  {
   "cell_type": "markdown",
   "metadata": {},
   "source": [
    "### MLP: กำหนด Pipeline เพื่อ Train Network"
   ]
  },
  {
   "cell_type": "code",
   "execution_count": 87,
   "metadata": {
    "collapsed": true
   },
   "outputs": [],
   "source": [
    "layers = [\n",
    "    train_df_features.schema[\"features\"].metadata[\"ml_attr\"][\"num_attrs\"],\n",
    "    20, 10, 2\n",
    "]"
   ]
  },
  {
   "cell_type": "code",
   "execution_count": 88,
   "metadata": {},
   "outputs": [
    {
     "data": {
      "text/plain": [
       "[30, 20, 10, 2]"
      ]
     },
     "execution_count": 88,
     "metadata": {},
     "output_type": "execute_result"
    }
   ],
   "source": [
    "layers"
   ]
  },
  {
   "cell_type": "code",
   "execution_count": 90,
   "metadata": {
    "collapsed": true
   },
   "outputs": [],
   "source": [
    "#layers = [30, 5, 4, 2]\n",
    "\n",
    "clf = MultilayerPerceptronClassifier(labelCol='indexedLabel',featuresCol='features'\\\n",
    "                                     ,layers=layers)"
   ]
  },
  {
   "cell_type": "code",
   "execution_count": 91,
   "metadata": {
    "collapsed": true
   },
   "outputs": [],
   "source": [
    "from pyspark.ml.classification import MultilayerPerceptronClassifier\n",
    "\n",
    "pipeline = Pipeline(stages=[gradeIndexer,gradeOneHotEncoder,\\\n",
    "                                    homeIndexer,homeOneHotEncoder,\\\n",
    "                                    purposeIndexer,purposeOneHotEncoder,\\\n",
    "                                    emp_lengthIndexer,emp_lengthOneHotEncoder,\\\n",
    "                                    #home_ownershipIndexer,home_ownershipOneHotEncoder,\\\n",
    "                                    installmentDiscretizer,\\\n",
    "                                    labelIndexer,featureAssembler,clf])"
   ]
  },
  {
   "cell_type": "code",
   "execution_count": 92,
   "metadata": {
    "collapsed": true
   },
   "outputs": [],
   "source": [
    "x1 = 'stepSize'\n",
    "x2 = 'maxIter'\n",
    "paramGrid = ParamGridBuilder() \\\n",
    "    .addGrid(getattr(clf,x1), [0.1, 0.2]) \\\n",
    "    .addGrid(getattr(clf,x2),[5,10])\\\n",
    "    .build()\n",
    "evaluator = MulticlassClassificationEvaluator(labelCol='indexedLabel',\n",
    "                                                          predictionCol='prediction', metricName='f1')\n",
    "crossval = CrossValidator(estimator=pipeline,\n",
    "                                      estimatorParamMaps=paramGrid,\n",
    "                                      evaluator=evaluator,\n",
    "                                      numFolds=2)\n",
    "cvModel = crossval.fit(training)"
   ]
  },
  {
   "cell_type": "code",
   "execution_count": null,
   "metadata": {
    "collapsed": true
   },
   "outputs": [],
   "source": []
  },
  {
   "cell_type": "code",
   "execution_count": null,
   "metadata": {
    "collapsed": true
   },
   "outputs": [],
   "source": []
  },
  {
   "cell_type": "code",
   "execution_count": null,
   "metadata": {
    "collapsed": true
   },
   "outputs": [],
   "source": []
  },
  {
   "cell_type": "code",
   "execution_count": null,
   "metadata": {
    "collapsed": true
   },
   "outputs": [],
   "source": []
  },
  {
   "cell_type": "code",
   "execution_count": null,
   "metadata": {
    "collapsed": true
   },
   "outputs": [],
   "source": []
  },
  {
   "cell_type": "code",
   "execution_count": null,
   "metadata": {
    "collapsed": true
   },
   "outputs": [],
   "source": []
  },
  {
   "cell_type": "markdown",
   "metadata": {
    "collapsed": true
   },
   "source": [
    "model1 = pipeline_dt.fit(training)"
   ]
  },
  {
   "cell_type": "code",
   "execution_count": 93,
   "metadata": {},
   "outputs": [
    {
     "name": "stdout",
     "output_type": "stream",
     "text": [
      "+-------+-------------------+------------------+------------------+--------------+------+\n",
      "|summary|          loan_amnt|          int_rate|               dti|home_ownership| grade|\n",
      "+-------+-------------------+------------------+------------------+--------------+------+\n",
      "|  count|             260745|            260745|            260745|        260745|260745|\n",
      "|   mean| 0.3588826542879378|14.057881838578194|19.258327906575396|          null|  null|\n",
      "| stddev|0.23803869280248646| 5.397254156773198|14.335118991928999|          null|  null|\n",
      "|    min|6.41025641025641E-4|              5.31|              -1.0|           ANY|     A|\n",
      "|    max|                1.0|             30.99|             999.0|          RENT|     G|\n",
      "+-------+-------------------+------------------+------------------+--------------+------+\n",
      "\n"
     ]
    }
   ],
   "source": [
    "training.select(['loan_amnt','int_rate','dti','home_ownership','grade']).describe().show()"
   ]
  },
  {
   "cell_type": "code",
   "execution_count": 94,
   "metadata": {},
   "outputs": [
    {
     "name": "stdout",
     "output_type": "stream",
     "text": [
      "+--------------------+--------+-----+--------------+-----+\n",
      "|           loan_amnt|int_rate|  dti|home_ownership|grade|\n",
      "+--------------------+--------+-----+--------------+-----+\n",
      "|0.001282051282051282|   19.53| 8.15|      MORTGAGE|    D|\n",
      "|0.005128205128205128|    9.16| 6.35|          RENT|    B|\n",
      "|0.005128205128205128|   10.75|  3.6|          RENT|    B|\n",
      "|0.005128205128205128|   13.49|13.11|          RENT|    C|\n",
      "|0.005128205128205128|   13.49|13.11|          RENT|    C|\n",
      "|0.005128205128205128|   14.46|28.42|          RENT|    C|\n",
      "|0.005128205128205128|   14.49|  8.5|           OWN|    C|\n",
      "|0.005128205128205128|   15.99| 6.51|      MORTGAGE|    C|\n",
      "|0.005128205128205128|   16.99| 15.6|          RENT|    D|\n",
      "|0.005128205128205128|   17.99| 4.95|          RENT|    D|\n",
      "|0.007692307692307693|   10.49|26.32|      MORTGAGE|    B|\n",
      "| 0.01282051282051282|    5.32|18.29|      MORTGAGE|    A|\n",
      "| 0.01282051282051282|    7.49| 2.95|      MORTGAGE|    A|\n",
      "| 0.01282051282051282|    8.99|13.75|      MORTGAGE|    B|\n",
      "| 0.01282051282051282|   10.75| 12.7|           OWN|    B|\n",
      "| 0.01282051282051282|   12.74|13.67|      MORTGAGE|    C|\n",
      "| 0.01282051282051282|   12.99|29.61|          RENT|    C|\n",
      "| 0.01282051282051282|   13.44| 22.3|      MORTGAGE|    C|\n",
      "| 0.01282051282051282|   16.99|18.32|           OWN|    D|\n",
      "|0.015384615384615385|    8.81| 7.27|          RENT|    A|\n",
      "+--------------------+--------+-----+--------------+-----+\n",
      "only showing top 20 rows\n",
      "\n"
     ]
    }
   ],
   "source": [
    "training.select(['loan_amnt','int_rate','dti','home_ownership','grade']).show()"
   ]
  },
  {
   "cell_type": "code",
   "execution_count": null,
   "metadata": {
    "collapsed": true
   },
   "outputs": [],
   "source": []
  },
  {
   "cell_type": "code",
   "execution_count": null,
   "metadata": {
    "collapsed": true
   },
   "outputs": [],
   "source": []
  },
  {
   "cell_type": "code",
   "execution_count": null,
   "metadata": {
    "collapsed": true
   },
   "outputs": [],
   "source": []
  },
  {
   "cell_type": "markdown",
   "metadata": {},
   "source": [
    "# 4. Evaluation of Models"
   ]
  },
  {
   "cell_type": "code",
   "execution_count": 97,
   "metadata": {
    "collapsed": true
   },
   "outputs": [],
   "source": [
    "result = cvModel.transform(test)"
   ]
  },
  {
   "cell_type": "code",
   "execution_count": null,
   "metadata": {
    "collapsed": true,
    "scrolled": true
   },
   "outputs": [],
   "source": []
  },
  {
   "cell_type": "code",
   "execution_count": 98,
   "metadata": {},
   "outputs": [
    {
     "data": {
      "text/plain": [
       "65335"
      ]
     },
     "execution_count": 98,
     "metadata": {},
     "output_type": "execute_result"
    }
   ],
   "source": [
    "test.count()"
   ]
  },
  {
   "cell_type": "code",
   "execution_count": 99,
   "metadata": {},
   "outputs": [
    {
     "data": {
      "text/plain": [
       "260745"
      ]
     },
     "execution_count": 99,
     "metadata": {},
     "output_type": "execute_result"
    }
   ],
   "source": [
    "training.count()"
   ]
  },
  {
   "cell_type": "code",
   "execution_count": 100,
   "metadata": {},
   "outputs": [
    {
     "name": "stdout",
     "output_type": "stream",
     "text": [
      "+-----------+------+\n",
      "|loan_status| count|\n",
      "+-----------+------+\n",
      "| Fully Paid|139151|\n",
      "|Charged Off|121594|\n",
      "+-----------+------+\n",
      "\n"
     ]
    }
   ],
   "source": [
    "training.groupBy('loan_status').count().show()"
   ]
  },
  {
   "cell_type": "code",
   "execution_count": 101,
   "metadata": {},
   "outputs": [
    {
     "data": {
      "text/plain": [
       "87416.0"
      ]
     },
     "execution_count": 101,
     "metadata": {},
     "output_type": "execute_result"
    }
   ],
   "source": [
    "(0.25*349664)"
   ]
  },
  {
   "cell_type": "code",
   "execution_count": 102,
   "metadata": {},
   "outputs": [
    {
     "data": {
      "text/plain": [
       "139151"
      ]
     },
     "execution_count": 102,
     "metadata": {},
     "output_type": "execute_result"
    }
   ],
   "source": [
    "training.filter(training.loan_status == 'Fully Paid').count()"
   ]
  },
  {
   "cell_type": "code",
   "execution_count": 103,
   "metadata": {},
   "outputs": [
    {
     "data": {
      "text/plain": [
       "121594"
      ]
     },
     "execution_count": 103,
     "metadata": {},
     "output_type": "execute_result"
    }
   ],
   "source": [
    "training.filter(training.loan_status == 'Charged Off').count()"
   ]
  },
  {
   "cell_type": "code",
   "execution_count": 104,
   "metadata": {},
   "outputs": [
    {
     "name": "stdout",
     "output_type": "stream",
     "text": [
      "+-----------+------------+----------+\n",
      "|loan_status|indexedLabel|prediction|\n",
      "+-----------+------------+----------+\n",
      "|Charged Off|         1.0|       0.0|\n",
      "|Charged Off|         1.0|       0.0|\n",
      "|Charged Off|         1.0|       0.0|\n",
      "|Charged Off|         1.0|       1.0|\n",
      "|Charged Off|         1.0|       1.0|\n",
      "|Charged Off|         1.0|       0.0|\n",
      "|Charged Off|         1.0|       1.0|\n",
      "|Charged Off|         1.0|       1.0|\n",
      "|Charged Off|         1.0|       1.0|\n",
      "|Charged Off|         1.0|       0.0|\n",
      "+-----------+------------+----------+\n",
      "only showing top 10 rows\n",
      "\n"
     ]
    }
   ],
   "source": [
    "result.select('loan_status','indexedLabel','prediction').filter(result.loan_status != 'Fully Paid').show(10)"
   ]
  },
  {
   "cell_type": "code",
   "execution_count": 105,
   "metadata": {},
   "outputs": [
    {
     "data": {
      "text/plain": [
       "30709"
      ]
     },
     "execution_count": 105,
     "metadata": {},
     "output_type": "execute_result"
    }
   ],
   "source": [
    "result.select('loan_status','indexedLabel','prediction').filter(result.loan_status != 'Fully Paid').count()"
   ]
  },
  {
   "cell_type": "code",
   "execution_count": 106,
   "metadata": {},
   "outputs": [
    {
     "data": {
      "text/plain": [
       "14637"
      ]
     },
     "execution_count": 106,
     "metadata": {},
     "output_type": "execute_result"
    }
   ],
   "source": [
    "result.select('loan_status','indexedLabel','prediction').filter(result.loan_status != 'Fully Paid').\\\n",
    "filter(result.indexedLabel == result.prediction).count()"
   ]
  },
  {
   "cell_type": "code",
   "execution_count": 107,
   "metadata": {},
   "outputs": [
    {
     "data": {
      "text/plain": [
       "16072"
      ]
     },
     "execution_count": 107,
     "metadata": {},
     "output_type": "execute_result"
    }
   ],
   "source": [
    "result.select('loan_status','indexedLabel','prediction').filter(result.loan_status != 'Fully Paid').\\\n",
    "filter(result.indexedLabel != result.prediction).count()"
   ]
  },
  {
   "cell_type": "code",
   "execution_count": 108,
   "metadata": {},
   "outputs": [
    {
     "name": "stdout",
     "output_type": "stream",
     "text": [
      "+-----------+------------+----------+\n",
      "|loan_status|indexedLabel|prediction|\n",
      "+-----------+------------+----------+\n",
      "| Fully Paid|         0.0|       1.0|\n",
      "| Fully Paid|         0.0|       0.0|\n",
      "| Fully Paid|         0.0|       0.0|\n",
      "| Fully Paid|         0.0|       0.0|\n",
      "| Fully Paid|         0.0|       0.0|\n",
      "| Fully Paid|         0.0|       1.0|\n",
      "| Fully Paid|         0.0|       0.0|\n",
      "| Fully Paid|         0.0|       1.0|\n",
      "| Fully Paid|         0.0|       1.0|\n",
      "| Fully Paid|         0.0|       0.0|\n",
      "| Fully Paid|         0.0|       1.0|\n",
      "| Fully Paid|         0.0|       1.0|\n",
      "| Fully Paid|         0.0|       1.0|\n",
      "| Fully Paid|         0.0|       1.0|\n",
      "| Fully Paid|         0.0|       1.0|\n",
      "| Fully Paid|         0.0|       1.0|\n",
      "| Fully Paid|         0.0|       0.0|\n",
      "| Fully Paid|         0.0|       0.0|\n",
      "| Fully Paid|         0.0|       0.0|\n",
      "| Fully Paid|         0.0|       0.0|\n",
      "+-----------+------------+----------+\n",
      "only showing top 20 rows\n",
      "\n"
     ]
    }
   ],
   "source": [
    "result.select('loan_status','indexedLabel','prediction').filter(result.loan_status == 'Fully Paid').show(20)"
   ]
  },
  {
   "cell_type": "code",
   "execution_count": 109,
   "metadata": {},
   "outputs": [
    {
     "data": {
      "text/plain": [
       "10916"
      ]
     },
     "execution_count": 109,
     "metadata": {},
     "output_type": "execute_result"
    }
   ],
   "source": [
    "result.select('loan_status','indexedLabel','prediction').filter(result.indexedLabel != result.prediction).\\\n",
    "filter(result.loan_status == 'Fully Paid').count()"
   ]
  },
  {
   "cell_type": "code",
   "execution_count": 110,
   "metadata": {},
   "outputs": [
    {
     "data": {
      "text/plain": [
       "16072"
      ]
     },
     "execution_count": 110,
     "metadata": {},
     "output_type": "execute_result"
    }
   ],
   "source": [
    "result.select('loan_status','indexedLabel','prediction').filter(result.indexedLabel != result.prediction).filter(result.loan_status == 'Charged Off').count()"
   ]
  },
  {
   "cell_type": "markdown",
   "metadata": {
    "collapsed": true
   },
   "source": [
    "## Calculation for Confusion Matrix."
   ]
  },
  {
   "cell_type": "code",
   "execution_count": 111,
   "metadata": {
    "collapsed": true
   },
   "outputs": [],
   "source": [
    "def eval_metrics(lap):\n",
    "\n",
    "    tp = float(len(lap[(lap['indexedLabel']==0) & (lap['prediction']==0)]))\n",
    "\n",
    "    tn = float(len(lap[(lap['indexedLabel']==1) & (lap['prediction']==1)]))\n",
    "\n",
    "    fp = float(len(lap[(lap['indexedLabel']==1) & (lap['prediction']==0)]))\n",
    "\n",
    "    fn = float(len(lap[(lap['indexedLabel']==0) & (lap['prediction']==1)]))\n",
    "\n",
    "    positivepredictivevalue = tp / (tp+fp)\n",
    "    negativepredictivevalue = tn / (tn+fn)\n",
    "\n",
    "    sensitivity = tp / (tp+fn)\n",
    "    specificity = tn / (tn+fp)\n",
    "\n",
    "    accuracy = (tp+tn) / (tp+tn+fp+fn)\n",
    "\n",
    "    return {'PPV': positivepredictivevalue, 'NPV':negativepredictivevalue,'Sensitivity': sensitivity, 'Specificity': specificity, 'Accuracy': accuracy}"
   ]
  },
  {
   "cell_type": "code",
   "execution_count": 112,
   "metadata": {},
   "outputs": [
    {
     "name": "stdout",
     "output_type": "stream",
     "text": [
      "Requirement already satisfied: pandas in /root/anaconda3/lib/python3.6/site-packages\n",
      "Requirement already satisfied: python-dateutil>=2 in /root/anaconda3/lib/python3.6/site-packages (from pandas)\n",
      "Requirement already satisfied: pytz>=2011k in /root/anaconda3/lib/python3.6/site-packages (from pandas)\n",
      "Requirement already satisfied: numpy>=1.7.0 in /root/anaconda3/lib/python3.6/site-packages (from pandas)\n",
      "Requirement already satisfied: six>=1.5 in /root/anaconda3/lib/python3.6/site-packages (from python-dateutil>=2->pandas)\n",
      "\u001b[33mYou are using pip version 9.0.1, however version 20.0.2 is available.\n",
      "You should consider upgrading via the 'pip install --upgrade pip' command.\u001b[0m\n"
     ]
    }
   ],
   "source": [
    "! pip install pandas"
   ]
  },
  {
   "cell_type": "code",
   "execution_count": 113,
   "metadata": {
    "collapsed": true
   },
   "outputs": [],
   "source": [
    "lap = result.select(\"indexedLabel\", \"prediction\").toPandas()"
   ]
  },
  {
   "cell_type": "code",
   "execution_count": 114,
   "metadata": {
    "collapsed": true
   },
   "outputs": [],
   "source": [
    "m = eval_metrics(lap)"
   ]
  },
  {
   "cell_type": "code",
   "execution_count": 115,
   "metadata": {},
   "outputs": [
    {
     "data": {
      "text/plain": [
       "{'Accuracy': 0.5869289048748756,\n",
       " 'NPV': 0.5728094548585293,\n",
       " 'PPV': 0.5959981901362426,\n",
       " 'Sensitivity': 0.684745566915035,\n",
       " 'Specificity': 0.4766355140186916}"
      ]
     },
     "execution_count": 115,
     "metadata": {},
     "output_type": "execute_result"
    }
   ],
   "source": [
    "m"
   ]
  },
  {
   "cell_type": "code",
   "execution_count": 116,
   "metadata": {
    "collapsed": true
   },
   "outputs": [],
   "source": [
    "tp = float(len(lap[(lap['indexedLabel']==0) & (lap['prediction']==0)])) #tp - Full paid"
   ]
  },
  {
   "cell_type": "code",
   "execution_count": 117,
   "metadata": {
    "collapsed": true
   },
   "outputs": [],
   "source": [
    "tn = float(len(lap[(lap['indexedLabel']==1) & (lap['prediction']==1)])) #tn - Charged off"
   ]
  },
  {
   "cell_type": "code",
   "execution_count": 118,
   "metadata": {
    "collapsed": true
   },
   "outputs": [],
   "source": [
    "fp = float(len(lap[(lap['indexedLabel']==1) & (lap['prediction']==0)])) #fp"
   ]
  },
  {
   "cell_type": "code",
   "execution_count": 119,
   "metadata": {
    "collapsed": true
   },
   "outputs": [],
   "source": [
    "fn = float(len(lap[(lap['indexedLabel']==0) & (lap['prediction']==1)])) #fn"
   ]
  },
  {
   "cell_type": "code",
   "execution_count": 120,
   "metadata": {},
   "outputs": [
    {
     "name": "stdout",
     "output_type": "stream",
     "text": [
      "Requirement already satisfied: plotly in /root/anaconda3/lib/python3.6/site-packages\n",
      "Requirement already satisfied: six in /root/anaconda3/lib/python3.6/site-packages (from plotly)\n",
      "Requirement already satisfied: retrying>=1.3.3 in /root/anaconda3/lib/python3.6/site-packages (from plotly)\n",
      "\u001b[33mYou are using pip version 9.0.1, however version 20.0.2 is available.\n",
      "You should consider upgrading via the 'pip install --upgrade pip' command.\u001b[0m\n"
     ]
    }
   ],
   "source": [
    "! pip install plotly"
   ]
  },
  {
   "cell_type": "code",
   "execution_count": 121,
   "metadata": {},
   "outputs": [
    {
     "name": "stdout",
     "output_type": "stream",
     "text": [
      "Requirement already satisfied: chart-studio in /root/anaconda3/lib/python3.6/site-packages\n",
      "Requirement already satisfied: six in /root/anaconda3/lib/python3.6/site-packages (from chart-studio)\n",
      "Requirement already satisfied: requests in /root/anaconda3/lib/python3.6/site-packages (from chart-studio)\n",
      "Requirement already satisfied: plotly in /root/anaconda3/lib/python3.6/site-packages (from chart-studio)\n",
      "Requirement already satisfied: retrying>=1.3.3 in /root/anaconda3/lib/python3.6/site-packages (from chart-studio)\n",
      "\u001b[33mYou are using pip version 9.0.1, however version 20.0.2 is available.\n",
      "You should consider upgrading via the 'pip install --upgrade pip' command.\u001b[0m\n"
     ]
    }
   ],
   "source": [
    "! pip install chart-studio"
   ]
  },
  {
   "cell_type": "code",
   "execution_count": null,
   "metadata": {
    "collapsed": true
   },
   "outputs": [],
   "source": []
  },
  {
   "cell_type": "code",
   "execution_count": 122,
   "metadata": {
    "collapsed": true
   },
   "outputs": [],
   "source": [
    "#model1.save('./model_24Nov2019/')"
   ]
  },
  {
   "cell_type": "code",
   "execution_count": 124,
   "metadata": {
    "collapsed": true
   },
   "outputs": [],
   "source": [
    "#model1"
   ]
  },
  {
   "cell_type": "code",
   "execution_count": 125,
   "metadata": {},
   "outputs": [
    {
     "name": "stdout",
     "output_type": "stream",
     "text": [
      "total 28\r\n",
      "drwxr-xr-x 4 root root 4096 Nov 24 23:20 0_StringIndexer_484eae119774ef396f49\r\n",
      "drwxr-xr-x 3 root root 4096 Nov 24 23:20 1_OneHotEncoder_4e1d9fd76b68ea04742c\r\n",
      "drwxr-xr-x 4 root root 4096 Nov 24 23:20 2_StringIndexer_4e979f712c33c84c5864\r\n",
      "drwxr-xr-x 3 root root 4096 Nov 24 23:20 3_OneHotEncoder_4c0c8f93c5951c01730b\r\n",
      "drwxr-xr-x 4 root root 4096 Nov 24 23:20 4_StringIndexer_49cb99cdfa7a82111308\r\n",
      "drwxr-xr-x 3 root root 4096 Nov 24 23:20 5_VectorAssembler_46f8866472577f94716e\r\n",
      "drwxr-xr-x 4 root root 4096 Nov 24 23:20 6_DecisionTreeClassifier_4ecf9b9c170d7161b14c\r\n"
     ]
    }
   ],
   "source": [
    "! ls -l ./model_24Nov2019/stages/"
   ]
  },
  {
   "cell_type": "code",
   "execution_count": 126,
   "metadata": {},
   "outputs": [
    {
     "data": {
      "text/plain": [
       "{'Accuracy': 0.5869289048748756,\n",
       " 'NPV': 0.5728094548585293,\n",
       " 'PPV': 0.5959981901362426,\n",
       " 'Sensitivity': 0.684745566915035,\n",
       " 'Specificity': 0.4766355140186916}"
      ]
     },
     "execution_count": 126,
     "metadata": {},
     "output_type": "execute_result"
    }
   ],
   "source": [
    "m"
   ]
  },
  {
   "cell_type": "markdown",
   "metadata": {
    "collapsed": true
   },
   "source": [
    "# Jan2020"
   ]
  },
  {
   "cell_type": "code",
   "execution_count": null,
   "metadata": {
    "collapsed": true
   },
   "outputs": [],
   "source": [
    "from pyspark.ml.feature import QuantileDiscretizer\n",
    "from pyspark.ml.feature import Bucketizer"
   ]
  },
  {
   "cell_type": "code",
   "execution_count": null,
   "metadata": {
    "collapsed": true
   },
   "outputs": [],
   "source": [
    "def get_model(df,categoricalCols,continuousCols,discretedCols,split_range,labelCol):\n",
    "\n",
    "    from pyspark.ml import Pipeline\n",
    "    from pyspark.ml.feature import StringIndexer, OneHotEncoder, VectorAssembler\n",
    "    from pyspark.sql.functions import col\n",
    "    \n",
    "    \n",
    "    labelIndexer = StringIndexer(inputCol=labelCol,\\\n",
    "                             outputCol='indexedLabel',\\\n",
    "                             handleInvalid='keep')\n",
    "\n",
    "    indexers = [ StringIndexer(handleInvalid='keep',\\\n",
    "                               inputCol=c, outputCol=\"{0}_indexed\".format(c))\n",
    "                 for c in categoricalCols ]\n",
    "\n",
    "    # default setting: dropLast=True\n",
    "    encoders = [ OneHotEncoder(inputCol=indexer.getOutputCol(),\n",
    "                 outputCol=\"{0}_encoded\".format(indexer.getOutputCol()))\n",
    "                 for indexer in indexers ]\n",
    "    discretizers = [ Bucketizer(inputCol=d, outputCol=\"{0}_discretized\".format(d)\\\n",
    "                 ,splits=split_range)\n",
    "                 for d in discretedCols ]\n",
    "    \n",
    "    \n",
    "    featureCols = ['features']\n",
    "    assembler = VectorAssembler(inputCols=[encoder.getOutputCol() for encoder in encoders]\n",
    "                                + continuousCols +\\\n",
    "                                [discretizer.getOutputCol() for discretizer in discretizers], \\\n",
    "                                outputCol='features')\n",
    "    \n",
    "    \n",
    "    \n",
    "    ml_algorithm = DecisionTreeClassifier(featuresCol='features',\\\n",
    "                                labelCol='indexedLabel')\n",
    "    \n",
    "\n",
    "\n",
    "    \n",
    "    pipeline = Pipeline(stages=[labelIndexer] + indexers + encoders + discretizers + \\\n",
    "                        [assembler] + [ml_algorithm])\n",
    "    \n",
    "    \n",
    "\n",
    "    model=pipeline.fit(df)\n",
    "    #data = model.transform(df)\n",
    "\n",
    "    #data = data.withColumn('label',col(labelCol))\n",
    "\n",
    "    return model"
   ]
  },
  {
   "cell_type": "code",
   "execution_count": null,
   "metadata": {
    "collapsed": true
   },
   "outputs": [],
   "source": [
    "training"
   ]
  },
  {
   "cell_type": "code",
   "execution_count": null,
   "metadata": {
    "collapsed": true
   },
   "outputs": [],
   "source": [
    "training.select('dti').describe().show()"
   ]
  },
  {
   "cell_type": "code",
   "execution_count": null,
   "metadata": {
    "collapsed": true
   },
   "outputs": [],
   "source": [
    "catcols = [\\\n",
    "           'emp_length',\\\n",
    "           'home_ownership',\\\n",
    "           'verification_status',\\\n",
    "           'purpose',\\\n",
    "           'addr_state'\\\n",
    "          ]\n",
    "\n",
    "num_cols = [\\\n",
    "            #'dti',\\\n",
    "            #'loan_amnt',\\\n",
    "            'int_rate',\\\n",
    "            'installment',\\\n",
    "            #'annual_inc',\\\n",
    "            #'revol_bal',\\\n",
    "            #'delinq_2yrs',\\\n",
    "            'pub_rec',\\\n",
    "            #'revol_util'\\\n",
    "            'total_acc'\\\n",
    "           ]\n",
    "\n",
    "discols = [\\\n",
    "           #'pub_rec',\\\n",
    "           'dti',\\\n",
    "           #'installment'\\\n",
    "          ]\n",
    "\n",
    "\n",
    "\n",
    "labelCol = 'loan_status'\n",
    "\n",
    "splits = [-1.0, 0.0, 40.0, 80.0, 120.0, 160.0, float(\"inf\")]"
   ]
  },
  {
   "cell_type": "code",
   "execution_count": null,
   "metadata": {
    "collapsed": true
   },
   "outputs": [],
   "source": [
    "ml_model = get_model(training,catcols,num_cols,discols, splits, labelCol)"
   ]
  },
  {
   "cell_type": "code",
   "execution_count": null,
   "metadata": {
    "collapsed": true
   },
   "outputs": [],
   "source": [
    "ml_model"
   ]
  },
  {
   "cell_type": "code",
   "execution_count": null,
   "metadata": {
    "collapsed": true
   },
   "outputs": [],
   "source": [
    "ml_model.stages"
   ]
  },
  {
   "cell_type": "code",
   "execution_count": null,
   "metadata": {
    "collapsed": true
   },
   "outputs": [],
   "source": [
    "get_bucket = ml_model.stages[11]"
   ]
  },
  {
   "cell_type": "code",
   "execution_count": null,
   "metadata": {
    "collapsed": true
   },
   "outputs": [],
   "source": [
    "get_bucket.getOutputCol()"
   ]
  },
  {
   "cell_type": "code",
   "execution_count": null,
   "metadata": {
    "collapsed": true
   },
   "outputs": [],
   "source": [
    "get_bucket.transform(training).groupBy(get_bucket.getOutputCol()).count().show()"
   ]
  },
  {
   "cell_type": "code",
   "execution_count": null,
   "metadata": {
    "collapsed": true
   },
   "outputs": [],
   "source": []
  },
  {
   "cell_type": "code",
   "execution_count": null,
   "metadata": {
    "collapsed": true
   },
   "outputs": [],
   "source": [
    "lap2 = ml_model.transform(test).select(\"indexedLabel\", \"prediction\").toPandas()"
   ]
  },
  {
   "cell_type": "code",
   "execution_count": null,
   "metadata": {
    "collapsed": true
   },
   "outputs": [],
   "source": [
    "m2 = eval_metrics(lap2)"
   ]
  },
  {
   "cell_type": "code",
   "execution_count": null,
   "metadata": {
    "collapsed": true
   },
   "outputs": [],
   "source": [
    "m2"
   ]
  },
  {
   "cell_type": "code",
   "execution_count": null,
   "metadata": {
    "collapsed": true
   },
   "outputs": [],
   "source": [
    "training.groupby('loan_status').count().show()"
   ]
  },
  {
   "cell_type": "code",
   "execution_count": null,
   "metadata": {
    "collapsed": true
   },
   "outputs": [],
   "source": [
    "test.groupby('loan_status').count().show()"
   ]
  },
  {
   "cell_type": "code",
   "execution_count": null,
   "metadata": {
    "collapsed": true
   },
   "outputs": [],
   "source": [
    "training.count()"
   ]
  },
  {
   "cell_type": "code",
   "execution_count": null,
   "metadata": {
    "collapsed": true
   },
   "outputs": [],
   "source": [
    "training.count()"
   ]
  },
  {
   "cell_type": "code",
   "execution_count": null,
   "metadata": {
    "collapsed": true
   },
   "outputs": [],
   "source": [
    "training.groupby('loan_status').count().show()"
   ]
  },
  {
   "cell_type": "code",
   "execution_count": null,
   "metadata": {
    "collapsed": true
   },
   "outputs": [],
   "source": [
    "test.groupBy('loan_status').count().show()"
   ]
  },
  {
   "cell_type": "code",
   "execution_count": null,
   "metadata": {
    "collapsed": true
   },
   "outputs": [],
   "source": [
    "test_result_df = ml_model.transform(test)"
   ]
  },
  {
   "cell_type": "code",
   "execution_count": null,
   "metadata": {
    "collapsed": true
   },
   "outputs": [],
   "source": []
  },
  {
   "cell_type": "code",
   "execution_count": null,
   "metadata": {
    "collapsed": true
   },
   "outputs": [],
   "source": [
    "test_result_df.filter(col('indexedLabel') != col('prediction')).count()"
   ]
  },
  {
   "cell_type": "code",
   "execution_count": null,
   "metadata": {
    "collapsed": true
   },
   "outputs": [],
   "source": [
    "test_result_df.filter(col('indexedLabel') != col('prediction')).filter(col('loan_status') == 'Charged Off').\\\n",
    "groupBy(['loan_status','indexedLabel','prediction']).count().show()"
   ]
  },
  {
   "cell_type": "code",
   "execution_count": null,
   "metadata": {
    "collapsed": true
   },
   "outputs": [],
   "source": [
    "test_result_df.filter(col('loan_status') == 'Charged Off').count()"
   ]
  },
  {
   "cell_type": "code",
   "execution_count": null,
   "metadata": {
    "collapsed": true
   },
   "outputs": [],
   "source": [
    "13903/30629"
   ]
  },
  {
   "cell_type": "code",
   "execution_count": null,
   "metadata": {
    "collapsed": true
   },
   "outputs": [],
   "source": []
  },
  {
   "cell_type": "code",
   "execution_count": null,
   "metadata": {
    "collapsed": true
   },
   "outputs": [],
   "source": []
  },
  {
   "cell_type": "code",
   "execution_count": null,
   "metadata": {
    "collapsed": true
   },
   "outputs": [],
   "source": []
  }
 ],
 "metadata": {
  "anaconda-cloud": {},
  "kernelspec": {
   "display_name": "Python 3",
   "language": "python",
   "name": "python3"
  },
  "language_info": {
   "codemirror_mode": {
    "name": "ipython",
    "version": 3
   },
   "file_extension": ".py",
   "mimetype": "text/x-python",
   "name": "python",
   "nbconvert_exporter": "python",
   "pygments_lexer": "ipython3",
   "version": "3.6.1"
  }
 },
 "nbformat": 4,
 "nbformat_minor": 1
}
